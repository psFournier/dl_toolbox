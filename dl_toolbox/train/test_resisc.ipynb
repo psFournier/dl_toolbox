{
 "cells": [
  {
   "cell_type": "code",
   "execution_count": 1,
   "id": "4e19bf91-5243-4382-bbbd-25123ffa8cf4",
   "metadata": {
    "tags": []
   },
   "outputs": [
    {
     "name": "stderr",
     "output_type": "stream",
     "text": [
      "/d/pfournie/dl_toolbox/venv/lib/python3.8/site-packages/tqdm/auto.py:22: TqdmWarning: IProgress not found. Please update jupyter and ipywidgets. See https://ipywidgets.readthedocs.io/en/stable/user_install.html\n",
      "  from .autonotebook import tqdm as notebook_tqdm\n"
     ]
    }
   ],
   "source": [
    "%load_ext autoreload\n",
    "%autoreload 2\n",
    "\n",
    "import pytorch_lightning as pl\n",
    "import os\n",
    "import numpy as np\n",
    "import torch\n",
    "import math\n",
    "import torch.nn as nn\n",
    "\n",
    "from torch.utils.data import DataLoader, Subset, RandomSampler, ConcatDataset\n",
    "from pathlib import Path\n",
    "from datetime import datetime\n",
    "import torchvision.models as models\n",
    "\n",
    "import dl_toolbox.callbacks as callbacks\n",
    "import dl_toolbox.modules as modules \n",
    "import dl_toolbox.datasets as datasets\n",
    "import dl_toolbox.torch_collate as collate\n",
    "import dl_toolbox.utils as utils\n",
    "import dl_toolbox.torch_sample as sample"
   ]
  },
  {
   "cell_type": "code",
   "execution_count": 2,
   "id": "96fd5c31-f905-47ba-93da-a7995c7eeddf",
   "metadata": {
    "tags": []
   },
   "outputs": [],
   "source": [
    "if os.uname().nodename == 'WDTIS890Z': \n",
    "    data_root = Path('/mnt/d/pfournie/Documents/data')\n",
    "    home = Path('/home/pfournie')\n",
    "    save_root = data_root / 'outputs'\n",
    "elif os.uname().nodename == 'qdtis056z': \n",
    "    data_root = Path('/data')\n",
    "    home = Path('/d/pfournie')\n",
    "    save_root = data_root / 'outputs'\n",
    "else:\n",
    "    #data_root = Path('/work/OT/ai4geo/DATA/DATASETS')\n",
    "    data_root = Path(os.environ['TMPDIR'])\n",
    "    home = Path('/home/eh/fournip')\n",
    "    save_root = Path('/work/OT/ai4usr/fournip') / 'outputs'"
   ]
  },
  {
   "cell_type": "code",
   "execution_count": 8,
   "id": "fbd7d2b1-72d3-4269-b06e-fb93ebbcd912",
   "metadata": {
    "tags": []
   },
   "outputs": [
    {
     "name": "stderr",
     "output_type": "stream",
     "text": [
      "GPU available: True (cuda), used: True\n",
      "TPU available: False, using: 0 TPU cores\n",
      "IPU available: False, using: 0 IPUs\n",
      "HPU available: False, using: 0 HPUs\n",
      "Restoring states from the checkpoint path at /data/outputs/NWPU-RESISC45/train=(0, 50)_unsup_train=(50, 100)/05Apr23-10h50m42/checkpoints/epoch=4-step=755.ckpt\n",
      "LOCAL_RANK: 0 - CUDA_VISIBLE_DEVICES: [0]\n",
      "Loaded model weights from checkpoint at /data/outputs/NWPU-RESISC45/train=(0, 50)_unsup_train=(50, 100)/05Apr23-10h50m42/checkpoints/epoch=4-step=755.ckpt\n"
     ]
    },
    {
     "name": "stdout",
     "output_type": "stream",
     "text": [
      "Testing: 0it [00:00, ?it/s]"
     ]
    },
    {
     "data": {
      "text/html": [
       "<pre style=\"white-space:pre;overflow-x:auto;line-height:normal;font-family:Menlo,'DejaVu Sans Mono',consolas,'Courier New',monospace\">┏━━━━━━━━━━━━━━━━━━━━━━━━━━━┳━━━━━━━━━━━━━━━━━━━━━━━━━━━┓\n",
       "┃<span style=\"font-weight: bold\">        Test metric        </span>┃<span style=\"font-weight: bold\">       DataLoader 0        </span>┃\n",
       "┡━━━━━━━━━━━━━━━━━━━━━━━━━━━╇━━━━━━━━━━━━━━━━━━━━━━━━━━━┩\n",
       "│<span style=\"color: #008080; text-decoration-color: #008080\">         Test_loss         </span>│<span style=\"color: #800080; text-decoration-color: #800080\">    0.7691670656204224     </span>│\n",
       "│<span style=\"color: #008080; text-decoration-color: #008080\">          Val_mf1          </span>│<span style=\"color: #800080; text-decoration-color: #800080\">    0.7915027194552952     </span>│\n",
       "│<span style=\"color: #008080; text-decoration-color: #008080\">         Val_miou          </span>│<span style=\"color: #800080; text-decoration-color: #800080\">    0.6663687811957465     </span>│\n",
       "└───────────────────────────┴───────────────────────────┘\n",
       "</pre>\n"
      ],
      "text/plain": [
       "┏━━━━━━━━━━━━━━━━━━━━━━━━━━━┳━━━━━━━━━━━━━━━━━━━━━━━━━━━┓\n",
       "┃\u001b[1m \u001b[0m\u001b[1m       Test metric       \u001b[0m\u001b[1m \u001b[0m┃\u001b[1m \u001b[0m\u001b[1m      DataLoader 0       \u001b[0m\u001b[1m \u001b[0m┃\n",
       "┡━━━━━━━━━━━━━━━━━━━━━━━━━━━╇━━━━━━━━━━━━━━━━━━━━━━━━━━━┩\n",
       "│\u001b[36m \u001b[0m\u001b[36m        Test_loss        \u001b[0m\u001b[36m \u001b[0m│\u001b[35m \u001b[0m\u001b[35m   0.7691670656204224    \u001b[0m\u001b[35m \u001b[0m│\n",
       "│\u001b[36m \u001b[0m\u001b[36m         Val_mf1         \u001b[0m\u001b[36m \u001b[0m│\u001b[35m \u001b[0m\u001b[35m   0.7915027194552952    \u001b[0m\u001b[35m \u001b[0m│\n",
       "│\u001b[36m \u001b[0m\u001b[36m        Val_miou         \u001b[0m\u001b[36m \u001b[0m│\u001b[35m \u001b[0m\u001b[35m   0.6663687811957465    \u001b[0m\u001b[35m \u001b[0m│\n",
       "└───────────────────────────┴───────────────────────────┘\n"
      ]
     },
     "metadata": {},
     "output_type": "display_data"
    },
    {
     "data": {
      "text/plain": [
       "[{'Test_loss': 0.7691670656204224,\n",
       "  'Val_miou': 0.6663687811957465,\n",
       "  'Val_mf1': 0.7915027194552952}]"
      ]
     },
     "execution_count": 8,
     "metadata": {},
     "output_type": "execute_result"
    }
   ],
   "source": [
    "# datasets params\n",
    "dataset_name = 'NWPU-RESISC45'\n",
    "data_path = data_root / dataset_name\n",
    "nomenclature = datasets.ResiscNomenclatures['all'].value\n",
    "num_classes=len(nomenclature)\n",
    "\n",
    "test = (600, 700)\n",
    "test_idx = [700*i+j for i in range(num_classes) for j in range(*test)]\n",
    "test_aug = 'no'\n",
    "\n",
    "# dataloaders params\n",
    "batch_size = 16\n",
    "num_workers=6\n",
    "\n",
    "# network params\n",
    "out_channels=num_classes\n",
    "\n",
    "# module params\n",
    "mixup=0. # incompatible with ignore_zero=True\n",
    "class_weights = [1.] * num_classes\n",
    "initial_lr=0.001\n",
    "ttas=[]\n",
    "alpha_ramp=utils.SigmoidRamp(2,4,0.,5.)\n",
    "pseudo_threshold=0.9\n",
    "consist_aug='color-5'\n",
    "ema_ramp=utils.SigmoidRamp(2,4,0.9,0.99)\n",
    "\n",
    "# trainer params\n",
    "accelerator='gpu'\n",
    "devices=1\n",
    "ckpt_path='/data/outputs/NWPU-RESISC45/train=(0, 50)_unsup_train=(50, 100)/05Apr23-10h50m42/checkpoints/epoch=4-step=755.ckpt'\n",
    "\n",
    "test_set = Subset(\n",
    "    datasets.Resisc(\n",
    "        data_path=data_path,\n",
    "        img_aug=test_aug,\n",
    "        nomenclature=nomenclature\n",
    "    ),\n",
    "    indices=test_idx\n",
    ") \n",
    "\n",
    "test_dataloader = DataLoader(\n",
    "    dataset=test_set,\n",
    "    shuffle=False,\n",
    "    collate_fn=collate.CustomCollate(),\n",
    "    batch_size=batch_size,\n",
    "    num_workers=num_workers,\n",
    ")\n",
    "\n",
    "network = models.efficientnet_b0(\n",
    "    num_classes=out_channels,\n",
    ")\n",
    "\n",
    "### Building lightning module\n",
    "module = modules.Supervised(\n",
    "    mixup=mixup, # incompatible with ignore_zero=True\n",
    "    network=network,\n",
    "    #network2=network2,\n",
    "    num_classes=num_classes,\n",
    "    class_weights=class_weights,\n",
    "    initial_lr=initial_lr,\n",
    "    ttas=ttas,\n",
    "    #alpha_ramp=alpha_ramp,\n",
    "    #pseudo_threshold=pseudo_threshold,\n",
    "    #consist_aug=consist_aug,\n",
    "    #ema_ramp=ema_ramp\n",
    ")\n",
    "\n",
    "### Metrics and plots from confmat callback\n",
    "metrics_from_confmat = callbacks.MetricsFromConfmat(        \n",
    "    num_classes=num_classes,\n",
    "    class_names=[label.name for label in nomenclature],\n",
    "    plot_iou=False,\n",
    "    plot_confmat=False\n",
    ")\n",
    "\n",
    "trainer = pl.Trainer(\n",
    "    accelerator=accelerator,\n",
    "    devices=devices,\n",
    "    logger=None,\n",
    "    callbacks=[\n",
    "        metrics_from_confmat,\n",
    "        callbacks.MyProgressBar()\n",
    "    ]\n",
    ")\n",
    "\n",
    "trainer.test(\n",
    "    model=module,\n",
    "    dataloaders=test_dataloader,\n",
    "    #verbose=True,\n",
    "    ckpt_path=ckpt_path\n",
    ")\n",
    "    "
   ]
  },
  {
   "cell_type": "code",
   "execution_count": 7,
   "id": "7905eb99-56f1-4f70-8537-3bdb03936a30",
   "metadata": {
    "tags": []
   },
   "outputs": [
    {
     "data": {
      "text/plain": [
       "torch.Size([45, 45])"
      ]
     },
     "execution_count": 7,
     "metadata": {},
     "output_type": "execute_result"
    }
   ],
   "source": [
    "metrics_from_confmat.confmat.shape"
   ]
  },
  {
   "cell_type": "code",
   "execution_count": null,
   "id": "03c87d17-f7eb-40a4-8a7f-e3492c61f16e",
   "metadata": {},
   "outputs": [],
   "source": []
  }
 ],
 "metadata": {
  "kernelspec": {
   "display_name": "dl_toolbox_venv",
   "language": "python",
   "name": "dl_toolbox_venv"
  },
  "language_info": {
   "codemirror_mode": {
    "name": "ipython",
    "version": 3
   },
   "file_extension": ".py",
   "mimetype": "text/x-python",
   "name": "python",
   "nbconvert_exporter": "python",
   "pygments_lexer": "ipython3",
   "version": "3.8.10"
  }
 },
 "nbformat": 4,
 "nbformat_minor": 5
}
