{
 "cells": [
  {
   "cell_type": "code",
   "execution_count": 3,
   "id": "2abc4a23-13bd-4db1-81af-147493db13d3",
   "metadata": {
    "tags": []
   },
   "outputs": [
    {
     "name": "stdout",
     "output_type": "stream",
     "text": [
      "The autoreload extension is already loaded. To reload it, use:\n",
      "  %reload_ext autoreload\n"
     ]
    }
   ],
   "source": [
    "%load_ext autoreload\n",
    "%autoreload 2\n",
    "\n",
    "import pytorch_lightning as pl\n",
    "import os\n",
    "import csv\n",
    "import numpy as np\n",
    "import shapely\n",
    "\n",
    "from torch.utils.data import DataLoader, RandomSampler, ConcatDataset\n",
    "from pathlib import Path\n",
    "from datetime import datetime\n",
    "\n",
    "import dl_toolbox.callbacks as callbacks\n",
    "import dl_toolbox.modules as modules \n",
    "import dl_toolbox.networks as networks\n",
    "import dl_toolbox.datasets as datasets\n",
    "import dl_toolbox.torch_collate as collate\n",
    "import dl_toolbox.utils as utils\n",
    "\n",
    "import rasterio.windows as windows\n",
    "\n",
    "\n",
    "if os.uname().nodename == 'WDTIS890Z': \n",
    "    data_root = Path('/mnt/d/pfournie/Documents/data')\n",
    "    home = Path('/home/pfournie')\n",
    "    save_root = data_root / 'outputs'\n",
    "elif os.uname().nodename == 'qdtis056z': \n",
    "    data_root = Path('/data')\n",
    "    home = Path('/d/pfournie')\n",
    "    save_root = data_root / 'outputs'\n",
    "else:\n",
    "    #data_root = Path('/work/OT/ai4geo/DATA/DATASETS')\n",
    "    data_root = Path(os.environ['TMPDIR'])\n",
    "    home = Path('/home/eh/fournip')\n",
    "    save_root = Path('/work/OT/ai4usr/fournip') / 'outputs'\n",
    "\n",
    "# datasets params\n",
    "dataset_name = 'DIGITANIE'\n",
    "data_path = data_root / dataset_name\n",
    "nomenclature = datasets.DigitanieNomenclatures['building'].value\n",
    "num_classes=len(nomenclature)\n",
    "crop_size=256\n",
    "crop_step=256\n",
    "bands = [1,2,3]\n",
    "\n",
    "# split params\n",
    "split = home / f'dl_toolbox/dl_toolbox/datamodules/digitanie_Toulouse.csv'\n",
    "\n",
    "train_idx = [1,2,3,4,5]\n",
    "train_aug = 'd4_color-3'\n",
    "\n",
    "val_idx = [6,7]\n",
    "val_aug = 'd4'\n",
    "\n",
    "unsup_idx = [0]\n",
    "unsup_aug = 'd4'\n",
    "\n",
    "# dataloaders params\n",
    "batch_size = 8\n",
    "epoch_steps = 10\n",
    "num_samples = epoch_steps * batch_size\n",
    "num_workers=6\n",
    "\n",
    "# network params\n",
    "in_channels=len(bands)\n",
    "out_channels=num_classes\n",
    "pretrained = False\n",
    "encoder='efficientnet-b0'\n",
    "\n",
    "# module params\n",
    "mixup=0. # incompatible with ignore_zero=True\n",
    "class_weights = [1.] * num_classes\n",
    "initial_lr=0.001\n",
    "ttas=[]\n",
    "alpha_ramp=utils.SigmoidRamp(2,4,0.,0.)\n",
    "pseudo_threshold=0.9\n",
    "consist_aug='color-5'\n",
    "ema_ramp=utils.SigmoidRamp(2,4,0.9,0.99)\n",
    "\n",
    "# trainer params\n",
    "num_epochs = 5\n",
    "#max_steps=num_epochs * epoch_steps\n",
    "accelerator='gpu'\n",
    "devices=1\n",
    "multiple_trainloader_mode='min_size'\n",
    "limit_train_batches=1.\n",
    "limit_val_batches=1.\n",
    "save_dir = save_root / dataset_name\n",
    "log_name = 'toulouse'\n",
    "ckpt_path=None # '/data/outputs/test_bce_resisc/version_2/checkpoints/epoch=49-step=14049.ckpt'"
   ]
  },
  {
   "cell_type": "code",
   "execution_count": 7,
   "id": "64395d2d-52f6-47d4-b1e7-b9e53c4dce9c",
   "metadata": {
    "tags": []
   },
   "outputs": [],
   "source": [
    "log_name = f'train={train_idx}_val={val_idx}'\n",
    "\n",
    "train_data_src = [\n",
    "    src for src in datasets.datasets_from_csv(\n",
    "        data_path,\n",
    "        split,\n",
    "        train_idx\n",
    "    )\n",
    "]\n",
    "\n",
    "train_sets = [\n",
    "    datasets.Raster(\n",
    "        data_src=src,\n",
    "        crop_size=crop_size,\n",
    "        aug=train_aug,\n",
    "        bands=bands,\n",
    "        nomenclature=nomenclature\n",
    "    ) for src in train_data_src\n",
    "]\n",
    "\n",
    "train_set = ConcatDataset(train_sets)\n",
    "\n",
    "val_data_src = [\n",
    "    src for src in datasets.datasets_from_csv(\n",
    "        data_path,\n",
    "        split,\n",
    "        val_idx\n",
    "    )\n",
    "]\n",
    "\n",
    "val_sets = [\n",
    "    datasets.PretiledRaster(\n",
    "        data_src=src,\n",
    "        crop_size=crop_size,\n",
    "        crop_step=crop_size//2,\n",
    "        aug=val_aug,\n",
    "        bands=bands,\n",
    "        nomenclature=nomenclature\n",
    "    ) for src in val_data_src\n",
    "]\n",
    "\n",
    "val_set = ConcatDataset(val_sets)\n",
    "\n",
    "train_set_coords = []\n",
    "\n",
    "for src in train_data_src:\n",
    "    if isinstance(src.zone, windows.Window):\n",
    "        bbox = windows.bounds(src.zone, src.meta['transform'])\n",
    "        train_set_coords.append(datasets.polygon_from_bbox(bbox))\n",
    "    elif isinstance(src.zone, shapely.Polygon):\n",
    "        train_set_coords.append(src.zone.exterior.coords)\n",
    "\n",
    "unsup_sets = []\n",
    "\n",
    "unsup_data_src = datasets.datasets_from_csv(\n",
    "    data_path,\n",
    "    split,\n",
    "    unsup_idx\n",
    ")\n",
    "\n",
    "for src in unsup_data_src:\n",
    "    \n",
    "    if isinstance(src.zone, windows.Window):\n",
    "        bbox = windows.bounds(src.zone, src.meta['transform'])\n",
    "        poly_zone = shapely.Polygon(\n",
    "            shell=datasets.polygon_from_bbox(bbox),\n",
    "            #holes=train_set_coords\n",
    "        )\n",
    "        \n",
    "    elif isinstance(src.zone, shapely.Polygon):\n",
    "        poly_zone = shapely.Polygon(\n",
    "            shell=src.zone.exterior.coords,\n",
    "            #holes=train_set_coords\n",
    "        )\n",
    "        \n",
    "    src.zone = poly_zone\n",
    "    \n",
    "    unsup_set = datasets.Raster(\n",
    "        data_src=src,\n",
    "        crop_size=crop_size,\n",
    "        aug=unsup_aug,\n",
    "        bands=bands,\n",
    "        nomenclature=nomenclature,\n",
    "    )\n",
    "    \n",
    "    unsup_sets.append(unsup_set)\n",
    "    \n",
    "unsup_set = ConcatDataset(unsup_sets) "
   ]
  },
  {
   "cell_type": "code",
   "execution_count": 14,
   "id": "1c8706b5-5d2f-4083-a514-f6b4459075be",
   "metadata": {
    "tags": []
   },
   "outputs": [
    {
     "data": {
      "text/plain": [
       "<matplotlib.image.AxesImage at 0x7fa23db2e160>"
      ]
     },
     "execution_count": 14,
     "metadata": {},
     "output_type": "execute_result"
    },
    {
     "data": {
      "image/png": "[encoded data removed]",
      "text/plain": [
       "<Figure size 640x480 with 1 Axes>"
      ]
     },
     "metadata": {},
     "output_type": "display_data"
    },
    {
     "data": {
      "image/png": "[encoded data removed]",
      "text/plain": [
       "<Figure size 640x480 with 3 Axes>"
      ]
     },
     "metadata": {},
     "output_type": "display_data"
    }
   ],
   "source": [
    "%matplotlib inline\n",
    "from shapely import plotting\n",
    "from matplotlib import colors\n",
    "import matplotlib.pyplot as plt\n",
    "from copy import copy\n",
    "from rasterio import plot as rioplt\n",
    "\n",
    "def shape_color(name, alpha):\n",
    "    color = colors.to_rgba(name)\n",
    "    facecolor = list(color)\n",
    "    facecolor[-1] = alpha\n",
    "    facecolor = tuple(facecolor)\n",
    "    edgecolor = color\n",
    "    return facecolor, edgecolor\n",
    "\n",
    "fig, ax = plt.subplots(1, 1)\n",
    "f0, e0 = shape_color(\"C0\", 0)\n",
    "f1, e1 = shape_color(\"C1\", 0)\n",
    "\n",
    "ds = val_set.datasets[0]\n",
    "poly_zone = ds.data_src.zone\n",
    "poly_zone = shapely.Polygon(datasets.polygon_from_bbox(windows.bounds(ds.data_src.zone, ds.data_src.meta['transform'])))\n",
    "patch_zone = plotting.patch_from_polygon(poly_zone, facecolor=f0, edgecolor=e0)\n",
    "#ax.add_patch(copy(patch_zone))\n",
    "\n",
    "for coord in train_set_coords:\n",
    "    train_poly = shapely.Polygon(coord)\n",
    "    patch = plotting.patch_from_polygon(train_poly, facecolor=f1, edgecolor=e1)\n",
    "    ax.add_patch(copy(patch))\n",
    "    \n",
    "item =ds[1]\n",
    "rioplt.show(item['image'].numpy(), ax=ax, transform=item['crop_tf'])\n",
    "ax.axis('equal')\n",
    "ax.autoscale_view()\n",
    "\n",
    "fig, (ax1, ax2, ax3) = plt.subplots(1, 3)\n",
    "rioplt.show(item['image'].numpy(), ax=ax1, transform=item['crop_tf'])\n",
    "ax2.imshow(item['image'].numpy().transpose(1,2,0)[...,:3])\n",
    "#ax3.imshow(item['label'].numpy())"
   ]
  },
  {
   "cell_type": "code",
   "execution_count": 12,
   "id": "dab3e589-7b6a-4e5c-b038-c7a34b735e20",
   "metadata": {
    "tags": []
   },
   "outputs": [],
   "source": [
    "train_dataloaders = {}\n",
    "train_dataloaders['sup'] = DataLoader(\n",
    "    dataset=train_set,\n",
    "    batch_size=batch_size,\n",
    "    collate_fn=collate.CustomCollate(),\n",
    "    sampler=RandomSampler(\n",
    "        data_source=train_set,\n",
    "        replacement=True,\n",
    "        num_samples=num_samples\n",
    "    ),\n",
    "    num_workers=num_workers,\n",
    "    drop_last=True\n",
    ")\n",
    "\n",
    "train_dataloaders['unsup'] = DataLoader(\n",
    "    dataset=unsup_set,\n",
    "    batch_size=batch_size,\n",
    "    collate_fn=collate.CustomCollate(),\n",
    "    sampler=RandomSampler(\n",
    "        data_source=unsup_set,\n",
    "        replacement=True,\n",
    "        num_samples=num_samples\n",
    "    ),\n",
    "    num_workers=num_workers,\n",
    "    drop_last=True\n",
    ")\n",
    "\n",
    "val_dataloader = DataLoader(\n",
    "    dataset=val_set,\n",
    "    sampler=RandomSampler(\n",
    "        data_source=val_set,\n",
    "        replacement=True,\n",
    "        num_samples=num_samples//10\n",
    "    ),\n",
    "    collate_fn=collate.CustomCollate(),\n",
    "    batch_size=batch_size,\n",
    "    num_workers=num_workers\n",
    ")"
   ]
  },
  {
   "cell_type": "code",
   "execution_count": 13,
   "id": "9311b77b-92b7-4f28-a631-53595c0bbbc3",
   "metadata": {
    "tags": []
   },
   "outputs": [
    {
     "name": "stderr",
     "output_type": "stream",
     "text": [
      "/d/pfournie/dl_toolbox/venv/lib/python3.8/site-packages/pytorch_lightning/utilities/parsing.py:263: UserWarning: Attribute 'network' is an instance of `nn.Module` and is already saved during checkpointing. It is recommended to ignore them using `self.save_hyperparameters(ignore=['network'])`.\n",
      "  rank_zero_warn(\n"
     ]
    }
   ],
   "source": [
    "network = networks.SmpUnet(\n",
    "    encoder=encoder,\n",
    "    in_channels=in_channels,\n",
    "    out_channels=out_channels,\n",
    "    pretrained=pretrained\n",
    ")\n",
    "\n",
    "### Building lightning module\n",
    "module = modules.MeanTeacher(\n",
    "    mixup=mixup, # incompatible with ignore_zero=True\n",
    "    network=network,\n",
    "    num_classes=num_classes,\n",
    "    class_weights=class_weights,\n",
    "    initial_lr=initial_lr,\n",
    "    ttas=ttas,\n",
    "    alpha_ramp=alpha_ramp,\n",
    "    pseudo_threshold=pseudo_threshold,\n",
    "    consist_aug=consist_aug,\n",
    "    ema_ramp=ema_ramp\n",
    ")"
   ]
  },
  {
   "cell_type": "code",
   "execution_count": 14,
   "id": "c0d7b290-ff18-4a80-8781-0e6100f09e87",
   "metadata": {
    "tags": []
   },
   "outputs": [
    {
     "name": "stderr",
     "output_type": "stream",
     "text": [
      "GPU available: True (cuda), used: True\n",
      "TPU available: False, using: 0 TPU cores\n",
      "IPU available: False, using: 0 IPUs\n",
      "HPU available: False, using: 0 HPUs\n",
      "`Trainer(limit_train_batches=1.0)` was configured so 100% of the batches per epoch will be used..\n",
      "`Trainer(limit_val_batches=1.0)` was configured so 100% of the batches will be used..\n"
     ]
    }
   ],
   "source": [
    "### Metrics and plots from confmat callback\n",
    "metrics_from_confmat = callbacks.MetricsFromConfmat(        \n",
    "    num_classes=num_classes,\n",
    "    class_names=[label.name for label in nomenclature]\n",
    ")\n",
    "\n",
    "### Trainer instance\n",
    "trainer = pl.Trainer(\n",
    "    max_epochs=num_epochs,\n",
    "    accelerator=accelerator,\n",
    "    devices=devices,\n",
    "    multiple_trainloader_mode=multiple_trainloader_mode,\n",
    "    num_sanity_val_steps=0,\n",
    "    limit_train_batches=limit_train_batches,\n",
    "    limit_val_batches=limit_val_batches,\n",
    "    logger=pl.loggers.TensorBoardLogger(\n",
    "        save_dir=save_dir,\n",
    "        name=log_name,\n",
    "        version=f'{datetime.now():%d%b%y-%Hh%Mm%S}'\n",
    "    ),\n",
    "    callbacks=[\n",
    "        pl.callbacks.ModelCheckpoint(),\n",
    "        pl.callbacks.EarlyStopping(\n",
    "            monitor='Val_loss',\n",
    "            patience=10\n",
    "        ),\n",
    "        metrics_from_confmat,\n",
    "        callbacks.MyProgressBar(),\n",
    "        callbacks.MergePretiledRasterPreds()            \n",
    "    ]\n",
    ")"
   ]
  },
  {
   "cell_type": "code",
   "execution_count": 15,
   "id": "967f1f01-f736-4fde-913c-897520e5a50c",
   "metadata": {
    "tags": []
   },
   "outputs": [
    {
     "name": "stderr",
     "output_type": "stream",
     "text": [
      "LOCAL_RANK: 0 - CUDA_VISIBLE_DEVICES: [0]\n",
      "\n",
      "  | Name            | Type             | Params\n",
      "-----------------------------------------------------\n",
      "0 | network         | SmpUnet          | 6.3 M \n",
      "1 | teacher_network | SmpUnet          | 6.3 M \n",
      "2 | loss            | CrossEntropyLoss | 0     \n",
      "3 | unsup_loss      | CrossEntropyLoss | 0     \n",
      "-----------------------------------------------------\n",
      "12.5 M    Trainable params\n",
      "0         Non-trainable params\n",
      "12.5 M    Total params\n",
      "50.014    Total estimated model params size (MB)\n",
      "/d/pfournie/dl_toolbox/venv/lib/python3.8/site-packages/pytorch_lightning/trainer/connectors/data_connector.py:488: PossibleUserWarning: Your `val_dataloader`'s sampler has shuffling enabled, it is strongly recommended that you turn shuffling off for val/test/predict dataloaders.\n",
      "  rank_zero_warn(\n"
     ]
    },
    {
     "name": "stdout",
     "output_type": "stream",
     "text": [
      "Epoch 0:  91%|██████████████████████████████████████████████████████████████████████████████████████████████████████████████████████████▋            | 50/55 [00:18<00:01,  2.73it/s, loss=0.774, v_num=7m12]\n",
      "Validation: 0it [00:00, ?it/s]\u001b[A"
     ]
    },
    {
     "name": "stderr",
     "output_type": "stream",
     "text": [
      "/d/pfournie/dl_toolbox/venv/lib/python3.8/site-packages/pytorch_lightning/utilities/data.py:84: UserWarning: Trying to infer the `batch_size` from an ambiguous collection. The batch size we found is 8. To avoid any miscalculations, use `self.log(..., batch_size=batch_size)`.\n",
      "  warning_cache.warn(\n"
     ]
    },
    {
     "name": "stdout",
     "output_type": "stream",
     "text": [
      "Epoch 1:  91%|██████████████████████████████████████████████████████████████████████████████████████████████████████████████████████████▋            | 50/55 [00:09<00:00,  5.30it/s, loss=0.768, v_num=7m12]\n",
      "Epoch 2:  91%|██████████████████████████████████████████████████████████████████████████████████████████████████████████████████████████▋            | 50/55 [00:08<00:00,  5.71it/s, loss=0.721, v_num=7m12]\n",
      "Epoch 3:  91%|██████████████████████████████████████████████████████████████████████████████████████████████████████████████████████████▋            | 50/55 [00:08<00:00,  5.66it/s, loss=0.738, v_num=7m12]\n",
      "Epoch 4:  91%|██████████████████████████████████████████████████████████████████████████████████████████████████████████████████████████▋            | 50/55 [00:09<00:00,  5.55it/s, loss=0.706, v_num=7m12]\n",
      "Epoch 5:  91%|██████████████████████████████████████████████████████████████████████████████████████████████████████████████████████████▋            | 50/55 [00:08<00:00,  5.71it/s, loss=0.773, v_num=7m12]\n",
      "Epoch 6:  91%|██████████████████████████████████████████████████████████████████████████████████████████████████████████████████████████▋            | 50/55 [00:08<00:00,  5.60it/s, loss=0.759, v_num=7m12]\n",
      "Epoch 7:  91%|██████████████████████████████████████████████████████████████████████████████████████████████████████████████████████████▋            | 50/55 [00:08<00:00,  5.69it/s, loss=0.738, v_num=7m12]\n",
      "Epoch 8:  91%|██████████████████████████████████████████████████████████████████████████████████████████████████████████████████████████▋            | 50/55 [00:08<00:00,  5.56it/s, loss=0.709, v_num=7m12]\n",
      "Epoch 9:  91%|██████████████████████████████████████████████████████████████████████████████████████████████████████████████████████████▋            | 50/55 [00:10<00:01,  4.68it/s, loss=0.681, v_num=7m12]\n",
      "Epoch 10:  91%|█████████████████████████████████████████████████████████████████████████████████████████████████████████████████████████▊            | 50/55 [00:08<00:00,  5.63it/s, loss=0.715, v_num=7m12]\n",
      "Epoch 11:  91%|█████████████████████████████████████████████████████████████████████████████████████████████████████████████████████████▊            | 50/55 [00:08<00:00,  5.70it/s, loss=0.705, v_num=7m12]\n",
      "Epoch 11: 100%|██████████████████████████████████████████████████████████████████████████████████████████████████████████████████████████████████████| 55/55 [00:10<00:00,  5.48it/s, loss=0.705, v_num=7m12]\n"
     ]
    }
   ],
   "source": [
    "trainer.fit(\n",
    "    model=module,\n",
    "    train_dataloaders=train_dataloaders,\n",
    "    val_dataloaders=val_dataloader,\n",
    "    ckpt_path=ckpt_path\n",
    ")"
   ]
  },
  {
   "cell_type": "code",
   "execution_count": null,
   "id": "4dca3ef0-3495-4a35-a878-5826d74685b5",
   "metadata": {},
   "outputs": [],
   "source": []
  }
 ],
 "metadata": {
  "kernelspec": {
   "display_name": "dl_toolbox_venv",
   "language": "python",
   "name": "dl_toolbox_venv"
  },
  "language_info": {
   "codemirror_mode": {
    "name": "ipython",
    "version": 3
   },
   "file_extension": ".py",
   "mimetype": "text/x-python",
   "name": "python",
   "nbconvert_exporter": "python",
   "pygments_lexer": "ipython3",
   "version": "3.8.10"
  }
 },
 "nbformat": 4,
 "nbformat_minor": 5
}
