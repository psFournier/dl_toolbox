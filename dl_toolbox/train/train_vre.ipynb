{
 "cells": [
  {
   "cell_type": "code",
   "execution_count": 1,
   "id": "e2e2234d-94b1-45dc-8206-74946bac7ebd",
   "metadata": {},
   "outputs": [
    {
     "name": "stderr",
     "output_type": "stream",
     "text": [
      "/d/pfournie/.local/lib/python3.8/site-packages/tqdm/auto.py:22: TqdmWarning: IProgress not found. Please update jupyter and ipywidgets. See https://ipywidgets.readthedocs.io/en/stable/user_install.html\n",
      "  from .autonotebook import tqdm as notebook_tqdm\n"
     ]
    }
   ],
   "source": [
    "from pytorch_lightning.callbacks import ModelCheckpoint#, DeviceStatsMonitor\n",
    "from pytorch_lightning import Trainer\n",
    "#from pytorch_lightning.profiler import SimpleProfiler\n",
    "from pytorch_lightning.loggers import TensorBoardLogger\n",
    "from dl_toolbox.lightning_modules import *\n",
    "from dl_toolbox.lightning_datamodules import *\n",
    "from pathlib import Path, PurePath"
   ]
  },
  {
   "cell_type": "code",
   "execution_count": 2,
   "id": "8a8e3ae2-b4e6-4a7a-807a-6c858a8e34c7",
   "metadata": {},
   "outputs": [
    {
     "name": "stderr",
     "output_type": "stream",
     "text": [
      "/d/pfournie/.local/lib/python3.8/site-packages/pytorch_lightning/trainer/connectors/accelerator_connector.py:441: LightningDeprecationWarning: Setting `Trainer(gpus=1)` is deprecated in v1.7 and will be removed in v2.0. Please use `Trainer(accelerator='gpu', devices=1)` instead.\n",
      "  rank_zero_deprecation(\n",
      "GPU available: True (cuda), used: True\n",
      "TPU available: False, using: 0 TPU cores\n",
      "IPU available: False, using: 0 IPUs\n",
      "HPU available: False, using: 0 HPUs\n",
      "`Trainer(limit_train_batches=1.0)` was configured so 100% of the batches per epoch will be used..\n",
      "`Trainer(limit_val_batches=1.0)` was configured so 100% of the batches will be used..\n"
     ]
    }
   ],
   "source": [
    "trainer = Trainer(\n",
    "    max_steps=100000,\n",
    "    gpus=1,\n",
    "    multiple_trainloader_mode='min_size',\n",
    "    limit_train_batches=1.,\n",
    "    limit_val_batches=1.,\n",
    "    logger=TensorBoardLogger(\n",
    "        #save_dir='/data/outputs',\n",
    "        save_dir='/work/OT/ai4usr/fournip/outputs',\n",
    "        name='digiv2paris',\n",
    "        version='ce_d4color3',\n",
    "        sub_dir='0'\n",
    "    ),\n",
    "    #profiler=SimpleProfiler(),\n",
    "    callbacks=[\n",
    "        ModelCheckpoint(),\n",
    "        #DeviceStatsMonitor(),\n",
    "    ],\n",
    "    num_sanity_val_steps=0,\n",
    "    check_val_every_n_epoch=1,\n",
    "    benchmark=True,\n",
    "    enable_progress_bar=True\n",
    ")"
   ]
  },
  {
   "cell_type": "code",
   "execution_count": 3,
   "id": "f9814c3c-95b4-4b97-85fa-8f2af8bdad1f",
   "metadata": {},
   "outputs": [
    {
     "name": "stderr",
     "output_type": "stream",
     "text": [
      "Warning 1: Unable to save auxiliary information in /work/OT/ai4geo/DATA/DATASETS/DIGITANIE/Paris/Paris_EPSG2154_0.tif.aux.xml.\n",
      "Warning 1: Unable to save auxiliary information in /work/OT/ai4geo/DATA/DATASETS/DIGITANIE/Paris/Paris_EPSG2154_1.tif.aux.xml.\n",
      "Warning 1: Unable to save auxiliary information in /work/OT/ai4geo/DATA/DATASETS/DIGITANIE/Paris/Paris_EPSG2154_2.tif.aux.xml.\n",
      "Warning 1: Unable to save auxiliary information in /work/OT/ai4geo/DATA/DATASETS/DIGITANIE/Paris/Paris_EPSG2154_3.tif.aux.xml.\n",
      "Warning 1: Unable to save auxiliary information in /work/OT/ai4geo/DATA/DATASETS/DIGITANIE/Paris/Paris_EPSG2154_4.tif.aux.xml.\n",
      "Warning 1: Unable to save auxiliary information in /work/OT/ai4geo/DATA/DATASETS/DIGITANIE/Paris/Paris_EPSG2154_5.tif.aux.xml.\n",
      "Warning 1: Unable to save auxiliary information in /work/OT/ai4geo/DATA/DATASETS/DIGITANIE/Paris/Paris_EPSG2154_6.tif.aux.xml.\n",
      "Warning 1: Unable to save auxiliary information in /work/OT/ai4geo/DATA/DATASETS/DIGITANIE/Paris/Paris_EPSG2154_7.tif.aux.xml.\n",
      "Warning 1: Unable to save auxiliary information in /work/OT/ai4geo/DATA/DATASETS/DIGITANIE/Paris/Paris_EPSG2154_8.tif.aux.xml.\n",
      "Warning 1: Unable to save auxiliary information in /work/OT/ai4geo/DATA/DATASETS/DIGITANIE/Paris/Paris_EPSG2154_9.tif.aux.xml.\n"
     ]
    }
   ],
   "source": [
    "datamodule = Splitfile(\n",
    "    epoch_len=1000,\n",
    "    batch_size=16,\n",
    "    workers=4,\n",
    "    splitfile_path=Path.home() / f'ai4geo/splits/digitanieV2/paris.csv',\n",
    "    test_folds=(9,),\n",
    "    train_folds=tuple(range(9)),\n",
    "    data_path=Path('/work/OT/ai4geo/DATA/DATASETS/DIGITANIE'),\n",
    "    crop_size=256,\n",
    "    img_aug='d4_color-3',\n",
    "    unsup_img_aug=None,\n",
    "    labels='6',\n",
    "    unsup_train_folds=None\n",
    ")"
   ]
  },
  {
   "cell_type": "code",
   "execution_count": 4,
   "id": "9dcf1d7e-5b2b-4d30-a707-e99e031eeea5",
   "metadata": {},
   "outputs": [],
   "source": [
    "module = CE(\n",
    "    ignore_index=-1,\n",
    "    #no_pred_zero=False,\n",
    "    #mixup=0.4,\n",
    "    network='SmpUnet',\n",
    "    encoder='efficientnet-b1',\n",
    "    pretrained=False,\n",
    "    weights=[],\n",
    "    in_channels=3,\n",
    "    out_channels=6,\n",
    "    initial_lr=0.001,\n",
    "    final_lr=0.0005,\n",
    "    plot_calib=True,\n",
    "    class_names=datamodule.class_names\n",
    "    #alphas=(0., 1.),\n",
    "    #ramp=(0, 40000),\n",
    "    #pseudo_threshold=0.9,\n",
    "    #consist_aug='color-3',\n",
    "    #emas=(0.9, 0.999)\n",
    ")"
   ]
  },
  {
   "cell_type": "code",
   "execution_count": 5,
   "id": "a7d1f14f-29db-409f-9e4f-88e0b3def19b",
   "metadata": {},
   "outputs": [
    {
     "name": "stderr",
     "output_type": "stream",
     "text": [
      "/work/OT/ai4usr/fournip/vre_venv/lib/python3.8/site-packages/pytorch_lightning/callbacks/model_checkpoint.py:611: UserWarning: Checkpoint directory /work/OT/ai4usr/fournip/outputs/digiv2paris/ce_d4color3/checkpoints exists and is not empty.\n",
      "  rank_zero_warn(f\"Checkpoint directory {dirpath} exists and is not empty.\")\n",
      "LOCAL_RANK: 0 - CUDA_VISIBLE_DEVICES: [0]\n",
      "\n",
      "  | Name    | Type             | Params\n",
      "---------------------------------------------\n",
      "0 | network | SmpUnet          | 8.8 M \n",
      "1 | loss    | CrossEntropyLoss | 0     \n",
      "---------------------------------------------\n",
      "8.8 M     Trainable params\n",
      "0         Non-trainable params\n",
      "8.8 M     Total params\n",
      "35.031    Total estimated model params size (MB)\n"
     ]
    },
    {
     "name": "stdout",
     "output_type": "stream",
     "text": [
      "Epoch 0:  94%|█████████▍| 62/66 [00:34<00:02,  1.81it/s, loss=1.71, v_num=lor3]\n",
      "Validation: 0it [00:00, ?it/s]\u001b[A\n",
      "Validation:   0%|          | 0/4 [00:00<?, ?it/s]\u001b[A\n",
      "Validation DataLoader 0:   0%|          | 0/4 [00:00<?, ?it/s]\u001b[A\n",
      "Validation DataLoader 0:  25%|██▌       | 1/4 [00:01<00:04,  1.63s/it]\u001b[A\n",
      "Epoch 0:  95%|█████████▌| 63/66 [00:37<00:01,  1.69it/s, loss=1.71, v_num=lor3]\n",
      "Validation DataLoader 0:  50%|█████     | 2/4 [00:01<00:01,  1.33it/s]\u001b[A\n",
      "Epoch 0:  97%|█████████▋| 64/66 [00:37<00:01,  1.71it/s, loss=1.71, v_num=lor3]"
     ]
    },
    {
     "name": "stderr",
     "output_type": "stream",
     "text": [
      "/work/OT/ai4usr/fournip/vre_venv/lib/python3.8/site-packages/pytorch_lightning/utilities/data.py:72: UserWarning: Trying to infer the `batch_size` from an ambiguous collection. The batch size we found is 16. To avoid any miscalculations, use `self.log(..., batch_size=batch_size)`.\n",
      "  warning_cache.warn(\n"
     ]
    },
    {
     "name": "stdout",
     "output_type": "stream",
     "text": [
      "\n",
      "Validation DataLoader 0:  75%|███████▌  | 3/4 [00:01<00:00,  2.11it/s]\u001b[A\n",
      "Epoch 0:  98%|█████████▊| 65/66 [00:37<00:00,  1.73it/s, loss=1.71, v_num=lor3]\n",
      "Validation DataLoader 0: 100%|██████████| 4/4 [00:02<00:00,  2.90it/s]\u001b[A\n",
      "Epoch 0: 100%|██████████| 66/66 [00:48<00:00,  1.36it/s, loss=1.71, v_num=lor3]\n",
      "Epoch 1:  23%|██▎       | 15/66 [00:08<00:27,  1.83it/s, loss=1.69, v_num=lor3]"
     ]
    },
    {
     "name": "stderr",
     "output_type": "stream",
     "text": [
      "/work/OT/ai4usr/fournip/vre_venv/lib/python3.8/site-packages/pytorch_lightning/trainer/trainer.py:726: UserWarning: Detected KeyboardInterrupt, attempting graceful shutdown...\n",
      "  rank_zero_warn(\"Detected KeyboardInterrupt, attempting graceful shutdown...\")\n"
     ]
    }
   ],
   "source": [
    "trainer.fit(\n",
    "    model=module,\n",
    "    datamodule=datamodule,\n",
    "    ckpt_path=None\n",
    ")"
   ]
  }
 ],
 "metadata": {
  "kernelspec": {
   "display_name": "venv",
   "language": "python",
   "name": "venv"
  },
  "language_info": {
   "codemirror_mode": {
    "name": "ipython",
    "version": 3
   },
   "file_extension": ".py",
   "mimetype": "text/x-python",
   "name": "python",
   "nbconvert_exporter": "python",
   "pygments_lexer": "ipython3",
   "version": "3.8.10"
  }
 },
 "nbformat": 4,
 "nbformat_minor": 5
}
