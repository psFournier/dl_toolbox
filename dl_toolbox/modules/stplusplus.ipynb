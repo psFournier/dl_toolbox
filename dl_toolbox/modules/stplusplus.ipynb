{
 "cells": [
  {
   "cell_type": "code",
   "execution_count": 1,
   "id": "30d36d81-1c48-4048-a99b-fa924b2d4857",
   "metadata": {},
   "outputs": [],
   "source": [
    "import logging\n",
    "import hydra\n",
    "import pytorch_lightning as pl\n",
    "from omegaconf import DictConfig, OmegaConf\n",
    "import torch"
   ]
  },
  {
   "cell_type": "code",
   "execution_count": null,
   "id": "23e1f609-daad-46c7-a187-5e386f7ab124",
   "metadata": {},
   "outputs": [],
   "source": [
    "logger = logging.getLogger(__name__)\n",
    "torch.set_float32_matmul_precision('high')\n",
    "\n",
    "@hydra.main(version_base=\"1.3\", config_path=\"../../configs\", config_name=\"train.yaml\")\n",
    "def train(cfg: DictConfig) -> None:\n",
    "    pl.seed_everything(cfg.seed)\n",
    "    logger.info(\"\\n\" + OmegaConf.to_yaml(cfg))\n",
    "    datamodule = hydra.utils.instantiate(cfg.datamodule)\n",
    "    module = hydra.utils.instantiate(\n",
    "        cfg.module,\n",
    "        num_classes=datamodule.num_classes,\n",
    "        in_channels=datamodule.in_channels,\n",
    "        class_weights=datamodule.class_weights,\n",
    "        # Don't instantiate optimizer submodules with hydra, let `configure_optimizers()` do it\n",
    "        # _recursive_=False,\n",
    "    )\n",
    "    # Let hydra manage directory outputs\n",
    "    tensorboard = pl.loggers.TensorBoardLogger(\n",
    "        \".\", \"\", \"\", log_graph=True, default_hp_metric=False\n",
    "    )\n",
    "    callbacks = {key: hydra.utils.instantiate(cb) for key, cb in cfg.callbacks.items()}\n",
    "    trainer = hydra.utils.instantiate(cfg.trainer)(\n",
    "        logger=tensorboard, \n",
    "        callbacks=list(callbacks.values())\n",
    "    )\n",
    "    trainer.fit(module, datamodule=datamodule)\n",
    "\n",
    "if __name__ == \"__main__\":\n",
    "    train()"
   ]
  }
 ],
 "metadata": {
  "kernelspec": {
   "display_name": "dltoolbox",
   "language": "python",
   "name": "dltoolbox"
  },
  "language_info": {
   "codemirror_mode": {
    "name": "ipython",
    "version": 3
   },
   "file_extension": ".py",
   "mimetype": "text/x-python",
   "name": "python",
   "nbconvert_exporter": "python",
   "pygments_lexer": "ipython3",
   "version": "3.8.4"
  }
 },
 "nbformat": 4,
 "nbformat_minor": 5
}
