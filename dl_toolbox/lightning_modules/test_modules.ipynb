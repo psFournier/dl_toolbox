{
 "cells": [
  {
   "cell_type": "code",
   "execution_count": 10,
   "id": "f5925562-39b9-4ca8-b9a8-7be3d97e42f9",
   "metadata": {},
   "outputs": [],
   "source": [
    "from dl_toolbox.lightning_modules import *\n",
    "from dl_toolbox.lightning_datamodules import *\n",
    "from pytorch_lightning.loggers import TensorBoardLogger\n",
    "from pytorch_lightning import Trainer "
   ]
  },
  {
   "cell_type": "code",
   "execution_count": 11,
   "id": "99593579-bf91-4c8e-8ef7-1d327574029a",
   "metadata": {},
   "outputs": [
    {
     "name": "stderr",
     "output_type": "stream",
     "text": [
      "GPU available: True, used: True\n",
      "TPU available: False, using: 0 TPU cores\n",
      "IPU available: False, using: 0 IPUs\n"
     ]
    }
   ],
   "source": [
    "logger = TensorBoardLogger(\n",
    "    '/d/pfournie/ai4geo/outputs',\n",
    "    name='test_modules'\n",
    ")\n",
    "\n",
    "trainer = Trainer(\n",
    "    max_epochs=100,\n",
    "    logger=logger,\n",
    "    gpus=1\n",
    ")\n",
    "\n",
    "dm = FromFolderDataset(\n",
    "    folder_dataset='Resisc',\n",
    "    data_path='/d/pfournie/ai4geo/data/NWPU-RESISC45',\n",
    "    epoch_len=500,\n",
    "    batch_size=4,\n",
    "    workers=6,\n",
    "    train_idxs=[700*i+j for i in range(45) for j in range(50)],\n",
    "    test_idxs=[700*i+j for i in range(45) for j in range(50,100)],\n",
    "    unsup_train_idxs=[700*i+j for i in range(45) for j in range(100)],\n",
    "    img_aug='d4',\n",
    "    unsup_img_aug='color-5'\n",
    ")"
   ]
  },
  {
   "cell_type": "code",
   "execution_count": 12,
   "id": "0ed740b2-a5d3-4f16-9bc9-7ced91b7ae9b",
   "metadata": {},
   "outputs": [
    {
     "name": "stderr",
     "output_type": "stream",
     "text": [
      "LOCAL_RANK: 0 - CUDA_VISIBLE_DEVICES: [0]\n",
      "\n",
      "  | Name    | Type             | Params\n",
      "---------------------------------------------\n",
      "0 | network | Vgg              | 1.8 M \n",
      "1 | loss    | CrossEntropyLoss | 0     \n",
      "---------------------------------------------\n",
      "1.8 M     Trainable params\n",
      "0         Non-trainable params\n",
      "1.8 M     Total params\n",
      "7.068     Total estimated model params size (MB)\n"
     ]
    },
    {
     "name": "stdout",
     "output_type": "stream",
     "text": [
      "Epoch 1: 100%|█████████████████████████████████████████████████████████████████████████████████████████| 688/688 [02:20<00:00,  4.89it/s, loss=3.68, v_num=23]\n",
      "\n",
      "Epoch 0:  18%|████████████████▏                                                                        | 125/688 [00:02<00:11, 50.74it/s, loss=3.76, v_num=24]\u001b[A\n",
      "Validating: 0it [00:00, ?it/s]\u001b[A\n",
      "Validating:   0%|                                                                                                                     | 0/563 [00:00<?, ?it/s]\u001b[A\n",
      "Epoch 0:  18%|████████████████▍                                                                        | 127/688 [00:02<00:12, 43.31it/s, loss=3.76, v_num=24]\u001b[A\n",
      "Epoch 0:  22%|███████████████████▏                                                                     | 148/688 [00:03<00:11, 48.77it/s, loss=3.76, v_num=24]\u001b[A\n",
      "Epoch 0:  25%|█████████████████████▊                                                                   | 169/688 [00:03<00:09, 53.75it/s, loss=3.76, v_num=24]\u001b[A\n",
      "Epoch 0:  28%|████████████████████████▌                                                                | 190/688 [00:03<00:08, 58.43it/s, loss=3.76, v_num=24]\u001b[A\n",
      "Epoch 0:  31%|███████████████████████████▎                                                             | 211/688 [00:03<00:07, 62.89it/s, loss=3.76, v_num=24]\u001b[A\n",
      "Epoch 0:  34%|██████████████████████████████                                                           | 232/688 [00:03<00:06, 67.02it/s, loss=3.76, v_num=24]\u001b[A\n",
      "Epoch 0:  37%|████████████████████████████████▋                                                        | 253/688 [00:03<00:06, 70.98it/s, loss=3.76, v_num=24]\u001b[A\n",
      "Epoch 0:  40%|███████████████████████████████████▍                                                     | 274/688 [00:03<00:05, 74.71it/s, loss=3.76, v_num=24]\u001b[A\n",
      "Epoch 0:  43%|██████████████████████████████████████▏                                                  | 295/688 [00:03<00:05, 78.16it/s, loss=3.76, v_num=24]\u001b[A\n",
      "Epoch 0:  46%|████████████████████████████████████████▉                                                | 316/688 [00:03<00:04, 81.40it/s, loss=3.76, v_num=24]\u001b[A\n",
      "Epoch 0:  49%|███████████████████████████████████████████▌                                             | 337/688 [00:03<00:04, 84.52it/s, loss=3.76, v_num=24]\u001b[A\n",
      "Epoch 0:  52%|██████████████████████████████████████████████▎                                          | 358/688 [00:04<00:03, 87.50it/s, loss=3.76, v_num=24]\u001b[A\n",
      "Epoch 0:  55%|█████████████████████████████████████████████████                                        | 379/688 [00:04<00:03, 90.35it/s, loss=3.76, v_num=24]\u001b[A\n",
      "Epoch 0:  58%|███████████████████████████████████████████████████▋                                     | 400/688 [00:04<00:03, 92.93it/s, loss=3.76, v_num=24]\u001b[A\n",
      "Epoch 0:  61%|██████████████████████████████████████████████████████▍                                  | 421/688 [00:04<00:02, 95.50it/s, loss=3.76, v_num=24]\u001b[A\n",
      "Epoch 0:  64%|█████████████████████████████████████████████████████████▏                               | 442/688 [00:04<00:02, 97.92it/s, loss=3.76, v_num=24]\u001b[A\n",
      "Epoch 0:  67%|███████████████████████████████████████████████████████████▏                            | 463/688 [00:04<00:02, 100.16it/s, loss=3.76, v_num=24]\u001b[A\n",
      "Epoch 0:  70%|██████████████████████████████████████████████████████████████                          | 485/688 [00:04<00:01, 102.59it/s, loss=3.76, v_num=24]\u001b[A\n",
      "Epoch 0:  74%|████████████████████████████████████████████████████████████████▊                       | 507/688 [00:04<00:01, 104.87it/s, loss=3.76, v_num=24]\u001b[A\n",
      "Epoch 0:  77%|███████████████████████████████████████████████████████████████████▋                    | 529/688 [00:04<00:01, 107.03it/s, loss=3.76, v_num=24]\u001b[A\n",
      "Epoch 0:  80%|██████████████████████████████████████████████████████████████████████▍                 | 551/688 [00:05<00:01, 108.99it/s, loss=3.76, v_num=24]\u001b[A\n",
      "Epoch 0:  83%|█████████████████████████████████████████████████████████████████████████▎              | 573/688 [00:05<00:01, 110.85it/s, loss=3.76, v_num=24]\u001b[A\n",
      "Epoch 0:  86%|████████████████████████████████████████████████████████████████████████████            | 595/688 [00:05<00:00, 112.55it/s, loss=3.76, v_num=24]\u001b[A\n",
      "Validating:  84%|█████████████████████████████████████████████████████████████████████████████████████████                 | 473/563 [00:02<00:00, 193.38it/s]\u001b[A\n",
      "Epoch 0:  89%|███████████████████████████████████████████████████████████████████████████████▎         | 613/688 [00:17<00:02, 36.02it/s, loss=3.76, v_num=24]\u001b[A"
     ]
    }
   ],
   "source": [
    "module = CE(\n",
    "    ignore_index=-1,\n",
    "    network='Vgg',\n",
    "    weights=[],\n",
    "    in_channels=3,\n",
    "    out_channels=45,\n",
    "    initial_lr=0.001,\n",
    "    final_lr=0.0005\n",
    ")\n",
    "\n",
    "trainer.fit(\n",
    "    model=module,\n",
    "    datamodule=dm,\n",
    ")"
   ]
  },
  {
   "cell_type": "code",
   "execution_count": null,
   "id": "62b73334-ae1a-4fcc-a42b-9fd9828892ea",
   "metadata": {},
   "outputs": [],
   "source": []
  }
 ],
 "metadata": {
  "kernelspec": {
   "display_name": "venv",
   "language": "python",
   "name": "venv"
  },
  "language_info": {
   "codemirror_mode": {
    "name": "ipython",
    "version": 3
   },
   "file_extension": ".py",
   "mimetype": "text/x-python",
   "name": "python",
   "nbconvert_exporter": "python",
   "pygments_lexer": "ipython3",
   "version": "3.8.10"
  }
 },
 "nbformat": 4,
 "nbformat_minor": 5
}
