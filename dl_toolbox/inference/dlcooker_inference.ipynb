{
 "cells": [
  {
   "cell_type": "code",
   "execution_count": 2,
   "id": "32d04b60-b8d4-4b1f-b8c2-77cf57b30885",
   "metadata": {},
   "outputs": [],
   "source": [
    "from dataclasses import dataclass\n",
    "from dlcooker import dlcooker_infer\n",
    "import glob\n",
    "import numpy as np\n",
    "import os\n",
    "from dlcooker.configs.inference import (\n",
    "    GeoTIFFOutputConf,\n",
    "    ImageConf,\n",
    "    ModelConf,\n",
    "    SemanticSegmentationInferenceConfig,\n",
    "    LabelMergeStrategy,\n",
    "    TTAMergeStrategy,\n",
    "    TilingConf,\n",
    "    TTASequentialPipelineConf,\n",
    "    TTAHorizontalFlipConf,\n",
    "    TTAVerticalFlipConf,\n",
    "    TTARotationsConf,\n",
    "    TTACombinationPipelineConf\n",
    ")\n",
    "\n",
    "@dataclass\n",
    "class MyInferenceConfig(SemanticSegmentationInferenceConfig):\n",
    "\n",
    "    image: ImageConf = ImageConf(path=\"/work/OT/ai4geo/DATA/DATASETS/DIGITANIE/Montpellier/Montpellier_EPSG2154_0.tif\", bands=[1, 2, 3])\n",
    "  \n",
    "    model: ModelConf = ModelConf(\n",
    "        folder= \"/work/OT/ai4usr/hummerc/dlcooker_wrapper/\",\n",
    "        metadata_filename='metadata.yaml',\n",
    "        pth_filename='model.pth',\n",
    "        tta_pipeline = None,\n",
    "        #tta_pipeline=TTACombinationPipelineConf(transforms=[\n",
    "        #    TTAHorizontalFlipConf(),\n",
    "        #    TTAVerticalFlipConf(),\n",
    "        #    TTARotationsConf(angles=[90, 180, 270])\n",
    "        #])\n",
    "        #,\n",
    "        tta_merge_strategy=TTAMergeStrategy.MEAN,\n",
    "    )\n",
    "    \n",
    "    \n",
    "    tiling: TilingConf = TilingConf(\n",
    "        strategy=LabelMergeStrategy.BLENDING,\n",
    "        batch_size= 8,\n",
    "        num_workers= 1,\n",
    "        tile_size = 2048,\n",
    "        size_kept = 2048,\n",
    "        patch_size=2048,\n",
    "        patch_overlap=0\n",
    ")\n",
    "    \n",
    "    output: GeoTIFFOutputConf = GeoTIFFOutputConf(folder = \"/work/OT/ai4usr/hummerc/dlcooker_wrapper/\", filename=\"Montpellier_EPSG2154_0\", save_labels=True, confidence_threshold=0.5)\n",
    "    \n",
    "\n",
    "\n"
   ]
  },
  {
   "cell_type": "code",
   "execution_count": null,
   "id": "5e7b8955-091e-477d-9698-2f2889980fbf",
   "metadata": {},
   "outputs": [],
   "source": []
  }
 ],
 "metadata": {
  "kernelspec": {
   "display_name": "Python 3 (ipykernel)",
   "language": "python",
   "name": "python3"
  },
  "language_info": {
   "codemirror_mode": {
    "name": "ipython",
    "version": 3
   },
   "file_extension": ".py",
   "mimetype": "text/x-python",
   "name": "python",
   "nbconvert_exporter": "python",
   "pygments_lexer": "ipython3",
   "version": "3.8.14"
  }
 },
 "nbformat": 4,
 "nbformat_minor": 5
}
