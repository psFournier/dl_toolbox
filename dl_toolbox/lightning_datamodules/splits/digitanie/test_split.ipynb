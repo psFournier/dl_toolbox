{
 "cells": [
  {
   "cell_type": "code",
   "execution_count": 6,
   "id": "2d63c124-24d4-45d3-8b06-9221bde56924",
   "metadata": {},
   "outputs": [],
   "source": [
    "import csv\n",
    "import imagesize\n",
    "from pathlib import Path, PurePath"
   ]
  },
  {
   "cell_type": "code",
   "execution_count": 9,
   "id": "640b00d3-fe6d-40fa-b13a-ed4e5b1385b8",
   "metadata": {},
   "outputs": [],
   "source": [
    "digitanie = PurePath('/work/OT/ai4geo/DATA/DATASETS/DIGITANIE')\n",
    "cities = ['Arcachon','Brisbane','Can-Tho','Lagos','Maros','Munich','Paris',\n",
    "          'Rio-Janeiro','Strasbourg','Toulouse','Biarritz','Buenos-Aires',\n",
    "          'Helsinki','Le-Caire','Montpellier','Nantes','Port-Elisabeth','Shanghai','Tianjin']\n",
    "cities = ['Arcachon', 'Paris', 'Strasbourg', 'Toulouse', 'Biarritz', 'Nantes', 'Montpellier']\n",
    "with open(Path.home() / f'dl_toolbox/dl_toolbox/lightning_datamodules/splits/digitanie/france.csv', 'w+', newline='') as csvfile:\n",
    "    writer = csv.writer(csvfile)\n",
    "    writer.writerow(\n",
    "        [\n",
    "            'city',\n",
    "            'tile_id',\n",
    "            'img_path',\n",
    "            'label_path',\n",
    "            'x0',\n",
    "            'y0',\n",
    "            'patch_width',\n",
    "            'patch_height',\n",
    "            'fold_id'\n",
    "        ]\n",
    "    )\n",
    "    for city in cities:\n",
    "        img_paths = sorted(\n",
    "            [path.relative_to(digitanie) for path in Path(digitanie/city).glob('*_[0-9].tif')], \n",
    "            key=lambda x: int(x.stem.split('_')[-1])\n",
    "        )\n",
    "        msk_paths = sorted(\n",
    "            [path.relative_to(digitanie) for path in Path(digitanie/city/'COS9').glob('*.tif')],\n",
    "            key=lambda x: int(x.stem.split('_')[1][0])\n",
    "        )\n",
    "        for i, (img, msk) in enumerate(zip(img_paths, msk_paths)):\n",
    "            width, height = imagesize.get(digitanie/img)\n",
    "            writer.writerow(\n",
    "                [\n",
    "                    f'DigitanieV2',\n",
    "                    i,\n",
    "                    img,\n",
    "                    msk,\n",
    "                    0,\n",
    "                    0,\n",
    "                    width,\n",
    "                    height,\n",
    "                    i\n",
    "                ]\n",
    "            )\n",
    "            "
   ]
  },
  {
   "cell_type": "code",
   "execution_count": null,
   "id": "ab173f0c-8d6d-440b-9299-743e86763a47",
   "metadata": {},
   "outputs": [
    {
     "name": "stderr",
     "output_type": "stream",
     "text": [
      "/work/OT/ai4usr/fournip/vre_venv/lib/python3.8/site-packages/tqdm/auto.py:22: TqdmWarning: IProgress not found. Please update jupyter and ipywidgets. See https://ipywidgets.readthedocs.io/en/stable/user_install.html\n",
      "  from .autonotebook import tqdm as notebook_tqdm\n"
     ]
    },
    {
     "data": {
      "text/plain": [
       "True"
      ]
     },
     "execution_count": 2,
     "metadata": {},
     "output_type": "execute_result"
    }
   ],
   "source": [
    "import torch\n",
    "torch.cuda.is_available()"
   ]
  },
  {
   "cell_type": "code",
   "execution_count": null,
   "id": "7a89a6fe-8749-4d22-b5e8-b21cfe240695",
   "metadata": {},
   "outputs": [
    {
     "name": "stdout",
     "output_type": "stream",
     "text": [
      "1.12.0+cu102\n"
     ]
    }
   ],
   "source": [
    "torch.cuda.device_count()"
   ]
  },
  {
   "cell_type": "code",
   "execution_count": null,
   "id": "cb41e670-0567-458f-8904-be702a1814f9",
   "metadata": {},
   "outputs": [],
   "source": []
  }
 ],
 "metadata": {
  "kernelspec": {
   "display_name": "vre_venv",
   "language": "python",
   "name": "vre_venv"
  },
  "language_info": {
   "codemirror_mode": {
    "name": "ipython",
    "version": 3
   },
   "file_extension": ".py",
   "mimetype": "text/x-python",
   "name": "python",
   "nbconvert_exporter": "python",
   "pygments_lexer": "ipython3",
   "version": "3.8.10"
  }
 },
 "nbformat": 4,
 "nbformat_minor": 5
}
