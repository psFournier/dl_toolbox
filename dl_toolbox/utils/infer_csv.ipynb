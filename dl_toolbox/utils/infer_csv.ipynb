{
 "cells": [
  {
   "cell_type": "code",
   "execution_count": 1,
   "id": "2f02fde2-77ee-4bd7-80c2-a9a2834b2bff",
   "metadata": {},
   "outputs": [
    {
     "name": "stderr",
     "output_type": "stream",
     "text": [
      "/work/OT/ai4usr/fournip/vre_venv/lib/python3.8/site-packages/tqdm/auto.py:22: TqdmWarning: IProgress not found. Please update jupyter and ipywidgets. See https://ipywidgets.readthedocs.io/en/stable/user_install.html\n",
      "  from .autonotebook import tqdm as notebook_tqdm\n"
     ]
    }
   ],
   "source": [
    "import torch\n",
    "import numpy as np\n",
    "import rasterio\n",
    "import dl_toolbox.inference as dl_inf"
   ]
  },
  {
   "cell_type": "code",
   "execution_count": 2,
   "id": "f5084f53-9441-4778-90b0-5ee6264a75f2",
   "metadata": {},
   "outputs": [],
   "source": [
    "from dl_toolbox.lightning_modules import *\n",
    "\n",
    "CKPT_PATH = '/work/OT/ai4usr/fournip/outputs/digi_toulouse_num_train/version_0/checkpoints/epoch=499-step=31499.ckpt'\n",
    "IN_CHANNELS = 3\n",
    "NUM_CLASSES = 2\n",
    "ENCODER = 'efficientnet-b0'\n",
    "#TRAIN_WITH_VOID = True\n",
    "\n",
    "device = torch.device(\"cuda\" if torch.cuda.is_available() else \"cpu\")\n",
    "ckpt = torch.load(CKPT_PATH, map_location=device)\n",
    "\n",
    "module = Unet_BCE(\n",
    "    in_channels=IN_CHANNELS,\n",
    "    num_classes=NUM_CLASSES,\n",
    "    pretrained=False,\n",
    "    encoder=ENCODER,\n",
    "    ignore_index=-10\n",
    ")\n",
    "\n",
    "# module = DummyModule(model=instantiate(config.model), config_loss=config.loss)\n",
    "module.load_state_dict(ckpt['state_dict'])\n",
    "module.eval()\n",
    "module.to(device);"
   ]
  },
  {
   "cell_type": "code",
   "execution_count": 3,
   "id": "0366ca1c-e70c-436b-9162-10d30c3b9d91",
   "metadata": {},
   "outputs": [],
   "source": [
    "from dl_toolbox.torch_datasets import *\n",
    "from dl_toolbox.lightning_datamodules import read_splitfile\n",
    "\n",
    "#SPLITFILE_PATH = '/d/pfournie/ai4geo/splits/split_scenario_1b.csv'\n",
    "#DATA_PATH = '/d/pfournie/ai4geo/data/DIGITANIE'\n",
    "SPLITFILE_PATH = '/home/eh/fournip/expes/splits/split_toulouse.csv'\n",
    "DATA_PATH = '/work/OT/ai4usr/fournip/digitanie'\n",
    "CROP_SIZE = 256\n",
    "CROP_STEP = 256\n",
    "\n",
    "with open(SPLITFILE_PATH, newline='') as splitfile:\n",
    "    train_args, val_args = read_splitfile(\n",
    "        splitfile=splitfile,\n",
    "        data_path=DATA_PATH,\n",
    "        train_folds=list(range(3,9)),\n",
    "        test_folds=[0,1]\n",
    "    )\n",
    "    \n",
    "val_sets = [\n",
    "        cls(\n",
    "            labels='binary_labels',\n",
    "            label_merger='binary_merger',\n",
    "            img_aug='no',\n",
    "            crop_size=CROP_SIZE,\n",
    "            crop_step=CROP_STEP,\n",
    "            one_hot=False,\n",
    "            **kwarg\n",
    "        ) for cls, kwarg in val_args\n",
    "    ]"
   ]
  },
  {
   "cell_type": "code",
   "execution_count": 5,
   "id": "15d28a2a-d8b8-45bb-8eff-47e17af60b21",
   "metadata": {},
   "outputs": [
    {
     "name": "stdout",
     "output_type": "stream",
     "text": [
      "batch  0\n",
      "batch  1\n",
      "batch  2\n",
      "batch  3\n",
      "batch  4\n",
      "batch  5\n",
      "batch  6\n",
      "batch  7\n",
      "batch  8\n",
      "batch  9\n",
      "batch  10\n",
      "batch  11\n",
      "batch  12\n",
      "batch  13\n",
      "batch  14\n",
      "batch  15\n",
      "batch  0\n",
      "batch  1\n",
      "batch  2\n",
      "batch  3\n",
      "batch  4\n",
      "batch  5\n",
      "batch  6\n",
      "batch  7\n",
      "batch  8\n",
      "batch  9\n",
      "batch  10\n",
      "batch  11\n",
      "batch  12\n",
      "batch  13\n",
      "batch  14\n",
      "batch  15\n"
     ]
    }
   ],
   "source": [
    "from sklearn.metrics import confusion_matrix as confusion_matrix\n",
    "\n",
    "#MERGE_SEMCITY_TO_COMMON = [[0,7], [3], [6], [2], [4], [1, 5]]\n",
    "#NUM_CLASSES_COMMON = 6\n",
    "#merger2 = MergeLabels(MERGE_SEMCITY_TO_COMMON)\n",
    "BATCH_SIZE = 4\n",
    "NUM_WORKERS = 4\n",
    "TTA = ''\n",
    "MODE = 'sigmoid' # if bce\n",
    "# MODE = 'softmax' # if ce\n",
    "\n",
    "global_cm = np.zeros(shape=(NUM_CLASSES, NUM_CLASSES))\n",
    "\n",
    "for dataset in val_sets:\n",
    "    \n",
    "    probas = dl_inf.compute_probas(\n",
    "        dataset=dataset,\n",
    "        module=module,\n",
    "        batch_size=BATCH_SIZE,\n",
    "        workers=NUM_WORKERS,\n",
    "        tta=TTA,\n",
    "        mode=MODE,\n",
    "        merge=True\n",
    "    )\n",
    "    preds = probas.squeeze() > 0.5\n",
    "    preds = preds[1]\n",
    "\n",
    "    labels = dataset.read_label(label_path=dataset.label_path, window=dataset.tile).astype(np.uint8)\n",
    "    row_cm = confusion_matrix(\n",
    "        labels.flatten(),\n",
    "        np.squeeze(preds).flatten(),\n",
    "        labels = np.arange(NUM_CLASSES)\n",
    "    )\n",
    "\n",
    "    global_cm += row_cm"
   ]
  },
  {
   "cell_type": "code",
   "execution_count": 7,
   "id": "af697cb3-2289-40a4-b432-fda3f95f4a48",
   "metadata": {},
   "outputs": [
    {
     "name": "stdout",
     "output_type": "stream",
     "text": [
      "[[6968955.  193892.]\n",
      " [ 117610.  719543.]]\n"
     ]
    },
    {
     "data": {
      "image/png": "[encoded data removed]",
      "text/plain": [
       "<Figure size 576x576 with 2 Axes>"
      ]
     },
     "metadata": {
      "needs_background": "light"
     },
     "output_type": "display_data"
    },
    {
     "data": {
      "image/png": "[encoded data removed]",
      "text/plain": [
       "<Figure size 576x576 with 2 Axes>"
      ]
     },
     "metadata": {
      "needs_background": "light"
     },
     "output_type": "display_data"
    }
   ],
   "source": [
    "%matplotlib inline\n",
    "import matplotlib.pyplot as plt\n",
    "from dl_toolbox.callbacks import plot_confusion_matrix\n",
    "class_names = DigitanieToulouseDs.labels.keys()\n",
    "print(global_cm)\n",
    "\n",
    "confmat_recall = global_cm/np.sum(global_cm,axis=1,keepdims=True) \n",
    "figure = plot_confusion_matrix(confmat_recall, class_names=class_names)\n",
    "plt.show()\n",
    "\n",
    "confmat_prec = global_cm/np.sum(global_cm,axis=0,keepdims=True) \n",
    "figure = plot_confusion_matrix(confmat_prec, class_names=class_names)\n",
    "plt.show()"
   ]
  },
  {
   "cell_type": "code",
   "execution_count": 8,
   "id": "bf6cd26d-638e-4dca-9d76-2d6accfcca17",
   "metadata": {},
   "outputs": [
    {
     "name": "stdout",
     "output_type": "stream",
     "text": [
      "Computing metrics\n",
      "         F1    Recall  Precision       IoU\n",
      "0  0.978139  0.972931   0.983404  0.957214\n",
      "1  0.822059  0.859512   0.787733  0.697877\n",
      "    macroF1  macroRecall  macroPrecision  macroIoU  OAccuracy     Kappa\n",
      "0  0.900099     0.916221        0.885568  0.827546   0.961062  0.800245\n",
      "    microF1  microRecall  microPrecision  microIoU\n",
      "0  0.961062     0.961062        0.961062  0.925043\n"
     ]
    }
   ],
   "source": [
    "print('Computing metrics')\n",
    "metrics_per_class_df, macro_average_metrics_df, micro_average_metrics_df = dl_inf.cm2metrics(global_cm, ignore_index=-1)\n",
    "metrics_per_class_df.rename(\n",
    "    index=dict([(i, l) for i, l in enumerate(DigitanieToulouseDs.labels.keys())]),\n",
    "    inplace=True\n",
    ")\n",
    "\n",
    "print(metrics_per_class_df)\n",
    "print(macro_average_metrics_df)\n",
    "print(micro_average_metrics_df)"
   ]
  },
  {
   "cell_type": "code",
   "execution_count": null,
   "id": "9a8f02b6-587d-4c97-a32e-9c99caf2baf4",
   "metadata": {},
   "outputs": [],
   "source": [
    "with pd.ExcelWriter(os.path.join(args.output_path, 'metrics.xlsx')) as writer:\n",
    "    metrics_per_class_df.to_excel(writer, sheet_name='metrics_per_class')\n",
    "    average_metrics_df.to_excel(writer, sheet_name='average_metrics')"
   ]
  }
 ],
 "metadata": {
  "kernelspec": {
   "display_name": "vre_venv",
   "language": "python",
   "name": "vre_venv"
  },
  "language_info": {
   "codemirror_mode": {
    "name": "ipython",
    "version": 3
   },
   "file_extension": ".py",
   "mimetype": "text/x-python",
   "name": "python",
   "nbconvert_exporter": "python",
   "pygments_lexer": "ipython3",
   "version": "3.8.10"
  }
 },
 "nbformat": 4,
 "nbformat_minor": 5
}
