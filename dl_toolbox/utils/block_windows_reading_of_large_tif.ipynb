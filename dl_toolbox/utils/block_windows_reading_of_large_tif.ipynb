{
 "cells": [
  {
   "cell_type": "code",
   "execution_count": 1,
   "id": "6c8c87ea-8382-44fd-a167-57fa35bfe199",
   "metadata": {
    "tags": []
   },
   "outputs": [],
   "source": [
    "import rasterio\n",
    "\n",
    "img = '/work/AI4GEO/data/DATA/PROCESSED/PHR/COG/16bits/BUENOS-AIRES_20181216_T_16bits_COG.tif'\n",
    "img = '/data/SemCity-Toulouse-bench/img_multispec_05/TLS_BDSD_M/TLS_BDSD_M_01.tif'\n",
    "img = '/work/AI4GEO/data/DATA/SENSOR/PNEO/SRP_Refined/TOULOUSE_20220919_S/ORTHOS/ORT_PN4PX-2022091939322709CP.tif'\n",
    "img = '/data/AIRS/trainval/train/image/christchurch_11.tif'\n",
    "img = '/work/AI4GEO/data/DATA/DATASETS/DIGITANIE_v4/TOULOUSE/TOULOUSE_20130924_16bits_COG_0.tif'"
   ]
  },
  {
   "cell_type": "code",
   "execution_count": 2,
   "id": "f172bce4-dcbd-41a1-8d93-cb318d4e5e3f",
   "metadata": {
    "tags": []
   },
   "outputs": [],
   "source": [
    "with rasterio.open(img) as dataset:\n",
    "    a = next(dataset.block_windows())\n"
   ]
  },
  {
   "cell_type": "code",
   "execution_count": 3,
   "id": "0a7f7f37-4f97-4f2c-be9d-bf7e7a6e1307",
   "metadata": {
    "tags": []
   },
   "outputs": [
    {
     "name": "stdout",
     "output_type": "stream",
     "text": [
      "((0, 0), Window(col_off=0, row_off=0, width=512, height=512))\n"
     ]
    }
   ],
   "source": [
    "print(a)"
   ]
  },
  {
   "cell_type": "code",
   "execution_count": null,
   "id": "42aea584-ed61-4fa6-9bb9-69fd2fd961c0",
   "metadata": {},
   "outputs": [],
   "source": []
  }
 ],
 "metadata": {
  "kernelspec": {
   "display_name": "dltoolbox",
   "language": "python",
   "name": "dltoolbox"
  },
  "language_info": {
   "codemirror_mode": {
    "name": "ipython",
    "version": 3
   },
   "file_extension": ".py",
   "mimetype": "text/x-python",
   "name": "python",
   "nbconvert_exporter": "python",
   "pygments_lexer": "ipython3",
   "version": "3.8.4"
  }
 },
 "nbformat": 4,
 "nbformat_minor": 5
}
