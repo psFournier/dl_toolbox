{
 "cells": [
  {
   "cell_type": "code",
   "execution_count": 1,
   "id": "6c8c87ea-8382-44fd-a167-57fa35bfe199",
   "metadata": {},
   "outputs": [],
   "source": [
    "import rasterio\n",
    "\n",
    "img = '/work/AI4GEO/data/DATA/PROCESSED/PHR/COG/16bits/BUENOS-AIRES_20181216_T_16bits_COG.tif'"
   ]
  },
  {
   "cell_type": "code",
   "execution_count": 6,
   "id": "f172bce4-dcbd-41a1-8d93-cb318d4e5e3f",
   "metadata": {},
   "outputs": [
    {
     "name": "stdout",
     "output_type": "stream",
     "text": [
      "13120\n"
     ]
    }
   ],
   "source": [
    "with rasterio.open(img) as dataset:\n",
    "    print(len(list(dataset.block_windows())))\n"
   ]
  },
  {
   "cell_type": "code",
   "execution_count": null,
   "id": "0a7f7f37-4f97-4f2c-be9d-bf7e7a6e1307",
   "metadata": {},
   "outputs": [],
   "source": []
  }
 ],
 "metadata": {
  "kernelspec": {
   "display_name": "dltoolbox",
   "language": "python",
   "name": "dltoolbox"
  },
  "language_info": {
   "codemirror_mode": {
    "name": "ipython",
    "version": 3
   },
   "file_extension": ".py",
   "mimetype": "text/x-python",
   "name": "python",
   "nbconvert_exporter": "python",
   "pygments_lexer": "ipython3",
   "version": "3.8.4"
  }
 },
 "nbformat": 4,
 "nbformat_minor": 5
}
