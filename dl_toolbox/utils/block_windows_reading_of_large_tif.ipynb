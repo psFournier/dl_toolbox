{
 "cells": [
  {
   "cell_type": "code",
   "execution_count": 8,
   "id": "6c8c87ea-8382-44fd-a167-57fa35bfe199",
   "metadata": {
    "tags": []
   },
   "outputs": [],
   "source": [
    "import rasterio\n",
    "\n",
    "img = '/work/AI4GEO/data/DATA/PROCESSED/PHR/COG/16bits/BUENOS-AIRES_20181216_T_16bits_COG.tif'\n",
    "img = '/data/SemCity-Toulouse-bench/img_multispec_05/TLS_BDSD_M/TLS_BDSD_M_01.tif'\n",
    "#img = '/work/AI4GEO/data/DATA/SENSOR/PNEO/SRP_Refined/TOULOUSE_20220919_S/ORTHOS/ORT_PN4PX-2022091939322709CP.tif'\n",
    "#img = '/data/AIRS/trainval/train/image/christchurch_11.tif'\n",
    "#img = '/data/DIGITANIE_v4/TOULOUSE/TOULOUSE_20130924_16bits_COG_0.tif'"
   ]
  },
  {
   "cell_type": "code",
   "execution_count": 11,
   "id": "f172bce4-dcbd-41a1-8d93-cb318d4e5e3f",
   "metadata": {
    "tags": []
   },
   "outputs": [
    {
     "name": "stdout",
     "output_type": "stream",
     "text": [
      "((0, 0), Window(col_off=0, row_off=0, width=352, height=352)) ((0, 1), Window(col_off=352, row_off=0, width=352, height=352)) ((0, 2), Window(col_off=704, row_off=0, width=352, height=352)) ((0, 3), Window(col_off=1056, row_off=0, width=352, height=352)) ((0, 4), Window(col_off=1408, row_off=0, width=352, height=352)) ((0, 5), Window(col_off=1760, row_off=0, width=352, height=352)) ((0, 6), Window(col_off=2112, row_off=0, width=352, height=352)) ((0, 7), Window(col_off=2464, row_off=0, width=352, height=352)) ((0, 8), Window(col_off=2816, row_off=0, width=352, height=352)) ((0, 9), Window(col_off=3168, row_off=0, width=336, height=352)) ((1, 0), Window(col_off=0, row_off=352, width=352, height=352)) ((1, 1), Window(col_off=352, row_off=352, width=352, height=352)) ((1, 2), Window(col_off=704, row_off=352, width=352, height=352)) ((1, 3), Window(col_off=1056, row_off=352, width=352, height=352)) ((1, 4), Window(col_off=1408, row_off=352, width=352, height=352)) ((1, 5), Window(col_off=1760, row_off=352, width=352, height=352)) ((1, 6), Window(col_off=2112, row_off=352, width=352, height=352)) ((1, 7), Window(col_off=2464, row_off=352, width=352, height=352)) ((1, 8), Window(col_off=2816, row_off=352, width=352, height=352)) ((1, 9), Window(col_off=3168, row_off=352, width=336, height=352)) ((2, 0), Window(col_off=0, row_off=704, width=352, height=352)) ((2, 1), Window(col_off=352, row_off=704, width=352, height=352)) ((2, 2), Window(col_off=704, row_off=704, width=352, height=352)) ((2, 3), Window(col_off=1056, row_off=704, width=352, height=352)) ((2, 4), Window(col_off=1408, row_off=704, width=352, height=352)) ((2, 5), Window(col_off=1760, row_off=704, width=352, height=352)) ((2, 6), Window(col_off=2112, row_off=704, width=352, height=352)) ((2, 7), Window(col_off=2464, row_off=704, width=352, height=352)) ((2, 8), Window(col_off=2816, row_off=704, width=352, height=352)) ((2, 9), Window(col_off=3168, row_off=704, width=336, height=352)) ((3, 0), Window(col_off=0, row_off=1056, width=352, height=352)) ((3, 1), Window(col_off=352, row_off=1056, width=352, height=352)) ((3, 2), Window(col_off=704, row_off=1056, width=352, height=352)) ((3, 3), Window(col_off=1056, row_off=1056, width=352, height=352)) ((3, 4), Window(col_off=1408, row_off=1056, width=352, height=352)) ((3, 5), Window(col_off=1760, row_off=1056, width=352, height=352)) ((3, 6), Window(col_off=2112, row_off=1056, width=352, height=352)) ((3, 7), Window(col_off=2464, row_off=1056, width=352, height=352)) ((3, 8), Window(col_off=2816, row_off=1056, width=352, height=352)) ((3, 9), Window(col_off=3168, row_off=1056, width=336, height=352)) ((4, 0), Window(col_off=0, row_off=1408, width=352, height=352)) ((4, 1), Window(col_off=352, row_off=1408, width=352, height=352)) ((4, 2), Window(col_off=704, row_off=1408, width=352, height=352)) ((4, 3), Window(col_off=1056, row_off=1408, width=352, height=352)) ((4, 4), Window(col_off=1408, row_off=1408, width=352, height=352)) ((4, 5), Window(col_off=1760, row_off=1408, width=352, height=352)) ((4, 6), Window(col_off=2112, row_off=1408, width=352, height=352)) ((4, 7), Window(col_off=2464, row_off=1408, width=352, height=352)) ((4, 8), Window(col_off=2816, row_off=1408, width=352, height=352)) ((4, 9), Window(col_off=3168, row_off=1408, width=336, height=352)) ((5, 0), Window(col_off=0, row_off=1760, width=352, height=352)) ((5, 1), Window(col_off=352, row_off=1760, width=352, height=352)) ((5, 2), Window(col_off=704, row_off=1760, width=352, height=352)) ((5, 3), Window(col_off=1056, row_off=1760, width=352, height=352)) ((5, 4), Window(col_off=1408, row_off=1760, width=352, height=352)) ((5, 5), Window(col_off=1760, row_off=1760, width=352, height=352)) ((5, 6), Window(col_off=2112, row_off=1760, width=352, height=352)) ((5, 7), Window(col_off=2464, row_off=1760, width=352, height=352)) ((5, 8), Window(col_off=2816, row_off=1760, width=352, height=352)) ((5, 9), Window(col_off=3168, row_off=1760, width=336, height=352)) ((6, 0), Window(col_off=0, row_off=2112, width=352, height=352)) ((6, 1), Window(col_off=352, row_off=2112, width=352, height=352)) ((6, 2), Window(col_off=704, row_off=2112, width=352, height=352)) ((6, 3), Window(col_off=1056, row_off=2112, width=352, height=352)) ((6, 4), Window(col_off=1408, row_off=2112, width=352, height=352)) ((6, 5), Window(col_off=1760, row_off=2112, width=352, height=352)) ((6, 6), Window(col_off=2112, row_off=2112, width=352, height=352)) ((6, 7), Window(col_off=2464, row_off=2112, width=352, height=352)) ((6, 8), Window(col_off=2816, row_off=2112, width=352, height=352)) ((6, 9), Window(col_off=3168, row_off=2112, width=336, height=352)) ((7, 0), Window(col_off=0, row_off=2464, width=352, height=352)) ((7, 1), Window(col_off=352, row_off=2464, width=352, height=352)) ((7, 2), Window(col_off=704, row_off=2464, width=352, height=352)) ((7, 3), Window(col_off=1056, row_off=2464, width=352, height=352)) ((7, 4), Window(col_off=1408, row_off=2464, width=352, height=352)) ((7, 5), Window(col_off=1760, row_off=2464, width=352, height=352)) ((7, 6), Window(col_off=2112, row_off=2464, width=352, height=352)) ((7, 7), Window(col_off=2464, row_off=2464, width=352, height=352)) ((7, 8), Window(col_off=2816, row_off=2464, width=352, height=352)) ((7, 9), Window(col_off=3168, row_off=2464, width=336, height=352)) ((8, 0), Window(col_off=0, row_off=2816, width=352, height=352)) ((8, 1), Window(col_off=352, row_off=2816, width=352, height=352)) ((8, 2), Window(col_off=704, row_off=2816, width=352, height=352)) ((8, 3), Window(col_off=1056, row_off=2816, width=352, height=352)) ((8, 4), Window(col_off=1408, row_off=2816, width=352, height=352)) ((8, 5), Window(col_off=1760, row_off=2816, width=352, height=352)) ((8, 6), Window(col_off=2112, row_off=2816, width=352, height=352)) ((8, 7), Window(col_off=2464, row_off=2816, width=352, height=352)) ((8, 8), Window(col_off=2816, row_off=2816, width=352, height=352)) ((8, 9), Window(col_off=3168, row_off=2816, width=336, height=352)) ((9, 0), Window(col_off=0, row_off=3168, width=352, height=284)) ((9, 1), Window(col_off=352, row_off=3168, width=352, height=284)) ((9, 2), Window(col_off=704, row_off=3168, width=352, height=284)) ((9, 3), Window(col_off=1056, row_off=3168, width=352, height=284)) ((9, 4), Window(col_off=1408, row_off=3168, width=352, height=284)) ((9, 5), Window(col_off=1760, row_off=3168, width=352, height=284)) ((9, 6), Window(col_off=2112, row_off=3168, width=352, height=284)) ((9, 7), Window(col_off=2464, row_off=3168, width=352, height=284)) ((9, 8), Window(col_off=2816, row_off=3168, width=352, height=284)) ((9, 9), Window(col_off=3168, row_off=3168, width=336, height=284))\n"
     ]
    }
   ],
   "source": [
    "with rasterio.open(img) as dataset:\n",
    "    print(*dataset.block_windows())\n",
    "    "
   ]
  },
  {
   "cell_type": "code",
   "execution_count": 10,
   "id": "0a7f7f37-4f97-4f2c-be9d-bf7e7a6e1307",
   "metadata": {
    "tags": []
   },
   "outputs": [
    {
     "name": "stdout",
     "output_type": "stream",
     "text": [
      "((0, 0), Window(col_off=0, row_off=0, width=352, height=352))\n"
     ]
    }
   ],
   "source": [
    "print(a)"
   ]
  },
  {
   "cell_type": "markdown",
   "id": "80627e75-8b99-4c42-9fa0-89fe6107dc38",
   "metadata": {},
   "source": [
    "### "
   ]
  },
  {
   "cell_type": "code",
   "execution_count": null,
   "id": "a823f1c6-c2f5-460d-a092-ec62a30c4ff7",
   "metadata": {},
   "outputs": [],
   "source": []
  },
  {
   "cell_type": "code",
   "execution_count": null,
   "id": "584db15e-23a6-4f3a-86a1-a70b35cf186a",
   "metadata": {},
   "outputs": [],
   "source": []
  }
 ],
 "metadata": {
  "kernelspec": {
   "display_name": "dl_toolbox_venv",
   "language": "python",
   "name": "dl_toolbox_venv"
  },
  "language_info": {
   "codemirror_mode": {
    "name": "ipython",
    "version": 3
   },
   "file_extension": ".py",
   "mimetype": "text/x-python",
   "name": "python",
   "nbconvert_exporter": "python",
   "pygments_lexer": "ipython3",
   "version": "3.8.10"
  }
 },
 "nbformat": 4,
 "nbformat_minor": 5
}
