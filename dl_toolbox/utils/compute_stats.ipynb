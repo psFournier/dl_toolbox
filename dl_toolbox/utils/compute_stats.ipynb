{
 "cells": [
  {
   "cell_type": "code",
   "execution_count": 1,
   "id": "8aea571d-360d-496d-a403-d904b51524e9",
   "metadata": {
    "tags": []
   },
   "outputs": [],
   "source": [
    "import rasterstats\n",
    "import rasterio"
   ]
  },
  {
   "cell_type": "code",
   "execution_count": 2,
   "id": "2ae0e051-439c-44d3-ac67-267e9cacfd0d",
   "metadata": {
    "tags": []
   },
   "outputs": [],
   "source": [
    "import shapely\n",
    "\n",
    "DATA_POLYGON = shapely.Polygon(\n",
    "    [[359326,4833160],\n",
    "     [376735,4842547],\n",
    "     [385238,4826271],\n",
    "     [367914,4816946],\n",
    "     [359326,4833160]]\n",
    ")"
   ]
  },
  {
   "cell_type": "code",
   "execution_count": 3,
   "id": "546875e9-417d-4011-b5f7-0aedd7b25a8c",
   "metadata": {
    "tags": []
   },
   "outputs": [],
   "source": [
    "#zonal_stats(\n",
    "#    DATA_POLYGON, \n",
    "#    \"/data/DIGITANIE/Toulouse/Toulouse.tif\",\n",
    "#    stats=\"count min mean max median\"\n",
    "#)"
   ]
  },
  {
   "cell_type": "code",
   "execution_count": 4,
   "id": "cfcbb8a1-ca63-4053-8c9f-80646089125f",
   "metadata": {
    "tags": []
   },
   "outputs": [],
   "source": [
    "def generate_polygon(bbox):\n",
    "    \"\"\"\n",
    "    Generates a list of coordinates: [[x1,y1],[x2,y2],[x3,y3],[x4,y4],[x1,y1]]\n",
    "    \"\"\"\n",
    "    return [[bbox[0],bbox[1]],\n",
    "             [bbox[2],bbox[1]],\n",
    "             [bbox[2],bbox[3]],\n",
    "             [bbox[0],bbox[3]],\n",
    "             [bbox[0],bbox[1]]]"
   ]
  },
  {
   "cell_type": "code",
   "execution_count": 16,
   "id": "9849d7c3-3c3c-41c8-be32-84a1727404b1",
   "metadata": {
    "tags": []
   },
   "outputs": [
    {
     "name": "stdout",
     "output_type": "stream",
     "text": [
      "False\n",
      "False\n",
      "False\n",
      "False\n",
      "False\n",
      "False\n",
      "False\n",
      "False\n",
      "False\n",
      "False\n",
      "False\n",
      "False\n",
      "False\n",
      "True\n",
      "[0.09849199 0.10335866 0.11288217 0.21531706]\n",
      "[0.10470457 0.10885551 0.11775978 0.21399323]\n",
      "[0.10903376 0.11242765 0.12168191 0.20664583]\n",
      "[0.10844705 0.11138627 0.12069001 0.20740956]\n",
      "[0.10557562 0.10966521 0.11909904 0.20698276]\n",
      "[0.10710744 0.11109315 0.12032198 0.20756214]\n",
      "[0.11020168 0.11371848 0.1227758  0.2059096 ]\n",
      "[0.11283427 0.11598756 0.12498699 0.20361528]\n",
      "[0.11156363 0.11483422 0.12402334 0.20355269]\n",
      "[0.1106208  0.11421487 0.12348139 0.20388228]\n",
      "[0.10903827 0.11329056 0.12251379 0.20506695]\n",
      "[0.10861864 0.1129546  0.12211177 0.20540509]\n",
      "[0.10802666 0.11251532 0.12180922 0.20359494]\n",
      "[0.10809964 0.11251282 0.12184742 0.20328178]\n",
      "[0.10789525 0.11236557 0.12185172 0.20181251]\n",
      "[0.1078277  0.11238775 0.12180501 0.20202577]\n",
      "[0.10830327 0.11284892 0.12225782 0.20118916]\n",
      "[0.10843413 0.11267972 0.12215294 0.19965764]\n",
      "[0.10836564 0.11236478 0.12190191 0.1976699 ]\n",
      "[0.10763204 0.1118677  0.12150295 0.19698699]\n",
      "[0.10718439 0.11163169 0.12118181 0.19843401]\n",
      "[0.10714771 0.11166119 0.12119749 0.1982959 ]\n",
      "[0.10716832 0.11151742 0.12106984 0.19745182]\n",
      "[0.10703359 0.11119851 0.12077687 0.1969372 ]\n",
      "[0.10686468 0.11111248 0.12071246 0.19698543]\n",
      "[0.10686468 0.11111248 0.12071246 0.19698543]\n"
     ]
    }
   ],
   "source": [
    "import numpy as np\n",
    "from dl_toolbox.utils import get_tiles\n",
    "with rasterio.open(\"/data/DIGITANIE/Toulouse/Toulouse.tif\") as f:\n",
    "    h,w = f.shape\n",
    "    full_in = False\n",
    "    n = 0\n",
    "    while not full_in:\n",
    "        crop = rasterio.windows.Window(n, n, h-2*n, w-2*n)                            \n",
    "        left, bottom, right, top = rasterio.windows.bounds(\n",
    "            crop,\n",
    "            transform=f.transform\n",
    "        )\n",
    "        crop_poly = shapely.Polygon(generate_polygon((left, bottom, right, top)))\n",
    "        inter = shapely.intersection(crop_poly, DATA_POLYGON)\n",
    "        area = shapely.area(inter) / shapely.area(crop_poly)\n",
    "        full_in = (area>=.99)\n",
    "        print(full_in)\n",
    "        n += 1000\n",
    "    n -= 1000\n",
    "    mean = np.array([0,0,0,0], dtype=np.float64)\n",
    "    i = 1\n",
    "    for tile in get_tiles(w-2*n, h-2*n, 5000, col_offset=n, row_offset=n, cover_all=False):\n",
    "        tile_img = f.read(window=tile)\n",
    "        tile_mean = np.mean(tile_img, axis=(1,2))\n",
    "        mean += (tile_mean - mean) / i\n",
    "        i += 1\n",
    "        print(mean)\n",
    "    print(mean)\n",
    "    #print(crop_img.shape)"
   ]
  },
  {
   "cell_type": "code",
   "execution_count": 5,
   "id": "bb56c9da-c1a6-43bc-a146-de1a3457d876",
   "metadata": {
    "tags": []
   },
   "outputs": [
    {
     "name": "stdout",
     "output_type": "stream",
     "text": [
      "Statistics(min=0.0, max=1.1007251739502, mean=0.061889644308635, std=0.061194959199135)\n",
      "(54062, 55600)\n"
     ]
    }
   ],
   "source": [
    "with rasterio.open(\"/data/DIGITANIE/Toulouse/Toulouse.tif\") as f:\n",
    "    print(f.statistics(1, approx=True))\n",
    "    print(f.shape)"
   ]
  },
  {
   "cell_type": "code",
   "execution_count": 12,
   "id": "5218794a-8123-41fe-86ad-2292e374cd1a",
   "metadata": {
    "tags": []
   },
   "outputs": [
    {
     "name": "stdout",
     "output_type": "stream",
     "text": [
      "(4, 5406, 5560)\n",
      "[{'min': 0.027740102261304855, 'max': 1.0329269170761108, 'mean': 0.10590577293649074, 'count': 14482283, 'median': 0.09561806917190552}]\n",
      "[{'min': 0.04800046235322952, 'max': 0.9886831045150757, 'mean': 0.11046101122316143, 'count': 14482283, 'median': 0.10330308228731155}]\n",
      "[{'min': 0.07036241143941879, 'max': 0.9419602751731873, 'mean': 0.11877787155519609, 'count': 14482283, 'median': 0.11214419454336166}]\n",
      "[{'min': 0.01943548023700714, 'max': 1.0317635536193848, 'mean': 0.2077604235464809, 'count': 14482283, 'median': 0.21003715693950653}]\n"
     ]
    }
   ],
   "source": [
    "import rasterio\n",
    "from rasterio.enums import Resampling\n",
    "from rasterstats import zonal_stats\n",
    "\n",
    "scale_factor = 1/10\n",
    "\n",
    "with rasterio.open(\"/data/DIGITANIE/Toulouse/Toulouse.tif\") as dataset:\n",
    "\n",
    "    # resample data to target shape\n",
    "    data = dataset.read(\n",
    "        out_shape=(\n",
    "            dataset.count,\n",
    "            int(dataset.height * scale_factor),\n",
    "            int(dataset.width * scale_factor)\n",
    "        ),\n",
    "        resampling=Resampling.bilinear\n",
    "    )\n",
    "\n",
    "    # scale image transform\n",
    "    transform = dataset.transform * dataset.transform.scale(\n",
    "        (dataset.width / data.shape[-1]),\n",
    "        (dataset.height / data.shape[-2])\n",
    "    )\n",
    "    \n",
    "print(data.shape)\n",
    "for band in range(1, 5):\n",
    "    print(zonal_stats(\n",
    "        DATA_POLYGON, \n",
    "        data[band-1],\n",
    "        stats=\"count min mean max median\",\n",
    "        affine=transform,\n",
    "        band_num=band\n",
    "    ))"
   ]
  },
  {
   "cell_type": "code",
   "execution_count": 9,
   "id": "90401b65-f0e4-449c-b26c-f72f6278dad8",
   "metadata": {
    "tags": []
   },
   "outputs": [
    {
     "data": {
      "text/plain": [
       "[{'min': 0.027740102261304855,\n",
       "  'max': 1.0329269170761108,\n",
       "  'mean': 0.10590577293649074,\n",
       "  'count': 14482283,\n",
       "  'median': 0.09561806917190552}]"
      ]
     },
     "execution_count": 9,
     "metadata": {},
     "output_type": "execute_result"
    }
   ],
   "source": []
  },
  {
   "cell_type": "code",
   "execution_count": null,
   "id": "507787ed-2112-41cc-8dc2-2327e4d6a0eb",
   "metadata": {},
   "outputs": [],
   "source": []
  }
 ],
 "metadata": {
  "kernelspec": {
   "display_name": "dl_toolbox_venv",
   "language": "python",
   "name": "dl_toolbox_venv"
  },
  "language_info": {
   "codemirror_mode": {
    "name": "ipython",
    "version": 3
   },
   "file_extension": ".py",
   "mimetype": "text/x-python",
   "name": "python",
   "nbconvert_exporter": "python",
   "pygments_lexer": "ipython3",
   "version": "3.8.10"
  }
 },
 "nbformat": 4,
 "nbformat_minor": 5
}
