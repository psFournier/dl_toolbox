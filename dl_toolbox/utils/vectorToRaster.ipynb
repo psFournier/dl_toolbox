{
 "cells": [
  {
   "cell_type": "code",
   "execution_count": 15,
   "id": "caa33986-4aa2-4ea9-8e95-61bde1e6147c",
   "metadata": {},
   "outputs": [],
   "source": [
    "import fiona\n",
    "import rasterio\n",
    "import imagesize\n",
    "import numpy as np\n",
    "from rasterio.features import rasterize\n",
    "from fiona.transform import transform as f_transform\n",
    "\n",
    "base_dir = '/work/OT/ai4geo/DATA/DATASETS/DIGITANIE'\n",
    "tile_shp = fiona.open(base_dir+\"/Montpellier/shapefiles/Montpellier_0.shp\")\n",
    "big_raster = rasterio.open(base_dir+'/Montpellier/MONTPELLIER_20190912_T_TOA_reproj-EPSG:2154.tif')\n",
    "minx, miny, maxx, maxy = tile_shp.bounds\n",
    "(minx, maxx), (miny, maxy) = f_transform(tile_shp.crs, dict(big_raster.crs), [minx, maxx], [miny, maxy])\n",
    "w = rasterio.windows.from_bounds(minx, miny, maxx, maxy, transform=big_raster.transform)\n",
    "x = np.random.randint(w.col_off, w.col_off+w.width-2000+1)\n",
    "y = np.random.randint(w.row_off, w.row_off+w.height-2000+1)\n",
    "chip = rasterio.windows.Window(x, y, 2000, 2000)\n",
    "minx, miny, maxx, maxy = rasterio.windows.bounds(chip, transform=big_raster.transform)\n",
    "t = rasterio.transform.from_bounds(minx, miny, maxx, maxy, 2000, 2000)\n",
    "(minx, maxx), (miny, maxy) = f_transform(dict(big_raster.crs), tile_shp.crs, [minx, maxx], [miny, maxy])"
   ]
  },
  {
   "cell_type": "code",
   "execution_count": 21,
   "id": "3989233e-42c0-469f-a477-9ff950b6fcf4",
   "metadata": {},
   "outputs": [],
   "source": [
    "shapes_for_raster = [(s['geometry'], int(s['properties']['num_class'])) for s in tile_shp.filter(bbox=(minx, miny, maxx, maxy))]"
   ]
  },
  {
   "cell_type": "code",
   "execution_count": 22,
   "id": "eae89160-736d-40a5-891e-24c7a7125112",
   "metadata": {},
   "outputs": [
    {
     "name": "stdout",
     "output_type": "stream",
     "text": [
      "({'type': 'Polygon', 'coordinates': [[(772757.0688552876, 6277716.534484411), (772762.1978812575, 6277712.631964651), (772763.089885774, 6277713.858470861), (772772.3759126113, 6277705.354425231), (772772.5964619346, 6277705.152448482), (772773.6824394075, 6277704.157921744), (772764.873894807, 6277694.011370368), (772763.3093166724, 6277695.27950212), (772754.2813411736, 6277702.59691384), (772754.9282291353, 6277703.479033788), (772755.5078473837, 6277704.269422309), (772750.3788214138, 6277707.837440374), (772757.0688552876, 6277716.534484411)]]}, 4)\n"
     ]
    }
   ],
   "source": [
    "print(shapes_for_raster[0])"
   ]
  },
  {
   "cell_type": "code",
   "execution_count": 24,
   "id": "d167a089-4f62-472e-a23e-a31ed7dba401",
   "metadata": {},
   "outputs": [],
   "source": [
    "profile = big_raster.profile\n",
    "profile.update(dtype=rasterio.uint8, count=3, width=2000, height=2000, transform=t, compress='lzw')\n",
    "with rasterio.Env():\n",
    "    with rasterio.open('test.tif', 'w', **profile) as dst:\n",
    "        for i, att in enumerate(['num_class']):\n",
    "            shapes_for_raster = [(s['geometry'], int(s['properties'][att])) for s in tile_shp.filter(bbox=(minx, miny, maxx, maxy))]\n",
    "            masks = rasterize(shapes_for_raster, out_shape=(2000, 2000), transform=t)\n",
    "            dst.write(masks.astype(rasterio.uint8), i+1)"
   ]
  },
  {
   "cell_type": "code",
   "execution_count": null,
   "id": "68b9029d-9cf2-4cd4-a9d7-d4ceb5eba08c",
   "metadata": {},
   "outputs": [],
   "source": []
  }
 ],
 "metadata": {
  "kernelspec": {
   "display_name": "vre_venv",
   "language": "python",
   "name": "vre_venv"
  },
  "language_info": {
   "codemirror_mode": {
    "name": "ipython",
    "version": 3
   },
   "file_extension": ".py",
   "mimetype": "text/x-python",
   "name": "python",
   "nbconvert_exporter": "python",
   "pygments_lexer": "ipython3",
   "version": "3.8.10"
  }
 },
 "nbformat": 4,
 "nbformat_minor": 5
}
