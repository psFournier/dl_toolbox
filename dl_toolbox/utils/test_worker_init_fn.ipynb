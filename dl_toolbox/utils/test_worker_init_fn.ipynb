{
 "cells": [
  {
   "cell_type": "code",
   "execution_count": 1,
   "id": "29c2a248-9095-4764-a1bc-0861afe7fa49",
   "metadata": {},
   "outputs": [
    {
     "name": "stdout",
     "output_type": "stream",
     "text": [
      "tensor([[583, 140, 570],\n",
      "        [271,  13, 703]])\n",
      "tensor([[591, 507, 123],\n",
      "        [785,  89, 347]])\n",
      "tensor([[789, 738,  61],\n",
      "        [930, 312, 449]])\n",
      "tensor([[384, 813, 552],\n",
      "        [464, 592, 927]])\n",
      "tensor([[968,  64, 776],\n",
      "        [830, 596, 623]])\n",
      "tensor([[694, 108, 986],\n",
      "        [955, 652, 539]])\n",
      "tensor([[164,  65, 927],\n",
      "        [310,  23, 558]])\n",
      "tensor([[499,  32, 417],\n",
      "        [921, 293, 215]])\n"
     ]
    }
   ],
   "source": [
    "import numpy as np\n",
    "from torch.utils.data import Dataset, DataLoader\n",
    "\n",
    "class RandomDataset(Dataset):\n",
    "    def __getitem__(self, index):\n",
    "        return np.random.randint(0, 1000, 3)\n",
    "\n",
    "    def __len__(self):\n",
    "        return 16\n",
    "    \n",
    "dataset = RandomDataset()\n",
    "dataloader = DataLoader(dataset, batch_size=2, num_workers=4)\n",
    "for batch in dataloader:\n",
    "    print(batch)"
   ]
  },
  {
   "cell_type": "code",
   "execution_count": null,
   "id": "dc71a0e4-222c-4d80-8507-4a93c6777abe",
   "metadata": {},
   "outputs": [],
   "source": []
  }
 ],
 "metadata": {
  "kernelspec": {
   "display_name": "venv",
   "language": "python",
   "name": "venv"
  },
  "language_info": {
   "codemirror_mode": {
    "name": "ipython",
    "version": 3
   },
   "file_extension": ".py",
   "mimetype": "text/x-python",
   "name": "python",
   "nbconvert_exporter": "python",
   "pygments_lexer": "ipython3",
   "version": "3.8.10"
  }
 },
 "nbformat": 4,
 "nbformat_minor": 5
}
