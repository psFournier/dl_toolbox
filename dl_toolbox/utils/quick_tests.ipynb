{
 "cells": [
  {
   "cell_type": "code",
   "execution_count": null,
   "id": "0af4173b-3ef0-4527-ba70-c0eda7ffe58e",
   "metadata": {
    "tags": []
   },
   "outputs": [],
   "source": [
    "from pathlib import Path\n",
    "path = Path('/data/DIGITANIE_v4/normalisation_stats.npy')\n",
    "import numpy as np\n",
    "stats = np.load(path, allow_pickle=True).item()"
   ]
  },
  {
   "cell_type": "code",
   "execution_count": null,
   "id": "963e2ff5-4106-4c30-bf40-b05ac8b4a669",
   "metadata": {
    "tags": []
   },
   "outputs": [],
   "source": [
    "stats['HELSINKI'.title()]"
   ]
  },
  {
   "cell_type": "code",
   "execution_count": null,
   "id": "3783a7ec-8eb8-4e20-89b0-7b97c06714dc",
   "metadata": {},
   "outputs": [],
   "source": [
    "c = 'BUENOS-AIRES'.title()"
   ]
  },
  {
   "cell_type": "code",
   "execution_count": null,
   "id": "21fa666c-772a-4f8d-8b87-f4958e025d9b",
   "metadata": {
    "tags": []
   },
   "outputs": [],
   "source": [
    "stats.keys()"
   ]
  },
  {
   "cell_type": "code",
   "execution_count": null,
   "id": "709e4a76-62f6-4947-b5dd-80b854549713",
   "metadata": {
    "tags": []
   },
   "outputs": [],
   "source": [
    "from pathlib import Path\n",
    "from itertools import product\n",
    "data_path = Path('/data')\n",
    "from dl_toolbox.utils import get_tiles\n",
    "def paths(num):\n",
    "    img_dir = data_path/'SemCity-Toulouse-bench/img_multispec_05/TLS_BDSD_RGB'\n",
    "    msk_dir = data_path/'SemCity-Toulouse-bench/semantic_05/TLS_indMap'\n",
    "    return img_dir/f'TLS_BDSD_RGB_{num:02}.tif', msk_dir/f'TLS_indMap_{num:02}_1.tif'\n",
    "test = [(*paths(num), t) for num in [6,11] for t in get_tiles(3504, 3452, 512)]\n",
    "val = [(*paths(7), t) for t in get_tiles(3504, 3452, 512)]\n",
    "train = [[*paths(num), t] for num in set(range(1, 17))-{6,7,11} for t in get_tiles(3504, 3452, 876, 863)]\n",
    "[list(t) for t in zip(*train)]"
   ]
  },
  {
   "cell_type": "code",
   "execution_count": null,
   "id": "86dde50e-f56f-4205-ab2f-9f34539393ef",
   "metadata": {},
   "outputs": [],
   "source": [
    "list(train)"
   ]
  },
  {
   "cell_type": "code",
   "execution_count": 9,
   "id": "e1667663-8549-427d-8b14-01d198b69d38",
   "metadata": {
    "tags": []
   },
   "outputs": [
    {
     "data": {
      "text/plain": [
       "torch.Size([1, 5, 10, 10])"
      ]
     },
     "execution_count": 9,
     "metadata": {},
     "output_type": "execute_result"
    }
   ],
   "source": [
    "import torch\n",
    "a = torch.randint(0,5, size=(1,10,10))\n",
    "b = torch.nn.functional.one_hot(a.unsqueeze(1), 5).transpose(1,-1).squeeze(-1)\n",
    "b.shape"
   ]
  },
  {
   "cell_type": "code",
   "execution_count": 4,
   "id": "a765a6df-643c-467d-92e8-99867aafc3e1",
   "metadata": {
    "tags": []
   },
   "outputs": [
    {
     "data": {
      "text/plain": [
       "169"
      ]
     },
     "execution_count": 4,
     "metadata": {},
     "output_type": "execute_result"
    }
   ],
   "source": [
    "from dl_toolbox.utils import get_tiles\n",
    "len(list(get_tiles(3504, 3452, 512, step_w=256)))"
   ]
  },
  {
   "cell_type": "code",
   "execution_count": 5,
   "id": "a2ca7810-18e4-49af-8fcf-05348b463757",
   "metadata": {
    "tags": []
   },
   "outputs": [
    {
     "data": {
      "text/plain": [
       "21"
      ]
     },
     "execution_count": 5,
     "metadata": {},
     "output_type": "execute_result"
    }
   ],
   "source": []
  },
  {
   "cell_type": "code",
   "execution_count": null,
   "id": "b86f4c9a-2bdd-49be-a27b-46ff85633ecd",
   "metadata": {},
   "outputs": [],
   "source": []
  }
 ],
 "metadata": {
  "kernelspec": {
   "display_name": "dl_toolbox_venv",
   "language": "python",
   "name": "dl_toolbox_venv"
  },
  "language_info": {
   "codemirror_mode": {
    "name": "ipython",
    "version": 3
   },
   "file_extension": ".py",
   "mimetype": "text/x-python",
   "name": "python",
   "nbconvert_exporter": "python",
   "pygments_lexer": "ipython3",
   "version": "3.8.10"
  }
 },
 "nbformat": 4,
 "nbformat_minor": 5
}
