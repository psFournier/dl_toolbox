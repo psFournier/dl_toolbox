{
 "cells": [
  {
   "cell_type": "code",
   "execution_count": 1,
   "id": "3e875ea6-0381-4332-a56d-9213159c2614",
   "metadata": {},
   "outputs": [
    {
     "name": "stdout",
     "output_type": "stream",
     "text": [
      "Band1 has shape (2048, 2048)\n",
      "lons shape (2048, 2048)\n"
     ]
    }
   ],
   "source": [
    "import rasterio\n",
    "import numpy as np\n",
    "file_name = '/work/OT/ai4geo/DATA/DATASETS/DIGITANIE/Biarritz/Biarritz_EPSG32630_1.tif'\n",
    "with rasterio.open(file_name) as src:\n",
    "    band1 = src.read(1)\n",
    "    print('Band1 has shape', band1.shape)\n",
    "    height = band1.shape[0]\n",
    "    width = band1.shape[1]\n",
    "    cols, rows = np.meshgrid(np.arange(width), np.arange(height))\n",
    "    xs, ys = rasterio.transform.xy(src.transform, rows, cols)\n",
    "    lons= np.array(xs)\n",
    "    lats = np.array(ys)\n",
    "    print('lons shape', lons.shape)"
   ]
  },
  {
   "cell_type": "code",
   "execution_count": 3,
   "id": "8cb4b012-aa55-4629-a856-47e3ccb0f04e",
   "metadata": {},
   "outputs": [
    {
     "name": "stdout",
     "output_type": "stream",
     "text": [
      "[[   0    1    2 ... 2045 2046 2047]\n",
      " [   0    1    2 ... 2045 2046 2047]\n",
      " [   0    1    2 ... 2045 2046 2047]\n",
      " ...\n",
      " [   0    1    2 ... 2045 2046 2047]\n",
      " [   0    1    2 ... 2045 2046 2047]\n",
      " [   0    1    2 ... 2045 2046 2047]]\n"
     ]
    }
   ],
   "source": [
    "print(cols)"
   ]
  },
  {
   "cell_type": "code",
   "execution_count": 2,
   "id": "b5934db9-4f0e-4c90-a6a7-400de428cabd",
   "metadata": {},
   "outputs": [
    {
     "data": {
      "text/plain": [
       "array([[620734.92797033, 620735.42763938, 620735.92730842, ...,\n",
       "        621756.75116902, 621757.25083806, 621757.75050711],\n",
       "       [620734.92797033, 620735.42763938, 620735.92730842, ...,\n",
       "        621756.75116902, 621757.25083806, 621757.75050711],\n",
       "       [620734.92797033, 620735.42763938, 620735.92730842, ...,\n",
       "        621756.75116902, 621757.25083806, 621757.75050711],\n",
       "       ...,\n",
       "       [620734.92797033, 620735.42763938, 620735.92730842, ...,\n",
       "        621756.75116902, 621757.25083806, 621757.75050711],\n",
       "       [620734.92797033, 620735.42763938, 620735.92730842, ...,\n",
       "        621756.75116902, 621757.25083806, 621757.75050711],\n",
       "       [620734.92797033, 620735.42763938, 620735.92730842, ...,\n",
       "        621756.75116902, 621757.25083806, 621757.75050711]])"
      ]
     },
     "execution_count": 2,
     "metadata": {},
     "output_type": "execute_result"
    }
   ],
   "source": [
    "lons"
   ]
  },
  {
   "cell_type": "code",
   "execution_count": 1,
   "id": "0ea16711-c4a8-452e-a1ee-d1781e46438e",
   "metadata": {},
   "outputs": [],
   "source": [
    "import rasterio\n",
    "\n",
    "def read_window_from_big_raster(window, path, raster_path):\n",
    "    with rasterio.open(path) as image_file:\n",
    "        with rasterio.open(raster_path) as raster_file:\n",
    "            left, bottom, right, top = rasterio.windows.bounds(\n",
    "                window, \n",
    "                transform=image_file.transform\n",
    "            )\n",
    "            rw = rasterio.windows.from_bounds(\n",
    "                left, bottom, right, top, \n",
    "                transform=raster_file.transform\n",
    "            )\n",
    "            image = raster_file.read(\n",
    "                window=rw, \n",
    "                out_dtype=np.float32\n",
    "            )\n",
    "    return image"
   ]
  },
  {
   "cell_type": "code",
   "execution_count": 43,
   "id": "f18c74ff-4105-481b-a5e5-b3d1fc07dd5c",
   "metadata": {},
   "outputs": [],
   "source": [
    "from rasterio.windows import Window\n",
    "import numpy as np\n",
    "window = Window(0, 0, 10000, 10000)\n",
    "path = p+f'/Biarritz_EPSG32630_9.tif'\n",
    "big_path = p+'/BIARRITZ_20140902_T_TOA_reproj-EPSG:32630.tif'\n",
    "img = read_window_from_big_raster(window, path, big_path)"
   ]
  },
  {
   "cell_type": "code",
   "execution_count": 44,
   "id": "73c3cf10-fcad-4ecb-ab1b-2463a29cb140",
   "metadata": {},
   "outputs": [],
   "source": [
    "def read_window_basic(window, path):\n",
    "    with rasterio.open(path) as image_file:\n",
    "        image = image_file.read(window=window, out_dtype=np.float32)\n",
    "    return image"
   ]
  },
  {
   "cell_type": "code",
   "execution_count": 50,
   "id": "f4a349b1-0661-4beb-8788-c328dc8796cf",
   "metadata": {},
   "outputs": [],
   "source": [
    "window = Window(0, 0, 10000, 10000)\n",
    "img2 = read_window_basic(window,big_path)"
   ]
  },
  {
   "cell_type": "code",
   "execution_count": 51,
   "id": "ba333a3b-f426-45b8-971c-7f57649a2ec5",
   "metadata": {},
   "outputs": [
    {
     "data": {
      "text/plain": [
       "(4, 10000, 10000)"
      ]
     },
     "execution_count": 51,
     "metadata": {},
     "output_type": "execute_result"
    }
   ],
   "source": [
    "img2.shape"
   ]
  },
  {
   "cell_type": "code",
   "execution_count": 1,
   "id": "15e7b6f1-2bfd-4277-9180-354823f8b4d8",
   "metadata": {},
   "outputs": [
    {
     "name": "stdout",
     "output_type": "stream",
     "text": [
      "<open DatasetReader name='/work/OT/ai4usr/fournip/digitanie/Toulouse/toulouse_full_tiled.tif' mode='r'>\n"
     ]
    }
   ],
   "source": [
    "import rasterio\n",
    "p = '/work/OT/ai4usr/fournip/digitanie/Toulouse/toulouse_full_tiled.tif'\n",
    "ds = rasterio.open(p)\n",
    "print(ds)"
   ]
  },
  {
   "cell_type": "code",
   "execution_count": 2,
   "id": "2bed089e-da60-4e12-844e-1ccc6570633f",
   "metadata": {},
   "outputs": [],
   "source": [
    "a = ds.statistics(bidx=1)"
   ]
  },
  {
   "cell_type": "code",
   "execution_count": 3,
   "id": "77b25969-3068-41ab-a369-50005600c0ad",
   "metadata": {},
   "outputs": [
    {
     "data": {
      "text/plain": [
       "Statistics(min=-0.0029133798088878393, max=1.5431257486343384, mean=0.09988372604258908, std=0.05581474629124038)"
      ]
     },
     "execution_count": 3,
     "metadata": {},
     "output_type": "execute_result"
    }
   ],
   "source": [
    "a"
   ]
  },
  {
   "cell_type": "code",
   "execution_count": 4,
   "id": "b4c80371-2428-4a0d-94bd-4eeb10ba24e8",
   "metadata": {},
   "outputs": [
    {
     "data": {
      "text/plain": [
       "-0.0029133798088878393"
      ]
     },
     "execution_count": 4,
     "metadata": {},
     "output_type": "execute_result"
    }
   ],
   "source": [
    "a.min"
   ]
  },
  {
   "cell_type": "code",
   "execution_count": null,
   "id": "0af4173b-3ef0-4527-ba70-c0eda7ffe58e",
   "metadata": {},
   "outputs": [],
   "source": []
  }
 ],
 "metadata": {
  "kernelspec": {
   "display_name": "latest",
   "language": "python",
   "name": "latest"
  },
  "language_info": {
   "codemirror_mode": {
    "name": "ipython",
    "version": 3
   },
   "file_extension": ".py",
   "mimetype": "text/x-python",
   "name": "python",
   "nbconvert_exporter": "python",
   "pygments_lexer": "ipython3",
   "version": "3.8.4"
  }
 },
 "nbformat": 4,
 "nbformat_minor": 5
}
