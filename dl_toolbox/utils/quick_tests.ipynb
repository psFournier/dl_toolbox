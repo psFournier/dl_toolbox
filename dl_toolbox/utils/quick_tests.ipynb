{
 "cells": [
  {
   "cell_type": "code",
   "execution_count": 24,
   "id": "0af4173b-3ef0-4527-ba70-c0eda7ffe58e",
   "metadata": {
    "tags": []
   },
   "outputs": [],
   "source": [
    "from pathlib import Path\n",
    "path = Path('/data/DIGITANIE_v4/normalisation_stats.npy')\n",
    "import numpy as np\n",
    "stats = np.load(path, allow_pickle=True).item()"
   ]
  },
  {
   "cell_type": "code",
   "execution_count": 26,
   "id": "963e2ff5-4106-4c30-bf40-b05ac8b4a669",
   "metadata": {
    "tags": []
   },
   "outputs": [
    {
     "data": {
      "text/plain": [
       "{'mean': array([399.75224581, 568.22127573, 513.3289946 , 794.80494907]),\n",
       " 'std': array([ 507.90247899,  420.33246958,  329.08664137, 1094.20216753]),\n",
       " 'perc_2': array([117., 248., 243.,  84.]),\n",
       " 'perc_98': array([2355., 2020., 1599., 3778.]),\n",
       " 'mean_clip': array([384.33698218, 554.41821743, 503.13296748, 785.34202384]),\n",
       " 'std_clip': array([ 419.96037018,  339.06449895,  264.49784969, 1062.69335525]),\n",
       " 'perc_995': array([3505., 2987., 2230., 4379.]),\n",
       " 'mean_clip995': array([397.54310305, 565.20022728, 509.85630767, 792.07991096]),\n",
       " 'std_clip995': array([ 491.13929391,  395.69034571,  300.04755905, 1083.31749887])}"
      ]
     },
     "execution_count": 26,
     "metadata": {},
     "output_type": "execute_result"
    }
   ],
   "source": [
    "stats['Arcachon']"
   ]
  },
  {
   "cell_type": "code",
   "execution_count": null,
   "id": "3783a7ec-8eb8-4e20-89b0-7b97c06714dc",
   "metadata": {},
   "outputs": [],
   "source": []
  }
 ],
 "metadata": {
  "kernelspec": {
   "display_name": "dl_toolbox_venv",
   "language": "python",
   "name": "dl_toolbox_venv"
  },
  "language_info": {
   "codemirror_mode": {
    "name": "ipython",
    "version": 3
   },
   "file_extension": ".py",
   "mimetype": "text/x-python",
   "name": "python",
   "nbconvert_exporter": "python",
   "pygments_lexer": "ipython3",
   "version": "3.8.10"
  }
 },
 "nbformat": 4,
 "nbformat_minor": 5
}
