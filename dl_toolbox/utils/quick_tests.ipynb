{
 "cells": [
  {
   "cell_type": "code",
   "execution_count": 2,
   "id": "3e875ea6-0381-4332-a56d-9213159c2614",
   "metadata": {
    "tags": []
   },
   "outputs": [
    {
     "name": "stdout",
     "output_type": "stream",
     "text": [
      "{'driver': 'GTiff', 'dtype': 'float32', 'nodata': None, 'width': 2048, 'height': 2048, 'count': 4, 'crs': CRS.from_epsg(32630), 'transform': Affine(0.4996690458118865, 0.0, 620734.67813581,\n",
      "       0.0, -0.4996690458118865, 4816930.568377791)}\n",
      "Band1 has shape (2048, 2048)\n",
      "lons shape (2048, 2048)\n"
     ]
    }
   ],
   "source": [
    "import rasterio\n",
    "import numpy as np\n",
    "file_name = '/work/OT/ai4geo/DATA/DATASETS/DIGITANIE/Biarritz/Biarritz_EPSG32630_1.tif'\n",
    "file_name = '/data/DIGITANIE/Biarritz/Biarritz_EPSG32630_1.tif'\n",
    "with rasterio.open(file_name) as src:\n",
    "    print(src.meta)\n",
    "    band1 = src.read(1)\n",
    "    print('Band1 has shape', band1.shape)\n",
    "    height = band1.shape[0]\n",
    "    width = band1.shape[1]\n",
    "    cols, rows = np.meshgrid(np.arange(width), np.arange(height))\n",
    "    xs, ys = rasterio.transform.xy(src.transform, rows, cols)\n",
    "    lons= np.array(xs)\n",
    "    lats = np.array(ys)\n",
    "    print('lons shape', lons.shape)"
   ]
  },
  {
   "cell_type": "code",
   "execution_count": 3,
   "id": "8d6ad260-1375-4743-b74d-a7ab1ba5a8c7",
   "metadata": {
    "tags": []
   },
   "outputs": [],
   "source": [
    "lons = lons[:100, :100]\n",
    "lats = lats[:100, :100]"
   ]
  },
  {
   "cell_type": "code",
   "execution_count": 4,
   "id": "8cb4b012-aa55-4629-a856-47e3ccb0f04e",
   "metadata": {
    "tags": []
   },
   "outputs": [
    {
     "name": "stderr",
     "output_type": "stream",
     "text": [
      "/d/pfournie/dl_toolbox/venv/lib/python3.8/site-packages/pyproj/crs/crs.py:141: FutureWarning: '+init=<authority>:<code>' syntax is deprecated. '<authority>:<code>' is the preferred initialization method. When making the change, be mindful of axis order changes: https://pyproj4.github.io/pyproj/stable/gotchas.html#axis-order-changes-in-proj-6\n",
      "  in_crs_string = _prepare_from_proj_string(in_crs_string)\n",
      "/d/pfournie/dl_toolbox/venv/lib/python3.8/site-packages/pyproj/crs/crs.py:141: FutureWarning: '+init=<authority>:<code>' syntax is deprecated. '<authority>:<code>' is the preferred initialization method. When making the change, be mindful of axis order changes: https://pyproj4.github.io/pyproj/stable/gotchas.html#axis-order-changes-in-proj-6\n",
      "  in_crs_string = _prepare_from_proj_string(in_crs_string)\n",
      "/tmp/ipykernel_3854905/320663268.py:9: FutureWarning: This function is deprecated. See: https://pyproj4.github.io/pyproj/stable/gotchas.html#upgrading-to-pyproj-2-from-pyproj-1\n",
      "  input_lon, input_lat = proj.transform(crs_src, crs_dst, lons, lats)\n"
     ]
    },
    {
     "data": {
      "text/plain": [
       "(array([[-1.50669398, -1.5066878 , -1.50668162, ..., -1.5060947 ,\n",
       "         -1.50608852, -1.50608235],\n",
       "        [-1.50669409, -1.50668791, -1.50668173, ..., -1.50609481,\n",
       "         -1.50608864, -1.50608246],\n",
       "        [-1.5066942 , -1.50668802, -1.50668184, ..., -1.50609492,\n",
       "         -1.50608875, -1.50608257],\n",
       "        ...,\n",
       "        [-1.50670473, -1.50669855, -1.50669237, ..., -1.50610546,\n",
       "         -1.50609928, -1.5060931 ],\n",
       "        [-1.50670484, -1.50669866, -1.50669248, ..., -1.50610557,\n",
       "         -1.50609939, -1.50609321],\n",
       "        [-1.50670495, -1.50669877, -1.50669259, ..., -1.50610568,\n",
       "         -1.5060995 , -1.50609333]]),\n",
       " array([[43.49555068, 43.4955506 , 43.49555052, ..., 43.49554285,\n",
       "         43.49554277, 43.49554269],\n",
       "        [43.49554618, 43.4955461 , 43.49554602, ..., 43.49553835,\n",
       "         43.49553827, 43.49553819],\n",
       "        [43.49554168, 43.4955416 , 43.49554152, ..., 43.49553385,\n",
       "         43.49553377, 43.49553369],\n",
       "        ...,\n",
       "        [43.49511441, 43.49511433, 43.49511425, ..., 43.49510658,\n",
       "         43.4951065 , 43.49510642],\n",
       "        [43.49510991, 43.49510983, 43.49510975, ..., 43.49510208,\n",
       "         43.495102  , 43.49510192],\n",
       "        [43.49510541, 43.49510533, 43.49510525, ..., 43.49509758,\n",
       "         43.4950975 , 43.49509742]]))"
      ]
     },
     "execution_count": 4,
     "metadata": {},
     "output_type": "execute_result"
    }
   ],
   "source": [
    "import pyproj as proj\n",
    "import utm\n",
    "\n",
    "# setup your projections\n",
    "crs_src = proj.Proj(init='epsg:32630') # assuming you're using WGS84 geographic\n",
    "crs_dst = proj.Proj(init='epsg:4326 ') # use a locally appropriate projected CRS\n",
    "\n",
    "# then cast your geographic coordinate pair to the projected system\n",
    "input_lon, input_lat = proj.transform(crs_src, crs_dst, lons, lats)\n",
    "input_lon, input_lat"
   ]
  },
  {
   "cell_type": "code",
   "execution_count": 5,
   "id": "b5934db9-4f0e-4c90-a6a7-400de428cabd",
   "metadata": {
    "tags": []
   },
   "outputs": [
    {
     "data": {
      "text/plain": [
       "(array([[620734.92797094, 620735.42763999, 620735.92730903, ...,\n",
       "         620783.39586839, 620783.89553743, 620784.39520648],\n",
       "        [620734.92797094, 620735.42763999, 620735.92730903, ...,\n",
       "         620783.39586839, 620783.89553743, 620784.39520648],\n",
       "        [620734.92797094, 620735.42763999, 620735.92730903, ...,\n",
       "         620783.39586839, 620783.89553743, 620784.39520648],\n",
       "        ...,\n",
       "        [620734.92797094, 620735.42763999, 620735.92730903, ...,\n",
       "         620783.39586839, 620783.89553743, 620784.39520648],\n",
       "        [620734.92797094, 620735.42763999, 620735.92730903, ...,\n",
       "         620783.39586839, 620783.89553743, 620784.39520648],\n",
       "        [620734.92797094, 620735.42763999, 620735.92730903, ...,\n",
       "         620783.39586839, 620783.89553743, 620784.39520648]]),\n",
       " array([[4816930.31872322, 4816930.31872322, 4816930.31872322, ...,\n",
       "         4816930.31872322, 4816930.31872322, 4816930.31872322],\n",
       "        [4816929.81905417, 4816929.81905417, 4816929.81905417, ...,\n",
       "         4816929.81905417, 4816929.81905417, 4816929.81905417],\n",
       "        [4816929.31938512, 4816929.31938512, 4816929.31938512, ...,\n",
       "         4816929.31938512, 4816929.31938512, 4816929.31938512],\n",
       "        ...,\n",
       "        [4816881.85082576, 4816881.85082576, 4816881.85082576, ...,\n",
       "         4816881.85082576, 4816881.85082576, 4816881.85082576],\n",
       "        [4816881.35115672, 4816881.35115672, 4816881.35115671, ...,\n",
       "         4816881.35115671, 4816881.35115672, 4816881.35115672],\n",
       "        [4816880.85148767, 4816880.85148767, 4816880.85148767, ...,\n",
       "         4816880.85148767, 4816880.85148767, 4816880.85148767]]),\n",
       " 30,\n",
       " 'T')"
      ]
     },
     "execution_count": 5,
     "metadata": {},
     "output_type": "execute_result"
    }
   ],
   "source": [
    "utm.from_latlon(input_lat, input_lon)"
   ]
  },
  {
   "cell_type": "code",
   "execution_count": null,
   "id": "4775b387-f2be-448b-9ae3-d55b4b341b10",
   "metadata": {},
   "outputs": [],
   "source": [
    "np.multiply(np.cos(lats), np.cos(lons))\n",
    "np.multiply(np.cos(lats), np.sin(lons))"
   ]
  },
  {
   "cell_type": "code",
   "execution_count": 1,
   "id": "0ea16711-c4a8-452e-a1ee-d1781e46438e",
   "metadata": {},
   "outputs": [],
   "source": [
    "import rasterio\n",
    "\n",
    "def read_window_from_big_raster(window, path, raster_path):\n",
    "    with rasterio.open(path) as image_file:\n",
    "        with rasterio.open(raster_path) as raster_file:\n",
    "            left, bottom, right, top = rasterio.windows.bounds(\n",
    "                window, \n",
    "                transform=image_file.transform\n",
    "            )\n",
    "            rw = rasterio.windows.from_bounds(\n",
    "                left, bottom, right, top, \n",
    "                transform=raster_file.transform\n",
    "            )\n",
    "            image = raster_file.read(\n",
    "                window=rw, \n",
    "                out_dtype=np.float32\n",
    "            )\n",
    "    return image"
   ]
  },
  {
   "cell_type": "code",
   "execution_count": 43,
   "id": "f18c74ff-4105-481b-a5e5-b3d1fc07dd5c",
   "metadata": {},
   "outputs": [],
   "source": [
    "from rasterio.windows import Window\n",
    "import numpy as np\n",
    "window = Window(0, 0, 10000, 10000)\n",
    "path = p+f'/Biarritz_EPSG32630_9.tif'\n",
    "big_path = p+'/BIARRITZ_20140902_T_TOA_reproj-EPSG:32630.tif'\n",
    "img = read_window_from_big_raster(window, path, big_path)"
   ]
  },
  {
   "cell_type": "code",
   "execution_count": 44,
   "id": "73c3cf10-fcad-4ecb-ab1b-2463a29cb140",
   "metadata": {},
   "outputs": [],
   "source": [
    "def read_window_basic(window, path):\n",
    "    with rasterio.open(path) as image_file:\n",
    "        image = image_file.read(window=window, out_dtype=np.float32)\n",
    "    return image"
   ]
  },
  {
   "cell_type": "code",
   "execution_count": 50,
   "id": "f4a349b1-0661-4beb-8788-c328dc8796cf",
   "metadata": {},
   "outputs": [],
   "source": [
    "window = Window(0, 0, 10000, 10000)\n",
    "img2 = read_window_basic(window,big_path)"
   ]
  },
  {
   "cell_type": "code",
   "execution_count": 51,
   "id": "ba333a3b-f426-45b8-971c-7f57649a2ec5",
   "metadata": {},
   "outputs": [
    {
     "data": {
      "text/plain": [
       "(4, 10000, 10000)"
      ]
     },
     "execution_count": 51,
     "metadata": {},
     "output_type": "execute_result"
    }
   ],
   "source": [
    "img2.shape"
   ]
  },
  {
   "cell_type": "code",
   "execution_count": 1,
   "id": "15e7b6f1-2bfd-4277-9180-354823f8b4d8",
   "metadata": {},
   "outputs": [
    {
     "name": "stdout",
     "output_type": "stream",
     "text": [
      "<open DatasetReader name='/work/OT/ai4usr/fournip/digitanie/Toulouse/toulouse_full_tiled.tif' mode='r'>\n"
     ]
    }
   ],
   "source": [
    "import rasterio\n",
    "p = '/work/OT/ai4usr/fournip/digitanie/Toulouse/toulouse_full_tiled.tif'\n",
    "ds = rasterio.open(p)\n",
    "print(ds)"
   ]
  },
  {
   "cell_type": "code",
   "execution_count": 2,
   "id": "2bed089e-da60-4e12-844e-1ccc6570633f",
   "metadata": {},
   "outputs": [],
   "source": [
    "a = ds.statistics(bidx=1)"
   ]
  },
  {
   "cell_type": "code",
   "execution_count": 3,
   "id": "77b25969-3068-41ab-a369-50005600c0ad",
   "metadata": {},
   "outputs": [
    {
     "data": {
      "text/plain": [
       "Statistics(min=-0.0029133798088878393, max=1.5431257486343384, mean=0.09988372604258908, std=0.05581474629124038)"
      ]
     },
     "execution_count": 3,
     "metadata": {},
     "output_type": "execute_result"
    }
   ],
   "source": [
    "a"
   ]
  },
  {
   "cell_type": "code",
   "execution_count": 4,
   "id": "b4c80371-2428-4a0d-94bd-4eeb10ba24e8",
   "metadata": {},
   "outputs": [
    {
     "data": {
      "text/plain": [
       "-0.0029133798088878393"
      ]
     },
     "execution_count": 4,
     "metadata": {},
     "output_type": "execute_result"
    }
   ],
   "source": [
    "a.min"
   ]
  },
  {
   "cell_type": "code",
   "execution_count": null,
   "id": "0af4173b-3ef0-4527-ba70-c0eda7ffe58e",
   "metadata": {},
   "outputs": [],
   "source": []
  }
 ],
 "metadata": {
  "kernelspec": {
   "display_name": "dl_toolbox_venv",
   "language": "python",
   "name": "dl_toolbox_venv"
  },
  "language_info": {
   "codemirror_mode": {
    "name": "ipython",
    "version": 3
   },
   "file_extension": ".py",
   "mimetype": "text/x-python",
   "name": "python",
   "nbconvert_exporter": "python",
   "pygments_lexer": "ipython3",
   "version": "3.8.10"
  }
 },
 "nbformat": 4,
 "nbformat_minor": 5
}
