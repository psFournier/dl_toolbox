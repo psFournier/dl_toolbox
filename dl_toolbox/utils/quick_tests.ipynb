{
 "cells": [
  {
   "cell_type": "code",
   "execution_count": 1,
   "id": "0af4173b-3ef0-4527-ba70-c0eda7ffe58e",
   "metadata": {
    "tags": []
   },
   "outputs": [],
   "source": [
    "from pathlib import Path\n",
    "path = Path('/data/DIGITANIE_v4/normalisation_stats.npy')\n",
    "import numpy as np\n",
    "stats = np.load(path, allow_pickle=True).item()"
   ]
  },
  {
   "cell_type": "code",
   "execution_count": 2,
   "id": "963e2ff5-4106-4c30-bf40-b05ac8b4a669",
   "metadata": {
    "tags": []
   },
   "outputs": [
    {
     "data": {
      "text/plain": [
       "{'mean': array([4677.6298598 , 4951.11973206, 4950.21863196, 4637.4914173 ]),\n",
       " 'std': array([2577.73259758, 2590.33073603, 2470.59660255, 2556.43454128]),\n",
       " 'perc_2': array([612., 825., 991., 593.]),\n",
       " 'perc_98': array([8110., 8430., 8329., 8333.]),\n",
       " 'mean_clip': array([4653.96637296, 4931.24502525, 4934.74545525, 4610.70596437]),\n",
       " 'std_clip': array([2521.03195555, 2541.30805596, 2431.12861806, 2481.652928  ]),\n",
       " 'perc_995': array([ 9959., 10034.,  9605., 10506.]),\n",
       " 'mean_clip995': array([4669.47801968, 4943.3877924 , 4943.34277817, 4628.81965565]),\n",
       " 'std_clip995': array([2555.87816219, 2570.52869772, 2453.67996389, 2530.5947061 ])}"
      ]
     },
     "execution_count": 2,
     "metadata": {},
     "output_type": "execute_result"
    }
   ],
   "source": [
    "stats['HELSINKI'.title()]"
   ]
  },
  {
   "cell_type": "code",
   "execution_count": 6,
   "id": "3783a7ec-8eb8-4e20-89b0-7b97c06714dc",
   "metadata": {},
   "outputs": [
    {
     "name": "stdout",
     "output_type": "stream",
     "text": [
      "tensor([0.4341, 0.4472, 0.4588, 0.4071])\n"
     ]
    }
   ],
   "source": [
    "from dl_toolbox.transforms.utils import stretch_to_minmax\n",
    "import torch\n",
    "mins = torch.Tensor(stats['HELSINKI'.title()]['perc_2'])\n",
    "maxs = torch.Tensor(stats['HELSINKI'.title()]['perc_995'])\n",
    "mean = torch.Tensor(stats['HELSINKI'.title()]['mean_clip995'])\n",
    "print(stretch_to_minmax(mean, mins, maxs))"
   ]
  },
  {
   "cell_type": "code",
   "execution_count": 4,
   "id": "6d98a78e-1d14-44f6-aaea-8751398a316a",
   "metadata": {},
   "outputs": [
    {
     "ename": "TypeError",
     "evalue": "clip() received an invalid combination of arguments - got (numpy.ndarray, int, int), but expected one of:\n * (Tensor input, Tensor min, Tensor max, *, Tensor out)\n * (Tensor input, Number min, Number max, *, Tensor out)\n",
     "output_type": "error",
     "traceback": [
      "\u001b[0;31m---------------------------------------------------------------------------\u001b[0m",
      "\u001b[0;31mTypeError\u001b[0m                                 Traceback (most recent call last)",
      "Cell \u001b[0;32mIn[4], line 5\u001b[0m\n\u001b[1;32m      3\u001b[0m maxs \u001b[38;5;241m=\u001b[39m stats[\u001b[38;5;124m'\u001b[39m\u001b[38;5;124mHELSINKI\u001b[39m\u001b[38;5;124m'\u001b[39m\u001b[38;5;241m.\u001b[39mtitle()][\u001b[38;5;124m'\u001b[39m\u001b[38;5;124mperc_995\u001b[39m\u001b[38;5;124m'\u001b[39m]\n\u001b[1;32m      4\u001b[0m mean \u001b[38;5;241m=\u001b[39m stats[\u001b[38;5;124m'\u001b[39m\u001b[38;5;124mHELSINKI\u001b[39m\u001b[38;5;124m'\u001b[39m\u001b[38;5;241m.\u001b[39mtitle()][\u001b[38;5;124m'\u001b[39m\u001b[38;5;124mmean_clip995\u001b[39m\u001b[38;5;124m'\u001b[39m]\n\u001b[0;32m----> 5\u001b[0m \u001b[38;5;28mprint\u001b[39m(\u001b[43mstretch_to_minmax\u001b[49m\u001b[43m(\u001b[49m\u001b[43mmean\u001b[49m\u001b[43m,\u001b[49m\u001b[43m \u001b[49m\u001b[43mmins\u001b[49m\u001b[43m,\u001b[49m\u001b[43m \u001b[49m\u001b[43mmaxs\u001b[49m\u001b[43m)\u001b[49m)\n",
      "File \u001b[0;32m~/dl_toolbox/dl_toolbox/transforms/utils.py:72\u001b[0m, in \u001b[0;36mstretch_to_minmax\u001b[0;34m(img, mins, maxs)\u001b[0m\n\u001b[1;32m     70\u001b[0m \u001b[38;5;28;01mdef\u001b[39;00m \u001b[38;5;21mstretch_to_minmax\u001b[39m(img, mins, maxs):\n\u001b[1;32m     71\u001b[0m     res \u001b[38;5;241m=\u001b[39m (img \u001b[38;5;241m-\u001b[39m mins) \u001b[38;5;241m/\u001b[39m (maxs \u001b[38;5;241m-\u001b[39m mins)\n\u001b[0;32m---> 72\u001b[0m     \u001b[38;5;28;01mreturn\u001b[39;00m \u001b[43mtorch\u001b[49m\u001b[38;5;241;43m.\u001b[39;49m\u001b[43mclip\u001b[49m\u001b[43m(\u001b[49m\u001b[43mres\u001b[49m\u001b[43m,\u001b[49m\u001b[43m \u001b[49m\u001b[38;5;241;43m0\u001b[39;49m\u001b[43m,\u001b[49m\u001b[43m \u001b[49m\u001b[38;5;241;43m1\u001b[39;49m\u001b[43m)\u001b[49m\n",
      "\u001b[0;31mTypeError\u001b[0m: clip() received an invalid combination of arguments - got (numpy.ndarray, int, int), but expected one of:\n * (Tensor input, Tensor min, Tensor max, *, Tensor out)\n * (Tensor input, Number min, Number max, *, Tensor out)\n"
     ]
    }
   ],
   "source": [
    "from dl_toolbox.transforms.utils import stretch_to_minmax\n",
    "mins = torch.Tensorstats['HELSINKI'.title()]['perc_2']\n",
    "maxs = stats['HELSINKI'.title()]['perc_995']\n",
    "mean = stats['HELSINKI'.title()]['mean_clip995']\n",
    "print(stretch_to_minmax(mean, mins, maxs))"
   ]
  },
  {
   "cell_type": "code",
   "execution_count": null,
   "id": "21fa666c-772a-4f8d-8b87-f4958e025d9b",
   "metadata": {
    "tags": []
   },
   "outputs": [],
   "source": [
    "stats.keys()"
   ]
  },
  {
   "cell_type": "code",
   "execution_count": null,
   "id": "709e4a76-62f6-4947-b5dd-80b854549713",
   "metadata": {
    "tags": []
   },
   "outputs": [],
   "source": [
    "from pathlib import Path\n",
    "from itertools import product\n",
    "data_path = Path('/data')\n",
    "from dl_toolbox.utils import get_tiles\n",
    "def paths(num):\n",
    "    img_dir = data_path/'SemCity-Toulouse-bench/img_multispec_05/TLS_BDSD_RGB'\n",
    "    msk_dir = data_path/'SemCity-Toulouse-bench/semantic_05/TLS_indMap'\n",
    "    return img_dir/f'TLS_BDSD_RGB_{num:02}.tif', msk_dir/f'TLS_indMap_{num:02}_1.tif'\n",
    "test = [(*paths(num), t) for num in [6,11] for t in get_tiles(3504, 3452, 512)]\n",
    "val = [(*paths(7), t) for t in get_tiles(3504, 3452, 512)]\n",
    "train = [[*paths(num), t] for num in set(range(1, 17))-{6,7,11} for t in get_tiles(3504, 3452, 876, 863)]\n",
    "[list(t) for t in zip(*train)]"
   ]
  },
  {
   "cell_type": "code",
   "execution_count": null,
   "id": "86dde50e-f56f-4205-ab2f-9f34539393ef",
   "metadata": {},
   "outputs": [],
   "source": [
    "list(train)"
   ]
  },
  {
   "cell_type": "code",
   "execution_count": 9,
   "id": "e1667663-8549-427d-8b14-01d198b69d38",
   "metadata": {
    "tags": []
   },
   "outputs": [
    {
     "data": {
      "text/plain": [
       "torch.Size([1, 5, 10, 10])"
      ]
     },
     "execution_count": 9,
     "metadata": {},
     "output_type": "execute_result"
    }
   ],
   "source": [
    "import torch\n",
    "a = torch.randint(0,5, size=(1,10,10))\n",
    "b = torch.nn.functional.one_hot(a.unsqueeze(1), 5).transpose(1,-1).squeeze(-1)\n",
    "b.shape"
   ]
  },
  {
   "cell_type": "code",
   "execution_count": 4,
   "id": "a765a6df-643c-467d-92e8-99867aafc3e1",
   "metadata": {
    "tags": []
   },
   "outputs": [
    {
     "data": {
      "text/plain": [
       "169"
      ]
     },
     "execution_count": 4,
     "metadata": {},
     "output_type": "execute_result"
    }
   ],
   "source": [
    "from dl_toolbox.utils import get_tiles\n",
    "len(list(get_tiles(3504, 3452, 512, step_w=256)))"
   ]
  },
  {
   "cell_type": "code",
   "execution_count": 5,
   "id": "a2ca7810-18e4-49af-8fcf-05348b463757",
   "metadata": {
    "tags": []
   },
   "outputs": [
    {
     "data": {
      "text/plain": [
       "21"
      ]
     },
     "execution_count": 5,
     "metadata": {},
     "output_type": "execute_result"
    }
   ],
   "source": []
  },
  {
   "cell_type": "code",
   "execution_count": null,
   "id": "b86f4c9a-2bdd-49be-a27b-46ff85633ecd",
   "metadata": {},
   "outputs": [],
   "source": []
  }
 ],
 "metadata": {
  "kernelspec": {
   "display_name": "dl_toolbox_venv",
   "language": "python",
   "name": "dl_toolbox_venv"
  },
  "language_info": {
   "codemirror_mode": {
    "name": "ipython",
    "version": 3
   },
   "file_extension": ".py",
   "mimetype": "text/x-python",
   "name": "python",
   "nbconvert_exporter": "python",
   "pygments_lexer": "ipython3",
   "version": "3.8.10"
  }
 },
 "nbformat": 4,
 "nbformat_minor": 5
}
