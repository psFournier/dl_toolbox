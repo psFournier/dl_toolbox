{
 "cells": [
  {
   "cell_type": "code",
   "execution_count": 7,
   "id": "2d63c124-24d4-45d3-8b06-9221bde56924",
   "metadata": {
    "tags": []
   },
   "outputs": [],
   "source": [
    "import csv\n",
    "import rasterio\n",
    "import os\n",
    "from pathlib import Path, PurePath"
   ]
  },
  {
   "cell_type": "code",
   "execution_count": 8,
   "id": "b12d5508-7042-4403-89de-00ca24d18b6e",
   "metadata": {
    "tags": []
   },
   "outputs": [
    {
     "data": {
      "text/plain": [
       "'/d/pfournie/dl_toolbox/dl_toolbox/__init__.py'"
      ]
     },
     "execution_count": 8,
     "metadata": {},
     "output_type": "execute_result"
    }
   ],
   "source": [
    "import os\n",
    "import inspect\n",
    "import dl_toolbox\n",
    "inspect.getfile(dl_toolbox)"
   ]
  },
  {
   "cell_type": "code",
   "execution_count": 4,
   "id": "640b00d3-fe6d-40fa-b13a-ed4e5b1385b8",
   "metadata": {
    "tags": []
   },
   "outputs": [],
   "source": [
    "if os.uname().nodename == 'WDTIS890Z':\n",
    "    data_path = Path('/mnt/d/pfournie/Documents/data')\n",
    "elif os.uname().nodename == 'qdtis056z':\n",
    "    data_path = Path('/data')\n",
    "else:\n",
    "    print('write data path yourself!')\n",
    "\n",
    "    \n",
    "data_path = data_path / 'SemCity-Toulouse-bench'\n",
    "\n",
    "with open(Path.home() / f'dl_toolbox/dl_toolbox/datamodules/semcity_16tiles.csv', 'w+', newline='') as csvfile:\n",
    "    writer = csv.writer(csvfile)\n",
    "    writer.writerow(\n",
    "        [\n",
    "            'city',\n",
    "            'tile_id',\n",
    "            'img_path',\n",
    "            'label_path',\n",
    "            'x0',\n",
    "            'y0',\n",
    "            'patch_width',\n",
    "            'patch_height',\n",
    "            'fold_id',\n",
    "            'min_vals',\n",
    "            'max_vals'\n",
    "        ]\n",
    "    )\n",
    "    for i in range(16): \n",
    "        image_path = 'img_multispec_05/TLS_BDSD_M/TLS_BDSD_M_' + f'{i+1:02}' + '.tif'\n",
    "        label_path = 'semantic_05/TLS_GT/TLS_GT_' + f'{i+1:02}' + '_1.tif'\n",
    "        with rasterio.open(data_path/image_path) as f:\n",
    "            height, width = f.shape\n",
    "            stats = [f.statistics(bidx=i, approx=True, clear_cache=False) for i in range(1, f.count+1)]\n",
    "            writer.writerow(\n",
    "                [\n",
    "                    'Semcity',\n",
    "                    i,\n",
    "                    image_path,\n",
    "                    label_path,\n",
    "                    0,\n",
    "                    0,\n",
    "                    width,\n",
    "                    height,\n",
    "                    i,\n",
    "                    str(tuple([round(s.min,3) for s in stats])),\n",
    "                    str(tuple([round(s.max,3) for s in stats]))\n",
    "                ]\n",
    "            )"
   ]
  },
  {
   "cell_type": "code",
   "execution_count": null,
   "id": "ab173f0c-8d6d-440b-9299-743e86763a47",
   "metadata": {},
   "outputs": [
    {
     "name": "stderr",
     "output_type": "stream",
     "text": [
      "/work/OT/ai4usr/fournip/vre_venv/lib/python3.8/site-packages/tqdm/auto.py:22: TqdmWarning: IProgress not found. Please update jupyter and ipywidgets. See https://ipywidgets.readthedocs.io/en/stable/user_install.html\n",
      "  from .autonotebook import tqdm as notebook_tqdm\n"
     ]
    },
    {
     "data": {
      "text/plain": [
       "True"
      ]
     },
     "execution_count": 2,
     "metadata": {},
     "output_type": "execute_result"
    }
   ],
   "source": [
    "with open('../splits/split_semcity_finegrained.csv', 'w', newline='') as csvfile:\n",
    "    writer = csv.writer(csvfile)\n",
    "    #path = '/work/OT/ai4usr/fournip/SemCity-Toulouse-bench'\n",
    "    path = '/home/pfournie/ai4geo/data/SemCity-Toulouse-bench'\n",
    "    writer.writerow(['dataset_cls',\n",
    "                     'tile_id',\n",
    "                     'img_path',\n",
    "                     'label_path',\n",
    "                     'x0',\n",
    "                     'y0',\n",
    "                     'patch_width',\n",
    "                     'patch_height',\n",
    "                     'fold_id'\n",
    "                     ])\n",
    "    i = 0\n",
    "    for num in ['01','02','03','04','05','06','07','08','09','10','11','12','13','14','15','16']:\n",
    "        image_path = 'img_multispec_05/TLS_BDSD_M/TLS_BDSD_M_' + num + '.tif'\n",
    "        label_path = 'semantic_05/TLS_GT/TLS_GT_' + num + '_1.tif'\n",
    "        width, height = imagesize.get(os.path.join(path, image_path))\n",
    "        for tile in get_tiles(width, height, size=876, size2=863):\n",
    "            writer.writerow([\n",
    "                'SemcityToulouse',\n",
    "                i,\n",
    "                image_path,\n",
    "                label_path,\n",
    "                tile.col_off,\n",
    "                tile.row_off,\n",
    "                tile.width,\n",
    "                tile.height,\n",
    "                i % 64\n",
    "            ])\n",
    "            i += 1"
   ]
  },
  {
   "cell_type": "code",
   "execution_count": 9,
   "id": "7a89a6fe-8749-4d22-b5e8-b21cfe240695",
   "metadata": {
    "tags": []
   },
   "outputs": [
    {
     "name": "stdout",
     "output_type": "stream",
     "text": [
      "Unexpected exception formatting exception. Falling back to standard exception\n"
     ]
    },
    {
     "name": "stderr",
     "output_type": "stream",
     "text": [
      "Traceback (most recent call last):\n",
      "  File \"rasterio/_base.pyx\", line 308, in rasterio._base.DatasetBase.__init__\n",
      "  File \"rasterio/_base.pyx\", line 219, in rasterio._base.open_dataset\n",
      "  File \"rasterio/_err.pyx\", line 221, in rasterio._err.exc_wrap_pointer\n",
      "rasterio._err.CPLE_OpenFailedError: /data/DIGITANIE/Toulouse.tif: No such file or directory\n",
      "\n",
      "During handling of the above exception, another exception occurred:\n",
      "\n",
      "Traceback (most recent call last):\n",
      "  File \"/d/pfournie/dl_toolbox/venv/lib/python3.8/site-packages/IPython/core/interactiveshell.py\", line 3460, in run_code\n",
      "    exec(code_obj, self.user_global_ns, self.user_ns)\n",
      "  File \"/tmp/ipykernel_1332095/2028849940.py\", line 34, in <module>\n",
      "    with rasterio.open(digitanie/f'{city}.tif') as f:\n",
      "  File \"/d/pfournie/dl_toolbox/venv/lib/python3.8/site-packages/rasterio/env.py\", line 451, in wrapper\n",
      "    return f(*args, **kwds)\n",
      "  File \"/d/pfournie/dl_toolbox/venv/lib/python3.8/site-packages/rasterio/__init__.py\", line 304, in open\n",
      "    dataset = DatasetReader(path, driver=driver, sharing=sharing, **kwargs)\n",
      "  File \"rasterio/_base.pyx\", line 310, in rasterio._base.DatasetBase.__init__\n",
      "rasterio.errors.RasterioIOError: /data/DIGITANIE/Toulouse.tif: No such file or directory\n",
      "\n",
      "During handling of the above exception, another exception occurred:\n",
      "\n",
      "Traceback (most recent call last):\n",
      "  File \"/d/pfournie/dl_toolbox/venv/lib/python3.8/site-packages/IPython/core/interactiveshell.py\", line 2057, in showtraceback\n",
      "    stb = self.InteractiveTB.structured_traceback(\n",
      "  File \"/d/pfournie/dl_toolbox/venv/lib/python3.8/site-packages/IPython/core/ultratb.py\", line 1288, in structured_traceback\n",
      "    return FormattedTB.structured_traceback(\n",
      "  File \"/d/pfournie/dl_toolbox/venv/lib/python3.8/site-packages/IPython/core/ultratb.py\", line 1177, in structured_traceback\n",
      "    return VerboseTB.structured_traceback(\n",
      "  File \"/d/pfournie/dl_toolbox/venv/lib/python3.8/site-packages/IPython/core/ultratb.py\", line 1049, in structured_traceback\n",
      "    formatted_exceptions += self.format_exception_as_a_whole(etype, evalue, etb, lines_of_context,\n",
      "  File \"/d/pfournie/dl_toolbox/venv/lib/python3.8/site-packages/IPython/core/ultratb.py\", line 935, in format_exception_as_a_whole\n",
      "    self.get_records(etb, number_of_lines_of_context, tb_offset) if etb else []\n",
      "  File \"/d/pfournie/dl_toolbox/venv/lib/python3.8/site-packages/IPython/core/ultratb.py\", line 1003, in get_records\n",
      "    lines, first = inspect.getsourcelines(etb.tb_frame)\n",
      "  File \"/usr/lib/python3.8/inspect.py\", line 979, in getsourcelines\n",
      "    lines, lnum = findsource(object)\n",
      "  File \"/usr/lib/python3.8/inspect.py\", line 798, in findsource\n",
      "    raise OSError('could not get source code')\n",
      "OSError: could not get source code\n"
     ]
    }
   ],
   "source": [
    "if os.uname().nodename == 'WDTIS890Z':\n",
    "    data_path = Path('/mnt/d/pfournie/Documents/data')\n",
    "elif os.uname().nodename == 'qdtis056z':\n",
    "    data_path = Path('/data')\n",
    "else:\n",
    "    data_path = Path('/work/OT/ai4geo/DATA/DATASETS')\n",
    "    \n",
    "digitanie = data_path / 'DIGITANIE'\n",
    "\n",
    "cities = ['Arcachon','Brisbane','Can-Tho','Lagos','Maros','Munich','Paris',\n",
    "          'Rio-Janeiro','Strasbourg','Toulouse','Biarritz','Buenos-Aires',\n",
    "          'Helsinki','Le-Caire','Montpellier','Nantes','Port-Elisabeth','Shanghai','Tianjin']\n",
    "cities = ['Arcachon', 'Paris', 'Strasbourg', 'Toulouse', 'Biarritz', 'Nantes', 'Montpellier']\n",
    "cities = ['Toulouse']\n",
    "\n",
    "with open(Path.home() / f'dl_toolbox/dl_toolbox/datamodules/digitanie_toulouse.csv', 'w+', newline='') as csvfile:\n",
    "    writer = csv.writer(csvfile)\n",
    "    writer.writerow(\n",
    "        [\n",
    "            'city',\n",
    "            'tile_id',\n",
    "            'img_path',\n",
    "            'label_path',\n",
    "            'x0',\n",
    "            'y0',\n",
    "            'patch_width',\n",
    "            'patch_height',\n",
    "            'fold_id',\n",
    "            'min_vals',\n",
    "            'max_vals'\n",
    "        ]\n",
    "    )\n",
    "    for city in cities:\n",
    "        with rasterio.open(digitanie/f'{city}.tif') as f:\n",
    "            stats = [f.statistics(bidx=i, approx=True, clear_cache=False) for i in range(1, f.count+1)]\n",
    "        img_paths = sorted(\n",
    "            [path.relative_to(digitanie) for path in Path(digitanie/city).glob('*_[0-9].tif')], \n",
    "            key=lambda x: int(x.stem.split('_')[-1])\n",
    "        )\n",
    "        msk_paths = sorted(\n",
    "            [path.relative_to(digitanie) for path in Path(digitanie/city/'COS9').glob('*.tif')],\n",
    "            key=lambda x: int(x.stem.split('_')[1][0])\n",
    "        )\n",
    "        for i, (img, msk) in enumerate(zip(img_paths, msk_paths)):\n",
    "            with rasterio.open(digitanie/img) as f:\n",
    "                height, width = f.shape\n",
    "                #stats = [f.statistics(bidx=i, approx=True, clear_cache=False) for i in range(1, f.count+1)]\n",
    "                writer.writerow(\n",
    "                    [\n",
    "                        f'Digitanie',\n",
    "                        i,\n",
    "                        img,\n",
    "                        msk,\n",
    "                        0,\n",
    "                        0,\n",
    "                        width,\n",
    "                        height,\n",
    "                        i,\n",
    "                        str(tuple([round(s.min,3) for s in stats])),\n",
    "                        str(tuple([round(s.max,3) for s in stats]))\n",
    "                    ]\n",
    "                )\n",
    "            "
   ]
  },
  {
   "cell_type": "code",
   "execution_count": 7,
   "id": "cb41e670-0567-458f-8904-be702a1814f9",
   "metadata": {},
   "outputs": [
    {
     "name": "stderr",
     "output_type": "stream",
     "text": [
      "Warning 1: Unable to save auxiliary information in /work/OT/ai4geo/DATA/DATASETS/DIGITANIE/Toulouse/Toulouse.tif.aux.xml.\n"
     ]
    }
   ],
   "source": [
    "if os.uname().nodename == 'WDTIS890Z':\n",
    "    data_path = Path('/mnt/d/pfournie/Documents/data')\n",
    "elif os.uname().nodename == 'qdtis056z':\n",
    "    data_path = Path('/data')\n",
    "else:\n",
    "    data_path = Path('/work/OT/ai4geo/DATA/DATASETS')\n",
    "    \n",
    "digitanie = data_path / 'DIGITANIE'\n",
    "cities = ['Toulouse']\n",
    "with open(Path.home() / f'dl_toolbox/dl_toolbox/datamodules/digitanie_toulouse_big_2.csv', 'w+', newline='') as csvfile:\n",
    "    writer = csv.writer(csvfile)\n",
    "    writer.writerow(\n",
    "        [\n",
    "            'city',\n",
    "            'tile_id',\n",
    "            'img_path',\n",
    "            'label_path',\n",
    "            'x0',\n",
    "            'y0',\n",
    "            'patch_width',\n",
    "            'patch_height',\n",
    "            'fold_id',\n",
    "            'min_vals',\n",
    "            'max_vals'\n",
    "        ]\n",
    "    )\n",
    "    for i, city in enumerate(cities):\n",
    "        big_tile_path = digitanie/city/f'{city}.tif'        \n",
    "        with rasterio.open(big_tile_path) as f:\n",
    "            height, width = f.shape\n",
    "            stats = [f.statistics(bidx=i, approx=True, clear_cache=False) for i in range(1, f.count+1)]\n",
    "            writer.writerow(\n",
    "                [\n",
    "                    f'Digitanie',\n",
    "                    i,\n",
    "                    big_tile_path.relative_to(digitanie),\n",
    "                    'none',\n",
    "                    0,\n",
    "                    0,\n",
    "                    width,\n",
    "                    height,\n",
    "                    i,\n",
    "                    str(tuple([round(s.min,3) for s in stats])),\n",
    "                    str(tuple([round(s.max,3) for s in stats]))\n",
    "                ]\n",
    "            )"
   ]
  },
  {
   "cell_type": "code",
   "execution_count": null,
   "id": "170b6f70-1ad4-4bb1-90b6-14239d57eb11",
   "metadata": {},
   "outputs": [],
   "source": []
  }
 ],
 "metadata": {
  "kernelspec": {
   "display_name": "dl_toolbox_venv",
   "language": "python",
   "name": "dl_toolbox_venv"
  },
  "language_info": {
   "codemirror_mode": {
    "name": "ipython",
    "version": 3
   },
   "file_extension": ".py",
   "mimetype": "text/x-python",
   "name": "python",
   "nbconvert_exporter": "python",
   "pygments_lexer": "ipython3",
   "version": "3.8.10"
  }
 },
 "nbformat": 4,
 "nbformat_minor": 5
}
