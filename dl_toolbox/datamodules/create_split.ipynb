{
 "cells": [
  {
   "cell_type": "code",
   "execution_count": 1,
   "id": "2d63c124-24d4-45d3-8b06-9221bde56924",
   "metadata": {
    "tags": []
   },
   "outputs": [],
   "source": [
    "import csv\n",
    "import rasterio\n",
    "import os\n",
    "from pathlib import Path, PurePath"
   ]
  },
  {
   "cell_type": "code",
   "execution_count": 2,
   "id": "b12d5508-7042-4403-89de-00ca24d18b6e",
   "metadata": {
    "tags": []
   },
   "outputs": [
    {
     "data": {
      "text/plain": [
       "'/d/pfournie/dl_toolbox/dl_toolbox/__init__.py'"
      ]
     },
     "execution_count": 2,
     "metadata": {},
     "output_type": "execute_result"
    }
   ],
   "source": [
    "import os\n",
    "import inspect\n",
    "import dl_toolbox\n",
    "inspect.getfile(dl_toolbox)"
   ]
  },
  {
   "cell_type": "code",
   "execution_count": 6,
   "id": "640b00d3-fe6d-40fa-b13a-ed4e5b1385b8",
   "metadata": {
    "tags": []
   },
   "outputs": [],
   "source": [
    "if os.uname().nodename == 'WDTIS890Z':\n",
    "    data_path = Path('/mnt/d/pfournie/Documents/data')\n",
    "elif os.uname().nodename == 'qdtis056z':\n",
    "    data_path = Path('/data')\n",
    "else:\n",
    "    print('write data path yourself!')\n",
    "    \n",
    "data_path = data_path / 'SemCity-Toulouse-bench'\n",
    "\n",
    "with open(Path.home() / f'dl_toolbox/dl_toolbox/datamodules/semcity_16tiles.csv', 'w+', newline='') as csvfile:\n",
    "    writer = csv.writer(csvfile)\n",
    "    writer.writerow(\n",
    "        [\n",
    "            'city',\n",
    "            'tile_id',\n",
    "            'img_path',\n",
    "            'label_path',\n",
    "            'x0',\n",
    "            'y0',\n",
    "            'patch_width',\n",
    "            'patch_height',\n",
    "            'fold_id',\n",
    "            'min_vals',\n",
    "            'max_vals'\n",
    "        ]\n",
    "    )\n",
    "    for i in range(16): \n",
    "        image_path = 'img_multispec_05/TLS_BDSD_M/TLS_BDSD_M_' + f'{i+1:02}' + '.tif'\n",
    "        label_path = 'semantic_05/TLS_GT/TLS_GT_' + f'{i+1:02}' + '_1.tif'\n",
    "        with rasterio.open(data_path/image_path) as f:\n",
    "            height, width = f.shape\n",
    "            stats = [f.statistics(bidx=i, approx=True, clear_cache=False) for i in range(1, f.count+1)]\n",
    "            writer.writerow(\n",
    "                [\n",
    "                    'Semcity',\n",
    "                    i,\n",
    "                    image_path,\n",
    "                    label_path,\n",
    "                    0,\n",
    "                    0,\n",
    "                    width,\n",
    "                    height,\n",
    "                    i,\n",
    "                    str(tuple([round(s.min,3) for s in stats])),\n",
    "                    str(tuple([round(s.max,3) for s in stats]))\n",
    "                ]\n",
    "            )"
   ]
  },
  {
   "cell_type": "code",
   "execution_count": null,
   "id": "ab173f0c-8d6d-440b-9299-743e86763a47",
   "metadata": {},
   "outputs": [
    {
     "name": "stderr",
     "output_type": "stream",
     "text": [
      "/work/OT/ai4usr/fournip/vre_venv/lib/python3.8/site-packages/tqdm/auto.py:22: TqdmWarning: IProgress not found. Please update jupyter and ipywidgets. See https://ipywidgets.readthedocs.io/en/stable/user_install.html\n",
      "  from .autonotebook import tqdm as notebook_tqdm\n"
     ]
    },
    {
     "data": {
      "text/plain": [
       "True"
      ]
     },
     "execution_count": 2,
     "metadata": {},
     "output_type": "execute_result"
    }
   ],
   "source": [
    "with open('../splits/split_semcity_finegrained.csv', 'w', newline='') as csvfile:\n",
    "    writer = csv.writer(csvfile)\n",
    "    #path = '/work/OT/ai4usr/fournip/SemCity-Toulouse-bench'\n",
    "    path = '/home/pfournie/ai4geo/data/SemCity-Toulouse-bench'\n",
    "    writer.writerow(['dataset_cls',\n",
    "                     'tile_id',\n",
    "                     'img_path',\n",
    "                     'label_path',\n",
    "                     'x0',\n",
    "                     'y0',\n",
    "                     'patch_width',\n",
    "                     'patch_height',\n",
    "                     'fold_id'\n",
    "                     ])\n",
    "    i = 0\n",
    "    for num in ['01','02','03','04','05','06','07','08','09','10','11','12','13','14','15','16']:\n",
    "        image_path = 'img_multispec_05/TLS_BDSD_M/TLS_BDSD_M_' + num + '.tif'\n",
    "        label_path = 'semantic_05/TLS_GT/TLS_GT_' + num + '_1.tif'\n",
    "        width, height = imagesize.get(os.path.join(path, image_path))\n",
    "        for tile in get_tiles(width, height, size=876, size2=863):\n",
    "            writer.writerow([\n",
    "                'SemcityToulouse',\n",
    "                i,\n",
    "                image_path,\n",
    "                label_path,\n",
    "                tile.col_off,\n",
    "                tile.row_off,\n",
    "                tile.width,\n",
    "                tile.height,\n",
    "                i % 64\n",
    "            ])\n",
    "            i += 1"
   ]
  },
  {
   "cell_type": "code",
   "execution_count": null,
   "id": "7a89a6fe-8749-4d22-b5e8-b21cfe240695",
   "metadata": {},
   "outputs": [
    {
     "name": "stdout",
     "output_type": "stream",
     "text": [
      "1.12.0+cu102\n"
     ]
    }
   ],
   "source": [
    "digitanie = data_path / 'DIGITANIE'\n",
    "\n",
    "cities = ['Arcachon','Brisbane','Can-Tho','Lagos','Maros','Munich','Paris',\n",
    "          'Rio-Janeiro','Strasbourg','Toulouse','Biarritz','Buenos-Aires',\n",
    "          'Helsinki','Le-Caire','Montpellier','Nantes','Port-Elisabeth','Shanghai','Tianjin']\n",
    "cities = ['Arcachon', 'Paris', 'Strasbourg', 'Toulouse', 'Biarritz', 'Nantes', 'Montpellier']\n",
    "cities = ['Toulouse']\n",
    "\n",
    "with open(Path.home() / f'dl_toolbox/dl_toolbox/lightning_datamodules/splits/digitanie/toulouse.csv', 'w+', newline='') as csvfile:\n",
    "    writer = csv.writer(csvfile)\n",
    "    writer.writerow(\n",
    "        [\n",
    "            'city',\n",
    "            'tile_id',\n",
    "            'img_path',\n",
    "            'label_path',\n",
    "            'x0',\n",
    "            'y0',\n",
    "            'patch_width',\n",
    "            'patch_height',\n",
    "            'fold_id',\n",
    "            'min_vals',\n",
    "            'max_vals'\n",
    "        ]\n",
    "    )\n",
    "    for city in cities:\n",
    "        img_paths = sorted(\n",
    "            [path.relative_to(digitanie) for path in Path(digitanie/city).glob('*_[0-9].tif')], \n",
    "            key=lambda x: int(x.stem.split('_')[-1])\n",
    "        )\n",
    "        msk_paths = sorted(\n",
    "            [path.relative_to(digitanie) for path in Path(digitanie/city/'COS9').glob('*.tif')],\n",
    "            key=lambda x: int(x.stem.split('_')[1][0])\n",
    "        )\n",
    "        for i, (img, msk) in enumerate(zip(img_paths, msk_paths)):\n",
    "            with rasterio.open(digitanie/img) as f:\n",
    "                height, width = f.shape\n",
    "                stats = [f.statistics(bidx=i, approx=True, clear_cache=False) for i in range(1, f.count+1)]\n",
    "                writer.writerow(\n",
    "                    [\n",
    "                        f'DigitanieV2',\n",
    "                        i,\n",
    "                        img,\n",
    "                        msk,\n",
    "                        0,\n",
    "                        0,\n",
    "                        width,\n",
    "                        height,\n",
    "                        i,\n",
    "                        str(tuple([round(s.min,3) for s in stats])),\n",
    "                        str(tuple([round(s.max,3) for s in stats]))\n",
    "                    ]\n",
    "                )\n",
    "            "
   ]
  },
  {
   "cell_type": "code",
   "execution_count": null,
   "id": "cb41e670-0567-458f-8904-be702a1814f9",
   "metadata": {},
   "outputs": [],
   "source": []
  }
 ],
 "metadata": {
  "kernelspec": {
   "display_name": "dl_toolbox_venv",
   "language": "python",
   "name": "dl_toolbox_venv"
  },
  "language_info": {
   "codemirror_mode": {
    "name": "ipython",
    "version": 3
   },
   "file_extension": ".py",
   "mimetype": "text/x-python",
   "name": "python",
   "nbconvert_exporter": "python",
   "pygments_lexer": "ipython3",
   "version": "3.8.10"
  }
 },
 "nbformat": 4,
 "nbformat_minor": 5
}
