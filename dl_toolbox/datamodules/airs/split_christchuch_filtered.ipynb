{
 "cells": [
  {
   "cell_type": "code",
   "execution_count": 1,
   "id": "b4a18a54-e31c-48f5-8c02-15a562eee1d7",
   "metadata": {
    "tags": []
   },
   "outputs": [],
   "source": [
    "import glob\n",
    "from pathlib import Path"
   ]
  },
  {
   "cell_type": "code",
   "execution_count": 9,
   "id": "6ce04b1a-64fd-4a6c-af33-c45075dea4c7",
   "metadata": {
    "tags": []
   },
   "outputs": [
    {
     "name": "stdout",
     "output_type": "stream",
     "text": [
      "[(PosixPath('/data/AIRS/trainval/train/image/christchurch_9.tif'), PosixPath('/data/AIRS/trainval/train/label/christchurch_9.tif')), (PosixPath('/data/AIRS/trainval/train/image/christchurch_10.tif'), PosixPath('/data/AIRS/trainval/train/label/christchurch_10.tif')), (PosixPath('/data/AIRS/trainval/train/image/christchurch_11.tif'), PosixPath('/data/AIRS/trainval/train/label/christchurch_11.tif')), (PosixPath('/data/AIRS/trainval/train/image/christchurch_12.tif'), PosixPath('/data/AIRS/trainval/train/label/christchurch_12.tif')), (PosixPath('/data/AIRS/trainval/train/image/christchurch_13.tif'), PosixPath('/data/AIRS/trainval/train/label/christchurch_13.tif')), (PosixPath('/data/AIRS/trainval/train/image/christchurch_14.tif'), PosixPath('/data/AIRS/trainval/train/label/christchurch_14.tif')), (PosixPath('/data/AIRS/trainval/train/image/christchurch_16.tif'), PosixPath('/data/AIRS/trainval/train/label/christchurch_16.tif')), (PosixPath('/data/AIRS/trainval/train/image/christchurch_17.tif'), PosixPath('/data/AIRS/trainval/train/label/christchurch_17.tif')), (PosixPath('/data/AIRS/trainval/train/image/christchurch_18.tif'), PosixPath('/data/AIRS/trainval/train/label/christchurch_18.tif')), (PosixPath('/data/AIRS/trainval/train/image/christchurch_20.tif'), PosixPath('/data/AIRS/trainval/train/label/christchurch_20.tif'))]\n"
     ]
    }
   ],
   "source": []
  },
  {
   "cell_type": "code",
   "execution_count": 3,
   "id": "708fbf96-b0e8-4086-acc7-dff1bd7b5519",
   "metadata": {
    "tags": []
   },
   "outputs": [],
   "source": []
  },
  {
   "cell_type": "code",
   "execution_count": 4,
   "id": "8d48df2a-f788-4f7c-985f-fe1276cc3bcc",
   "metadata": {
    "tags": []
   },
   "outputs": [
    {
     "name": "stdout",
     "output_type": "stream",
     "text": [
      "/work/AI4GEO/data/DATA/DATASETS/AIRS/trainval/train/image/christchurch_13.tif contains no building\n",
      "/work/AI4GEO/data/DATA/DATASETS/AIRS/trainval/train/image/christchurch_14.tif contains no building\n",
      "/work/AI4GEO/data/DATA/DATASETS/AIRS/trainval/train/image/christchurch_17.tif contains no building\n",
      "/work/AI4GEO/data/DATA/DATASETS/AIRS/trainval/train/image/christchurch_18.tif contains no building\n",
      "/work/AI4GEO/data/DATA/DATASETS/AIRS/trainval/train/image/christchurch_20.tif contains no building\n",
      "/work/AI4GEO/data/DATA/DATASETS/AIRS/trainval/train/image/christchurch_27.tif contains no building\n",
      "/work/AI4GEO/data/DATA/DATASETS/AIRS/trainval/train/image/christchurch_28.tif contains no building\n",
      "/work/AI4GEO/data/DATA/DATASETS/AIRS/trainval/train/image/christchurch_33.tif contains no building\n",
      "/work/AI4GEO/data/DATA/DATASETS/AIRS/trainval/train/image/christchurch_34.tif contains no building\n",
      "/work/AI4GEO/data/DATA/DATASETS/AIRS/trainval/train/image/christchurch_51.tif contains no building\n",
      "/work/AI4GEO/data/DATA/DATASETS/AIRS/trainval/train/image/christchurch_62.tif contains no building\n",
      "/work/AI4GEO/data/DATA/DATASETS/AIRS/trainval/train/image/christchurch_69.tif contains no building\n",
      "/work/AI4GEO/data/DATA/DATASETS/AIRS/trainval/train/image/christchurch_81.tif contains no building\n",
      "/work/AI4GEO/data/DATA/DATASETS/AIRS/trainval/train/image/christchurch_82.tif contains no building\n"
     ]
    },
    {
     "ename": "KeyboardInterrupt",
     "evalue": "",
     "output_type": "error",
     "traceback": [
      "\u001b[0;31m---------------------------------------------------------------------------\u001b[0m",
      "\u001b[0;31mKeyboardInterrupt\u001b[0m                         Traceback (most recent call last)",
      "Cell \u001b[0;32mIn[4], line 15\u001b[0m\n\u001b[1;32m     13\u001b[0m w \u001b[38;5;241m=\u001b[39m csv\u001b[38;5;241m.\u001b[39mwriter(csvfile, delimiter\u001b[38;5;241m=\u001b[39m\u001b[38;5;124m'\u001b[39m\u001b[38;5;124m,\u001b[39m\u001b[38;5;124m'\u001b[39m)\n\u001b[1;32m     14\u001b[0m \u001b[38;5;28;01mfor\u001b[39;00m img, msk \u001b[38;5;129;01min\u001b[39;00m \u001b[38;5;28mzip\u001b[39m(imgs, msks):\n\u001b[0;32m---> 15\u001b[0m     l \u001b[38;5;241m=\u001b[39m \u001b[43mrasterio\u001b[49m\u001b[38;5;241;43m.\u001b[39;49m\u001b[43mopen\u001b[49m\u001b[43m(\u001b[49m\u001b[43mmsk\u001b[49m\u001b[43m)\u001b[49m\u001b[38;5;241;43m.\u001b[39;49m\u001b[43mread\u001b[49m\u001b[43m(\u001b[49m\u001b[43m)\u001b[49m\n\u001b[1;32m     16\u001b[0m     \u001b[38;5;28;01mif\u001b[39;00m l\u001b[38;5;241m.\u001b[39mshape \u001b[38;5;241m!=\u001b[39m (\u001b[38;5;241m1\u001b[39m, \u001b[38;5;241m10000\u001b[39m, \u001b[38;5;241m10000\u001b[39m):\n\u001b[1;32m     17\u001b[0m         \u001b[38;5;28mprint\u001b[39m(img, \u001b[38;5;124m'\u001b[39m\u001b[38;5;124mtruncated\u001b[39m\u001b[38;5;124m'\u001b[39m)\n",
      "\u001b[0;31mKeyboardInterrupt\u001b[0m: "
     ]
    }
   ],
   "source": [
    "import csv\n",
    "import rasterio\n",
    "import numpy as np\n",
    "from pathlib import Path\n",
    "\n",
    "data = Path(\"/work/AI4GEO/data/DATA/DATASETS/AIRS\")\n",
    "train = data/\"trainval/train\"\n",
    "msks = train.glob(\"label/christchurch_*[0-9].tif\")\n",
    "imgs = train.glob(\"image/christchurch_*[0-9].tif\")\n",
    "imgs = sorted(imgs, key=lambda x: int(x.stem.split('_')[-1]))\n",
    "msks = sorted(msks, key=lambda x: int(x.stem.split('_')[-1]))\n",
    "with open('/work/AI4GEO/users/fournip/AIRS/train.csv', 'w', newline='') as csvfile:\n",
    "    w = csv.writer(csvfile, delimiter=',')\n",
    "    for img, msk in zip(imgs, msks):\n",
    "        l = rasterio.open(msk).read()\n",
    "        if l.shape != (1, 10000, 10000):\n",
    "            print(img, 'truncated')\n",
    "        elif np.all(l==0):\n",
    "            print(img, 'contains no building')\n",
    "        else:\n",
    "            w.writerow([str(Path(img).relative_to(data)), str(Path(msk).relative_to(data))])"
   ]
  },
  {
   "cell_type": "code",
   "execution_count": 5,
   "id": "8e78b406-61c8-4c1c-8f5f-c03b22ab075e",
   "metadata": {},
   "outputs": [],
   "source": [
    "test_no_bat_paths = []\n",
    "for i in range(94):\n",
    "    l = rasterio.open(os.path.join(src_dir, \"test\", f\"{i}_y.tif\")).read()\n",
    "    if np.all(l==0):\n",
    "        test_no_bat_paths.append(i)"
   ]
  },
  {
   "cell_type": "code",
   "execution_count": 6,
   "id": "cb1bd64d-b706-431c-b728-e30a7286b87a",
   "metadata": {},
   "outputs": [],
   "source": [
    "import csv\n",
    "import imagesize"
   ]
  },
  {
   "cell_type": "code",
   "execution_count": 7,
   "id": "dcd364e1-3418-4418-9212-ba418c5b89c8",
   "metadata": {},
   "outputs": [],
   "source": [
    "with open('../splits/split_christchurch_filtered.csv', 'w', newline='') as csvfile:\n",
    "    writer = csv.writer(csvfile)\n",
    "    #path = '/d/pfournie/ai4geo/data/miniworld_tif/christchurch'\n",
    "    path = src_dir\n",
    "    writer.writerow(['dataset_cls',\n",
    "                     'tile_id',\n",
    "                     'img_path',\n",
    "                     'label_path',\n",
    "                     'x0',\n",
    "                     'y0',\n",
    "                     'patch_width',\n",
    "                     'patch_height',\n",
    "                     'fold_id'\n",
    "                     ])\n",
    "    k=0\n",
    "    for i in range(94):\n",
    "        if i in test_no_bat_paths:\n",
    "            continue\n",
    "        image_path = f'test/{i}_x.tif'\n",
    "        label_path = f'test/{i}_y.tif'\n",
    "        width, height = imagesize.get(os.path.join(path, image_path))\n",
    "        writer.writerow(\n",
    "            [\n",
    "                'MiniworldChristchurch',\n",
    "                i,\n",
    "                image_path,\n",
    "                label_path,\n",
    "                0,\n",
    "                0,\n",
    "                width,\n",
    "                height,\n",
    "                k % 64\n",
    "            ]\n",
    "        )\n",
    "        k+=1\n",
    "    for j in range(856):\n",
    "        if j in train_no_bat_paths:\n",
    "            continue\n",
    "        image_path = f'train/{j}_x.tif'\n",
    "        label_path = f'train/{j}_y.tif'\n",
    "        width, height = imagesize.get(os.path.join(path, image_path))\n",
    "        writer.writerow(\n",
    "            [\n",
    "                'MiniworldChristchurch',\n",
    "                94+j,\n",
    "                image_path,\n",
    "                label_path,\n",
    "                0,\n",
    "                0,\n",
    "                width,\n",
    "                height,\n",
    "                k % 64\n",
    "            ]\n",
    "        )\n",
    "        k+=1"
   ]
  },
  {
   "cell_type": "code",
   "execution_count": null,
   "id": "a605fc68-7101-41bd-99af-8848ef8a0cc9",
   "metadata": {},
   "outputs": [],
   "source": []
  }
 ],
 "metadata": {
  "kernelspec": {
   "display_name": "Python 3 (ipykernel)",
   "language": "python",
   "name": "python3"
  },
  "language_info": {
   "codemirror_mode": {
    "name": "ipython",
    "version": 3
   },
   "file_extension": ".py",
   "mimetype": "text/x-python",
   "name": "python",
   "nbconvert_exporter": "python",
   "pygments_lexer": "ipython3",
   "version": "3.8.10"
  }
 },
 "nbformat": 4,
 "nbformat_minor": 5
}
