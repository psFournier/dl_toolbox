{
 "cells": [
  {
   "cell_type": "code",
   "execution_count": null,
   "id": "10e2fb40-60a9-4c10-83a2-5241b7bb5cf4",
   "metadata": {
    "tags": []
   },
   "outputs": [],
   "source": [
    "%matplotlib inline\n",
    "import dl_toolbox.datamodules as datamodules\n",
    "import dl_toolbox.transforms as tf\n",
    "import matplotlib.pyplot as plt\n",
    "from dl_toolbox.utils import labels_to_rgb\n",
    "\n",
    "def show_datamodule(dm, batch_type):\n",
    "    dm.prepare_data()\n",
    "    dm.setup(stage='fit')\n",
    "    train_dl = dm.train_dataloader()\n",
    "    for i, batch in enumerate(train_dl):\n",
    "        batch = batch[batch_type]\n",
    "        for j in range(4):\n",
    "            f, ax = plt.subplots(ncols=2, figsize=(20,12))\n",
    "            ax[0].imshow(batch['image'][j].numpy().transpose(1,2,0)[...,:3])\n",
    "            ax[1].imshow(labels_to_rgb(batch['label'][j].numpy(),dm.class_colors))\n",
    "            for l in range(2):\n",
    "                ax[l].set(xticklabels=[], yticklabels=[], xticks=[], yticks=[])\n",
    "        plt.show()  \n",
    "        break"
   ]
  },
  {
   "cell_type": "markdown",
   "id": "31cdcfec-6a77-4f2b-81d8-f49848f11684",
   "metadata": {
    "tags": []
   },
   "source": [
    "### FLAIR"
   ]
  },
  {
   "cell_type": "code",
   "execution_count": null,
   "id": "8f7bc72d-0016-467e-9f8e-2ffac1b3c75a",
   "metadata": {
    "tags": []
   },
   "outputs": [],
   "source": [
    "%load_ext autoreload\n",
    "%autoreload 2  \n",
    "\n",
    "dm = datamodules.Flair(\n",
    "    data_path='/work/AI4GEO/users/fournip',\n",
    "    merge='hierarchical6',\n",
    "    labeled_prop=3,\n",
    "    unlabeled_prop=5,\n",
    "    bands=[1,2,3],\n",
    "    dataset_tf=tf.StretchToMinmax([0]*3, [255]*3),\n",
    "    batch_size=4,\n",
    "    num_workers=4,\n",
    "    pin_memory=False\n",
    ")\n",
    "\n",
    "show_datamodule(dm, 'sup')"
   ]
  },
  {
   "cell_type": "markdown",
   "id": "a3248a7c-bfed-42aa-9bf6-0abfd0b4261f",
   "metadata": {},
   "source": [
    "### PSEUDOSUP FLAIR"
   ]
  },
  {
   "cell_type": "code",
   "execution_count": null,
   "id": "098ef9d6-fbb1-433d-ba54-c7ce44056447",
   "metadata": {
    "tags": []
   },
   "outputs": [],
   "source": [
    "%load_ext autoreload\n",
    "%autoreload 2  \n",
    "\n",
    "from dl_toolbox.datamodules import Flair2Pseudosup\n",
    "import dl_toolbox.transforms as tf\n",
    "from pathlib import Path\n",
    "import torch\n",
    "\n",
    "pl_dir = Path('/data/outputs/flair2_3_97/supervised_dummy/2023-09-05_102306/checkpoints/last_preds')  \n",
    "\n",
    "dm = Flair2Pseudosup(\n",
    "    data_path='/data',\n",
    "    merge='hierarchical6',\n",
    "    prop=3,\n",
    "    bands=[1,2,3],\n",
    "    train_tf=tf.NoOp(),\n",
    "    val_tf=tf.NoOp(),\n",
    "    test_tf=tf.NoOp(),\n",
    "    batch_size=4,\n",
    "    num_workers=4,\n",
    "    pin_memory=False,\n",
    "    pl_dir=pl_dir,\n",
    "    thresh=10\n",
    ")\n",
    "\n",
    "dm.prepare_data()\n",
    "dm.setup(stage='fit')\n",
    "\n",
    "train_dl = dm.train_dataloader()\n",
    "val_dl = dm.val_dataloader()\n",
    "\n",
    "%matplotlib inline\n",
    "import matplotlib.pyplot as plt\n",
    "from dl_toolbox.utils import labels_to_rgb\n",
    "\n",
    "for i, batch in enumerate(train_dl):\n",
    "    batch = batch['pseudosup']\n",
    "    confs, labels = torch.max(batch['label'], dim=1)\n",
    "    for j in range(4):\n",
    "        f, ax = plt.subplots(ncols=2, figsize=(20,12))\n",
    "        ax[0].imshow(batch['image'][j].numpy().transpose(1,2,0)[...,:3])\n",
    "        ax[1].imshow(labels_to_rgb(labels[j].numpy(),dm.class_colors))\n",
    "        for l in range(2):\n",
    "            ax[l].set(xticklabels=[], yticklabels=[], xticks=[], yticks=[])\n",
    "    plt.show()  \n",
    "    break"
   ]
  },
  {
   "cell_type": "markdown",
   "id": "3a9e3247-7710-49b1-a640-137d2de04681",
   "metadata": {},
   "source": [
    "### Digitanie"
   ]
  },
  {
   "cell_type": "code",
   "execution_count": null,
   "id": "c99a8aa6-36f4-4dd5-8cfd-65f4d5150f60",
   "metadata": {},
   "outputs": [],
   "source": [
    "%load_ext autoreload\n",
    "%autoreload 2  \n",
    "\n",
    "dm = datamodules.Digitanie(\n",
    "    data_path='/work/AI4GEO/data/DATA/DATASETS',\n",
    "    merge='all9',\n",
    "    labeled_prop=3,\n",
    "    unlabeled_prop=5,\n",
    "    bands=[1,2,3],\n",
    "    dataset_tf=tf.StretchToMinmax([0]*3, [8000.]*3),\n",
    "    batch_size=4,\n",
    "    num_workers=4,\n",
    "    pin_memory=False\n",
    ")\n",
    "\n",
    "show_datamodule(dm, 'sup')"
   ]
  },
  {
   "cell_type": "markdown",
   "id": "750fd3fc-d29c-4c82-ada3-6643fea70638",
   "metadata": {},
   "source": [
    "### RESISC"
   ]
  },
  {
   "cell_type": "code",
   "execution_count": null,
   "id": "9aef5e7e-4b24-4d3d-917a-731a4528d414",
   "metadata": {
    "tags": []
   },
   "outputs": [],
   "source": [
    "%load_ext autoreload\n",
    "%autoreload 2  \n",
    "\n",
    "dm = datamodules.Resisc(\n",
    "    data_path='/data',\n",
    "    merge='all45',\n",
    "    sup=3,\n",
    "    unsup=5,\n",
    "    bands=[1,2,3],\n",
    "    dataset_tf=tf.StretchToMinmax([0]*3, [255.]*3),\n",
    "    batch_size=4,\n",
    "    num_workers=4,\n",
    "    pin_memory=False\n",
    ")\n",
    "\n",
    "dm.prepare_data()\n",
    "dm.setup(stage='fit')\n",
    "\n",
    "train_dl = dm.train_dataloader()\n",
    "val_dl = dm.val_dataloader()\n",
    "\n",
    "for i, batch in enumerate(train_dl):\n",
    "    batch = batch['sup']\n",
    "    for j in range(4):\n",
    "        f, ax = plt.subplots(ncols=1, figsize=(6,6))\n",
    "        ax.imshow(batch['image'][j].numpy().transpose(1,2,0))\n",
    "        ax.set_title(batch['path'][j])\n",
    "    plt.show()  \n",
    "    break"
   ]
  },
  {
   "cell_type": "markdown",
   "id": "e5ddf3b0-5c59-44dd-9e10-957824257320",
   "metadata": {},
   "source": [
    "### Pseudosup resisc"
   ]
  },
  {
   "cell_type": "code",
   "execution_count": null,
   "id": "b42e6843-3871-441a-84eb-2e6382eacd5a",
   "metadata": {
    "tags": []
   },
   "outputs": [],
   "source": [
    "%load_ext autoreload\n",
    "%autoreload 2  \n",
    "\n",
    "from dl_toolbox.datamodules import ResiscPseudosup\n",
    "import dl_toolbox.transforms as tf\n",
    "\n",
    "  \n",
    "dm = ResiscPseudosup(\n",
    "    data_path='/data',\n",
    "    merge='all45',\n",
    "    prop=3,\n",
    "    train_tf=tf.NoOp(),\n",
    "    val_tf=tf.NoOp(),\n",
    "    test_tf=tf.NoOp(),\n",
    "    batch_size=4,\n",
    "    num_workers=4,\n",
    "    pin_memory=False,\n",
    "    pl_dir='/data/outputs/resisc_3_80/sup/2023-09-05_154623/checkpoints/last_preds',\n",
    "    thresh=10\n",
    ")\n",
    "\n",
    "dm.prepare_data()\n",
    "dm.setup(stage='fit')\n",
    "\n",
    "train_dl = dm.train_dataloader()\n",
    "val_dl = dm.val_dataloader()\n",
    "\n",
    "%matplotlib inline\n",
    "import matplotlib.pyplot as plt\n",
    "from dl_toolbox.utils import labels_to_rgb\n",
    "\n",
    "for i, batch in enumerate(val_dl):\n",
    "    for j in range(4):\n",
    "        f, ax = plt.subplots(ncols=1, figsize=(6,6))\n",
    "        ax.imshow(batch['image'][j].numpy().transpose(1,2,0))\n",
    "        ax.set_title(batch['path'][j])\n",
    "    plt.show()  \n",
    "    break"
   ]
  },
  {
   "cell_type": "markdown",
   "id": "f81a83e0-6bd0-428a-bb82-bde9ac16a3f7",
   "metadata": {},
   "source": [
    "### CITYSCAPES"
   ]
  },
  {
   "cell_type": "code",
   "execution_count": null,
   "id": "e438fbae-de00-46fe-b378-8d4572228c7e",
   "metadata": {
    "tags": []
   },
   "outputs": [],
   "source": [
    "%load_ext autoreload\n",
    "%autoreload 2  \n",
    "\n",
    "from dl_toolbox.datamodules import Cityscapes\n",
    "import dl_toolbox.transforms as tf\n",
    "\n",
    "  \n",
    "dm = Cityscapes(\n",
    "    data_path='/data',\n",
    "    merge='all19',\n",
    "    prop=3,\n",
    "    train_tf=tf.NoOp(),\n",
    "    val_tf=tf.NoOp(),\n",
    "    test_tf=tf.NoOp(),\n",
    "    batch_size=4,\n",
    "    num_workers=4,\n",
    "    pin_memory=False\n",
    ")\n",
    "\n",
    "dm.prepare_data()\n",
    "dm.setup(stage='fit')\n",
    "\n",
    "train_dl = dm.train_dataloader()\n",
    "val_dl = dm.val_dataloader()\n",
    "\n",
    "%matplotlib inline\n",
    "import matplotlib.pyplot as plt\n",
    "from dl_toolbox.utils import labels_to_rgb\n",
    "\n",
    "for i, batch in enumerate(train_dl):\n",
    "    batch = batch['sup']\n",
    "    for j in range(4):\n",
    "        f, ax = plt.subplots(ncols=2, figsize=(20,12))\n",
    "        ax[0].imshow(batch['image'][j].numpy().transpose(1,2,0)[...,:3])\n",
    "        ax[1].imshow(labels_to_rgb(batch['label'][j].numpy(),dm.class_colors))\n",
    "        for l in range(2):\n",
    "            ax[l].set(xticklabels=[], yticklabels=[], xticks=[], yticks=[])\n",
    "    plt.show()  \n",
    "    break"
   ]
  },
  {
   "cell_type": "markdown",
   "id": "53ffd793-572c-4f43-b462-f3457c681aef",
   "metadata": {},
   "source": [
    "### Semci"
   ]
  },
  {
   "cell_type": "code",
   "execution_count": null,
   "id": "c2dd9a5c-c020-4659-861e-50b4ec4cd82c",
   "metadata": {
    "tags": []
   },
   "outputs": [],
   "source": [
    "%load_ext autoreload\n",
    "%autoreload 2  \n",
    "\n",
    "from dl_toolbox.datamodules import SemcityDatamodule\n",
    "import dl_toolbox.transforms as tf\n",
    "\n",
    "  \n",
    "dm = SemcityDatamodule(\n",
    "    data_path='/data',\n",
    "    merge='all7',\n",
    "    bands=[4,3,2],\n",
    "    prop=3,\n",
    "    train_tf=tf.StretchToMinmaxFromCsv(\n",
    "        csv='~/dl_toolbox/dl_toolbox/datasets/semcity_stats.csv',\n",
    "        min_p='p0.0',\n",
    "        max_p='p99.0',\n",
    "        bands=[4,3,2]\n",
    "    ),\n",
    "    val_tf=tf.NoOp(),\n",
    "    test_tf=tf.NoOp(),\n",
    "    batch_size=4,\n",
    "    num_workers=4,\n",
    "    pin_memory=False\n",
    ")\n",
    "\n",
    "dm.prepare_data()\n",
    "dm.setup(stage='fit')\n",
    "\n",
    "train_dl = dm.train_dataloader()\n",
    "val_dl = dm.val_dataloader()\n",
    "\n",
    "%matplotlib inline\n",
    "import matplotlib.pyplot as plt\n",
    "from dl_toolbox.utils import labels_to_rgb\n",
    "\n",
    "for i, batch in enumerate(train_dl):\n",
    "    batch = batch['sup']\n",
    "    for j in range(4):\n",
    "        f, ax = plt.subplots(ncols=2, figsize=(20,12))\n",
    "        ax[0].imshow(batch['image'][j].numpy().transpose(1,2,0)[...,:3])\n",
    "        ax[1].imshow(labels_to_rgb(batch['label'][j].numpy(),dm.class_colors))\n",
    "        for l in range(2):\n",
    "            ax[l].set(xticklabels=[], yticklabels=[], xticks=[], yticks=[])\n",
    "    plt.show()  \n",
    "    break"
   ]
  },
  {
   "cell_type": "code",
   "execution_count": null,
   "id": "1d6f6b41-c980-4129-a200-a9c2a0b06954",
   "metadata": {},
   "outputs": [],
   "source": []
  }
 ],
 "metadata": {
  "kernelspec": {
   "display_name": "dl_toolbox_venv",
   "language": "python",
   "name": "dl_toolbox_venv"
  },
  "language_info": {
   "codemirror_mode": {
    "name": "ipython",
    "version": 3
   },
   "file_extension": ".py",
   "mimetype": "text/x-python",
   "name": "python",
   "nbconvert_exporter": "python",
   "pygments_lexer": "ipython3",
   "version": "3.8.10"
  }
 },
 "nbformat": 4,
 "nbformat_minor": 5
}
