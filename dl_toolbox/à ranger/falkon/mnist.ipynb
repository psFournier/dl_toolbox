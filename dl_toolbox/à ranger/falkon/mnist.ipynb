{
 "cells": [
  {
   "cell_type": "code",
   "execution_count": 1,
   "id": "3795d74c-7280-4966-9e5f-3a793fe8f61d",
   "metadata": {
    "tags": []
   },
   "outputs": [
    {
     "name": "stderr",
     "output_type": "stream",
     "text": [
      "/d/pfournie/dl_toolbox/venv/lib/python3.8/site-packages/tqdm/auto.py:22: TqdmWarning: IProgress not found. Please update jupyter and ipywidgets. See https://ipywidgets.readthedocs.io/en/stable/user_install.html\n",
      "  from .autonotebook import tqdm as notebook_tqdm\n"
     ]
    }
   ],
   "source": [
    "%matplotlib inline\n",
    "import matplotlib.pyplot as plt\n",
    "plt.style.use('ggplot')\n",
    "from __future__ import print_function\n",
    "import argparse\n",
    "import torch\n",
    "import torch.nn as nn\n",
    "import torch.nn.functional as F\n",
    "from torchvision import datasets\n",
    "import torchvision.transforms.v2 as v2\n",
    "import timm\n",
    "from functools import partial\n",
    "import gc\n",
    "import falkon\n",
    "\n",
    "gc.collect()\n",
    "torch.cuda.empty_cache()\n",
    "gc.collect()\n",
    "\n",
    "to_tensor=v2.Compose([\n",
    "    v2.ToImage(), \n",
    "    v2.ToDtype(torch.float32, scale=True)\n",
    "])\n",
    "\n",
    "tf = v2.Compose([\n",
    "    v2.RGB(),\n",
    "    #v2.Resize(224),\n",
    "    v2.Normalize(mean = [0.485, 0.456, 0.406], std = [0.229, 0.224, 0.225])\n",
    "    ])\n",
    "\n",
    "mnist_train = datasets.MNIST('/data', train=True, download=True,\n",
    "                   transform=to_tensor)\n",
    "mnist_test = datasets.MNIST('/data', train=False,\n",
    "                   transform=to_tensor)\n",
    "\n",
    "loader = partial(\n",
    "    torch.utils.data.DataLoader,\n",
    "    num_workers=6,\n",
    "    pin_memory=False,\n",
    "    shuffle=False,\n",
    "    drop_last=False,\n",
    "    batch_size=16,\n",
    ")\n",
    "\n",
    "resnet18 = timm.create_model('resnet18', pretrained=True).to('cuda').eval()\n",
    "#train_imgs, train_labels = list(zip(*mnist_train))\n",
    "#test_imgs, test_labels = list(zip(*mnist_test))\n"
   ]
  },
  {
   "cell_type": "code",
   "execution_count": 2,
   "id": "277e824d-1d29-4ea7-a25b-0aed8c5cfdbe",
   "metadata": {
    "tags": []
   },
   "outputs": [
    {
     "name": "stdout",
     "output_type": "stream",
     "text": [
      "0\n",
      "500\n",
      "1000\n",
      "1500\n",
      "2000\n",
      "2500\n",
      "3000\n",
      "3500\n",
      "torch.Size([60000, 784]) torch.Size([60000, 10])\n"
     ]
    }
   ],
   "source": [
    "torch.multiprocessing.set_sharing_strategy('file_system')\n",
    "gc.collect()\n",
    "torch.cuda.empty_cache()\n",
    "gc.collect()\n",
    "train_feats = []\n",
    "train_imgs = []\n",
    "train_labels = []\n",
    "for i, (imgs, labs) in enumerate(loader(dataset=mnist_train)):\n",
    "    train_imgs.append(imgs)\n",
    "    train_labels.append(labs)\n",
    "    x = tf(imgs).to('cuda')\n",
    "    feats = resnet18.forward_intermediates(x, indices=1, intermediates_only=True)\n",
    "    feats = feats[0].cpu().detach()\n",
    "    train_feats.append(feats)\n",
    "    if i % 500 == 0:\n",
    "        print(i)\n",
    "train_feats = torch.cat(train_feats, dim=0).squeeze()\n",
    "train_x_imgs = torch.vstack(train_imgs)\n",
    "train_x_imgs = train_x_imgs.reshape(train_x_imgs.shape[0], -1)\n",
    "train_y = torch.cat(train_labels)\n",
    "A = torch.eye(10, dtype=torch.float32)\n",
    "train_y_onehot = A[train_y.to(torch.long), :]\n",
    "print(train_x_imgs.shape, train_y_onehot.shape)"
   ]
  },
  {
   "cell_type": "code",
   "execution_count": 3,
   "id": "1c3d0de6-d9a5-42c3-a878-0e3902727b4c",
   "metadata": {
    "tags": []
   },
   "outputs": [
    {
     "name": "stdout",
     "output_type": "stream",
     "text": [
      "0\n",
      "500\n",
      "torch.Size([10000, 784]) torch.Size([10000, 10])\n"
     ]
    }
   ],
   "source": [
    "torch.multiprocessing.set_sharing_strategy('file_system')\n",
    "gc.collect()\n",
    "torch.cuda.empty_cache()\n",
    "gc.collect()\n",
    "test_feats = []\n",
    "test_imgs = []\n",
    "test_labels = []\n",
    "for i, (imgs, labs) in enumerate(loader(dataset=mnist_test)):\n",
    "    test_imgs.append(imgs)\n",
    "    test_labels.append(labs)\n",
    "    x = tf(imgs).to('cuda')\n",
    "    feats = resnet18.forward_intermediates(x, indices=1, intermediates_only=True)\n",
    "    feats = feats[0].cpu().detach()\n",
    "    test_feats.append(feats)\n",
    "    if i % 500 == 0:\n",
    "        print(i)\n",
    "test_feats = torch.cat(test_feats, dim=0).squeeze()\n",
    "test_x_imgs = torch.vstack(test_imgs)\n",
    "test_x_imgs = test_x_imgs.reshape(test_x_imgs.shape[0], -1)\n",
    "test_y = torch.cat(test_labels)\n",
    "A = torch.eye(10, dtype=torch.float32)\n",
    "test_y_onehot = A[test_y.to(torch.long), :]\n",
    "print(test_x_imgs.shape, test_y_onehot.shape)"
   ]
  },
  {
   "cell_type": "code",
   "execution_count": 4,
   "id": "fd3c5b26-a00d-49f7-8234-5a76db61de5f",
   "metadata": {
    "tags": []
   },
   "outputs": [],
   "source": [
    "def classif_error(y_true, y_pred):\n",
    "    y_true = torch.argmax(y_true, dim=1)\n",
    "    y_pred = torch.argmax(y_pred, dim=1)\n",
    "    err = y_true.flatten() != y_pred.flatten()\n",
    "    return torch.mean(err.to(torch.float32))\n",
    "\n",
    "options = falkon.FalkonOptions(use_cpu=True)\n",
    "kernel = falkon.kernels.GaussianKernel(sigma=15)\n",
    "flk = falkon.Falkon(kernel=kernel,\n",
    "                    penalty=1e-8,\n",
    "                    M=1000,\n",
    "                    maxiter=10,\n",
    "                    options=options,\n",
    "                    error_every=1,\n",
    "                    error_fn=classif_error)"
   ]
  },
  {
   "cell_type": "code",
   "execution_count": 5,
   "id": "13908a61-edca-41e2-ac46-7277ffbe700f",
   "metadata": {},
   "outputs": [
    {
     "name": "stdout",
     "output_type": "stream",
     "text": [
      "Iteration   1 - Elapsed 0.84s - training error: tensor(0.2089)\n",
      "Iteration   2 - Elapsed 1.18s - training error: tensor(0.1660)\n",
      "Iteration   3 - Elapsed 1.66s - training error: tensor(0.1537)\n",
      "Iteration   4 - Elapsed 2.02s - training error: tensor(0.1482)\n",
      "Iteration   5 - Elapsed 2.37s - training error: tensor(0.1432)\n",
      "Iteration   6 - Elapsed 2.71s - training error: tensor(0.1409)\n",
      "Iteration   7 - Elapsed 3.07s - training error: tensor(0.1396)\n",
      "Iteration   8 - Elapsed 3.40s - training error: tensor(0.1358)\n",
      "Iteration   9 - Elapsed 3.81s - training error: tensor(0.1349)\n",
      "Iteration  10 - Elapsed 4.60s - training error: tensor(0.1335)\n",
      "Training error: 13.35%\n",
      "Test error: 13.47%\n"
     ]
    }
   ],
   "source": [
    "_ = flk.fit(train_feats, train_y_onehot)\n",
    "\n",
    "train_pred_from_feats = flk.predict(train_feats)\n",
    "print(\"Training error: %.2f%%\" % (classif_error(train_pred_from_feats, train_y_onehot) * 100))\n",
    "\n",
    "test_pred_from_feats = flk.predict(test_feats)\n",
    "print(\"Test error: %.2f%%\" % (classif_error(test_pred_from_feats, test_y_onehot) * 100))"
   ]
  },
  {
   "cell_type": "code",
   "execution_count": 6,
   "id": "2c25b851-e990-4571-a868-6f5814b017a9",
   "metadata": {
    "tags": []
   },
   "outputs": [
    {
     "name": "stdout",
     "output_type": "stream",
     "text": [
      "Iteration   1 - Elapsed 0.69s - training error: tensor(0.1103)\n",
      "Iteration   2 - Elapsed 1.12s - training error: tensor(0.0694)\n",
      "Iteration   3 - Elapsed 1.56s - training error: tensor(0.0570)\n",
      "Iteration   4 - Elapsed 2.00s - training error: tensor(0.0512)\n",
      "Iteration   5 - Elapsed 2.43s - training error: tensor(0.0481)\n",
      "Iteration   6 - Elapsed 2.87s - training error: tensor(0.0462)\n",
      "Iteration   7 - Elapsed 3.30s - training error: tensor(0.0443)\n",
      "Iteration   8 - Elapsed 3.76s - training error: tensor(0.0431)\n",
      "Iteration   9 - Elapsed 4.20s - training error: tensor(0.0428)\n",
      "Iteration  10 - Elapsed 5.14s - training error: tensor(0.0421)\n",
      "Training error: 4.21%\n",
      "Test error: 4.37%\n"
     ]
    }
   ],
   "source": [
    "_ = flk.fit(train_x_imgs, train_y_onehot)\n",
    "\n",
    "train_pred_from_imgs = flk.predict(train_x_imgs)\n",
    "print(\"Training error: %.2f%%\" % (classif_error(train_pred_from_imgs, train_y_onehot) * 100))\n",
    "\n",
    "test_pred_from_imgs = flk.predict(test_x_imgs)\n",
    "print(\"Test error: %.2f%%\" % (classif_error(test_pred_from_imgs, test_y_onehot) * 100))"
   ]
  }
 ],
 "metadata": {
  "kernelspec": {
   "display_name": "dl_toolbox_venv",
   "language": "python",
   "name": "dl_toolbox_venv"
  },
  "language_info": {
   "codemirror_mode": {
    "name": "ipython",
    "version": 3
   },
   "file_extension": ".py",
   "mimetype": "text/x-python",
   "name": "python",
   "nbconvert_exporter": "python",
   "pygments_lexer": "ipython3",
   "version": "3.8.10"
  }
 },
 "nbformat": 4,
 "nbformat_minor": 5
}
