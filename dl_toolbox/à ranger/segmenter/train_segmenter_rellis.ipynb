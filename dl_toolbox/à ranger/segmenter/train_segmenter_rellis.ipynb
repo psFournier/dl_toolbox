{
 "cells": [
  {
   "cell_type": "code",
   "execution_count": 1,
   "id": "dc757141-3d97-4622-96bc-91b0f1bc5f5d",
   "metadata": {
    "tags": []
   },
   "outputs": [
    {
     "name": "stderr",
     "output_type": "stream",
     "text": [
      "/d/pfournie/dl_toolbox/venv/lib/python3.8/site-packages/tqdm/auto.py:22: TqdmWarning: IProgress not found. Please update jupyter and ipywidgets. See https://ipywidgets.readthedocs.io/en/stable/user_install.html\n",
      "  from .autonotebook import tqdm as notebook_tqdm\n"
     ]
    }
   ],
   "source": [
    "from dl_toolbox import datamodules\n",
    "from torchvision import tv_tensors\n",
    "import torchvision.transforms.v2 as v2\n",
    "\n",
    "tf_train = v2.Compose([\n",
    "    v2.RandomCrop(size=(504, 504)),\n",
    "    v2.Normalize(mean=[0.485, 0.456, 0.406], std=[0.229, 0.224, 0.225]),\n",
    "])\n",
    "\n",
    "tf_test = v2.Normalize(mean=[0.485, 0.456, 0.406], std=[0.229, 0.224, 0.225])\n",
    "\n",
    "dm = datamodules.Flair(\n",
    "    data_path='/data',\n",
    "    merge='main13',\n",
    "    bands=[1,2,3],\n",
    "    sup=1,\n",
    "    unsup=0,\n",
    "    train_tf=tf_train,\n",
    "    test_tf=tf_test,\n",
    "    batch_size=4,\n",
    "    num_workers=6,\n",
    "    pin_memory=True\n",
    ")"
   ]
  },
  {
   "cell_type": "code",
   "execution_count": 2,
   "id": "18474101-35b9-4fef-98fa-6eb23069121d",
   "metadata": {
    "tags": []
   },
   "outputs": [
    {
     "name": "stderr",
     "output_type": "stream",
     "text": [
      "GPU available: True (cuda), used: True\n",
      "TPU available: False, using: 0 TPU cores\n",
      "IPU available: False, using: 0 IPUs\n",
      "HPU available: False, using: 0 HPUs\n",
      "`Trainer(limit_train_batches=1)` was configured so 1 batch per epoch will be used.\n",
      "`Trainer(limit_val_batches=1)` was configured so 1 batch will be used.\n",
      "Missing logger folder: /d/pfournie/dl_toolbox/dl_toolbox/à ranger/segmenter/lightning_logs\n"
     ]
    },
    {
     "name": "stdout",
     "output_type": "stream",
     "text": [
      "Processing domains\n"
     ]
    },
    {
     "name": "stderr",
     "output_type": "stream",
     "text": [
      "/d/pfournie/dl_toolbox/venv/lib/python3.8/site-packages/pytorch_lightning/callbacks/model_checkpoint.py:653: Checkpoint directory /tmp exists and is not empty.\n",
      "LOCAL_RANK: 0 - CUDA_VISIBLE_DEVICES: [0]\n",
      "\n",
      "  | Name         | Type                      | Params\n",
      "-----------------------------------------------------------\n",
      "0 | encoder      | VisionTransformer         | 22.4 M\n",
      "1 | decoder      | DecoderLinear             | 5.0 K \n",
      "2 | loss         | CrossEntropy              | 0     \n",
      "3 | val_accuracy | MulticlassAccuracy        | 0     \n",
      "4 | val_cm       | MulticlassConfusionMatrix | 0     \n",
      "5 | val_jaccard  | MulticlassJaccardIndex    | 0     \n",
      "-----------------------------------------------------------\n",
      "299 K     Trainable params\n",
      "22.1 M    Non-trainable params\n",
      "22.4 M    Total params\n",
      "89.424    Total estimated model params size (MB)\n"
     ]
    },
    {
     "name": "stdout",
     "output_type": "stream",
     "text": [
      "The model will start training with only 299917 trainable parameters out of 22356109.\n",
      "1 params do not undergo weight decay\n",
      "Sanity Checking DataLoader 0: 100%|███████████████████████████████████████████████████████████████████████████████████████████████| 1/1 [00:00<00:00,  1.06it/s]"
     ]
    },
    {
     "name": "stderr",
     "output_type": "stream",
     "text": [
      "/d/pfournie/dl_toolbox/venv/lib/python3.8/site-packages/pytorch_lightning/utilities/data.py:77: Trying to infer the `batch_size` from an ambiguous collection. The batch size we found is 4. To avoid any miscalculations, use `self.log(..., batch_size=batch_size)`.\n"
     ]
    },
    {
     "name": "stdout",
     "output_type": "stream",
     "text": [
      "                                                                                                                                                                \r"
     ]
    },
    {
     "name": "stderr",
     "output_type": "stream",
     "text": [
      "/d/pfournie/dl_toolbox/venv/lib/python3.8/site-packages/pytorch_lightning/loops/fit_loop.py:298: The number of training batches (1) is smaller than the logging interval Trainer(log_every_n_steps=50). Set a lower value for log_every_n_steps if you want to see logs for the training epoch.\n"
     ]
    },
    {
     "name": "stdout",
     "output_type": "stream",
     "text": [
      "Epoch 0: 100%|███████████████████████████████████████████████████████████████████████████████████████████████████████████| 1/1 [00:01<00:00,  0.62it/s, v_num=0]\n",
      "Epoch 0: 100%|███████████████████████████████████████████████████████████████████████████████████████████████████████████| 1/1 [00:06<00:00,  0.15it/s, v_num=0]\u001b[A"
     ]
    },
    {
     "name": "stderr",
     "output_type": "stream",
     "text": [
      "`Trainer.fit` stopped: `max_epochs=1` reached.\n"
     ]
    },
    {
     "name": "stdout",
     "output_type": "stream",
     "text": [
      "Epoch 0: 100%|███████████████████████████████████████████████████████████████████████████████████████████████████████████| 1/1 [00:07<00:00,  0.14it/s, v_num=0]\n"
     ]
    }
   ],
   "source": [
    "%matplotlib inline\n",
    "\n",
    "import torch\n",
    "import pytorch_lightning as pl\n",
    "from pytorch_lightning.callbacks import ModelCheckpoint\n",
    "from dl_toolbox.callbacks import ProgressBar, FeatureFt, Lora, TiffPredsWriter, CalibrationLogger\n",
    "from dl_toolbox.modules import Segmenter\n",
    "from functools import partial\n",
    "from dl_toolbox.losses import CrossEntropy\n",
    "from dl_toolbox.transforms import Sliding\n",
    "\n",
    "module = Segmenter(\n",
    "    num_classes=13,\n",
    "    backbone='vit_small_patch14_dinov2',\n",
    "    optimizer=partial(torch.optim.Adam, lr=0.001),\n",
    "    scheduler=partial(torch.optim.lr_scheduler.ConstantLR, factor=1),\n",
    "    loss=CrossEntropy(),\n",
    "    batch_tf=None,\n",
    "    metric_ignore_index=None,\n",
    "    tta=None,\n",
    "    sliding=Sliding(\n",
    "        nols=512,\n",
    "        nrows=512,\n",
    "        width=504,\n",
    "        height=504,\n",
    "        step_w=500,\n",
    "        step_h=500\n",
    "    )\n",
    ")\n",
    "\n",
    "ckpt = ModelCheckpoint(\n",
    "    dirpath='/tmp',\n",
    "    filename=\"epoch_{epoch:03d}\",\n",
    "    save_last=True\n",
    ")\n",
    "\n",
    "lora = Lora('encoder', 4)\n",
    "calib = CalibrationLogger(freq=1)\n",
    "\n",
    "trainer = pl.Trainer(\n",
    "    accelerator='gpu',\n",
    "    devices=1,\n",
    "    max_epochs=1,\n",
    "    limit_train_batches=1,\n",
    "    limit_val_batches=1,\n",
    "    callbacks=[ProgressBar(), lora, ckpt, calib]\n",
    ")\n",
    "\n",
    "trainer.fit(\n",
    "    module,\n",
    "    datamodule=dm\n",
    ")"
   ]
  },
  {
   "cell_type": "code",
   "execution_count": null,
   "id": "f373a6ec-6e6c-47d4-9780-03c55743be08",
   "metadata": {},
   "outputs": [],
   "source": [
    "import torch\n",
    "import pytorch_lightning as pl\n",
    "from pytorch_lightning.callbacks import ModelCheckpoint\n",
    "from dl_toolbox.callbacks import ProgressBar, FeatureFt, Lora, TiffPredsWriter\n",
    "from dl_toolbox.modules import Segmenter\n",
    "from functools import partial\n",
    "from dl_toolbox.losses import CrossEntropy\n",
    "from dl_toolbox.transforms import Sliding\n",
    "\n",
    "module = Segmenter(\n",
    "    num_classes=13,\n",
    "    backbone='vit_small_patch14_dinov2',\n",
    "    optimizer=partial(torch.optim.Adam, lr=0.001),\n",
    "    scheduler=partial(torch.optim.lr_scheduler.ConstantLR, factor=1),\n",
    "    loss=CrossEntropy(),\n",
    "    batch_tf=None,\n",
    "    metric_ignore_index=None,\n",
    "    tta=None,\n",
    "    sliding=Sliding(\n",
    "        nols=512,\n",
    "        nrows=512,\n",
    "        width=504,\n",
    "        height=504,\n",
    "        step_w=500,\n",
    "        step_h=500\n",
    "    )\n",
    ")\n",
    "\n",
    "lora = Lora('encoder', 4)\n",
    "\n",
    "writer = TiffPredsWriter(\n",
    "    out_path='/tmp/preds',\n",
    "    base='/data'\n",
    ")\n",
    "\n",
    "trainer = pl.Trainer(\n",
    "    accelerator='gpu',\n",
    "    devices=1,\n",
    "    max_epochs=1,\n",
    "    limit_predict_batches=100,\n",
    "    callbacks=[lora, writer]\n",
    ")\n",
    "\n",
    "trainer.predict(\n",
    "    module,\n",
    "    datamodule=dm,\n",
    "    ckpt_path='/data/outputs/flair_segmenter/remote_ckpt/2024-05-16_115135/0/checkpoints/last.ckpt',\n",
    "    return_predictions=False\n",
    ")\n",
    "\n",
    "import pandas as pd\n",
    "df = pd.read_csv(writer.out_path / 'stats.csv', index_col=0)"
   ]
  },
  {
   "cell_type": "code",
   "execution_count": null,
   "id": "27514187-f823-43e3-8c2d-66e8f999df97",
   "metadata": {
    "tags": []
   },
   "outputs": [],
   "source": [
    "sorted_df = df.sort_values('acc')\n",
    "sorted_df"
   ]
  },
  {
   "cell_type": "code",
   "execution_count": null,
   "id": "5c3659ff-8818-4712-9ad7-92918985b698",
   "metadata": {
    "tags": []
   },
   "outputs": [],
   "source": [
    "row = 180\n",
    "img_path = sorted_df.iloc[[row]]['img_path'].item()\n",
    "pred_path = sorted_df.iloc[[row]]['pred_path'].item()\n",
    "msk_path = img_path.replace('img', 'msk').replace('IMG', 'MSK')\n",
    "print(msk_path)"
   ]
  },
  {
   "cell_type": "code",
   "execution_count": null,
   "id": "91e210d7-b03e-46a3-b112-f1f2f9e1302c",
   "metadata": {
    "tags": []
   },
   "outputs": [],
   "source": [
    "from dl_toolbox.datasets import Flair\n",
    "import rasterio\n",
    "import numpy as np\n",
    "from dl_toolbox.utils import merge_labels\n",
    "import torchmetrics.functional.classification as metrics\n",
    "\n",
    "with rasterio.open(img_path, \"r\") as f:\n",
    "    image = f.read(out_dtype=np.uint8, indexes=[1,2,3])\n",
    "\n",
    "classes = Flair.classes['main13'].value\n",
    "with rasterio.open(msk_path, \"r\") as f:\n",
    "    mask = torch.from_numpy(f.read(out_dtype=np.uint8))\n",
    "    mask = merge_labels(mask, [list(l.values) for l in classes]) \n",
    "    \n",
    "with rasterio.open(pred_path, \"r\") as f:\n",
    "    pred = torch.from_numpy(f.read(out_dtype=np.uint8))\n",
    "\n",
    "conf_mat = metrics.multiclass_confusion_matrix(\n",
    "    pred,\n",
    "    mask,\n",
    "    len(classes),\n",
    "    ignore_index=0\n",
    ")\n",
    "\n",
    "%matplotlib inline\n",
    "\n",
    "from dl_toolbox.utils import plot_confusion_matrix\n",
    "\n",
    "fig = plot_confusion_matrix(\n",
    "    conf_mat,\n",
    "    [c.name for c in classes],\n",
    "    'precision'\n",
    ")"
   ]
  },
  {
   "cell_type": "code",
   "execution_count": null,
   "id": "bfdeb09b-6248-4c3a-b6c4-6b88f0d3b3a4",
   "metadata": {
    "tags": []
   },
   "outputs": [],
   "source": [
    "%matplotlib inline\n",
    "import matplotlib.pyplot as plt \n",
    "from dl_toolbox.utils import labels_to_rgb\n",
    "\n",
    "colors = [(i, c.color) for i, c in enumerate(classes)]\n",
    "overlay = np.zeros(shape=(*pred.squeeze().shape, 3), dtype=np.uint8)\n",
    "idx = 3\n",
    "label_bool = mask.squeeze() == idx\n",
    "pred_bool = pred.squeeze() == idx\n",
    "\n",
    "# Correct predictions (Hits) painted with green\n",
    "overlay[label_bool & pred_bool] = np.array([0, 250, 0], dtype=overlay.dtype)\n",
    "# Misses painted with red\n",
    "overlay[label_bool & ~pred_bool] = np.array([250, 0, 0], dtype=overlay.dtype)\n",
    "# False alarm painted with yellow\n",
    "overlay[~label_bool & pred_bool] = np.array([250, 250, 0], dtype=overlay.dtype)\n",
    "\n",
    "zone = np.s_[0:1500, 0:1500, ...]\n",
    "\n",
    "fig = plt.figure(figsize=(20,20))\n",
    "ax1 = fig.add_subplot(221)\n",
    "ax1.imshow(image.transpose(1,2,0)[zone])\n",
    "ax2 = fig.add_subplot(222)\n",
    "ax2.imshow(labels_to_rgb(mask.squeeze(), colors)[zone])\n",
    "ax3 = fig.add_subplot(223)\n",
    "ax3.imshow(labels_to_rgb(pred.squeeze(), colors)[zone])\n",
    "ax4 = fig.add_subplot(224)\n",
    "ax4.imshow(overlay[zone])"
   ]
  },
  {
   "cell_type": "code",
   "execution_count": null,
   "id": "688ac03c-c490-42e9-913a-0b2d379a1de0",
   "metadata": {},
   "outputs": [],
   "source": []
  }
 ],
 "metadata": {
  "kernelspec": {
   "display_name": "dl_toolbox_venv",
   "language": "python",
   "name": "dl_toolbox_venv"
  },
  "language_info": {
   "codemirror_mode": {
    "name": "ipython",
    "version": 3
   },
   "file_extension": ".py",
   "mimetype": "text/x-python",
   "name": "python",
   "nbconvert_exporter": "python",
   "pygments_lexer": "ipython3",
   "version": "3.8.10"
  }
 },
 "nbformat": 4,
 "nbformat_minor": 5
}
