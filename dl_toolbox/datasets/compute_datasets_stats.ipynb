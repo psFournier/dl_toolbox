{
 "cells": [
  {
   "cell_type": "markdown",
   "id": "b7fb9f93-e27d-415e-a00e-b3c0a9ac8ab0",
   "metadata": {},
   "source": [
    "### Semcity"
   ]
  },
  {
   "cell_type": "code",
   "execution_count": 1,
   "id": "0b10fa34-5c20-4ac0-ab90-c2e2fa8ea4fb",
   "metadata": {
    "tags": []
   },
   "outputs": [
    {
     "name": "stdout",
     "output_type": "stream",
     "text": [
      "322.777099609375\n",
      "322.777099609375\n"
     ]
    }
   ],
   "source": [
    "import numpy as np\n",
    "import pandas as pd\n",
    "import rasterio\n",
    "import rasterstats\n",
    "import pathlib\n",
    "\n",
    "num_img = [f'TLS_BDSD_M_{i:02}.tif' for i in range(1, 16)]\n",
    "semcity = pathlib.Path('/data/SemCity-Toulouse-bench/img_multispec_05/TLS_BDSD_M')\n",
    "scale_factor = 1/4\n",
    "imgs = []\n",
    "for num in num_img:\n",
    "    tile_path = semcity/num\n",
    "    tile_stats = []\n",
    "    with rasterio.open(tile_path) as ds:\n",
    "        img = ds.read(\n",
    "            out_shape=(\n",
    "                ds.count,\n",
    "                int(ds.height * scale_factor),\n",
    "                int(ds.width * scale_factor)\n",
    "            ),\n",
    "            resampling=rasterio.enums.Resampling.bilinear,\n",
    "            out_dtype=np.float32\n",
    "        )\n",
    "        imgs.append(np.reshape(img, (ds.count,-1)))\n",
    "data = np.concatenate(imgs, axis=1)        \n",
    "mean = np.mean(data, axis=(1))[np.newaxis,:]\n",
    "std = np.std(data, axis=(1))[np.newaxis,:]\n",
    "percentiles_vals = np.array([0, 0.5, 1, 2, 98, 99, 99.5, 100])\n",
    "percentiles = np.percentile(data, q=percentiles_vals, axis=1)\n",
    "tile_stats = np.concatenate([mean, std, percentiles], axis=0)\n",
    "tile_df = pd.DataFrame(\n",
    "    tile_stats.transpose(),\n",
    "    index=[f'band_{i}' for i in range(1,9)],\n",
    "    columns = ['mean', 'std'] + [f'p{str(i)}' for i in percentiles_vals]\n",
    ")\n",
    "print(tile_df['mean'].loc['band_1'])\n",
    "tile_df.to_csv('./semcity_stats.csv')\n",
    "df = pd.read_csv('./semcity_stats.csv', index_col=0)\n",
    "print(df['mean'].loc['band_1'])"
   ]
  },
  {
   "cell_type": "markdown",
   "id": "ce62d4f6-9e8c-4733-98d6-ef04016304c1",
   "metadata": {
    "tags": []
   },
   "source": [
    "### DIGITANIE"
   ]
  },
  {
   "cell_type": "code",
   "execution_count": 7,
   "id": "2f218991-af47-4282-83b1-8e510b8a31e2",
   "metadata": {},
   "outputs": [],
   "source": [
    "import numpy as np\n",
    "import pandas as pd\n",
    "import rasterio\n",
    "import rasterstats\n",
    "import pathlib\n",
    "import shapely\n",
    "\n",
    "digitanie = pathlib.Path('/work/AI4GEO/data/DATA/PROCESSED/PHR/COG/16bits')\n",
    "city = list(digitanie.glob('TOULOUSE_2013*.tif'))[0]\n",
    "scale_factor = 1/10\n",
    "imgs = []\n",
    "city_poly = shapely.Polygon(\n",
    "    [\n",
    "        [359326, 4833160],\n",
    "        [376735, 4842547],\n",
    "        [385238, 4826271],\n",
    "        [367914, 4816946],\n",
    "        [359326, 4833160],\n",
    "    ]\n",
    ")\n",
    "with rasterio.open(city) as ds:\n",
    "    nbands = ds.count\n",
    "    data = ds.read(\n",
    "        out_shape=(\n",
    "            ds.count,\n",
    "            int(ds.height * scale_factor),\n",
    "            int(ds.width * scale_factor)\n",
    "        ),\n",
    "        resampling=rasterio.enums.Resampling.bilinear,\n",
    "        out_dtype=np.int16\n",
    "    )\n",
    "    tf = ds.transform * ds.transform.scale(\n",
    "        (ds.width / data.shape[-1]),\n",
    "        (ds.height / data.shape[-2])\n",
    "    )\n",
    "stats = []\n",
    "for b in range(1, nbands+1):\n",
    "    stat = rasterstats.zonal_stats(\n",
    "        city_poly, \n",
    "        data[b-1],\n",
    "        stats=\"mean std min percentile_0.5 percentile_1 percentile_2 percentile_98 percentile_99 percentile_99.5 max\",\n",
    "        affine=tf,\n",
    "        band_num=b\n",
    "    )[0]\n",
    "    stats.append([\n",
    "        stat['mean'],\n",
    "        stat['std'],\n",
    "        stat['min'],\n",
    "        stat['percentile_0.5'],\n",
    "        stat['percentile_1'],\n",
    "        stat['percentile_2'],\n",
    "        stat['percentile_98'],\n",
    "        stat['percentile_99'],\n",
    "        stat['percentile_99.5'],\n",
    "        stat['max']\n",
    "    ])\n",
    "tile_stats = np.array(stats)\n",
    "tile_df = pd.DataFrame(\n",
    "    tile_stats,\n",
    "    index=[f'band_{i}' for i in range(1,nbands+1)],\n",
    "    columns = ['mean', 'std'] + [f'p{str(i)}' for i in percentiles_vals]\n",
    ")\n",
    "print(tile_df)\n",
    "print(tile_df['mean'].loc['band_1'])\n",
    "tile_df.to_csv('./digitanie_toulouse_stats.csv')\n",
    "df = pd.read_csv('./digitanie_toulouse_stats.csv', index_col=0)\n",
    "print(df['mean'].loc['band_1'])"
   ]
  },
  {
   "cell_type": "code",
   "execution_count": 76,
   "id": "b2ed0161-7f3d-4453-99f4-4452dc14879d",
   "metadata": {
    "tags": []
   },
   "outputs": [
    {
     "ename": "NameError",
     "evalue": "name 'cities' is not defined",
     "output_type": "error",
     "traceback": [
      "\u001b[0;31m---------------------------------------------------------------------------\u001b[0m",
      "\u001b[0;31mNameError\u001b[0m                                 Traceback (most recent call last)",
      "Cell \u001b[0;32mIn[76], line 13\u001b[0m\n\u001b[1;32m     10\u001b[0m     \u001b[38;5;28;01mreturn\u001b[39;00m counts, bins\n\u001b[1;32m     12\u001b[0m NUM_CLASS \u001b[38;5;241m=\u001b[39m \u001b[38;5;241m10\u001b[39m\n\u001b[0;32m---> 13\u001b[0m \u001b[38;5;28;01mfor\u001b[39;00m city, _ \u001b[38;5;129;01min\u001b[39;00m \u001b[43mcities\u001b[49m:\n\u001b[1;32m     14\u001b[0m     \n\u001b[1;32m     15\u001b[0m     \u001b[38;5;66;03m#city = city.capitalize()\u001b[39;00m\n\u001b[1;32m     16\u001b[0m     city \u001b[38;5;241m=\u001b[39m city\u001b[38;5;241m.\u001b[39mupper()\n\u001b[1;32m     17\u001b[0m     \u001b[38;5;28mprint\u001b[39m(\u001b[38;5;124mf\u001b[39m\u001b[38;5;124m'\u001b[39m\u001b[38;5;124mprocessing \u001b[39m\u001b[38;5;132;01m{\u001b[39;00mcity\u001b[38;5;132;01m}\u001b[39;00m\u001b[38;5;124m'\u001b[39m)\n",
      "\u001b[0;31mNameError\u001b[0m: name 'cities' is not defined"
     ]
    }
   ],
   "source": [
    "cls_distrib_table = []\n",
    "\n",
    "def class_distrib_tile(msk_path, num_class):\n",
    "        \n",
    "    with rasterio.open(msk_path) as file:\n",
    "        labels = file.read(out_dtype=np.uint8)\n",
    "    \n",
    "    counts, bins = np.histogram(labels.flatten(), range(num_class+1))\n",
    "    \n",
    "    return counts, bins\n",
    "\n",
    "NUM_CLASS = 10\n",
    "for city, _ in cities:\n",
    "    \n",
    "    #city = city.capitalize()\n",
    "    city = city.upper()\n",
    "    print(f'processing {city}')\n",
    "    \n",
    "    msk_paths = sorted(\n",
    "        [path.relative_to(digitanie) for path in pathlib.Path(digitanie/city/'COS9').glob('*_mask.tif')],\n",
    "        key=lambda x: int(x.stem.split('_')[1])\n",
    "    )\n",
    "    \n",
    "    for msk in msk_paths:\n",
    "        \n",
    "        tile_distrib = [str(msk)]\n",
    "        counts, bins = class_distrib_tile(digitanie/msk, NUM_CLASS)\n",
    "        tile_distrib += list(counts)\n",
    "        cls_distrib_table.append(tile_distrib)\n",
    "    \n",
    "cols = ['mask']+[f'class {i}' for i in range(NUM_CLASS)]\n",
    "df_cls = pd.DataFrame(cls_distrib_table, columns = cols)\n",
    "#HTML(df_cls.to_html(index=False))"
   ]
  },
  {
   "cell_type": "code",
   "execution_count": 13,
   "id": "f3b5850a-5628-4acd-902f-d6d6a26f4a76",
   "metadata": {},
   "outputs": [
    {
     "name": "stdout",
     "output_type": "stream",
     "text": [
      "[53595582, 11710278, 55743888, 12429850, 61576043, 86512821, 11410248, 39022780, 3117383, 425447]\n",
      "[1.6, 7.4, 1.6, 7.0, 1.4, 1.0, 7.6, 2.2, 27.8, 203.3]\n",
      "[5.3, 27.7, 5.0, 26.0, 4.4, 2.9, 28.4, 7.6, 106.6, 787.7]\n"
     ]
    }
   ],
   "source": [
    "total = list(df_cls.sum()[1:])\n",
    "print(total)\n",
    "coeffs_ce = [np.round(max(total)/c,1) for c in total]\n",
    "print(coeffs_ce)\n",
    "coeffs_bce = [np.round((sum(total) - c)/c,1) for c in total]\n",
    "print(coeffs_bce)"
   ]
  },
  {
   "cell_type": "code",
   "execution_count": 14,
   "id": "ee2f8350-6752-44de-803f-770906f3a539",
   "metadata": {},
   "outputs": [
    {
     "name": "stdout",
     "output_type": "stream",
     "text": [
      "processing TOULOUSE\n",
      "processing ARCACHON\n",
      "processing BIARRITZ\n",
      "processing MONTPELLIER\n",
      "processing STRASBOURG\n",
      "processing NANTES\n",
      "processing PARIS\n"
     ]
    }
   ],
   "source": [
    "split_table = []\n",
    "\n",
    "for city, poly in cities:\n",
    "    \n",
    "    #city = city.capitalize()\n",
    "    city = city.upper()\n",
    "    print(f'processing {city}')\n",
    "    \n",
    "    img_paths = sorted(\n",
    "        [path.relative_to(digitanie) for path in pathlib.Path(digitanie/city).glob('*_[0-9].tif')], \n",
    "        key=lambda x: int(x.stem.split('_')[-1])\n",
    "    )\n",
    "    \n",
    "    for i, img in enumerate(img_paths):\n",
    "        \n",
    "        if i < 7: split=0\n",
    "        elif i < 8: split=1\n",
    "        else: split=2\n",
    "        \n",
    "        with rasterio.open(digitanie/img) as f:\n",
    "            height, width = f.shape\n",
    "            \n",
    "        row = [img,0,0,width,height,split]\n",
    "        split_table.append(row)\n",
    "    \n",
    "cols = ['img', 'col_off', 'row_off', 'width', 'height', 'split']\n",
    "df_split = pd.DataFrame(split_table, columns = cols)\n",
    "#HTML(df_split.to_html(index=False))"
   ]
  },
  {
   "cell_type": "code",
   "execution_count": 5,
   "id": "8b9570c3-f1af-4b1d-92bc-f7cd1d1ca673",
   "metadata": {},
   "outputs": [],
   "source": [
    "#df_split.to_csv('../datamodules/splits/digitanie_france/split.csv', index=True)\n",
    "df_stats_duplic.to_csv('../datamodules/splits/digitanie_france/stats.csv', index=True)\n",
    "#df_cls.to_csv('../datamodules/splits/digitanie_france/cls.csv', index=True)"
   ]
  },
  {
   "cell_type": "code",
   "execution_count": null,
   "id": "c911df6e-2675-484b-8594-69ccaa4dc1df",
   "metadata": {},
   "outputs": [],
   "source": []
  }
 ],
 "metadata": {
  "kernelspec": {
   "display_name": "dltoolbox",
   "language": "python",
   "name": "dltoolbox"
  },
  "language_info": {
   "codemirror_mode": {
    "name": "ipython",
    "version": 3
   },
   "file_extension": ".py",
   "mimetype": "text/x-python",
   "name": "python",
   "nbconvert_exporter": "python",
   "pygments_lexer": "ipython3",
   "version": "3.8.4"
  }
 },
 "nbformat": 4,
 "nbformat_minor": 5
}
