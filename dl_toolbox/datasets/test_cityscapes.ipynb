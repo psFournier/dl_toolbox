{
 "cells": [
  {
   "cell_type": "code",
   "execution_count": 9,
   "id": "199f55ea-b56e-4ec1-82a8-f13a33001a23",
   "metadata": {
    "tags": []
   },
   "outputs": [],
   "source": [
    "from torchvision.datasets import Cityscapes\n",
    "from pathlib import Path\n",
    "from torchvision import transforms\n",
    "from PIL import Image"
   ]
  },
  {
   "cell_type": "code",
   "execution_count": 3,
   "id": "a18d9816-09cb-48a8-a64f-fb6748ab9d2a",
   "metadata": {
    "tags": []
   },
   "outputs": [],
   "source": [
    "dataset = Cityscapes(\n",
    "    Path(\"/data/Cityscapes\"),\n",
    "    split=\"train\",\n",
    "    target_type=\"semantic\",\n",
    "    mode=\"fine\",\n",
    "    transform=transforms.ToTensor(),\n",
    "    target_transform=transforms.Compose(\n",
    "        [\n",
    "            transforms.ToTensor(),\n",
    "            transforms.Lambda(lambda t: t.squeeze())\n",
    "        ]\n",
    "    )\n",
    ")"
   ]
  },
  {
   "cell_type": "code",
   "execution_count": 4,
   "id": "cbac8ffa-aad4-4af5-81cd-7939b9dabcfc",
   "metadata": {
    "tags": []
   },
   "outputs": [],
   "source": [
    "image, target = dataset[0]"
   ]
  },
  {
   "cell_type": "code",
   "execution_count": 10,
   "id": "a3317196-d602-4a78-83b3-40d17fc42e14",
   "metadata": {
    "tags": []
   },
   "outputs": [
    {
     "name": "stderr",
     "output_type": "stream",
     "text": [
      "Error: no \"view\" rule for type \"image/png\" passed its test case\n",
      "       (for more information, add \"--debug=1\" on the command line)\n",
      "/usr/bin/xdg-open: 869: www-browser: not found\n",
      "/usr/bin/xdg-open: 869: links2: not found\n",
      "/usr/bin/xdg-open: 869: elinks: not found\n",
      "/usr/bin/xdg-open: 869: links: not found\n",
      "/usr/bin/xdg-open: 869: lynx: not found\n",
      "/usr/bin/xdg-open: 869: w3m: not found\n",
      "xdg-open: no method available for opening '/tmp/tmp277v_02h.PNG'\n"
     ]
    }
   ],
   "source": [
    "with Image.open(\"/data/Cityscapes/leftImg8bit/train/cologne/cologne_000103_000019_leftImg8bit.png\") as im:\n",
    "    im.rotate(45).show()"
   ]
  },
  {
   "cell_type": "raw",
   "id": "b632fd56-280e-4423-ad54-981f995eff31",
   "metadata": {
    "tags": []
   },
   "source": [
    "target.shape"
   ]
  },
  {
   "cell_type": "code",
   "execution_count": null,
   "id": "fcb0d24b-bee5-4c3f-92af-70670aa9893e",
   "metadata": {},
   "outputs": [],
   "source": []
  }
 ],
 "metadata": {
  "kernelspec": {
   "display_name": "dl_toolbox_venv",
   "language": "python",
   "name": "dl_toolbox_venv"
  },
  "language_info": {
   "codemirror_mode": {
    "name": "ipython",
    "version": 3
   },
   "file_extension": ".py",
   "mimetype": "text/x-python",
   "name": "python",
   "nbconvert_exporter": "python",
   "pygments_lexer": "ipython3",
   "version": "3.8.10"
  }
 },
 "nbformat": 4,
 "nbformat_minor": 5
}
