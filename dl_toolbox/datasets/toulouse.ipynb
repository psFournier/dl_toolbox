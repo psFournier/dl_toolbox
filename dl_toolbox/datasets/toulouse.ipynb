{
 "cells": [
  {
   "cell_type": "code",
   "execution_count": 11,
   "id": "06fe4dd8-2484-449c-b24a-214332290ec9",
   "metadata": {},
   "outputs": [
    {
     "ename": "ModuleNotFoundError",
     "evalue": "No module named 'shapely'",
     "output_type": "error",
     "traceback": [
      "\u001b[0;31m---------------------------------------------------------------------------\u001b[0m",
      "\u001b[0;31mModuleNotFoundError\u001b[0m                       Traceback (most recent call last)",
      "Input \u001b[0;32mIn [11]\u001b[0m, in \u001b[0;36m<cell line: 5>\u001b[0;34m()\u001b[0m\n\u001b[1;32m      3\u001b[0m \u001b[38;5;28;01mfrom\u001b[39;00m \u001b[38;5;21;01maffine\u001b[39;00m \u001b[38;5;28;01mimport\u001b[39;00m Affine\n\u001b[1;32m      4\u001b[0m \u001b[38;5;28;01mimport\u001b[39;00m \u001b[38;5;21;01mshutil\u001b[39;00m\n\u001b[0;32m----> 5\u001b[0m \u001b[38;5;28;01mimport\u001b[39;00m \u001b[38;5;21;01mshapely\u001b[39;00m\n\u001b[1;32m      7\u001b[0m \u001b[38;5;28;01mfrom\u001b[39;00m \u001b[38;5;21;01mrasterio\u001b[39;00m\u001b[38;5;21;01m.\u001b[39;00m\u001b[38;5;21;01mwindows\u001b[39;00m \u001b[38;5;28;01mimport\u001b[39;00m Window\n",
      "\u001b[0;31mModuleNotFoundError\u001b[0m: No module named 'shapely'"
     ]
    }
   ],
   "source": [
    "import rasterio\n",
    "import numpy as np\n",
    "from affine import Affine\n",
    "import shutil\n",
    "import shapely\n",
    "\n",
    "from rasterio.windows import Window"
   ]
  },
  {
   "cell_type": "code",
   "execution_count": 10,
   "id": "64ad50d3-bab7-49fc-aac5-afe827730163",
   "metadata": {},
   "outputs": [
    {
     "name": "stdout",
     "output_type": "stream",
     "text": [
      "{'driver': 'GTiff', 'dtype': 'float32', 'nodata': 0, 'width': 55600, 'height': 54062, 'count': 4, 'crs': CRS.from_epsg(32631), 'transform': Affine(0.5, 0.0, 358326.640592619,\n",
      "       0.0, -0.5, 4843218.187181153)}\n"
     ]
    }
   ],
   "source": [
    "path = '/work/OT/ai4usr/fournip/tmp/Toulouse.tif'\n",
    "\n",
    "with rasterio.open(path, 'r+') as src:\n",
    "    src.nodata = 0\n",
    "    mask = src.dataset_mask()\n",
    "    mask_polys = []\n",
    "    for shape, value in rasterio.features.shapes(\n",
    "        mask, mask=mask, connectivity=8, transform=src.transform\n",
    "    ):\n",
    "        mask_polys.append(shapely.geometry.shape(shape))\n",
    "    self.raster_mask_poly = shapely.geometry.MultiPolygon(mask_polys)"
   ]
  },
  {
   "cell_type": "code",
   "execution_count": null,
   "id": "799c2ff3-5bab-4a05-bb3c-d535e62f22da",
   "metadata": {},
   "outputs": [],
   "source": [
    "output_transform = Affine.translation(dst_w, dst_n) * Affine.scale(res[0], -res[1])"
   ]
  },
  {
   "cell_type": "code",
   "execution_count": null,
   "id": "396f3ec7-2ffa-4501-bbc0-a41d8c69e89a",
   "metadata": {},
   "outputs": [],
   "source": [
    "train_zone = intersections[16] # raster coords\n",
    "train_zone_bounds = train_zone.bounds\n",
    "# raster pixel coords\n",
    "tile = rasterio.windows.from_bounds(\n",
    "    *train_zone_bounds, \n",
    "    transform=raster.transform\n",
    ").round_offsets().round_lengths()\n",
    "tile_poly = shapely.Polygon(generate_polygon(train_zone_bounds))\n",
    "tile_patch = plotting.patch_from_polygon(tile_poly, facecolor=facecolor, edgecolor=edgecolor)\n",
    "\n",
    "area = 0\n",
    "crop_size=512\n",
    "while area <= 0 or area >= 1:\n",
    "    cx = tile.col_off + np.random.randint(0, tile.width - crop_size + 1)\n",
    "    cy = tile.row_off + np.random.randint(0, tile.height - crop_size + 1)\n",
    "    # raster pixel coords\n",
    "    crop = rasterio.windows.Window(cx, cy, crop_size, crop_size)\n",
    "    left, bottom, right, top = rasterio.windows.bounds(crop, transform=raster.transform)\n",
    "    crop_poly = shapely.Polygon(generate_polygon((left, bottom, right, top)))\n",
    "    crop_patch = plotting.patch_from_polygon(crop_poly, facecolor=facecolor, edgecolor=edgecolor)\n",
    "    intersection = shapely.intersection(crop_poly, train_zone)\n",
    "    area = shapely.area(intersection) / shapely.area(crop_poly)\n",
    "print(area)\n",
    "train_zone_patch = plotting.patch_from_polygon(train_zone, facecolor=facecolor, edgecolor=edgecolor)\n",
    "crop_img, crop_transform = rasterio.mask.mask(raster, shapes=[intersection], crop=True)\n",
    "\n",
    "\n",
    "fig3, ax3 = plt.subplots()\n",
    "ax3.add_patch(tile_patch)\n",
    "ax3.add_patch(crop_patch)\n",
    "ax3.add_patch(train_zone_patch)\n",
    "rioplt.show(crop_img, ax=ax3, transform=crop_transform)\n",
    "ax3.autoscale_view()"
   ]
  },
  {
   "cell_type": "code",
   "execution_count": null,
   "id": "a13a2640-d3d5-4b94-ab12-ade5a2374ca5",
   "metadata": {},
   "outputs": [],
   "source": []
  }
 ],
 "metadata": {
  "kernelspec": {
   "display_name": "vre_venv",
   "language": "python",
   "name": "vre_venv"
  },
  "language_info": {
   "codemirror_mode": {
    "name": "ipython",
    "version": 3
   },
   "file_extension": ".py",
   "mimetype": "text/x-python",
   "name": "python",
   "nbconvert_exporter": "python",
   "pygments_lexer": "ipython3",
   "version": "3.8.10"
  }
 },
 "nbformat": 4,
 "nbformat_minor": 5
}
