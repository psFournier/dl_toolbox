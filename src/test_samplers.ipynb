{
 "cells": [
  {
   "cell_type": "code",
   "execution_count": 22,
   "id": "10d65c46-501c-4259-a584-28d69b3d3f0c",
   "metadata": {
    "tags": []
   },
   "outputs": [],
   "source": [
    "from pathlib import Path\n",
    "from dl_toolbox.datasets import xView1\n",
    "from pycocotools.coco import COCO\n",
    "from dl_toolbox.utils import get_tiles\n",
    "from collections import defaultdict"
   ]
  },
  {
   "cell_type": "code",
   "execution_count": 26,
   "id": "4322f5ce-a207-4043-9c4e-1b094c0d5f6e",
   "metadata": {
    "tags": []
   },
   "outputs": [],
   "source": [
    "LABEL_TO_STRING = {\n",
    "    11: \"Fixed-wing Aircraft\",\n",
    "    12: \"Small Aircraft\",\n",
    "    13: \"Passenger/Cargo Plane\",\n",
    "    15: \"Helicopter\",\n",
    "    17: \"Passenger Vehicle\",\n",
    "    18: \"Small Car\",\n",
    "    19: \"Bus\",\n",
    "    20: \"Pickup Truck\",\n",
    "    21: \"Utility Truck\",\n",
    "    23: \"Truck\",\n",
    "    24: \"Cargo Truck\",\n",
    "    25: \"Truck Tractor w/ Box Trailer\",\n",
    "    26: \"Truck Tractor\",\n",
    "    27: \"Trailer\",\n",
    "    28: \"Truck Tractor w/ Flatbed Trailer\",\n",
    "    29: \"Truck Tractor w/ Liquid Tank\",\n",
    "    32: \"Crane Truck\",\n",
    "    33: \"Railway Vehicle\",\n",
    "    34: \"Passenger Car\",\n",
    "    35: \"Cargo/Container Car\",\n",
    "    36: \"Flat Car\",\n",
    "    37: \"Tank car\",\n",
    "    38: \"Locomotive\",\n",
    "    40: \"Maritime Vessel\",\n",
    "    41: \"Motorboat\",\n",
    "    42: \"Sailboat\",\n",
    "    44: \"Tugboat\",\n",
    "    45: \"Barge\",\n",
    "    47: \"Fishing Vessel\",\n",
    "    49: \"Ferry\",\n",
    "    50: \"Yacht\",\n",
    "    51: \"Container Ship\",\n",
    "    52: \"Oil Tanker\",\n",
    "    53: \"Engineering Vehicle\",\n",
    "    54: \"Tower crane\",\n",
    "    55: \"Container Crane\",\n",
    "    56: \"Reach Stacker\",\n",
    "    57: \"Straddle Carrier\",\n",
    "    59: \"Mobile Crane\",\n",
    "    60: \"Dump Truck\",\n",
    "    61: \"Haul Truck\",\n",
    "    62: \"Scraper/Tractor\",\n",
    "    63: \"Front loader/Bulldozer\",\n",
    "    64: \"Excavator\",\n",
    "    65: \"Cement Mixer\",\n",
    "    66: \"Ground Grader\",\n",
    "    71: \"Hut/Tent\",\n",
    "    72: \"Shed\",\n",
    "    73: \"Building\",\n",
    "    74: \"Aircraft Hangar\",\n",
    "    76: \"Damaged Building\",\n",
    "    77: \"Facility\",\n",
    "    79: \"Construction Site\",\n",
    "    83: \"Vehicle Lot\",\n",
    "    84: \"Helipad\",\n",
    "    86: \"Storage Tank\",\n",
    "    89: \"Shipping container lot\",\n",
    "    91: \"Shipping Container\",\n",
    "    93: \"Pylon\",\n",
    "    94: \"Tower\",\n",
    "}\n",
    "STRING_TO_LABEL = {v: k for k, v in LABEL_TO_STRING.items()}"
   ]
  },
  {
   "cell_type": "code",
   "execution_count": 30,
   "id": "06c575e8-6638-4587-90b0-5a1eeee91ad5",
   "metadata": {
    "tags": []
   },
   "outputs": [],
   "source": []
  },
  {
   "cell_type": "code",
   "execution_count": 23,
   "id": "3048b025-349d-4b07-bf44-a3002eb231be",
   "metadata": {
    "tags": []
   },
   "outputs": [
    {
     "name": "stdout",
     "output_type": "stream",
     "text": [
      "loading annotations into memory...\n",
      "Done (t=4.05s)\n",
      "creating index...\n",
      "index created!\n"
     ]
    }
   ],
   "source": [
    "coco = COCO(Path('/data')/'XVIEW1'/'xView_train.json')"
   ]
  },
  {
   "cell_type": "code",
   "execution_count": 31,
   "id": "8e3cbb96-64e9-4fe2-8f28-3c0518ec9d07",
   "metadata": {
    "tags": []
   },
   "outputs": [],
   "source": [
    "import pandas as pd\n",
    "\n",
    "df = pd.DataFrame(columns=['image_id', 'left', 'top', 'width', 'height'])\n",
    "for name in list(STRING_TO_LABEL.keys()):\n",
    "    df[name] = 0"
   ]
  },
  {
   "cell_type": "code",
   "execution_count": 86,
   "id": "34a7eea2-3398-4889-a749-a79ba6479719",
   "metadata": {
    "tags": []
   },
   "outputs": [
    {
     "name": "stdout",
     "output_type": "stream",
     "text": [
      "0\n",
      "100\n",
      "200\n",
      "300\n",
      "400\n",
      "500\n",
      "600\n",
      "700\n",
      "800\n"
     ]
    }
   ],
   "source": [
    "data = []\n",
    "for i, img_id in enumerate(coco.imgs.keys()):\n",
    "    img = coco.imgs[img_id]\n",
    "    W, H = img['width'], img['height']\n",
    "    tiles = get_tiles(\n",
    "        W,\n",
    "        H,\n",
    "        width=672,\n",
    "        step_w=336\n",
    "    )        \n",
    "    for l, t, w, h in tiles:\n",
    "        row = {'image_id': img_id, 'left': l, 'top': t, 'width': w, 'height': h}\n",
    "        counts = defaultdict(int)\n",
    "        for ann in coco.imgToAnns[img_id]:\n",
    "            cat_id = ann['category_id']\n",
    "            bbx,bby,bbw,bbh = ann['bbox']\n",
    "            cx, cy = bbx+bbw/2, bby+bbh/2\n",
    "            if l < cx < l+w and t < cy < t+h and cat_id in coco.cats.keys():\n",
    "                cat_name = LABEL_TO_STRING[cat_id]\n",
    "                counts[cat_name] += 1\n",
    "        row.update(counts)\n",
    "        data.append(row.copy())\n",
    "        #break\n",
    "    if i%100==0:\n",
    "        print(i)\n",
    "\n",
    "df = pd.DataFrame(data, columns=['image_id', 'left', 'top', 'width', 'height']+list(STRING_TO_LABEL.keys())).fillna(0).astype('int64')\n",
    "df.to_csv(Path('/data')/'XVIEW1'/'df.csv')"
   ]
  },
  {
   "cell_type": "code",
   "execution_count": null,
   "id": "2aec7c09-efdc-4085-a113-4555525c7ddf",
   "metadata": {},
   "outputs": [],
   "source": []
  },
  {
   "cell_type": "code",
   "execution_count": null,
   "id": "778fb79a-ce15-47d5-855f-e03caccfba5a",
   "metadata": {
    "tags": []
   },
   "outputs": [],
   "source": [
    "data_path = Path('/data')\n",
    "coco = COCO(data_path/'XVIEW1'/'xView_train.json')\n",
    "df = pd.read_csv(data_path/'XVIEW1'/'df.csv', index_col=0)\n",
    "filtered = df.loc[df['Building'] != 0.][['image_id', 'left', 'top', 'width', 'height', 'Building']] # A changer pour merge\n",
    "ids_tiles = []\n",
    "num_obj_per_tile = []\n",
    "for _, [img_id, l, t, w, h, num] in filtered.iterrows():\n",
    "    print(img_id)\n",
    "    ids_tiles.append((img_id, (l,t,w,h)))\n",
    "    num_obj_per_tile.append(num)\n",
    "nb_imgs = len(ids_tiles)\n",
    "val_start, test_start = int(0.8*nb_imgs), int(0.85*nb_imgs)\n",
    "train_ids, val_ids = ids_tiles[:val_start], ids_tiles[val_start:test_start]\n",
    "train_ids_and_windows = ids_tiles[:val_start]\n",
    "val_ids_and_windows = ids_tiles[val_start:test_start]\n",
    "    \n",
    "train_set = xView1(\n",
    "    merge='building',\n",
    "    coco_dataset=coco,\n",
    "    root=data_path/'XVIEW1'/'train_images',\n",
    "    ids=train_ids_and_windows\n",
    ")"
   ]
  },
  {
   "cell_type": "code",
   "execution_count": 85,
   "id": "0edba51b-c6c3-4ac6-addb-0faf5d5eb5e2",
   "metadata": {
    "tags": []
   },
   "outputs": [
    {
     "data": {
      "text/plain": [
       "{'image': Image([[[0.0275, 0.0235, 0.0235,  ..., 0.1255, 0.1294, 0.1294],\n",
       "         [0.0275, 0.0314, 0.0235,  ..., 0.1255, 0.1333, 0.1333],\n",
       "         [0.0235, 0.0275, 0.0235,  ..., 0.1373, 0.1373, 0.1333],\n",
       "         ...,\n",
       "         [0.0314, 0.0275, 0.0275,  ..., 0.5255, 0.5294, 0.5373],\n",
       "         [0.0275, 0.0314, 0.0353,  ..., 0.5333, 0.5412, 0.5333],\n",
       "         [0.0235, 0.0235, 0.0353,  ..., 0.5412, 0.5451, 0.5294]],\n",
       " \n",
       "        [[0.0275, 0.0275, 0.0235,  ..., 0.1098, 0.1137, 0.1137],\n",
       "         [0.0314, 0.0353, 0.0275,  ..., 0.1098, 0.1176, 0.1176],\n",
       "         [0.0275, 0.0275, 0.0275,  ..., 0.1176, 0.1176, 0.1137],\n",
       "         ...,\n",
       "         [0.0392, 0.0392, 0.0392,  ..., 0.5216, 0.5216, 0.5294],\n",
       "         [0.0353, 0.0392, 0.0471,  ..., 0.5255, 0.5333, 0.5255],\n",
       "         [0.0314, 0.0275, 0.0431,  ..., 0.5294, 0.5333, 0.5216]],\n",
       " \n",
       "        [[0.0118, 0.0118, 0.0118,  ..., 0.0549, 0.0588, 0.0588],\n",
       "         [0.0118, 0.0118, 0.0078,  ..., 0.0549, 0.0588, 0.0588],\n",
       "         [0.0118, 0.0118, 0.0078,  ..., 0.0627, 0.0588, 0.0588],\n",
       "         ...,\n",
       "         [0.0157, 0.0157, 0.0157,  ..., 0.4980, 0.4980, 0.5098],\n",
       "         [0.0118, 0.0157, 0.0157,  ..., 0.5020, 0.5098, 0.5020],\n",
       "         [0.0118, 0.0118, 0.0157,  ..., 0.5098, 0.5137, 0.4980]]], ),\n",
       " 'target': {'boxes': BoundingBoxes([[  2., 818.,  43.,  34.],\n",
       "                 [  0., 666.,  43., 189.],\n",
       "                 [  0., 151.,  30.,  75.],\n",
       "                 [949., 383.,  51.,  95.],\n",
       "                 [991., 330.,   9.,  13.],\n",
       "                 [996., 360.,   4., 116.],\n",
       "                 [ 53., 541.,  53.,  38.],\n",
       "                 [ 86., 824.,  38.,  34.],\n",
       "                 [950., 468.,  42.,  29.],\n",
       "                 [624., 452., 125., 100.],\n",
       "                 [917., 543.,  50.,  54.],\n",
       "                 [688., 251., 134., 169.],\n",
       "                 [997., 356.,   3.,  34.],\n",
       "                 [966., 542.,  34.,  79.],\n",
       "                 [617., 542., 104.,  53.],\n",
       "                 [950., 481.,  50.,  44.]], format=BoundingBoxFormat.XYWH, canvas_size=(1000, 1000)),\n",
       "  'labels': tensor([1, 1, 1, 1, 1, 1, 1, 1, 1, 1, 1, 1, 1, 1, 1, 1])},\n",
       " 'path': PosixPath('/data/XVIEW1/train_images/774.tif')}"
      ]
     },
     "execution_count": 85,
     "metadata": {},
     "output_type": "execute_result"
    }
   ],
   "source": [
    "train_set[0]"
   ]
  },
  {
   "cell_type": "code",
   "execution_count": 1,
   "id": "2e858d82-0e8e-48f3-9a80-4afb6a1d4ad4",
   "metadata": {
    "tags": []
   },
   "outputs": [
    {
     "name": "stdout",
     "output_type": "stream",
     "text": [
      "loading annotations into memory...\n",
      "Done (t=3.28s)\n",
      "creating index...\n",
      "index created!\n",
      "726\n"
     ]
    }
   ],
   "source": [
    "\n",
    "\n",
    "\n",
    "\n",
    "\n",
    "class COCO_xview(COCO):\n",
    "    \n",
    "    def __init__(self):\n",
    "        super().__init__()\n",
    "        \n",
    "    def createIndex(self):\n",
    "        # create index\n",
    "        print('creating index...')\n",
    "        anns, cats, imgs = {}, {}, {}\n",
    "        imgToAnns,catToImgs = defaultdict(list),defaultdict(list)\n",
    "\n",
    "        if 'images' in self.dataset:\n",
    "            for img in self.dataset['images']:\n",
    "                imgs[img['id']] = img\n",
    "\n",
    "        if 'categories' in self.dataset:\n",
    "            for cat in self.dataset['categories']:\n",
    "                cats[cat['id']] = cat\n",
    "                \n",
    "        if 'annotations' in self.dataset:\n",
    "            for ann in self.dataset['annotations']:\n",
    "                anns[ann['id']] = ann\n",
    "                img_id = ann['image_id']\n",
    "                x,y,w,h = ann['bbox']\n",
    "                imgToAnns[img_id].append(ann)\n",
    "\n",
    "        if 'annotations' in self.dataset and 'categories' in self.dataset:\n",
    "            for ann in self.dataset['annotations']:\n",
    "                catToImgs[ann['category_id']].append(ann['image_id'])\n",
    "\n",
    "        print('index created!')\n",
    "\n",
    "        # create class members\n",
    "        self.anns = anns\n",
    "        self.imgToAnns = imgToAnns\n",
    "        self.catToImgs = catToImgs\n",
    "        self.imgs = imgs\n",
    "        self.cats = cats\n",
    "    \n",
    "    def getImgIdsAndTiles(catIds, tile_size=1000):\n",
    "        imgIds = []\n",
    "        catIds = catIds if _isArrayLike(catIds) else [catIds]\n",
    "        if len(catIds) == 0:\n",
    "            ids = self.imgs.keys()\n",
    "        else:\n",
    "            catToImgsAndTiles = defaultdict(list)\n",
    "            for ann in self.dataset['annotations']:\n",
    "                img_id = ann['image_id']\n",
    "                x,y,w,h = ann['bbox']\n",
    "                cx, cy = x+w/2, y+h/2\n",
    "                tile = int(center/tile_size\n",
    "                catToImgsAndTiles[ann['category_id']].append\n",
    "                \n",
    "                \n",
    "                \n",
    "            for i, catId in enumerate(catIds):\n",
    "                cat_ids = set(self.catToImgs[catId])\n",
    "                for id in cat_ids:\n",
    "                    img = self.imgs[id]\n",
    "                    for tile in get_tiles(\n",
    "                        img['width'],\n",
    "                        img['height'],\n",
    "                        width=tile_size,\n",
    "                        step_w=tile_step\n",
    "                    ):\n",
    "                        \n",
    "                if i == 0 and len(ids) == 0:\n",
    "                    \n",
    "                else:\n",
    "                    ids &= set(self.catToImgs[catId])\n",
    "        return list(ids)\n",
    "\n",
    "coco = COCO(Path('/data')/'XVIEW1'/'xView_train.json')\n",
    "ids = [id for id, tile in coco.getImgIds(catIds=73) if id in coco.imgs.keys()]\n",
    "ids_and_windows = []\n",
    "for id in ids:\n",
    "    img = coco.imgs[id]\n",
    "    tiles = get_tiles(\n",
    "        img['width'],\n",
    "        img['height'],\n",
    "        width=img['width'],\n",
    "        height=img['height'],\n",
    "        step_w=256\n",
    "    )\n",
    "    ids_and_windows += [(id, w) for w in tiles]\n",
    "    \n",
    "dataset = xView1(\n",
    "    merge='building',\n",
    "    coco_dataset=coco,\n",
    "    root=Path('/data')/'XVIEW1'/'train_images',\n",
    "    ids=ids_and_windows\n",
    ")\n",
    "print(len(dataset))"
   ]
  },
  {
   "cell_type": "code",
   "execution_count": null,
   "id": "f281a054-e3f4-4f72-98a3-177405c896f1",
   "metadata": {},
   "outputs": [],
   "source": []
  },
  {
   "cell_type": "code",
   "execution_count": 21,
   "id": "eb0eaa0e-4c85-4a95-9c15-bc60b87b0381",
   "metadata": {
    "tags": []
   },
   "outputs": [
    {
     "data": {
      "text/plain": [
       "[(0, 0, 200, 200),\n",
       " (0, 200, 200, 200),\n",
       " (0, 400, 200, 200),\n",
       " (0, 600, 200, 200),\n",
       " (0, 800, 200, 200),\n",
       " (200, 0, 200, 200),\n",
       " (200, 200, 200, 200),\n",
       " (200, 400, 200, 200),\n",
       " (200, 600, 200, 200),\n",
       " (200, 800, 200, 200),\n",
       " (400, 0, 200, 200),\n",
       " (400, 200, 200, 200),\n",
       " (400, 400, 200, 200),\n",
       " (400, 600, 200, 200),\n",
       " (400, 800, 200, 200),\n",
       " (600, 0, 200, 200),\n",
       " (600, 200, 200, 200),\n",
       " (600, 400, 200, 200),\n",
       " (600, 600, 200, 200),\n",
       " (600, 800, 200, 200),\n",
       " (800, 0, 200, 200),\n",
       " (800, 200, 200, 200),\n",
       " (800, 400, 200, 200),\n",
       " (800, 600, 200, 200),\n",
       " (800, 800, 200, 200)]"
      ]
     },
     "execution_count": 21,
     "metadata": {},
     "output_type": "execute_result"
    }
   ],
   "source": [
    "list(get_tiles(1000,1000,200))"
   ]
  },
  {
   "cell_type": "code",
   "execution_count": 5,
   "id": "89207d04-937e-4f88-b45d-49e0c00a61a5",
   "metadata": {
    "tags": []
   },
   "outputs": [],
   "source": [
    "import torch\n",
    "import pandas as pd\n",
    "\n",
    "def num_boxes(dataset):\n",
    "    res = []\n",
    "    for i, x in enumerate(dataset):\n",
    "        #if i%10==0: print(i)\n",
    "        res.append(int(x['target']['labels'].shape[0]))\n",
    "    return res\n",
    "    \n",
    "class ImbalancedDatasetSampler(torch.utils.data.sampler.Sampler):\n",
    "    \"\"\"Samples elements randomly from a given list of indices for imbalanced dataset\n",
    "    Arguments:\n",
    "        indices: a list of indices\n",
    "        num_samples: number of samples to draw\n",
    "        callback_get_label: a callback-like function which takes two arguments - dataset and index\n",
    "    \"\"\"\n",
    "\n",
    "    def __init__(\n",
    "        self,\n",
    "        dataset,\n",
    "        labels = None,\n",
    "        num_samples = None,\n",
    "        callback = None,\n",
    "    ):\n",
    "        # if indices is not provided, all elements in the dataset will be considered\n",
    "        self.indices = list(range(len(dataset)))\n",
    "        \n",
    "        # if num_samples is not provided, draw `len(indices)` samples in each iteration\n",
    "        self.num_samples = len(self.indices) if num_samples is None else num_samples\n",
    "\n",
    "        # distribution of classes in the dataset\n",
    "        df = pd.DataFrame()\n",
    "        df[\"num_boxes\"] = callback(dataset)\n",
    "        df.index = self.indices\n",
    "        df = df.sort_index()\n",
    "\n",
    "        weights = df[\"num_boxes\"]\n",
    "\n",
    "        self.weights = torch.DoubleTensor(weights.to_list())\n",
    "\n",
    "    def __iter__(self):\n",
    "        return (\n",
    "            self.indices[i]\n",
    "            for i in torch.multinomial(self.weights, self.num_samples, replacement=True)\n",
    "        )\n",
    "\n",
    "    def __len__(self):\n",
    "        return self.num_samples"
   ]
  },
  {
   "cell_type": "code",
   "execution_count": 6,
   "id": "78e055e6-3ee9-4dc7-9887-b317d0ad956e",
   "metadata": {
    "tags": []
   },
   "outputs": [],
   "source": [
    "rnd_sampler=torch.utils.data.RandomSampler(\n",
    "    dataset,\n",
    "    replacement=True,\n",
    "    num_samples=100\n",
    ")"
   ]
  },
  {
   "cell_type": "code",
   "execution_count": 7,
   "id": "0cc3a769-c25b-41cc-b468-2928685ff1b5",
   "metadata": {
    "tags": []
   },
   "outputs": [],
   "source": [
    "weighted_sampler = ImbalancedDatasetSampler(\n",
    "    dataset,\n",
    "    callback=num_boxes,\n",
    "    num_samples=100\n",
    ")"
   ]
  },
  {
   "cell_type": "code",
   "execution_count": 8,
   "id": "57b7b1e2-0c93-468a-acb8-de52a51f69fd",
   "metadata": {
    "tags": []
   },
   "outputs": [],
   "source": [
    "rnd_num_boxes = []\n",
    "for indice in rnd_sampler:\n",
    "    rnd_num_boxes.append(int(dataset[indice]['target']['labels'].shape[0]))"
   ]
  },
  {
   "cell_type": "code",
   "execution_count": 9,
   "id": "aa380d21-1165-4e4b-a2ba-fc3391790cc0",
   "metadata": {
    "tags": []
   },
   "outputs": [
    {
     "name": "stdout",
     "output_type": "stream",
     "text": [
      "[55, 31, 536, 3, 809, 8, 240, 35, 3, 13, 226, 756, 147, 2, 48, 507, 67, 35, 16, 1361, 506, 1137, 23, 10, 2, 793, 1257, 466, 885, 38, 6, 346, 383, 883, 24, 1, 340, 1, 286, 3269, 958, 55, 52, 706, 16, 140, 7, 76, 15, 983, 31, 2354, 43, 2441, 13, 1196, 534, 289, 530, 48, 51, 73, 204, 1044, 3, 700, 128, 915, 240, 50, 104, 3, 1120, 1, 1351, 6, 199, 8, 1946, 231, 1373, 2007, 6, 7, 517, 83, 28, 8, 452, 4, 122, 20, 2, 7, 14, 121, 17, 40, 5063, 3269]\n"
     ]
    }
   ],
   "source": [
    "print(rnd_num_boxes)"
   ]
  },
  {
   "cell_type": "code",
   "execution_count": 10,
   "id": "5da93735-3314-46df-904b-2c9439594200",
   "metadata": {
    "tags": []
   },
   "outputs": [],
   "source": [
    "weighted_num_boxes = []\n",
    "for indice in weighted_sampler:\n",
    "    weighted_num_boxes.append(int(dataset[indice]['target']['labels'].shape[0]))"
   ]
  },
  {
   "cell_type": "code",
   "execution_count": 11,
   "id": "630c68ac-4bef-4b7e-9b45-a8c0ff6612e0",
   "metadata": {
    "tags": []
   },
   "outputs": [
    {
     "name": "stdout",
     "output_type": "stream",
     "text": [
      "[5063, 3269, 1345, 1440, 3032, 3613, 2339, 5063, 375, 2299, 1351, 3311, 3398, 756, 4924, 2331, 1221, 1642, 3847, 254, 3311, 5, 864, 1124, 3311, 1515, 1914, 3221, 1635, 2354, 484, 993, 279, 161, 1377, 3068, 218, 2044, 216, 2260, 860, 226, 1589, 542, 1114, 1014, 216, 1082, 1423, 1347, 3347, 41, 1951, 3032, 2563, 1946, 734, 655, 944, 5063, 3398, 81, 522, 3381, 3381, 1373, 43, 3032, 166, 2483, 1157, 2478, 2715, 1347, 3311, 3268, 3398, 507, 1563, 1698, 864, 853, 289, 7429, 3068, 220, 1563, 4924, 7, 756, 998, 92, 2044, 1345, 2483, 530, 885, 1421, 7429, 3847]\n"
     ]
    }
   ],
   "source": [
    "print(weighted_num_boxes)"
   ]
  },
  {
   "cell_type": "code",
   "execution_count": 15,
   "id": "4541ebe6-968d-4a79-ab86-6a0bdea3c64a",
   "metadata": {
    "tags": []
   },
   "outputs": [],
   "source": [
    "img_paths = [Path('/data')/'XVIEW1'/'train_images'/coco.loadImgs(id)[0][\"file_name\"] for id in coco.imgs.keys()]"
   ]
  },
  {
   "cell_type": "code",
   "execution_count": 17,
   "id": "ef0c56f8-e7c6-498c-bcb4-84abb3353870",
   "metadata": {
    "tags": []
   },
   "outputs": [
    {
     "data": {
      "text/plain": [
       "[{'id': 774,\n",
       "  'width': 2773,\n",
       "  'height': 2678,\n",
       "  'file_name': '774.tif',\n",
       "  'license': 1}]"
      ]
     },
     "execution_count": 17,
     "metadata": {},
     "output_type": "execute_result"
    }
   ],
   "source": [
    "coco.loadImgs(774)"
   ]
  },
  {
   "cell_type": "code",
   "execution_count": 16,
   "id": "e2891a34-a09c-48e0-9963-6407ae0a242f",
   "metadata": {
    "tags": []
   },
   "outputs": [
    {
     "data": {
      "text/plain": [
       "[PosixPath('/data/XVIEW1/train_images/774.tif'),\n",
       " PosixPath('/data/XVIEW1/train_images/1786.tif'),\n",
       " PosixPath('/data/XVIEW1/train_images/2486.tif'),\n",
       " PosixPath('/data/XVIEW1/train_images/1509.tif'),\n",
       " PosixPath('/data/XVIEW1/train_images/1090.tif'),\n",
       " PosixPath('/data/XVIEW1/train_images/181.tif'),\n",
       " PosixPath('/data/XVIEW1/train_images/223.tif'),\n",
       " PosixPath('/data/XVIEW1/train_images/2505.tif'),\n",
       " PosixPath('/data/XVIEW1/train_images/510.tif'),\n",
       " PosixPath('/data/XVIEW1/train_images/1046.tif')]"
      ]
     },
     "execution_count": 16,
     "metadata": {},
     "output_type": "execute_result"
    }
   ],
   "source": [
    "import rasterio\n",
    "import rasterio.windows as win\n",
    "\n",
    "class xViewCOCO\n",
    "\n",
    "coco = COCO(self.data_path/'XVIEW1'/'xView_train.json')\n",
    "ids = []\n",
    "merges = [list(l.values) for l in self.class_list]\n",
    "for merge in merges:\n",
    "    # It seems that xview annotations geojson contain bboxes for images not in train_images nor val (test set not avail?)\n",
    "    ids += [id for id in coco.getImgIds(catIds=merge) if id in coco.imgs.keys()]\n",
    "nb_imgs = len(ids)\n",
    "val_start, test_start = int(0.8*nb_imgs), int(0.85*nb_imgs)\n",
    "train_ids, val_ids = ids[:val_start], ids[val_start:test_start]\n",
    "self.train_ids_and_windows = []\n",
    "for id in train_ids:\n",
    "    img = coco.imgs[id]\n",
    "    tiles = get_tiles(\n",
    "        img['width'],\n",
    "        img['height'],\n",
    "        self.tile_size,\n",
    "        step_w=256\n",
    "    )\n",
    "    self.train_ids_and_windows += [(id, w) for w in tiles]\n",
    "\n",
    "df = pd.DataFrame()\n",
    "\n",
    "for id in coco.imgs.keys()[:2]:\n",
    "    img_desc = coco.loadImgs(id)[0]\n",
    "    path = Path('/data')/'XVIEW1'/'train_images'/img_desc[\"file_name\"]\n",
    "    width = img_desc[\"width\"]\n",
    "    height = img_desc[\"height\"]\n",
    "    tiles = get_tiles(\n",
    "        width,\n",
    "        height,\n",
    "        width=1000,\n",
    "        step_w=900\n",
    "    )\n",
    "    windows = [win.Window(l,t,w,h) for l,t,w,h in tiles]\n",
    "    \n",
    "    with rasterio.open(path, \"r\") as file:\n",
    "        image = file.read(out_dtype=np.uint8)\n",
    "        \n",
    "    ann_ids = coco.getAnnIds(id)\n",
    "    for ann_id in ann_ids:\n",
    "        ann = dict(self.coco.anns[ann_id])\n",
    "        bb_win = win.Window(*ann['bbox'])\n",
    "        if win.intersect([window, bb_win]):\n",
    "            x,y,w,h = win.intersection([window, bb_win]).flatten()\n",
    "            x -= l\n",
    "            y -= t\n",
    "            ann['bbox'] = (x,y,w,h)\n",
    "            anns.append(ann)"
   ]
  },
  {
   "cell_type": "code",
   "execution_count": null,
   "id": "7898b2e1-1c78-43ff-b94f-69cc9faeafa8",
   "metadata": {},
   "outputs": [],
   "source": [
    "df = pd.DataFrame()\n",
    "df[\"num_boxes\"] = callback(dataset)\n",
    "df.index = self.indices\n",
    "df = df.sort_index()"
   ]
  }
 ],
 "metadata": {
  "kernelspec": {
   "display_name": "dl_toolbox_38",
   "language": "python",
   "name": "dl_toolbox_38"
  },
  "language_info": {
   "codemirror_mode": {
    "name": "ipython",
    "version": 3
   },
   "file_extension": ".py",
   "mimetype": "text/x-python",
   "name": "python",
   "nbconvert_exporter": "python",
   "pygments_lexer": "ipython3",
   "version": "3.8.10"
  }
 },
 "nbformat": 4,
 "nbformat_minor": 5
}
