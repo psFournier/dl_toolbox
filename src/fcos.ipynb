{
 "cells": [
  {
   "cell_type": "markdown",
   "id": "eea7c09e-9929-4dc5-8f68-d4201a623ed4",
   "metadata": {
    "tags": []
   },
   "source": [
    "### Dataset"
   ]
  },
  {
   "cell_type": "code",
   "execution_count": 1,
   "id": "9374da9c-ecba-49c1-97bc-30bf4e820eb0",
   "metadata": {
    "tags": []
   },
   "outputs": [],
   "source": [
    "import os\n",
    "import torch\n",
    "\n",
    "from torchvision.io import read_image\n",
    "from torchvision.ops.boxes import masks_to_boxes\n",
    "from torchvision import tv_tensors\n",
    "from torchvision.transforms.v2 import functional as F\n",
    "\n",
    "class PennFudanDataset(torch.utils.data.Dataset):\n",
    "    def __init__(self, root, transforms):\n",
    "        self.root = root\n",
    "        self.transforms = transforms\n",
    "        # load all image files, sorting them to\n",
    "        # ensure that they are aligned\n",
    "        self.imgs = list(sorted(os.listdir(os.path.join(root, \"PNGImages\"))))\n",
    "        self.masks = list(sorted(os.listdir(os.path.join(root, \"PedMasks\"))))\n",
    "\n",
    "    def __getitem__(self, idx):\n",
    "        # load images and masks\n",
    "        img_path = os.path.join(self.root, \"PNGImages\", self.imgs[idx])\n",
    "        mask_path = os.path.join(self.root, \"PedMasks\", self.masks[idx])\n",
    "        img = read_image(img_path)\n",
    "        mask = read_image(mask_path)\n",
    "        # instances are encoded as different colors\n",
    "        obj_ids = torch.unique(mask)\n",
    "        # first id is the background, so remove it\n",
    "        obj_ids = obj_ids[1:]\n",
    "        num_objs = len(obj_ids)\n",
    "\n",
    "        # split the color-encoded mask into a set\n",
    "        # of binary masks\n",
    "        masks = (mask == obj_ids[:, None, None]).to(dtype=torch.uint8)\n",
    "\n",
    "        # get bounding box coordinates for each mask\n",
    "        boxes = masks_to_boxes(masks)\n",
    "\n",
    "        # there is only one class\n",
    "        labels = torch.ones((num_objs,), dtype=torch.int64)\n",
    "\n",
    "        image_id = idx\n",
    "        area = (boxes[:, 3] - boxes[:, 1]) * (boxes[:, 2] - boxes[:, 0])\n",
    "        # suppose all instances are not crowd\n",
    "        iscrowd = torch.zeros((num_objs,), dtype=torch.int64)\n",
    "\n",
    "        # Wrap sample and targets into torchvision tv_tensors:\n",
    "        img = tv_tensors.Image(img)\n",
    "\n",
    "        target = {}\n",
    "        target[\"boxes\"] = tv_tensors.BoundingBoxes(boxes, format=\"XYXY\", canvas_size=F.get_size(img))\n",
    "        target[\"masks\"] = tv_tensors.Mask(masks)\n",
    "        target[\"labels\"] = labels\n",
    "        target[\"image_id\"] = image_id\n",
    "        target[\"area\"] = area\n",
    "        target[\"iscrowd\"] = iscrowd\n",
    "\n",
    "        if self.transforms is not None:\n",
    "            img, target = self.transforms(img, target)\n",
    "\n",
    "        return {'image': img, 'target': target}\n",
    "    \n",
    "    def __len__(self):\n",
    "        return len(self.imgs)"
   ]
  },
  {
   "cell_type": "markdown",
   "id": "f9af4706-7663-4545-8917-bbcc28ad7d96",
   "metadata": {},
   "source": [
    "### Model"
   ]
  },
  {
   "cell_type": "code",
   "execution_count": 2,
   "id": "a83f0308-4d1b-469e-af70-81340e14baa6",
   "metadata": {
    "tags": []
   },
   "outputs": [],
   "source": [
    "from torchvision.models.feature_extraction import create_feature_extractor\n",
    "from torchvision.ops.feature_pyramid_network import FeaturePyramidNetwork, LastLevelP6P7\n",
    "import math\n",
    "import torch.nn as nn\n",
    "import torchvision\n",
    "\n",
    "class Scale(nn.Module):\n",
    "\n",
    "    def __init__(self, init_value=1.0):\n",
    "        super(Scale, self).__init__()\n",
    "        self.scale = nn.Parameter(torch.FloatTensor([init_value]))\n",
    "\n",
    "    def forward(self, x):\n",
    "        return x * self.scale\n",
    "\n",
    "\n",
    "class Head(nn.Module):\n",
    "\n",
    "    def __init__(self, in_channels, n_classes, n_share_convs=4, n_feat_levels=5):\n",
    "        super().__init__()\n",
    "        \n",
    "        tower = []\n",
    "        for _ in range(n_share_convs):\n",
    "            tower.append(\n",
    "                nn.Conv2d(in_channels,\n",
    "                          in_channels,\n",
    "                          kernel_size=3,\n",
    "                          stride=1,\n",
    "                          padding=1,\n",
    "                          bias=True))\n",
    "            tower.append(nn.GroupNorm(32, in_channels))\n",
    "            tower.append(nn.ReLU())\n",
    "        self.shared_layers = nn.Sequential(*tower)\n",
    "\n",
    "        self.cls_logits = nn.Conv2d(in_channels,\n",
    "                                    n_classes,\n",
    "                                    kernel_size=3,\n",
    "                                    stride=1,\n",
    "                                    padding=1)\n",
    "        self.bbox_pred = nn.Conv2d(in_channels,\n",
    "                                   4,\n",
    "                                   kernel_size=3,\n",
    "                                   stride=1,\n",
    "                                   padding=1)\n",
    "        self.ctrness = nn.Conv2d(in_channels,\n",
    "                                 1,\n",
    "                                 kernel_size=3,\n",
    "                                 stride=1,\n",
    "                                 padding=1)\n",
    "\n",
    "        self.scales = nn.ModuleList([Scale(init_value=1.0) for _ in range(5)])\n",
    "\n",
    "        #cls_tower = []\n",
    "        #bbox_tower = []\n",
    "        #for _ in range(n_share_convs):\n",
    "        #    cls_tower.append(\n",
    "        #        nn.Conv2d(in_channels,\n",
    "        #                  in_channels,\n",
    "        #                  kernel_size=3,\n",
    "        #                  stride=1,\n",
    "        #                  padding=1,\n",
    "        #                  bias=True))\n",
    "        #    cls_tower.append(nn.GroupNorm(32, in_channels))\n",
    "        #    cls_tower.append(nn.ReLU())\n",
    "        #    bbox_tower.append(\n",
    "        #        nn.Conv2d(in_channels,\n",
    "        #                  in_channels,\n",
    "        #                  kernel_size=3,\n",
    "        #                  stride=1,\n",
    "        #                  padding=1,\n",
    "        #                  bias=True))\n",
    "        #    bbox_tower.append(nn.GroupNorm(32, in_channels))\n",
    "        #    bbox_tower.append(nn.ReLU())\n",
    "        #self.cls_layers = nn.Sequential(*cls_tower)\n",
    "        #self.bbox_layers = nn.Sequential(*bbox_tower)\n",
    "#\n",
    "        #self.cls_logits = nn.Conv2d(in_channels,\n",
    "        #                            n_classes,\n",
    "        #                            kernel_size=3,\n",
    "        #                            stride=1,\n",
    "        #                            padding=1)\n",
    "        #self.bbox_pred = nn.Conv2d(in_channels,\n",
    "        #                           4,\n",
    "        #                           kernel_size=3,\n",
    "        #                           stride=1,\n",
    "        #                           padding=1)\n",
    "        #self.ctrness = nn.Conv2d(in_channels,\n",
    "        #                         1,\n",
    "        #                         kernel_size=3,\n",
    "        #                         stride=1,\n",
    "        #                         padding=1)\n",
    "        #self.scales = nn.ModuleList([Scale(init_value=1.0) for _ in range(n_feat_levels)])\n",
    "\n",
    "        # initialize the bias for focal loss\n",
    "        # Not in basara repo but it is done in the paper fcos repo\n",
    "        #prior_prob = 0.01\n",
    "        #bias_value = -math.log((1 - prior_prob) / prior_prob)\n",
    "        #torch.nn.init.constant_(self.cls_logits.bias, bias_value)\n",
    "\n",
    "    def forward(self, x):\n",
    "        cls_logits = []\n",
    "        bbox_preds = []\n",
    "        cness_preds = []\n",
    "        for l, features in enumerate(x):\n",
    "            features = self.shared_layers(features)\n",
    "            cls_logits.append(self.cls_logits(features).flatten(-2))\n",
    "            cness_preds.append(self.ctrness(features).flatten(-2))\n",
    "            reg = self.bbox_pred(features)\n",
    "            reg = self.scales[l](reg)\n",
    "            bbox_preds.append(nn.functional.relu(reg).flatten(-2))\n",
    "        #for l, features in enumerate(x):\n",
    "        #    cls_features = self.cls_layers(features) # BxinChannelsxfeatSize\n",
    "        #    bbox_features = self.bbox_layers(features)\n",
    "        #    # This flatten must flatten things in the same order anchors are flattened \n",
    "        #    cls_logits.append(self.cls_logits(cls_features).flatten(-2)) # BxNumClsxHf*Wf\n",
    "        #    cness_preds.append(self.ctrness(bbox_features).flatten(-2)) # Bx1xHf*Wf\n",
    "        #    reg = self.bbox_pred(bbox_features) # Bx4xFeatSize\n",
    "        #    reg = self.scales[l](reg)\n",
    "        #    bbox_preds.append(nn.functional.relu(reg).flatten(-2))\n",
    "        all_logits = torch.cat(cls_logits, dim=-1).permute(0,2,1) # BxNumAnchorsxC\n",
    "        all_box_regs = torch.cat(bbox_preds, dim=-1).permute(0,2,1) # BxNumAnchorsx4\n",
    "        all_cness = torch.cat(cness_preds, dim=-1).permute(0,2,1) # BxNumAnchorsx1\n",
    "        return all_logits, all_box_regs, all_cness\n",
    "    \n",
    "class FCOS(nn.Module):\n",
    "\n",
    "    def __init__(self, n_classes, input_size):\n",
    "        super().__init__()\n",
    "        self.num_classes = n_classes\n",
    "        self.input_size = input_size\n",
    "        self.feature_extractor = create_feature_extractor(\n",
    "            torchvision.models.convnext_tiny(\n",
    "                weights=torchvision.models.ConvNeXt_Tiny_Weights.IMAGENET1K_V1\n",
    "            ), \n",
    "            {\n",
    "                'features.3.2.add': 'layer2', # 1/8th feat map\n",
    "                'features.5.8.add': 'layer3', # 1/16\n",
    "                'features.7.2.add': 'layer4', # 1/32\n",
    "            }\n",
    "        )        \n",
    "        self.fpn = FeaturePyramidNetwork(\n",
    "            in_channels_list=[192, 384, 768],\n",
    "            out_channels=256,\n",
    "            extra_blocks=LastLevelP6P7(256,256) # adds feature maps at strides 64, 128\n",
    "        )\n",
    "        self.fm_strides = [8, 16, 32, 64, 128] \n",
    "        features = nn.Sequential(self.feature_extractor, self.fpn)\n",
    "        self.head = Head(256, self.num_classes)\n",
    "        \n",
    "        \n",
    "    def forward(self, x):\n",
    "        features = self.feature_extractor(x)\n",
    "        feature_maps = list(self.fpn(features).values()) # feature maps from FPN\n",
    "        box_cls, box_regression, centerness = self.head(feature_maps)\n",
    "        return box_cls, box_regression, centerness"
   ]
  },
  {
   "cell_type": "markdown",
   "id": "a9ae2350-24d5-45dc-a239-aa1223c4fb69",
   "metadata": {},
   "source": [
    "### Loss"
   ]
  },
  {
   "cell_type": "code",
   "execution_count": 3,
   "id": "a58abad9-3d22-4433-802b-9242a825c794",
   "metadata": {
    "tags": []
   },
   "outputs": [],
   "source": [
    "import torchvision\n",
    "\n",
    "class LossEvaluator(nn.Module):\n",
    "\n",
    "    def __init__(self, num_classes):\n",
    "        super(LossEvaluator, self).__init__()\n",
    "        self.centerness_loss_func = nn.BCEWithLogitsLoss(reduction=\"sum\")\n",
    "        self.num_classes = num_classes\n",
    "                \n",
    "    def __call__(self, cls_logits, reg_preds, cness_preds, cls_tgts, reg_tgts):\n",
    "        pos_inds_b, pos_inds_loc = torch.nonzero(cls_tgts > 0, as_tuple=True)\n",
    "        num_pos = len(pos_inds_b)\n",
    "        reg_preds = reg_preds[pos_inds_b, pos_inds_loc, :]\n",
    "        reg_tgts = reg_tgts[pos_inds_b, pos_inds_loc, :]\n",
    "        cness_preds = cness_preds[pos_inds_b, pos_inds_loc, :].squeeze(-1)\n",
    "        cness_tgts = self._compute_centerness_targets(reg_tgts)\n",
    "        cls_loss = self._get_cls_loss(cls_logits, cls_tgts, max(num_pos, 1.))\n",
    "        reg_loss, centerness_loss = 0,0\n",
    "        if num_pos > 0:\n",
    "            reg_loss = self._get_reg_loss(\n",
    "                reg_preds, reg_tgts, cness_tgts)\n",
    "            centerness_loss = self._get_centerness_loss(\n",
    "                cness_preds, cness_tgts, num_pos)\n",
    "        losses = {}\n",
    "        losses[\"cls_loss\"] = cls_loss\n",
    "        losses[\"reg_loss\"] = reg_loss\n",
    "        losses[\"centerness_loss\"] = centerness_loss\n",
    "        losses[\"combined_loss\"] = cls_loss + reg_loss + centerness_loss\n",
    "        return losses\n",
    "    \n",
    "    def _compute_centerness_targets(self, reg_tgts):\n",
    "        \"\"\"\n",
    "        Args:\n",
    "            reg_tgts: l, t, r, b values to regress, shape BxNumAx4\n",
    "        Returns:\n",
    "            A tensor of shape BxNumA giving how centered each anchor is for the bbox it must regress\n",
    "        \"\"\"\n",
    "        if len(reg_tgts) == 0:\n",
    "            return reg_tgts.new_zeros(len(reg_tgts))\n",
    "        left_right = reg_tgts[..., [0, 2]]\n",
    "        top_bottom = reg_tgts[..., [1, 3]]\n",
    "        centerness = (left_right.min(dim=-1)[0] / left_right.max(dim=-1)[0]) * \\\n",
    "                    (top_bottom.min(dim=-1)[0] / top_bottom.max(dim=-1)[0])\n",
    "        return torch.sqrt(centerness)\n",
    "\n",
    "    def _get_cls_loss(self, cls_preds, cls_targets, num_pos_samples):\n",
    "        \"\"\"\n",
    "        cls_targets takes values in 0...C, 0 only when there is no obj to be detected for the anchor\n",
    "        \"\"\"\n",
    "        onehot = nn.functional.one_hot(cls_targets.long(), self.num_classes+1)[...,1:].float()\n",
    "        cls_loss = torchvision.ops.sigmoid_focal_loss(cls_preds, onehot)\n",
    "        return cls_loss.sum() / num_pos_samples\n",
    "\n",
    "    def _get_reg_loss(self, reg_preds, reg_targets, centerness_targets):\n",
    "        ltrb_preds = reg_preds.reshape(-1, 4)\n",
    "        ltrb_tgts = reg_targets.reshape(-1, 4)\n",
    "        xyxy_preds = torch.cat([-ltrb_preds[:,:2], ltrb_preds[:,2:]], dim=1) \n",
    "        xyxy_tgts = torch.cat([-ltrb_tgts[:,:2], ltrb_tgts[:,2:]], dim=1)\n",
    "        reg_losses = torchvision.ops.distance_box_iou_loss(xyxy_preds, xyxy_tgts, reduction='none')\n",
    "        sum_centerness_targets = centerness_targets.sum()\n",
    "        reg_loss = (reg_losses * centerness_targets).sum() / sum_centerness_targets\n",
    "        return reg_loss\n",
    "\n",
    "    def _get_centerness_loss(self, centerness_preds, centerness_targets,\n",
    "                             num_pos_samples):\n",
    "        centerness_loss = self.centerness_loss_func(centerness_preds,\n",
    "                                                    centerness_targets)\n",
    "        return centerness_loss / num_pos_samples\n",
    "    \n"
   ]
  },
  {
   "cell_type": "markdown",
   "id": "d66c47b3-dd85-422f-b1f4-79c2af239f3b",
   "metadata": {},
   "source": [
    "### Utils"
   ]
  },
  {
   "cell_type": "code",
   "execution_count": 4,
   "id": "96751d23-bad3-438e-aa34-478b6a6faafe",
   "metadata": {
    "tags": []
   },
   "outputs": [],
   "source": [
    "INF = 100000000\n",
    "\n",
    "def get_fm_anchors(h, w, s):\n",
    "    \"\"\"\n",
    "    Args:\n",
    "        h, w: height, width of the feat map\n",
    "        s: stride of the featmap = size reduction factor relative to image\n",
    "    Returns:\n",
    "        Tensor NumAnchorsInFeatMap x 2, ordered by column \n",
    "        TODO: check why: DONE: it corresponds to how locs are computed in \n",
    "        https://github.com/tianzhi0549/FCOS/blob/master/fcos_core/modeling/rpn/fcos/fcos.py\n",
    "        When flattening feat maps, we see first the line at H(=y) fixed and W(=x) moving\n",
    "        \n",
    "    \"\"\"\n",
    "    locs_x = [s / 2 + x * s for x in range(w)]\n",
    "    locs_y = [s / 2 + y * s for y in range(h)]\n",
    "    locs = [(x, y) for y in locs_y for x in locs_x] # order !\n",
    "    return torch.tensor(locs)\n",
    "\n",
    "def get_all_anchors_bb_sizes(fm_sizes, fm_strides, bb_sizes):\n",
    "    \"\"\"\n",
    "    Args:\n",
    "        fm_sizes: seq of feature_maps sizes\n",
    "        fm_strides: seq of corresponding strides\n",
    "        bb_sizes: seq of bbox sizes feature maps are associated with, len = len(fm) + 1\n",
    "    Returns:\n",
    "        anchors: list of num_featmaps elem, where each elem indicates the tensor of anchors of size Nx2 in the original image corresponding to each location in the feature map at this level\n",
    "        anchors_bb_sizes: sizes of the bbox each anchor is authorized/supposed to detect\n",
    "    \"\"\"\n",
    "    bb_sizes = [-1] + bb_sizes + [INF]\n",
    "    anchors, anchors_bb_sizes = [], []\n",
    "    for l, ((h,w), s) in enumerate(zip(fm_sizes, fm_strides)):\n",
    "        fm_anchors = get_fm_anchors(h, w, s)\n",
    "        sizes = torch.tensor([bb_sizes[l], bb_sizes[l+1]], dtype=torch.float32)\n",
    "        sizes = sizes.repeat(len(fm_anchors)).view(len(fm_anchors), 2)\n",
    "        anchors.append(fm_anchors)\n",
    "        anchors_bb_sizes.append(sizes)\n",
    "    return torch.cat(anchors, 0), torch.cat(anchors_bb_sizes, 0)"
   ]
  },
  {
   "cell_type": "code",
   "execution_count": 5,
   "id": "e372b006-de62-412d-af86-c779553f2a24",
   "metadata": {
    "tags": []
   },
   "outputs": [],
   "source": [
    "def calculate_reg_targets(anchors, bbox):\n",
    "    \"\"\"\n",
    "    Args:\n",
    "        anchors: Lx2, anchors coordinates\n",
    "        bbox: tensor of bbox Tx4, format should be xywh\n",
    "    Returns:\n",
    "        reg_tgt: l,t,r,b values to regress for each pair (anchor, bbox)\n",
    "        anchor_in_box: whether anchor is in bbox for each pair (anchor, bbox)\n",
    "    \"\"\"\n",
    "    xs, ys = anchors[:, 0], anchors[:, 1] # L & L, x & y reversed ?? x means position on x-axis\n",
    "    l = xs[:, None] - bbox[:, 0][None] # Lx1 - 1xT -> LxT\n",
    "    t = ys[:, None] - bbox[:, 1][None]\n",
    "    r = bbox[:, 2][None] + bbox[:, 0][None] - xs[:, None]\n",
    "    b = bbox[:, 3][None] + bbox[:, 1][None] - ys[:, None]  \n",
    "    #print(xs[0], ys[0], l[0], t[0], r[0], b[0])\n",
    "    return torch.stack([l, t, r, b], dim=2) # LxTx4\n",
    "\n",
    "def apply_distance_constraints(reg_targets, anchor_sizes):\n",
    "    \"\"\"\n",
    "    Args:\n",
    "        reg_targets: LxTx4\n",
    "        anchor_bb_sizes: Lx2\n",
    "    Returns:\n",
    "        A LxT tensor where value at (anchor, bbox) is true if the max value to regress at this anchor for this bbox is inside the bounds associated to this anchor\n",
    "        If other values to regress than the max are negatives, it is dealt with anchor_in_boxes.\n",
    "    \"\"\"\n",
    "    max_reg_targets, _ = reg_targets.max(dim=2) # LxT\n",
    "    min_reg_targets, _ = reg_targets.min(dim=2) # LxT\n",
    "    dist_constraints = torch.stack([\n",
    "        min_reg_targets > 0,\n",
    "        max_reg_targets >= anchor_sizes[:, None, 0],\n",
    "        max_reg_targets <= anchor_sizes[:, None, 1]\n",
    "    ])\n",
    "    return torch.all(dist_constraints, dim=0)\n",
    "\n",
    "def anchor_bbox_area(bbox, anchors, fits_to_feature_level):\n",
    "    \"\"\"\n",
    "    Args: bbox is XYWH\n",
    "    Returns: \n",
    "        Tensor LxT where value at (anchor, bbox) is the area of bbox if anchor is in bbox and anchor is associated with bbox of that size\n",
    "        Else INF.\n",
    "    \"\"\"\n",
    "    #bbox_areas = _calc_bbox_area(bbox_targets) # T\n",
    "    bbox_areas = bbox[:, 2] * bbox[:, 3] # T\n",
    "    # area of each target bbox repeated for each loc with inf where the the loc is not \n",
    "    # in the target bbox or if the loc is not at the right level for this bbox size\n",
    "    anchor_bbox_area = bbox_areas[None].repeat(len(anchors), 1) # LxT\n",
    "    anchor_bbox_area[~fits_to_feature_level] = INF\n",
    "    return anchor_bbox_area\n",
    "\n",
    "def associate_targets_to_anchors(targets_batch, anchors, anchors_bb_sizes):\n",
    "    \"\"\"\n",
    "    Associate one target cls/bbox to regress ONLY to each anchor: among the bboxes that contain the anchor and have the right size, pick that of min area.\n",
    "    If no tgt exists for an anchor, the tgt class is 0.\n",
    "    inputs:\n",
    "        targets_batch: list of dict of tv_tensors {'labels':, 'boxes':}; boxes should be in XYWH format\n",
    "        anchors: \n",
    "        anchor_bb_sizes:\n",
    "    outputs:\n",
    "        all class targets: BxNumAnchors\n",
    "        all bbox targets: BxNumAnchorsx4\n",
    "    \"\"\"\n",
    "    all_reg_targets, all_cls_targets = [], []\n",
    "    for targets in targets_batch:\n",
    "        bbox_targets = targets['boxes'] # Tx4, format XYWH\n",
    "        cls_targets = targets['labels'] # T\n",
    "        reg_targets = calculate_reg_targets(\n",
    "            anchors, bbox_targets) # LxTx4, LxT\n",
    "        fits_to_feature_level = apply_distance_constraints(\n",
    "            reg_targets, anchors_bb_sizes) # LxT\n",
    "        locations_to_gt_area = anchor_bbox_area(\n",
    "            bbox_targets, anchors, fits_to_feature_level)\n",
    "        # Core of the anchor/target association\n",
    "        if cls_targets.shape[0]>0:\n",
    "            loc_min_area, loc_min_idxs = locations_to_gt_area.min(dim=1) #L,idx in [0,T-1],T must be>0\n",
    "            reg_targets = reg_targets[range(len(anchors)), loc_min_idxs] # Lx4\n",
    "            cls_targets = cls_targets[loc_min_idxs] # L\n",
    "            cls_targets[loc_min_area == INF] = 0 # 0 is no-obj category\n",
    "        else:\n",
    "            cls_targets = cls_targets.new_zeros((len(anchors),))\n",
    "            reg_targets = reg_targets.new_zeros((len(anchors),4))\n",
    "        all_cls_targets.append(cls_targets)\n",
    "        all_reg_targets.append(reg_targets)\n",
    "    # BxL & BxLx4\n",
    "    return torch.stack(all_cls_targets), torch.stack(all_reg_targets)"
   ]
  },
  {
   "cell_type": "markdown",
   "id": "bbfde0d8-2db1-4c7a-8fa9-b86c9c25c907",
   "metadata": {
    "tags": []
   },
   "source": [
    "### Post-processing predictions to boxes"
   ]
  },
  {
   "cell_type": "code",
   "execution_count": 6,
   "id": "0ea21012-a1cc-4b43-b168-ade9619b1f69",
   "metadata": {
    "tags": []
   },
   "outputs": [],
   "source": [
    "pre_nms_thresh=0.3\n",
    "pre_nms_top_n=100000\n",
    "nms_thresh=0.45\n",
    "fpn_post_nms_top_n=50\n",
    "min_size=0\n",
    "\n",
    "def post_process(logits, ltrb, cness, input_size):\n",
    "    probas = logits.sigmoid() # LxC\n",
    "    high_probas = probas > pre_nms_thresh # LxC\n",
    "    # Indices on L and C axis of high prob pairs anchor/class\n",
    "    high_prob_anchors_idx, high_prob_cls = high_probas.nonzero(as_tuple=True) # dim l <= L*C\n",
    "    high_prob_cls += 1 # 0 is for no object\n",
    "    high_prob_ltrb = ltrb[high_prob_anchors_idx] # lx4\n",
    "    high_prob_anchors = anchors[high_prob_anchors_idx] # lx2\n",
    "    # Tensor shape l with values from logits*cness such that logits > pre_nms_thresh \n",
    "    cness_modulated_probas = probas * cness.sigmoid() # LxC\n",
    "    high_prob_scores = cness_modulated_probas[high_probas] # l\n",
    "    # si l est trop longue\n",
    "    if high_probas.sum().item() > pre_nms_top_n:\n",
    "        # Filter the pre_nms_top_n most probable pairs \n",
    "        high_prob_scores, top_k_indices = high_prob_scores.topk(\n",
    "            pre_nms_top_n, sorted=False) \n",
    "        high_prob_cls = high_prob_cls[top_k_indices]\n",
    "        high_prob_ltrb = high_prob_ltrb[top_k_indices]\n",
    "        high_prob_anchors = high_prob_anchors[top_k_indices]\n",
    "\n",
    "    # Rewrites bbox (x0,y0,x1,y1) from reg targets (l,t,r,b) following eq (1) in paper\n",
    "    high_prob_boxes = torch.stack([\n",
    "        high_prob_anchors[:, 0] - high_prob_ltrb[:, 0],\n",
    "        high_prob_anchors[:, 1] - high_prob_ltrb[:, 1],\n",
    "        high_prob_anchors[:, 0] + high_prob_ltrb[:, 2],\n",
    "        high_prob_anchors[:, 1] + high_prob_ltrb[:, 3],\n",
    "    ], dim=1)\n",
    "\n",
    "    high_prob_boxes = torchvision.ops.clip_boxes_to_image(high_prob_boxes, input_size)\n",
    "    big_enough_box_idxs = torchvision.ops.remove_small_boxes(high_prob_boxes, min_size)\n",
    "    boxes = high_prob_boxes[big_enough_box_idxs]\n",
    "    # Why not do that on scores and classes too ? \n",
    "    classes = high_prob_cls[big_enough_box_idxs]\n",
    "    scores = high_prob_scores[big_enough_box_idxs]\n",
    "    #high_prob_scores = torch.sqrt(high_prob_scores) # WHY SQRT ? REmOVED\n",
    "    # NMS expects boxes to be in xyxy format\n",
    "    nms_idxs = torchvision.ops.nms(boxes, scores, nms_thresh)\n",
    "    boxes = boxes[nms_idxs]\n",
    "    scores = scores[nms_idxs]\n",
    "    classes = classes[nms_idxs]\n",
    "    if len(nms_idxs) > fpn_post_nms_top_n:\n",
    "        image_thresh, _ = torch.kthvalue(\n",
    "            scores.cpu(),\n",
    "            len(nms_idxs) - fpn_post_nms_top_n + 1)\n",
    "        keep = scores >= image_thresh.item()\n",
    "        #keep = torch.nonzero(keep).squeeze(1)\n",
    "        boxes, scores, classes = boxes[keep], scores[keep], classes[keep]\n",
    "    # Then back to xywh boxes for preds and metric computation\n",
    "    boxes[:, 2] -= boxes[:, 0]\n",
    "    boxes[:, 3] -= boxes[:, 1]\n",
    "    \n",
    "    # Isn't this cond auto valid from the beginning filter ?\n",
    "    #keep = scores >= pre_nms_thresh\n",
    "    #boxes, scores, classes = boxes[keep], scores[keep], classes[keep]\n",
    "    return boxes, scores, classes \n",
    "\n",
    "def post_process_batch(\n",
    "    cls_preds, # B x L x C \n",
    "    reg_preds, # B x L x 4\n",
    "    cness_preds, # B x L x 1\n",
    "    input_size\n",
    "): \n",
    "    preds = []\n",
    "    for logits, ltrb, cness in zip(cls_preds, reg_preds, cness_preds):\n",
    "        boxes, scores, classes = post_process(logits, ltrb, cness, input_size)\n",
    "        preds.append({'boxes': boxes, 'scores': scores, 'labels': classes})\n",
    "    return preds"
   ]
  },
  {
   "cell_type": "markdown",
   "id": "2472246b-884d-43ed-9619-785a40b174ec",
   "metadata": {},
   "source": [
    "### Training"
   ]
  },
  {
   "cell_type": "code",
   "execution_count": 7,
   "id": "e0c25057-cd4b-432c-b08e-e5ae087ab39d",
   "metadata": {
    "tags": []
   },
   "outputs": [
    {
     "name": "stderr",
     "output_type": "stream",
     "text": [
      "/d/pfournie/dl_toolbox/venv38/lib/python3.8/site-packages/tqdm/auto.py:21: TqdmWarning: IProgress not found. Please update jupyter and ipywidgets. See https://ipywidgets.readthedocs.io/en/stable/user_install.html\n",
      "  from .autonotebook import tqdm as notebook_tqdm\n"
     ]
    }
   ],
   "source": [
    "import time\n",
    "import random\n",
    "import numpy as np\n",
    "from tqdm.auto import tqdm\n",
    "from pprint import pformat\n",
    "from torchmetrics.detection.mean_ap import MeanAveragePrecision\n",
    "import gc \n",
    "\n",
    "import random\n",
    "import torch\n",
    "import numpy as np\n",
    "\n",
    "from dl_toolbox.utils import list_of_dicts_to_dict_of_lists\n",
    "from torchvision.transforms import v2 as T\n",
    "import torch\n",
    "from torch.utils.data import DataLoader, Subset, RandomSampler"
   ]
  },
  {
   "cell_type": "code",
   "execution_count": 8,
   "id": "96fb4d70-c871-4804-b6de-d2dd2cbae880",
   "metadata": {
    "tags": []
   },
   "outputs": [],
   "source": [
    "seed = 0\n",
    "random.seed(seed)\n",
    "np.random.seed(seed)\n",
    "torch.manual_seed(seed)\n",
    "torch.cuda.manual_seed_all(seed)"
   ]
  },
  {
   "cell_type": "code",
   "execution_count": 9,
   "id": "cf81ff54-3815-491f-8636-a79822706505",
   "metadata": {
    "tags": []
   },
   "outputs": [],
   "source": [
    "tf = T.Compose(\n",
    "    [\n",
    "        T.ToDtype(torch.float, scale=True),\n",
    "        T.Resize(size=480, max_size=640),\n",
    "        T.RandomCrop(size=(640,640), pad_if_needed=True, fill=0),\n",
    "        T.ConvertBoundingBoxFormat(format='XYWH'),\n",
    "        T.SanitizeBoundingBoxes(),\n",
    "        #T.ToPureTensor(),\n",
    "        T.Normalize(mean=[0.485, 0.456, 0.406], std=[0.229, 0.224, 0.225])\n",
    "    ]\n",
    ")\n",
    "\n",
    "\n",
    "dataset = PennFudanDataset('/data/PennFudanPed', tf)\n",
    "dataset_test = PennFudanDataset('/data/PennFudanPed', tf)\n",
    "# split the dataset in train and test set\n",
    "indices = torch.randperm(len(dataset)).tolist()\n",
    "train_set = torch.utils.data.Subset(dataset, indices[:-50])\n",
    "val_set = torch.utils.data.Subset(dataset_test, indices[-50:])"
   ]
  },
  {
   "cell_type": "code",
   "execution_count": 10,
   "id": "3c02fb07-3820-428b-b221-d6ece8bad95f",
   "metadata": {
    "tags": []
   },
   "outputs": [],
   "source": [
    "def collate(batch):\n",
    "    batch = list_of_dicts_to_dict_of_lists(batch)\n",
    "    batch['image'] = torch.stack(batch['image'])\n",
    "    return batch\n",
    "\n",
    "train_dataloader = DataLoader(\n",
    "    batch_size=4,\n",
    "    num_workers=4,\n",
    "    pin_memory=True,\n",
    "    dataset=train_set,\n",
    "    sampler=RandomSampler(\n",
    "        train_set,\n",
    "        replacement=True,\n",
    "        num_samples=100*2\n",
    "    ),\n",
    "    drop_last=True,\n",
    "    collate_fn=collate\n",
    ")\n",
    "\n",
    "val_dataloader = DataLoader(\n",
    "    batch_size=5,\n",
    "    num_workers=4,\n",
    "    pin_memory=True,\n",
    "    dataset=val_set,\n",
    "    shuffle=False,\n",
    "    drop_last=False,\n",
    "    collate_fn=collate\n",
    ")"
   ]
  },
  {
   "cell_type": "code",
   "execution_count": 11,
   "id": "9a4ce4b3-b81a-42d1-abc3-6c9189394a94",
   "metadata": {},
   "outputs": [],
   "source": [
    "anchors, anchor_sizes = get_all_anchors_bb_sizes(\n",
    "    fm_sizes=[(80,80),(40,40),(20,20),(10,10),(5,5)],\n",
    "    fm_strides=[8, 16, 32, 64, 128],\n",
    "    bb_sizes=[64, 128, 256, 512]\n",
    ")"
   ]
  },
  {
   "cell_type": "code",
   "execution_count": 12,
   "id": "262b6a09-8eaa-496d-a60b-5aa802902cc3",
   "metadata": {
    "tags": []
   },
   "outputs": [
    {
     "name": "stdout",
     "output_type": "stream",
     "text": [
      "Training 33490027 params out of 33490027\n"
     ]
    }
   ],
   "source": [
    "# Freeze params here if needed\n",
    "    \n",
    "#for param in model.feature_extractor.parameters():\n",
    "#    param.requires_grad = False\n",
    "\n",
    "model = FCOS(n_classes=1, input_size=(640,640))\n",
    "dev = torch.device(\"cuda\" if torch.cuda.is_available() else \"cpu\")\n",
    "#dev = torch.device(\"cpu\")\n",
    "model.to(dev)\n",
    "eval_losses = LossEvaluator(\n",
    "    num_classes=1\n",
    ")\n",
    "\n",
    "train_params = list(filter(lambda p: p[1].requires_grad, model.named_parameters()))\n",
    "nb_train = sum([int(torch.numel(p[1])) for p in train_params])\n",
    "nb_tot = sum([int(torch.numel(p)) for p in model.parameters()])\n",
    "print(f\"Training {nb_train} params out of {nb_tot}\")\n",
    "\n",
    "#optimizer = torch.optim.SGD(\n",
    "#    params=[p[1] for p in train_params],\n",
    "#    lr=0.005,\n",
    "#    momentum=0.9,\n",
    "#    weight_decay=0.0005\n",
    "#)\n",
    "\n",
    "optimizer = torch.optim.AdamW(\n",
    "    params=model.parameters(),\n",
    "    lr=1e-3,\n",
    "    betas=(0.9,0.999),\n",
    "    weight_decay=5e-2,\n",
    "    eps=1e-8,\n",
    ")\n",
    "\n",
    "lr_scheduler = torch.optim.lr_scheduler.OneCycleLR(\n",
    "    optimizer,\n",
    "    max_lr=1e-3,\n",
    "    steps_per_epoch=len(train_dataloader),\n",
    "    epochs=100)\n",
    "#lr_scheduler = torch.optim.lr_scheduler.LinearLR(\n",
    "#    optimizer=optimizer,\n",
    "#    start_factor=1.,\n",
    "#    end_factor=0.1,\n",
    "#    total_iters=20\n",
    "#)"
   ]
  },
  {
   "cell_type": "code",
   "execution_count": 13,
   "id": "6a13c370-b3be-4342-8ab3-7d172f8b3cb8",
   "metadata": {
    "tags": []
   },
   "outputs": [
    {
     "name": "stderr",
     "output_type": "stream",
     "text": [
      "100%|████████████████████████████████████████████████████████████████████████████████████████████████████████████| 10/10 [00:25<00:00,  2.57s/it]\n"
     ]
    },
    {
     "name": "stdout",
     "output_type": "stream",
     "text": [
      "epoch = 0\n",
      "valid_loss = 14.82506217956543\n",
      "valid_cls_loss = 13.09198055267334\n",
      "valid_reg_loss = 1.0352440237998963\n",
      "valid_cen_loss = 0.6978376269340515\n",
      "{'classes': tensor(1, dtype=torch.int32),\n",
      " 'map': tensor(0.),\n",
      " 'map_50': tensor(0.),\n",
      " 'map_75': tensor(0.),\n",
      " 'map_large': tensor(0.),\n",
      " 'map_medium': tensor(0.),\n",
      " 'map_per_class': tensor(-1.),\n",
      " 'map_small': tensor(0.),\n",
      " 'mar_1': tensor(0.),\n",
      " 'mar_10': tensor(0.),\n",
      " 'mar_100': tensor(0.),\n",
      " 'mar_100_per_class': tensor(-1.),\n",
      " 'mar_large': tensor(0.),\n",
      " 'mar_medium': tensor(0.),\n",
      " 'mar_small': tensor(0.)}\n"
     ]
    },
    {
     "name": "stderr",
     "output_type": "stream",
     "text": [
      "100%|████████████████████████████████████████████████████████████████████████████████████████████████████████████| 50/50 [00:37<00:00,  1.34it/s]\n"
     ]
    },
    {
     "name": "stdout",
     "output_type": "stream",
     "text": [
      "epoch = 0\n",
      "lr = 4.263299650727223e-05\n",
      "train_loss = 2.41715176820755\n",
      "train_cls_loss = 0.7197185629606246\n",
      "train_reg_loss = 1.0356086111068725\n",
      "train_cen_loss = 0.6618246102333069\n"
     ]
    },
    {
     "name": "stderr",
     "output_type": "stream",
     "text": [
      "100%|████████████████████████████████████████████████████████████████████████████████████████████████████████████| 10/10 [00:04<00:00,  2.11it/s]\n"
     ]
    },
    {
     "name": "stdout",
     "output_type": "stream",
     "text": [
      "epoch = 1\n",
      "valid_loss = 2.0221354484558107\n",
      "valid_cls_loss = 0.3325992852449417\n",
      "valid_reg_loss = 1.0351950764656066\n",
      "valid_cen_loss = 0.654341071844101\n",
      "{'classes': tensor(1, dtype=torch.int32),\n",
      " 'map': tensor(0.),\n",
      " 'map_50': tensor(0.),\n",
      " 'map_75': tensor(0.),\n",
      " 'map_large': tensor(0.),\n",
      " 'map_medium': tensor(0.),\n",
      " 'map_per_class': tensor(-1.),\n",
      " 'map_small': tensor(0.),\n",
      " 'mar_1': tensor(0.),\n",
      " 'mar_10': tensor(0.),\n",
      " 'mar_100': tensor(0.),\n",
      " 'mar_100_per_class': tensor(-1.),\n",
      " 'mar_large': tensor(0.),\n",
      " 'mar_medium': tensor(0.),\n",
      " 'mar_small': tensor(0.)}\n"
     ]
    },
    {
     "name": "stderr",
     "output_type": "stream",
     "text": [
      "100%|████████████████████████████████████████████████████████████████████████████████████████████████████████████| 50/50 [00:34<00:00,  1.43it/s]\n"
     ]
    },
    {
     "name": "stdout",
     "output_type": "stream",
     "text": [
      "epoch = 1\n",
      "lr = 5.050309990155808e-05\n",
      "train_loss = 1.919824209213257\n",
      "train_cls_loss = 0.23884614020586015\n",
      "train_reg_loss = 1.0358415818214417\n",
      "train_cen_loss = 0.6451364839076996\n"
     ]
    },
    {
     "name": "stderr",
     "output_type": "stream",
     "text": [
      "100%|████████████████████████████████████████████████████████████████████████████████████████████████████████████| 10/10 [00:07<00:00,  1.42it/s]\n"
     ]
    },
    {
     "name": "stdout",
     "output_type": "stream",
     "text": [
      "epoch = 2\n",
      "valid_loss = 1.920312190055847\n",
      "valid_cls_loss = 0.2506001815199852\n",
      "valid_reg_loss = 1.034613025188446\n",
      "valid_cen_loss = 0.6350989937782288\n",
      "{'classes': tensor(1, dtype=torch.int32),\n",
      " 'map': tensor(0.),\n",
      " 'map_50': tensor(0.),\n",
      " 'map_75': tensor(0.),\n",
      " 'map_large': tensor(0.),\n",
      " 'map_medium': tensor(0.),\n",
      " 'map_per_class': tensor(-1.),\n",
      " 'map_small': tensor(0.),\n",
      " 'mar_1': tensor(0.),\n",
      " 'mar_10': tensor(0.),\n",
      " 'mar_100': tensor(0.),\n",
      " 'mar_100_per_class': tensor(-1.),\n",
      " 'mar_large': tensor(0.),\n",
      " 'mar_medium': tensor(0.),\n",
      " 'mar_small': tensor(0.)}\n"
     ]
    },
    {
     "name": "stderr",
     "output_type": "stream",
     "text": [
      "100%|████████████████████████████████████████████████████████████████████████████████████████████████████████████| 50/50 [00:35<00:00,  1.40it/s]\n"
     ]
    },
    {
     "name": "stdout",
     "output_type": "stream",
     "text": [
      "epoch = 2\n",
      "lr = 6.35239687047371e-05\n",
      "train_loss = 1.8326320624351502\n",
      "train_cls_loss = 0.1807197365164757\n",
      "train_reg_loss = 1.0350347638130188\n",
      "train_cen_loss = 0.6168775701522827\n"
     ]
    },
    {
     "name": "stderr",
     "output_type": "stream",
     "text": [
      "100%|████████████████████████████████████████████████████████████████████████████████████████████████████████████| 10/10 [00:05<00:00,  1.97it/s]\n"
     ]
    },
    {
     "name": "stdout",
     "output_type": "stream",
     "text": [
      "epoch = 3\n",
      "valid_loss = 1.8711814045906068\n",
      "valid_cls_loss = 0.22507139593362807\n",
      "valid_reg_loss = 1.034008264541626\n",
      "valid_cen_loss = 0.6121017277240753\n",
      "{'classes': tensor(1, dtype=torch.int32),\n",
      " 'map': tensor(0.),\n",
      " 'map_50': tensor(0.),\n",
      " 'map_75': tensor(0.),\n",
      " 'map_large': tensor(0.),\n",
      " 'map_medium': tensor(0.),\n",
      " 'map_per_class': tensor(-1.),\n",
      " 'map_small': tensor(0.),\n",
      " 'mar_1': tensor(0.),\n",
      " 'mar_10': tensor(0.),\n",
      " 'mar_100': tensor(0.),\n",
      " 'mar_100_per_class': tensor(-1.),\n",
      " 'mar_large': tensor(0.),\n",
      " 'mar_medium': tensor(0.),\n",
      " 'mar_small': tensor(0.)}\n"
     ]
    },
    {
     "name": "stderr",
     "output_type": "stream",
     "text": [
      "100%|████████████████████████████████████████████████████████████████████████████████████████████████████████████| 50/50 [00:41<00:00,  1.19it/s]\n"
     ]
    },
    {
     "name": "stdout",
     "output_type": "stream",
     "text": [
      "epoch = 3\n",
      "lr = 8.155275332480708e-05\n",
      "train_loss = 1.7905818271636962\n",
      "train_cls_loss = 0.15051956459879876\n",
      "train_reg_loss = 1.0360329961776733\n",
      "train_cen_loss = 0.604029256105423\n"
     ]
    },
    {
     "name": "stderr",
     "output_type": "stream",
     "text": [
      "100%|████████████████████████████████████████████████████████████████████████████████████████████████████████████| 10/10 [00:04<00:00,  2.05it/s]\n"
     ]
    },
    {
     "name": "stdout",
     "output_type": "stream",
     "text": [
      "epoch = 4\n",
      "valid_loss = 1.8496463179588318\n",
      "valid_cls_loss = 0.20566266551613807\n",
      "valid_reg_loss = 1.0328752994537354\n",
      "valid_cen_loss = 0.6111083388328552\n",
      "{'classes': tensor(1, dtype=torch.int32),\n",
      " 'map': tensor(0.),\n",
      " 'map_50': tensor(0.),\n",
      " 'map_75': tensor(0.),\n",
      " 'map_large': tensor(0.),\n",
      " 'map_medium': tensor(0.),\n",
      " 'map_per_class': tensor(-1.),\n",
      " 'map_small': tensor(0.),\n",
      " 'mar_1': tensor(0.),\n",
      " 'mar_10': tensor(0.),\n",
      " 'mar_100': tensor(0.),\n",
      " 'mar_100_per_class': tensor(-1.),\n",
      " 'mar_large': tensor(0.),\n",
      " 'mar_medium': tensor(0.),\n",
      " 'mar_small': tensor(0.)}\n"
     ]
    },
    {
     "name": "stderr",
     "output_type": "stream",
     "text": [
      "100%|████████████████████████████████████████████████████████████████████████████████████████████████████████████| 50/50 [00:40<00:00,  1.22it/s]\n"
     ]
    },
    {
     "name": "stdout",
     "output_type": "stream",
     "text": [
      "epoch = 4\n",
      "lr = 0.0001043916632328725\n",
      "train_loss = 1.75048748254776\n",
      "train_cls_loss = 0.12606900811195373\n",
      "train_reg_loss = 1.0296791005134582\n",
      "train_cen_loss = 0.5947393810749054\n"
     ]
    },
    {
     "name": "stderr",
     "output_type": "stream",
     "text": [
      "100%|████████████████████████████████████████████████████████████████████████████████████████████████████████████| 10/10 [00:06<00:00,  1.56it/s]\n"
     ]
    },
    {
     "name": "stdout",
     "output_type": "stream",
     "text": [
      "epoch = 5\n",
      "valid_loss = 1.8457587599754333\n",
      "valid_cls_loss = 0.2206946939229965\n",
      "valid_reg_loss = 1.0132632195949554\n",
      "valid_cen_loss = 0.6118008553981781\n",
      "{'classes': tensor(1, dtype=torch.int32),\n",
      " 'map': tensor(0.),\n",
      " 'map_50': tensor(0.),\n",
      " 'map_75': tensor(0.),\n",
      " 'map_large': tensor(0.),\n",
      " 'map_medium': tensor(0.),\n",
      " 'map_per_class': tensor(-1.),\n",
      " 'map_small': tensor(0.),\n",
      " 'mar_1': tensor(0.),\n",
      " 'mar_10': tensor(0.),\n",
      " 'mar_100': tensor(0.),\n",
      " 'mar_100_per_class': tensor(-1.),\n",
      " 'mar_large': tensor(0.),\n",
      " 'mar_medium': tensor(0.),\n",
      " 'mar_small': tensor(0.)}\n"
     ]
    },
    {
     "name": "stderr",
     "output_type": "stream",
     "text": [
      "100%|████████████████████████████████████████████████████████████████████████████████████████████████████████████| 50/50 [00:34<00:00,  1.45it/s]\n"
     ]
    },
    {
     "name": "stdout",
     "output_type": "stream",
     "text": [
      "epoch = 5\n",
      "lr = 0.00013179013688719224\n",
      "train_loss = 1.5946448278427123\n",
      "train_cls_loss = 0.11727988958358765\n",
      "train_reg_loss = 0.8813097488880157\n",
      "train_cen_loss = 0.5960551857948303\n"
     ]
    },
    {
     "name": "stderr",
     "output_type": "stream",
     "text": [
      "100%|████████████████████████████████████████████████████████████████████████████████████████████████████████████| 10/10 [00:05<00:00,  1.85it/s]\n"
     ]
    },
    {
     "name": "stdout",
     "output_type": "stream",
     "text": [
      "epoch = 6\n",
      "valid_loss = 1.49345920085907\n",
      "valid_cls_loss = 0.17389629930257797\n",
      "valid_reg_loss = 0.7117544054985047\n",
      "valid_cen_loss = 0.6078085064888\n",
      "{'classes': tensor(1, dtype=torch.int32),\n",
      " 'map': tensor(0.0042),\n",
      " 'map_50': tensor(0.0394),\n",
      " 'map_75': tensor(0.),\n",
      " 'map_large': tensor(0.0050),\n",
      " 'map_medium': tensor(0.),\n",
      " 'map_per_class': tensor(-1.),\n",
      " 'map_small': tensor(0.),\n",
      " 'mar_1': tensor(0.0098),\n",
      " 'mar_10': tensor(0.0226),\n",
      " 'mar_100': tensor(0.0271),\n",
      " 'mar_100_per_class': tensor(-1.),\n",
      " 'mar_large': tensor(0.0319),\n",
      " 'mar_medium': tensor(0.),\n",
      " 'mar_small': tensor(0.)}\n"
     ]
    },
    {
     "name": "stderr",
     "output_type": "stream",
     "text": [
      "100%|████████████████████████████████████████████████████████████████████████████████████████████████████████████| 50/50 [00:36<00:00,  1.36it/s]\n"
     ]
    },
    {
     "name": "stdout",
     "output_type": "stream",
     "text": [
      "epoch = 6\n",
      "lr = 0.0001634475905984478\n",
      "train_loss = 1.3112453937530517\n",
      "train_cls_loss = 0.09508887559175491\n",
      "train_reg_loss = 0.6307814717292786\n",
      "train_cen_loss = 0.5853750538825989\n"
     ]
    },
    {
     "name": "stderr",
     "output_type": "stream",
     "text": [
      "100%|████████████████████████████████████████████████████████████████████████████████████████████████████████████| 10/10 [00:05<00:00,  1.96it/s]\n"
     ]
    },
    {
     "name": "stdout",
     "output_type": "stream",
     "text": [
      "epoch = 7\n",
      "valid_loss = 1.3426424622535706\n",
      "valid_cls_loss = 0.17318030595779418\n",
      "valid_reg_loss = 0.5673466920852661\n",
      "valid_cen_loss = 0.6021154761314392\n",
      "{'classes': tensor(1, dtype=torch.int32),\n",
      " 'map': tensor(0.2376),\n",
      " 'map_50': tensor(0.7146),\n",
      " 'map_75': tensor(0.0682),\n",
      " 'map_large': tensor(0.2763),\n",
      " 'map_medium': tensor(0.0159),\n",
      " 'map_per_class': tensor(-1.),\n",
      " 'map_small': tensor(0.),\n",
      " 'mar_1': tensor(0.1504),\n",
      " 'mar_10': tensor(0.3323),\n",
      " 'mar_100': tensor(0.3383),\n",
      " 'mar_100_per_class': tensor(-1.),\n",
      " 'mar_large': tensor(0.3894),\n",
      " 'mar_medium': tensor(0.0667),\n",
      " 'mar_small': tensor(0.)}\n"
     ]
    },
    {
     "name": "stderr",
     "output_type": "stream",
     "text": [
      "100%|████████████████████████████████████████████████████████████████████████████████████████████████████████████| 50/50 [00:42<00:00,  1.18it/s]\n"
     ]
    },
    {
     "name": "stdout",
     "output_type": "stream",
     "text": [
      "epoch = 7\n",
      "lr = 0.00019901671617892735\n",
      "train_loss = 1.1937149572372436\n",
      "train_cls_loss = 0.08757070899009704\n",
      "train_reg_loss = 0.5233243280649185\n",
      "train_cen_loss = 0.5828199088573456\n"
     ]
    },
    {
     "name": "stderr",
     "output_type": "stream",
     "text": [
      "100%|████████████████████████████████████████████████████████████████████████████████████████████████████████████| 10/10 [00:05<00:00,  1.67it/s]\n"
     ]
    },
    {
     "name": "stdout",
     "output_type": "stream",
     "text": [
      "epoch = 8\n",
      "valid_loss = 1.2716280937194824\n",
      "valid_cls_loss = 0.17517547011375428\n",
      "valid_reg_loss = 0.500479879975319\n",
      "valid_cen_loss = 0.595972764492035\n",
      "{'classes': tensor(1, dtype=torch.int32),\n",
      " 'map': tensor(0.2496),\n",
      " 'map_50': tensor(0.6944),\n",
      " 'map_75': tensor(0.0930),\n",
      " 'map_large': tensor(0.2884),\n",
      " 'map_medium': tensor(0.0568),\n",
      " 'map_per_class': tensor(-1.),\n",
      " 'map_small': tensor(0.),\n",
      " 'mar_1': tensor(0.1308),\n",
      " 'mar_10': tensor(0.3774),\n",
      " 'mar_100': tensor(0.3820),\n",
      " 'mar_100_per_class': tensor(-1.),\n",
      " 'mar_large': tensor(0.4407),\n",
      " 'mar_medium': tensor(0.0667),\n",
      " 'mar_small': tensor(0.)}\n"
     ]
    },
    {
     "name": "stderr",
     "output_type": "stream",
     "text": [
      "100%|████████████████████████████████████████████████████████████████████████████████████████████████████████████| 50/50 [00:38<00:00,  1.29it/s]\n"
     ]
    },
    {
     "name": "stdout",
     "output_type": "stream",
     "text": [
      "epoch = 8\n",
      "lr = 0.00023810729119771383\n",
      "train_loss = 1.1497858929634095\n",
      "train_cls_loss = 0.09492923803627491\n",
      "train_reg_loss = 0.47317706286907196\n",
      "train_cen_loss = 0.5816795957088471\n"
     ]
    },
    {
     "name": "stderr",
     "output_type": "stream",
     "text": [
      "100%|████████████████████████████████████████████████████████████████████████████████████████████████████████████| 10/10 [00:06<00:00,  1.51it/s]\n"
     ]
    },
    {
     "name": "stdout",
     "output_type": "stream",
     "text": [
      "epoch = 9\n",
      "valid_loss = 1.3130809664726257\n",
      "valid_cls_loss = 0.23732813596725463\n",
      "valid_reg_loss = 0.47092939019203184\n",
      "valid_cen_loss = 0.6048234343528748\n",
      "{'classes': tensor(1, dtype=torch.int32),\n",
      " 'map': tensor(0.2599),\n",
      " 'map_50': tensor(0.7088),\n",
      " 'map_75': tensor(0.1227),\n",
      " 'map_large': tensor(0.3044),\n",
      " 'map_medium': tensor(0.0069),\n",
      " 'map_per_class': tensor(-1.),\n",
      " 'map_small': tensor(0.),\n",
      " 'mar_1': tensor(0.1684),\n",
      " 'mar_10': tensor(0.3241),\n",
      " 'mar_100': tensor(0.3286),\n",
      " 'mar_100_per_class': tensor(-1.),\n",
      " 'mar_large': tensor(0.3858),\n",
      " 'mar_medium': tensor(0.0067),\n",
      " 'mar_small': tensor(0.)}\n"
     ]
    },
    {
     "name": "stderr",
     "output_type": "stream",
     "text": [
      "100%|████████████████████████████████████████████████████████████████████████████████████████████████████████████| 50/50 [00:43<00:00,  1.14it/s]\n"
     ]
    },
    {
     "name": "stdout",
     "output_type": "stream",
     "text": [
      "epoch = 9\n",
      "lr = 0.00028029046004025805\n",
      "train_loss = 1.0804673075675963\n",
      "train_cls_loss = 0.0901937185972929\n",
      "train_reg_loss = 0.4022289937734604\n",
      "train_cen_loss = 0.5880445945262909\n"
     ]
    },
    {
     "name": "stderr",
     "output_type": "stream",
     "text": [
      "100%|████████████████████████████████████████████████████████████████████████████████████████████████████████████| 10/10 [00:03<00:00,  2.87it/s]\n"
     ]
    },
    {
     "name": "stdout",
     "output_type": "stream",
     "text": [
      "epoch = 10\n",
      "valid_loss = 1.1480865359306336\n",
      "valid_cls_loss = 0.1393015280365944\n",
      "valid_reg_loss = 0.41378186345100404\n",
      "valid_cen_loss = 0.5950031459331513\n",
      "{'classes': tensor(1, dtype=torch.int32),\n",
      " 'map': tensor(0.2763),\n",
      " 'map_50': tensor(0.8185),\n",
      " 'map_75': tensor(0.1004),\n",
      " 'map_large': tensor(0.3168),\n",
      " 'map_medium': tensor(0.0665),\n",
      " 'map_per_class': tensor(-1.),\n",
      " 'map_small': tensor(0.),\n",
      " 'mar_1': tensor(0.1549),\n",
      " 'mar_10': tensor(0.3677),\n",
      " 'mar_100': tensor(0.3729),\n",
      " 'mar_100_per_class': tensor(-1.),\n",
      " 'mar_large': tensor(0.4230),\n",
      " 'mar_medium': tensor(0.1200),\n",
      " 'mar_small': tensor(0.)}\n"
     ]
    },
    {
     "name": "stderr",
     "output_type": "stream",
     "text": [
      "100%|████████████████████████████████████████████████████████████████████████████████████████████████████████████| 50/50 [00:40<00:00,  1.22it/s]\n"
     ]
    },
    {
     "name": "stdout",
     "output_type": "stream",
     "text": [
      "epoch = 10\n",
      "lr = 0.00032510343880561\n",
      "train_loss = 1.0046250438690185\n",
      "train_cls_loss = 0.07276461258530617\n",
      "train_reg_loss = 0.3505862444639206\n",
      "train_cen_loss = 0.5812741839885711\n"
     ]
    },
    {
     "name": "stderr",
     "output_type": "stream",
     "text": [
      "100%|████████████████████████████████████████████████████████████████████████████████████████████████████████████| 10/10 [00:05<00:00,  1.72it/s]\n"
     ]
    },
    {
     "name": "stdout",
     "output_type": "stream",
     "text": [
      "epoch = 11\n",
      "valid_loss = 1.0879922032356262\n",
      "valid_cls_loss = 0.13530455641448497\n",
      "valid_reg_loss = 0.3580633789300919\n",
      "valid_cen_loss = 0.594624263048172\n",
      "{'classes': tensor(1, dtype=torch.int32),\n",
      " 'map': tensor(0.3380),\n",
      " 'map_50': tensor(0.8400),\n",
      " 'map_75': tensor(0.1593),\n",
      " 'map_large': tensor(0.3832),\n",
      " 'map_medium': tensor(0.0919),\n",
      " 'map_per_class': tensor(-1.),\n",
      " 'map_small': tensor(0.1248),\n",
      " 'mar_1': tensor(0.1744),\n",
      " 'mar_10': tensor(0.4511),\n",
      " 'mar_100': tensor(0.4526),\n",
      " 'mar_100_per_class': tensor(-1.),\n",
      " 'mar_large': tensor(0.5044),\n",
      " 'mar_medium': tensor(0.1733),\n",
      " 'mar_small': tensor(0.1200)}\n"
     ]
    },
    {
     "name": "stderr",
     "output_type": "stream",
     "text": [
      "100%|████████████████████████████████████████████████████████████████████████████████████████████████████████████| 50/50 [00:42<00:00,  1.17it/s]\n"
     ]
    },
    {
     "name": "stdout",
     "output_type": "stream",
     "text": [
      "epoch = 11\n",
      "lr = 0.0003720545924247293\n",
      "train_loss = 0.979884819984436\n",
      "train_cls_loss = 0.07526982739567757\n",
      "train_reg_loss = 0.322978130877018\n",
      "train_cen_loss = 0.581636860370636\n"
     ]
    },
    {
     "name": "stderr",
     "output_type": "stream",
     "text": [
      "100%|████████████████████████████████████████████████████████████████████████████████████████████████████████████| 10/10 [00:09<00:00,  1.06it/s]\n"
     ]
    },
    {
     "name": "stdout",
     "output_type": "stream",
     "text": [
      "epoch = 12\n",
      "valid_loss = 1.0882920265197753\n",
      "valid_cls_loss = 0.14853231534361838\n",
      "valid_reg_loss = 0.34041146039962766\n",
      "valid_cen_loss = 0.5993482291698455\n",
      "{'classes': tensor(1, dtype=torch.int32),\n",
      " 'map': tensor(0.3506),\n",
      " 'map_50': tensor(0.8269),\n",
      " 'map_75': tensor(0.1794),\n",
      " 'map_large': tensor(0.3983),\n",
      " 'map_medium': tensor(0.1052),\n",
      " 'map_per_class': tensor(-1.),\n",
      " 'map_small': tensor(0.),\n",
      " 'mar_1': tensor(0.1895),\n",
      " 'mar_10': tensor(0.4271),\n",
      " 'mar_100': tensor(0.4271),\n",
      " 'mar_100_per_class': tensor(-1.),\n",
      " 'mar_large': tensor(0.4858),\n",
      " 'mar_medium': tensor(0.1267),\n",
      " 'mar_small': tensor(0.)}\n"
     ]
    },
    {
     "name": "stderr",
     "output_type": "stream",
     "text": [
      "100%|████████████████████████████████████████████████████████████████████████████████████████████████████████████| 50/50 [00:35<00:00,  1.39it/s]\n"
     ]
    },
    {
     "name": "stdout",
     "output_type": "stream",
     "text": [
      "epoch = 12\n",
      "lr = 0.0004206288282997345\n",
      "train_loss = 0.9566355836391449\n",
      "train_cls_loss = 0.08096509478986263\n",
      "train_reg_loss = 0.29345772564411166\n",
      "train_cen_loss = 0.5822127640247345\n"
     ]
    },
    {
     "name": "stderr",
     "output_type": "stream",
     "text": [
      "100%|████████████████████████████████████████████████████████████████████████████████████████████████████████████| 10/10 [00:05<00:00,  1.84it/s]\n"
     ]
    },
    {
     "name": "stdout",
     "output_type": "stream",
     "text": [
      "epoch = 13\n",
      "valid_loss = 1.1020237445831298\n",
      "valid_cls_loss = 0.1652200035750866\n",
      "valid_reg_loss = 0.33230496048927305\n",
      "valid_cen_loss = 0.6044987797737121\n",
      "{'classes': tensor(1, dtype=torch.int32),\n",
      " 'map': tensor(0.4109),\n",
      " 'map_50': tensor(0.8331),\n",
      " 'map_75': tensor(0.3185),\n",
      " 'map_large': tensor(0.4693),\n",
      " 'map_medium': tensor(0.0897),\n",
      " 'map_per_class': tensor(-1.),\n",
      " 'map_small': tensor(0.),\n",
      " 'mar_1': tensor(0.2233),\n",
      " 'mar_10': tensor(0.4782),\n",
      " 'mar_100': tensor(0.4805),\n",
      " 'mar_100_per_class': tensor(-1.),\n",
      " 'mar_large': tensor(0.5460),\n",
      " 'mar_medium': tensor(0.1467),\n",
      " 'mar_small': tensor(0.)}\n"
     ]
    },
    {
     "name": "stderr",
     "output_type": "stream",
     "text": [
      "100%|████████████████████████████████████████████████████████████████████████████████████████████████████████████| 50/50 [00:41<00:00,  1.22it/s]\n"
     ]
    },
    {
     "name": "stdout",
     "output_type": "stream",
     "text": [
      "epoch = 13\n",
      "lr = 0.00047029324729144957\n",
      "train_loss = 0.8970491027832032\n",
      "train_cls_loss = 0.0648888722807169\n",
      "train_reg_loss = 0.2559260109066963\n",
      "train_cen_loss = 0.5762342178821563\n"
     ]
    },
    {
     "name": "stderr",
     "output_type": "stream",
     "text": [
      "100%|████████████████████████████████████████████████████████████████████████████████████████████████████████████| 10/10 [00:03<00:00,  2.53it/s]\n"
     ]
    },
    {
     "name": "stdout",
     "output_type": "stream",
     "text": [
      "epoch = 14\n",
      "valid_loss = 1.054431813955307\n",
      "valid_cls_loss = 0.15397168025374414\n",
      "valid_reg_loss = 0.3020296111702919\n",
      "valid_cen_loss = 0.5984305381774903\n",
      "{'classes': tensor(1, dtype=torch.int32),\n",
      " 'map': tensor(0.4393),\n",
      " 'map_50': tensor(0.8701),\n",
      " 'map_75': tensor(0.3775),\n",
      " 'map_large': tensor(0.5001),\n",
      " 'map_medium': tensor(0.1282),\n",
      " 'map_per_class': tensor(-1.),\n",
      " 'map_small': tensor(0.),\n",
      " 'mar_1': tensor(0.2338),\n",
      " 'mar_10': tensor(0.5023),\n",
      " 'mar_100': tensor(0.5023),\n",
      " 'mar_100_per_class': tensor(-1.),\n",
      " 'mar_large': tensor(0.5708),\n",
      " 'mar_medium': tensor(0.1533),\n",
      " 'mar_small': tensor(0.)}\n"
     ]
    },
    {
     "name": "stderr",
     "output_type": "stream",
     "text": [
      "100%|████████████████████████████████████████████████████████████████████████████████████████████████████████████| 50/50 [00:41<00:00,  1.21it/s]\n"
     ]
    },
    {
     "name": "stdout",
     "output_type": "stream",
     "text": [
      "epoch = 14\n",
      "lr = 0.0005205029900592875\n",
      "train_loss = 0.8916994118690491\n",
      "train_cls_loss = 0.0697159694880247\n",
      "train_reg_loss = 0.24783033460378648\n",
      "train_cen_loss = 0.5741531074047088\n"
     ]
    },
    {
     "name": "stderr",
     "output_type": "stream",
     "text": [
      "100%|████████████████████████████████████████████████████████████████████████████████████████████████████████████| 10/10 [00:06<00:00,  1.56it/s]\n"
     ]
    },
    {
     "name": "stdout",
     "output_type": "stream",
     "text": [
      "epoch = 15\n",
      "valid_loss = 1.0253147602081298\n",
      "valid_cls_loss = 0.1382906150072813\n",
      "valid_reg_loss = 0.27712971717119217\n",
      "valid_cen_loss = 0.6098944187164307\n",
      "{'classes': tensor(1, dtype=torch.int32),\n",
      " 'map': tensor(0.4933),\n",
      " 'map_50': tensor(0.8711),\n",
      " 'map_75': tensor(0.4810),\n",
      " 'map_large': tensor(0.5624),\n",
      " 'map_medium': tensor(0.1566),\n",
      " 'map_per_class': tensor(-1.),\n",
      " 'map_small': tensor(0.),\n",
      " 'mar_1': tensor(0.2496),\n",
      " 'mar_10': tensor(0.5534),\n",
      " 'mar_100': tensor(0.5549),\n",
      " 'mar_100_per_class': tensor(-1.),\n",
      " 'mar_large': tensor(0.6319),\n",
      " 'mar_medium': tensor(0.1600),\n",
      " 'mar_small': tensor(0.)}\n"
     ]
    },
    {
     "name": "stderr",
     "output_type": "stream",
     "text": [
      "100%|████████████████████████████████████████████████████████████████████████████████████████████████████████████| 50/50 [00:42<00:00,  1.18it/s]\n"
     ]
    },
    {
     "name": "stdout",
     "output_type": "stream",
     "text": [
      "epoch = 15\n",
      "lr = 0.0005707072146143366\n",
      "train_loss = 0.8684974849224091\n",
      "train_cls_loss = 0.06477237470448018\n",
      "train_reg_loss = 0.22566684633493422\n",
      "train_cen_loss = 0.5780582630634308\n"
     ]
    },
    {
     "name": "stderr",
     "output_type": "stream",
     "text": [
      "100%|████████████████████████████████████████████████████████████████████████████████████████████████████████████| 10/10 [00:04<00:00,  2.48it/s]\n"
     ]
    },
    {
     "name": "stdout",
     "output_type": "stream",
     "text": [
      "epoch = 16\n",
      "valid_loss = 1.011201947927475\n",
      "valid_cls_loss = 0.13398491963744164\n",
      "valid_reg_loss = 0.2838400676846504\n",
      "valid_cen_loss = 0.5933769524097443\n",
      "{'classes': tensor(1, dtype=torch.int32),\n",
      " 'map': tensor(0.4655),\n",
      " 'map_50': tensor(0.8814),\n",
      " 'map_75': tensor(0.4181),\n",
      " 'map_large': tensor(0.5219),\n",
      " 'map_medium': tensor(0.1301),\n",
      " 'map_per_class': tensor(-1.),\n",
      " 'map_small': tensor(0.),\n",
      " 'mar_1': tensor(0.2436),\n",
      " 'mar_10': tensor(0.5353),\n",
      " 'mar_100': tensor(0.5353),\n",
      " 'mar_100_per_class': tensor(-1.),\n",
      " 'mar_large': tensor(0.5982),\n",
      " 'mar_medium': tensor(0.2400),\n",
      " 'mar_small': tensor(0.)}\n"
     ]
    },
    {
     "name": "stderr",
     "output_type": "stream",
     "text": [
      "100%|████████████████████████████████████████████████████████████████████████████████████████████████████████████| 50/50 [00:39<00:00,  1.28it/s]\n"
     ]
    },
    {
     "name": "stdout",
     "output_type": "stream",
     "text": [
      "epoch = 16\n",
      "lr = 0.0006203551395069979\n",
      "train_loss = 0.8647202861309051\n",
      "train_cls_loss = 0.06474454544484615\n",
      "train_reg_loss = 0.22487855434417725\n",
      "train_cen_loss = 0.5750971877574921\n"
     ]
    },
    {
     "name": "stderr",
     "output_type": "stream",
     "text": [
      "100%|████████████████████████████████████████████████████████████████████████████████████████████████████████████| 10/10 [00:03<00:00,  2.62it/s]\n"
     ]
    },
    {
     "name": "stdout",
     "output_type": "stream",
     "text": [
      "epoch = 17\n",
      "valid_loss = 0.9819302201271057\n",
      "valid_cls_loss = 0.12505863085389138\n",
      "valid_reg_loss = 0.2689638465642929\n",
      "valid_cen_loss = 0.5879077553749085\n",
      "{'classes': tensor(1, dtype=torch.int32),\n",
      " 'map': tensor(0.4845),\n",
      " 'map_50': tensor(0.8777),\n",
      " 'map_75': tensor(0.4818),\n",
      " 'map_large': tensor(0.5476),\n",
      " 'map_medium': tensor(0.1426),\n",
      " 'map_per_class': tensor(-1.),\n",
      " 'map_small': tensor(0.),\n",
      " 'mar_1': tensor(0.2436),\n",
      " 'mar_10': tensor(0.5316),\n",
      " 'mar_100': tensor(0.5316),\n",
      " 'mar_100_per_class': tensor(-1.),\n",
      " 'mar_large': tensor(0.6009),\n",
      " 'mar_medium': tensor(0.1867),\n",
      " 'mar_small': tensor(0.)}\n"
     ]
    },
    {
     "name": "stderr",
     "output_type": "stream",
     "text": [
      "100%|████████████████████████████████████████████████████████████████████████████████████████████████████████████| 50/50 [00:38<00:00,  1.29it/s]\n"
     ]
    },
    {
     "name": "stdout",
     "output_type": "stream",
     "text": [
      "epoch = 17\n",
      "lr = 0.0006689020863504562\n",
      "train_loss = 0.8410741949081421\n",
      "train_cls_loss = 0.05586662970483303\n",
      "train_reg_loss = 0.20984890639781953\n",
      "train_cen_loss = 0.575358659029007\n"
     ]
    },
    {
     "name": "stderr",
     "output_type": "stream",
     "text": [
      "100%|████████████████████████████████████████████████████████████████████████████████████████████████████████████| 10/10 [00:08<00:00,  1.14it/s]\n"
     ]
    },
    {
     "name": "stdout",
     "output_type": "stream",
     "text": [
      "epoch = 18\n",
      "valid_loss = 0.9796766579151154\n",
      "valid_cls_loss = 0.12534882202744485\n",
      "valid_reg_loss = 0.2604315891861916\n",
      "valid_cen_loss = 0.5938962459564209\n",
      "{'classes': tensor(1, dtype=torch.int32),\n",
      " 'map': tensor(0.4874),\n",
      " 'map_50': tensor(0.8769),\n",
      " 'map_75': tensor(0.4670),\n",
      " 'map_large': tensor(0.5551),\n",
      " 'map_medium': tensor(0.1377),\n",
      " 'map_per_class': tensor(-1.),\n",
      " 'map_small': tensor(0.),\n",
      " 'mar_1': tensor(0.2353),\n",
      " 'mar_10': tensor(0.5368),\n",
      " 'mar_100': tensor(0.5368),\n",
      " 'mar_100_per_class': tensor(-1.),\n",
      " 'mar_large': tensor(0.6106),\n",
      " 'mar_medium': tensor(0.1600),\n",
      " 'mar_small': tensor(0.)}\n"
     ]
    },
    {
     "name": "stderr",
     "output_type": "stream",
     "text": [
      "100%|████████████████████████████████████████████████████████████████████████████████████████████████████████████| 50/50 [00:39<00:00,  1.25it/s]\n"
     ]
    },
    {
     "name": "stdout",
     "output_type": "stream",
     "text": [
      "epoch = 18\n",
      "lr = 0.0007158154553885548\n",
      "train_loss = 0.8462546074390411\n",
      "train_cls_loss = 0.05594049267470837\n",
      "train_reg_loss = 0.2094447273015976\n",
      "train_cen_loss = 0.5808693826198578\n"
     ]
    },
    {
     "name": "stderr",
     "output_type": "stream",
     "text": [
      "100%|████████████████████████████████████████████████████████████████████████████████████████████████████████████| 10/10 [00:04<00:00,  2.42it/s]\n"
     ]
    },
    {
     "name": "stdout",
     "output_type": "stream",
     "text": [
      "epoch = 19\n",
      "valid_loss = 0.9682262301445007\n",
      "valid_cls_loss = 0.14454976953566073\n",
      "valid_reg_loss = 0.237751005589962\n",
      "valid_cen_loss = 0.5859254717826843\n",
      "{'classes': tensor(1, dtype=torch.int32),\n",
      " 'map': tensor(0.5404),\n",
      " 'map_50': tensor(0.8986),\n",
      " 'map_75': tensor(0.6015),\n",
      " 'map_large': tensor(0.5982),\n",
      " 'map_medium': tensor(0.2877),\n",
      " 'map_per_class': tensor(-1.),\n",
      " 'map_small': tensor(0.),\n",
      " 'mar_1': tensor(0.2669),\n",
      " 'mar_10': tensor(0.6038),\n",
      " 'mar_100': tensor(0.6038),\n",
      " 'mar_100_per_class': tensor(-1.),\n",
      " 'mar_large': tensor(0.6664),\n",
      " 'mar_medium': tensor(0.3333),\n",
      " 'mar_small': tensor(0.)}\n"
     ]
    },
    {
     "name": "stderr",
     "output_type": "stream",
     "text": [
      "100%|████████████████████████████████████████████████████████████████████████████████████████████████████████████| 50/50 [00:37<00:00,  1.32it/s]\n"
     ]
    },
    {
     "name": "stdout",
     "output_type": "stream",
     "text": [
      "epoch = 19\n",
      "lr = 0.0007605805685512038\n",
      "train_loss = 0.8170032548904419\n",
      "train_cls_loss = 0.05165582567453384\n",
      "train_reg_loss = 0.19057643562555313\n",
      "train_cen_loss = 0.5747709906101227\n"
     ]
    },
    {
     "name": "stderr",
     "output_type": "stream",
     "text": [
      "100%|████████████████████████████████████████████████████████████████████████████████████████████████████████████| 10/10 [00:04<00:00,  2.42it/s]\n"
     ]
    },
    {
     "name": "stdout",
     "output_type": "stream",
     "text": [
      "epoch = 20\n",
      "valid_loss = 0.9757925987243652\n",
      "valid_cls_loss = 0.1291398134082556\n",
      "valid_reg_loss = 0.2569221407175064\n",
      "valid_cen_loss = 0.5897306442260742\n",
      "{'classes': tensor(1, dtype=torch.int32),\n",
      " 'map': tensor(0.5117),\n",
      " 'map_50': tensor(0.8872),\n",
      " 'map_75': tensor(0.5445),\n",
      " 'map_large': tensor(0.5803),\n",
      " 'map_medium': tensor(0.1658),\n",
      " 'map_per_class': tensor(-1.),\n",
      " 'map_small': tensor(0.),\n",
      " 'mar_1': tensor(0.2579),\n",
      " 'mar_10': tensor(0.5639),\n",
      " 'mar_100': tensor(0.5639),\n",
      " 'mar_100_per_class': tensor(-1.),\n",
      " 'mar_large': tensor(0.6389),\n",
      " 'mar_medium': tensor(0.1867),\n",
      " 'mar_small': tensor(0.)}\n"
     ]
    },
    {
     "name": "stderr",
     "output_type": "stream",
     "text": [
      "100%|████████████████████████████████████████████████████████████████████████████████████████████████████████████| 50/50 [00:41<00:00,  1.21it/s]\n"
     ]
    },
    {
     "name": "stdout",
     "output_type": "stream",
     "text": [
      "epoch = 20\n",
      "lr = 0.0008027063158942158\n",
      "train_loss = 0.8067182385921479\n",
      "train_cls_loss = 0.05179317079484463\n",
      "train_reg_loss = 0.18391282081604005\n",
      "train_cen_loss = 0.5710122489929199\n"
     ]
    },
    {
     "name": "stderr",
     "output_type": "stream",
     "text": [
      "100%|████████████████████████████████████████████████████████████████████████████████████████████████████████████| 10/10 [00:05<00:00,  1.82it/s]\n"
     ]
    },
    {
     "name": "stdout",
     "output_type": "stream",
     "text": [
      "epoch = 21\n",
      "valid_loss = 0.9917687833309173\n",
      "valid_cls_loss = 0.1385356906801462\n",
      "valid_reg_loss = 0.2585811659693718\n",
      "valid_cen_loss = 0.5946519076824188\n",
      "{'classes': tensor(1, dtype=torch.int32),\n",
      " 'map': tensor(0.5163),\n",
      " 'map_50': tensor(0.8917),\n",
      " 'map_75': tensor(0.5422),\n",
      " 'map_large': tensor(0.5825),\n",
      " 'map_medium': tensor(0.1919),\n",
      " 'map_per_class': tensor(-1.),\n",
      " 'map_small': tensor(0.),\n",
      " 'mar_1': tensor(0.2571),\n",
      " 'mar_10': tensor(0.5722),\n",
      " 'mar_100': tensor(0.5722),\n",
      " 'mar_100_per_class': tensor(-1.),\n",
      " 'mar_large': tensor(0.6442),\n",
      " 'mar_medium': tensor(0.2200),\n",
      " 'mar_small': tensor(0.)}\n"
     ]
    },
    {
     "name": "stderr",
     "output_type": "stream",
     "text": [
      "100%|████████████████████████████████████████████████████████████████████████████████████████████████████████████| 50/50 [00:39<00:00,  1.26it/s]\n"
     ]
    },
    {
     "name": "stdout",
     "output_type": "stream",
     "text": [
      "epoch = 21\n",
      "lr = 0.0008417305434775059\n",
      "train_loss = 0.7907334065437317\n",
      "train_cls_loss = 0.046144830770790575\n",
      "train_reg_loss = 0.17283486872911452\n",
      "train_cen_loss = 0.5717537069320678\n"
     ]
    },
    {
     "name": "stderr",
     "output_type": "stream",
     "text": [
      "100%|████████████████████████████████████████████████████████████████████████████████████████████████████████████| 10/10 [00:04<00:00,  2.41it/s]\n"
     ]
    },
    {
     "name": "stdout",
     "output_type": "stream",
     "text": [
      "epoch = 22\n",
      "valid_loss = 0.9860045194625855\n",
      "valid_cls_loss = 0.14930892884731292\n",
      "valid_reg_loss = 0.24671388566493987\n",
      "valid_cen_loss = 0.5899816930294037\n",
      "{'classes': tensor(1, dtype=torch.int32),\n",
      " 'map': tensor(0.5461),\n",
      " 'map_50': tensor(0.8992),\n",
      " 'map_75': tensor(0.6606),\n",
      " 'map_large': tensor(0.6124),\n",
      " 'map_medium': tensor(0.2106),\n",
      " 'map_per_class': tensor(-1.),\n",
      " 'map_small': tensor(0.),\n",
      " 'mar_1': tensor(0.2564),\n",
      " 'mar_10': tensor(0.6068),\n",
      " 'mar_100': tensor(0.6068),\n",
      " 'mar_100_per_class': tensor(-1.),\n",
      " 'mar_large': tensor(0.6779),\n",
      " 'mar_medium': tensor(0.2733),\n",
      " 'mar_small': tensor(0.)}\n"
     ]
    },
    {
     "name": "stderr",
     "output_type": "stream",
     "text": [
      "100%|████████████████████████████████████████████████████████████████████████████████████████████████████████████| 50/50 [00:43<00:00,  1.15it/s]\n"
     ]
    },
    {
     "name": "stdout",
     "output_type": "stream",
     "text": [
      "epoch = 22\n",
      "lr = 0.0008772251235722165\n",
      "train_loss = 0.7925482821464539\n",
      "train_cls_loss = 0.04755711667239666\n",
      "train_reg_loss = 0.17315982580184935\n",
      "train_cen_loss = 0.5718313407897949\n"
     ]
    },
    {
     "name": "stderr",
     "output_type": "stream",
     "text": [
      "100%|████████████████████████████████████████████████████████████████████████████████████████████████████████████| 10/10 [00:03<00:00,  2.63it/s]\n"
     ]
    },
    {
     "name": "stdout",
     "output_type": "stream",
     "text": [
      "epoch = 23\n",
      "valid_loss = 0.9934939622879029\n",
      "valid_cls_loss = 0.1360677994787693\n",
      "valid_reg_loss = 0.2551993727684021\n",
      "valid_cen_loss = 0.6022267997264862\n",
      "{'classes': tensor(1, dtype=torch.int32),\n",
      " 'map': tensor(0.4951),\n",
      " 'map_50': tensor(0.8868),\n",
      " 'map_75': tensor(0.5380),\n",
      " 'map_large': tensor(0.5585),\n",
      " 'map_medium': tensor(0.1769),\n",
      " 'map_per_class': tensor(-1.),\n",
      " 'map_small': tensor(0.),\n",
      " 'mar_1': tensor(0.2556),\n",
      " 'mar_10': tensor(0.5481),\n",
      " 'mar_100': tensor(0.5481),\n",
      " 'mar_100_per_class': tensor(-1.),\n",
      " 'mar_large': tensor(0.6159),\n",
      " 'mar_medium': tensor(0.2200),\n",
      " 'mar_small': tensor(0.)}\n"
     ]
    },
    {
     "name": "stderr",
     "output_type": "stream",
     "text": [
      "100%|████████████████████████████████████████████████████████████████████████████████████████████████████████████| 50/50 [00:36<00:00,  1.36it/s]\n"
     ]
    },
    {
     "name": "stdout",
     "output_type": "stream",
     "text": [
      "epoch = 23\n",
      "lr = 0.000908800651572446\n",
      "train_loss = 0.791882803440094\n",
      "train_cls_loss = 0.047156625129282474\n",
      "train_reg_loss = 0.17014672830700875\n",
      "train_cen_loss = 0.574579449892044\n"
     ]
    },
    {
     "name": "stderr",
     "output_type": "stream",
     "text": [
      "100%|████████████████████████████████████████████████████████████████████████████████████████████████████████████| 10/10 [00:04<00:00,  2.18it/s]\n"
     ]
    },
    {
     "name": "stdout",
     "output_type": "stream",
     "text": [
      "epoch = 24\n",
      "valid_loss = 0.9679829001426696\n",
      "valid_cls_loss = 0.13616062253713607\n",
      "valid_reg_loss = 0.23610173612833024\n",
      "valid_cen_loss = 0.59572052359581\n",
      "{'classes': tensor(1, dtype=torch.int32),\n",
      " 'map': tensor(0.5393),\n",
      " 'map_50': tensor(0.9008),\n",
      " 'map_75': tensor(0.6065),\n",
      " 'map_large': tensor(0.5971),\n",
      " 'map_medium': tensor(0.3054),\n",
      " 'map_per_class': tensor(-1.),\n",
      " 'map_small': tensor(0.),\n",
      " 'mar_1': tensor(0.2459),\n",
      " 'mar_10': tensor(0.5992),\n",
      " 'mar_100': tensor(0.5992),\n",
      " 'mar_100_per_class': tensor(-1.),\n",
      " 'mar_large': tensor(0.6619),\n",
      " 'mar_medium': tensor(0.3267),\n",
      " 'mar_small': tensor(0.)}\n"
     ]
    },
    {
     "name": "stderr",
     "output_type": "stream",
     "text": [
      "100%|████████████████████████████████████████████████████████████████████████████████████████████████████████████| 50/50 [00:37<00:00,  1.34it/s]\n"
     ]
    },
    {
     "name": "stdout",
     "output_type": "stream",
     "text": [
      "epoch = 24\n",
      "lr = 0.0009361107180826114\n",
      "train_loss = 0.7747382891178131\n",
      "train_cls_loss = 0.041672267168760296\n",
      "train_reg_loss = 0.16445646688342094\n",
      "train_cen_loss = 0.5686095535755158\n"
     ]
    },
    {
     "name": "stderr",
     "output_type": "stream",
     "text": [
      "100%|████████████████████████████████████████████████████████████████████████████████████████████████████████████| 10/10 [00:04<00:00,  2.06it/s]\n"
     ]
    },
    {
     "name": "stdout",
     "output_type": "stream",
     "text": [
      "epoch = 25\n",
      "valid_loss = 0.9886174380779267\n",
      "valid_cls_loss = 0.14804415814578534\n",
      "valid_reg_loss = 0.2458365738391876\n",
      "valid_cen_loss = 0.5947367072105407\n",
      "{'classes': tensor(1, dtype=torch.int32),\n",
      " 'map': tensor(0.5316),\n",
      " 'map_50': tensor(0.8898),\n",
      " 'map_75': tensor(0.5681),\n",
      " 'map_large': tensor(0.5927),\n",
      " 'map_medium': tensor(0.2827),\n",
      " 'map_per_class': tensor(-1.),\n",
      " 'map_small': tensor(0.),\n",
      " 'mar_1': tensor(0.2571),\n",
      " 'mar_10': tensor(0.6000),\n",
      " 'mar_100': tensor(0.6000),\n",
      " 'mar_100_per_class': tensor(-1.),\n",
      " 'mar_large': tensor(0.6655),\n",
      " 'mar_medium': tensor(0.3067),\n",
      " 'mar_small': tensor(0.)}\n"
     ]
    },
    {
     "name": "stderr",
     "output_type": "stream",
     "text": [
      "100%|████████████████████████████████████████████████████████████████████████████████████████████████████████████| 50/50 [00:40<00:00,  1.24it/s]\n"
     ]
    },
    {
     "name": "stdout",
     "output_type": "stream",
     "text": [
      "epoch = 25\n",
      "lr = 0.0009588557093121515\n",
      "train_loss = 0.7519587337970733\n",
      "train_cls_loss = 0.039156304877251386\n",
      "train_reg_loss = 0.14367939338088034\n",
      "train_cen_loss = 0.5691230344772339\n"
     ]
    },
    {
     "name": "stderr",
     "output_type": "stream",
     "text": [
      "100%|████████████████████████████████████████████████████████████████████████████████████████████████████████████| 10/10 [00:05<00:00,  1.83it/s]\n"
     ]
    },
    {
     "name": "stdout",
     "output_type": "stream",
     "text": [
      "epoch = 26\n",
      "valid_loss = 0.986829674243927\n",
      "valid_cls_loss = 0.1406203243881464\n",
      "valid_reg_loss = 0.25310271978378296\n",
      "valid_cen_loss = 0.5931066393852233\n",
      "{'classes': tensor(1, dtype=torch.int32),\n",
      " 'map': tensor(0.5034),\n",
      " 'map_50': tensor(0.8872),\n",
      " 'map_75': tensor(0.4770),\n",
      " 'map_large': tensor(0.5617),\n",
      " 'map_medium': tensor(0.2611),\n",
      " 'map_per_class': tensor(-1.),\n",
      " 'map_small': tensor(0.),\n",
      " 'mar_1': tensor(0.2459),\n",
      " 'mar_10': tensor(0.5812),\n",
      " 'mar_100': tensor(0.5812),\n",
      " 'mar_100_per_class': tensor(-1.),\n",
      " 'mar_large': tensor(0.6487),\n",
      " 'mar_medium': tensor(0.2667),\n",
      " 'mar_small': tensor(0.)}\n"
     ]
    },
    {
     "name": "stderr",
     "output_type": "stream",
     "text": [
      "100%|████████████████████████████████████████████████████████████████████████████████████████████████████████████| 50/50 [00:38<00:00,  1.29it/s]\n"
     ]
    },
    {
     "name": "stdout",
     "output_type": "stream",
     "text": [
      "epoch = 26\n",
      "lr = 0.000976786094084128\n",
      "train_loss = 0.767044016122818\n",
      "train_cls_loss = 0.036792104318737986\n",
      "train_reg_loss = 0.16019434750080108\n",
      "train_cen_loss = 0.5700575602054596\n"
     ]
    },
    {
     "name": "stderr",
     "output_type": "stream",
     "text": [
      "100%|████████████████████████████████████████████████████████████████████████████████████████████████████████████| 10/10 [00:05<00:00,  1.85it/s]\n"
     ]
    },
    {
     "name": "stdout",
     "output_type": "stream",
     "text": [
      "epoch = 27\n",
      "valid_loss = 0.9698076367378234\n",
      "valid_cls_loss = 0.14466372765600682\n",
      "valid_reg_loss = 0.23567963391542435\n",
      "valid_cen_loss = 0.5894642770290375\n",
      "{'classes': tensor(1, dtype=torch.int32),\n",
      " 'map': tensor(0.5681),\n",
      " 'map_50': tensor(0.8914),\n",
      " 'map_75': tensor(0.6870),\n",
      " 'map_large': tensor(0.6398),\n",
      " 'map_medium': tensor(0.2376),\n",
      " 'map_per_class': tensor(-1.),\n",
      " 'map_small': tensor(0.),\n",
      " 'mar_1': tensor(0.2714),\n",
      " 'mar_10': tensor(0.6203),\n",
      " 'mar_100': tensor(0.6203),\n",
      " 'mar_100_per_class': tensor(-1.),\n",
      " 'mar_large': tensor(0.6982),\n",
      " 'mar_medium': tensor(0.2400),\n",
      " 'mar_small': tensor(0.)}\n"
     ]
    },
    {
     "name": "stderr",
     "output_type": "stream",
     "text": [
      "100%|████████████████████████████████████████████████████████████████████████████████████████████████████████████| 50/50 [00:43<00:00,  1.16it/s]\n"
     ]
    },
    {
     "name": "stdout",
     "output_type": "stream",
     "text": [
      "epoch = 27\n",
      "lr = 0.0009897051613965459\n",
      "train_loss = 0.7409607636928558\n",
      "train_cls_loss = 0.03311871506273747\n",
      "train_reg_loss = 0.13810689777135848\n",
      "train_cen_loss = 0.5697351515293121\n"
     ]
    },
    {
     "name": "stderr",
     "output_type": "stream",
     "text": [
      "100%|████████████████████████████████████████████████████████████████████████████████████████████████████████████| 10/10 [00:06<00:00,  1.55it/s]\n"
     ]
    },
    {
     "name": "stdout",
     "output_type": "stream",
     "text": [
      "epoch = 28\n",
      "valid_loss = 0.9840968966484069\n",
      "valid_cls_loss = 0.15087411925196648\n",
      "valid_reg_loss = 0.236545567214489\n",
      "valid_cen_loss = 0.5966772139072418\n",
      "{'classes': tensor(1, dtype=torch.int32),\n",
      " 'map': tensor(0.5192),\n",
      " 'map_50': tensor(0.8624),\n",
      " 'map_75': tensor(0.5244),\n",
      " 'map_large': tensor(0.5950),\n",
      " 'map_medium': tensor(0.1333),\n",
      " 'map_per_class': tensor(-1.),\n",
      " 'map_small': tensor(0.),\n",
      " 'mar_1': tensor(0.2639),\n",
      " 'mar_10': tensor(0.5880),\n",
      " 'mar_100': tensor(0.5880),\n",
      " 'mar_100_per_class': tensor(-1.),\n",
      " 'mar_large': tensor(0.6743),\n",
      " 'mar_medium': tensor(0.1333),\n",
      " 'mar_small': tensor(0.)}\n"
     ]
    },
    {
     "name": "stderr",
     "output_type": "stream",
     "text": [
      "100%|████████████████████████████████████████████████████████████████████████████████████████████████████████████| 50/50 [00:43<00:00,  1.14it/s]\n"
     ]
    },
    {
     "name": "stdout",
     "output_type": "stream",
     "text": [
      "epoch = 28\n",
      "lr = 0.0009974711785031107\n",
      "train_loss = 0.7512927198410034\n",
      "train_cls_loss = 0.041199740786105395\n",
      "train_reg_loss = 0.14502643316984176\n",
      "train_cen_loss = 0.5650665473937988\n"
     ]
    },
    {
     "name": "stderr",
     "output_type": "stream",
     "text": [
      "100%|████████████████████████████████████████████████████████████████████████████████████████████████████████████| 10/10 [00:06<00:00,  1.66it/s]\n"
     ]
    },
    {
     "name": "stdout",
     "output_type": "stream",
     "text": [
      "epoch = 29\n",
      "valid_loss = 0.977117532491684\n",
      "valid_cls_loss = 0.15612120740115643\n",
      "valid_reg_loss = 0.22285388112068177\n",
      "valid_cen_loss = 0.5981424510478973\n",
      "{'classes': tensor(1, dtype=torch.int32),\n",
      " 'map': tensor(0.5546),\n",
      " 'map_50': tensor(0.8614),\n",
      " 'map_75': tensor(0.6371),\n",
      " 'map_large': tensor(0.6268),\n",
      " 'map_medium': tensor(0.2155),\n",
      " 'map_per_class': tensor(-1.),\n",
      " 'map_small': tensor(0.),\n",
      " 'mar_1': tensor(0.2850),\n",
      " 'mar_10': tensor(0.5992),\n",
      " 'mar_100': tensor(0.5992),\n",
      " 'mar_100_per_class': tensor(-1.),\n",
      " 'mar_large': tensor(0.6770),\n",
      " 'mar_medium': tensor(0.2133),\n",
      " 'mar_small': tensor(0.)}\n"
     ]
    },
    {
     "name": "stderr",
     "output_type": "stream",
     "text": [
      "100%|████████████████████████████████████████████████████████████████████████████████████████████████████████████| 50/50 [00:38<00:00,  1.29it/s]\n"
     ]
    },
    {
     "name": "stdout",
     "output_type": "stream",
     "text": [
      "epoch = 29\n",
      "lr = 0.0009999997985803211\n",
      "train_loss = 0.7397493970394134\n",
      "train_cls_loss = 0.03414431205019355\n",
      "train_reg_loss = 0.13953036770224572\n",
      "train_cen_loss = 0.5660747230052948\n"
     ]
    },
    {
     "name": "stderr",
     "output_type": "stream",
     "text": [
      "100%|████████████████████████████████████████████████████████████████████████████████████████████████████████████| 10/10 [00:06<00:00,  1.55it/s]\n"
     ]
    },
    {
     "name": "stdout",
     "output_type": "stream",
     "text": [
      "epoch = 30\n",
      "valid_loss = 0.952302348613739\n",
      "valid_cls_loss = 0.13078885450959205\n",
      "valid_reg_loss = 0.22681861817836763\n",
      "valid_cen_loss = 0.5946948647499084\n",
      "{'classes': tensor(1, dtype=torch.int32),\n",
      " 'map': tensor(0.5222),\n",
      " 'map_50': tensor(0.8728),\n",
      " 'map_75': tensor(0.5696),\n",
      " 'map_large': tensor(0.5943),\n",
      " 'map_medium': tensor(0.1889),\n",
      " 'map_per_class': tensor(-1.),\n",
      " 'map_small': tensor(0.),\n",
      " 'mar_1': tensor(0.2632),\n",
      " 'mar_10': tensor(0.5932),\n",
      " 'mar_100': tensor(0.5932),\n",
      " 'mar_100_per_class': tensor(-1.),\n",
      " 'mar_large': tensor(0.6735),\n",
      " 'mar_medium': tensor(0.1867),\n",
      " 'mar_small': tensor(0.)}\n"
     ]
    },
    {
     "name": "stderr",
     "output_type": "stream",
     "text": [
      "100%|████████████████████████████████████████████████████████████████████████████████████████████████████████████| 50/50 [00:39<00:00,  1.27it/s]\n"
     ]
    },
    {
     "name": "stdout",
     "output_type": "stream",
     "text": [
      "epoch = 30\n",
      "lr = 0.0009994761988621303\n",
      "train_loss = 0.7309059751033783\n",
      "train_cls_loss = 0.03134244203567505\n",
      "train_reg_loss = 0.13042388781905173\n",
      "train_cen_loss = 0.5691396415233612\n"
     ]
    },
    {
     "name": "stderr",
     "output_type": "stream",
     "text": [
      "100%|████████████████████████████████████████████████████████████████████████████████████████████████████████████| 10/10 [00:03<00:00,  2.80it/s]\n"
     ]
    },
    {
     "name": "stdout",
     "output_type": "stream",
     "text": [
      "epoch = 31\n",
      "valid_loss = 0.929868358373642\n",
      "valid_cls_loss = 0.13066575527191163\n",
      "valid_reg_loss = 0.20763391256332397\n",
      "valid_cen_loss = 0.5915686786174774\n",
      "{'classes': tensor(1, dtype=torch.int32),\n",
      " 'map': tensor(0.6000),\n",
      " 'map_50': tensor(0.9077),\n",
      " 'map_75': tensor(0.7406),\n",
      " 'map_large': tensor(0.6631),\n",
      " 'map_medium': tensor(0.3399),\n",
      " 'map_per_class': tensor(-1.),\n",
      " 'map_small': tensor(0.),\n",
      " 'mar_1': tensor(0.2812),\n",
      " 'mar_10': tensor(0.6541),\n",
      " 'mar_100': tensor(0.6541),\n",
      " 'mar_100_per_class': tensor(-1.),\n",
      " 'mar_large': tensor(0.7177),\n",
      " 'mar_medium': tensor(0.3933),\n",
      " 'mar_small': tensor(0.)}\n"
     ]
    },
    {
     "name": "stderr",
     "output_type": "stream",
     "text": [
      "100%|████████████████████████████████████████████████████████████████████████████████████████████████████████████| 50/50 [00:42<00:00,  1.19it/s]\n"
     ]
    },
    {
     "name": "stdout",
     "output_type": "stream",
     "text": [
      "epoch = 31\n",
      "lr = 0.0009979467245787709\n",
      "train_loss = 0.7313335120677948\n",
      "train_cls_loss = 0.03111069807782769\n",
      "train_reg_loss = 0.13130784243345262\n",
      "train_cen_loss = 0.5689149701595306\n"
     ]
    },
    {
     "name": "stderr",
     "output_type": "stream",
     "text": [
      "100%|████████████████████████████████████████████████████████████████████████████████████████████████████████████| 10/10 [00:03<00:00,  2.65it/s]\n"
     ]
    },
    {
     "name": "stdout",
     "output_type": "stream",
     "text": [
      "epoch = 32\n",
      "valid_loss = 0.9614482760429383\n",
      "valid_cls_loss = 0.14952922947704791\n",
      "valid_reg_loss = 0.22175349444150924\n",
      "valid_cen_loss = 0.5901655435562134\n",
      "{'classes': tensor(1, dtype=torch.int32),\n",
      " 'map': tensor(0.5584),\n",
      " 'map_50': tensor(0.8754),\n",
      " 'map_75': tensor(0.6225),\n",
      " 'map_large': tensor(0.6274),\n",
      " 'map_medium': tensor(0.2635),\n",
      " 'map_per_class': tensor(-1.),\n",
      " 'map_small': tensor(0.),\n",
      " 'mar_1': tensor(0.2692),\n",
      " 'mar_10': tensor(0.6165),\n",
      " 'mar_100': tensor(0.6165),\n",
      " 'mar_100_per_class': tensor(-1.),\n",
      " 'mar_large': tensor(0.6885),\n",
      " 'mar_medium': tensor(0.2800),\n",
      " 'mar_small': tensor(0.)}\n"
     ]
    },
    {
     "name": "stderr",
     "output_type": "stream",
     "text": [
      "100%|████████████████████████████████████████████████████████████████████████████████████████████████████████████| 50/50 [00:41<00:00,  1.20it/s]\n"
     ]
    },
    {
     "name": "stdout",
     "output_type": "stream",
     "text": [
      "epoch = 32\n",
      "lr = 0.0009954144558879028\n",
      "train_loss = 0.7226826643943787\n",
      "train_cls_loss = 0.030963557809591293\n",
      "train_reg_loss = 0.12091035634279251\n",
      "train_cen_loss = 0.5708087468147278\n"
     ]
    },
    {
     "name": "stderr",
     "output_type": "stream",
     "text": [
      "100%|████████████████████████████████████████████████████████████████████████████████████████████████████████████| 10/10 [00:07<00:00,  1.35it/s]\n"
     ]
    },
    {
     "name": "stdout",
     "output_type": "stream",
     "text": [
      "epoch = 33\n",
      "valid_loss = 0.9811061918735504\n",
      "valid_cls_loss = 0.1684665497392416\n",
      "valid_reg_loss = 0.2201229840517044\n",
      "valid_cen_loss = 0.5925166606903076\n",
      "{'classes': tensor(1, dtype=torch.int32),\n",
      " 'map': tensor(0.5615),\n",
      " 'map_50': tensor(0.8734),\n",
      " 'map_75': tensor(0.6211),\n",
      " 'map_large': tensor(0.6339),\n",
      " 'map_medium': tensor(0.2250),\n",
      " 'map_per_class': tensor(-1.),\n",
      " 'map_small': tensor(0.),\n",
      " 'mar_1': tensor(0.2729),\n",
      " 'mar_10': tensor(0.6188),\n",
      " 'mar_100': tensor(0.6188),\n",
      " 'mar_100_per_class': tensor(-1.),\n",
      " 'mar_large': tensor(0.6973),\n",
      " 'mar_medium': tensor(0.2333),\n",
      " 'mar_small': tensor(0.)}\n"
     ]
    },
    {
     "name": "stderr",
     "output_type": "stream",
     "text": [
      "100%|████████████████████████████████████████████████████████████████████████████████████████████████████████████| 50/50 [00:42<00:00,  1.17it/s]\n"
     ]
    },
    {
     "name": "stdout",
     "output_type": "stream",
     "text": [
      "epoch = 33\n",
      "lr = 0.0009918844924416688\n",
      "train_loss = 0.7200030148029327\n",
      "train_cls_loss = 0.030607482492923735\n",
      "train_reg_loss = 0.12175019785761833\n",
      "train_cen_loss = 0.5676453340053559\n"
     ]
    },
    {
     "name": "stderr",
     "output_type": "stream",
     "text": [
      "100%|████████████████████████████████████████████████████████████████████████████████████████████████████████████| 10/10 [00:04<00:00,  2.25it/s]\n"
     ]
    },
    {
     "name": "stdout",
     "output_type": "stream",
     "text": [
      "epoch = 34\n",
      "valid_loss = 1.0194730877876281\n",
      "valid_cls_loss = 0.18354076743125916\n",
      "valid_reg_loss = 0.23815923184156418\n",
      "valid_cen_loss = 0.5977730810642242\n",
      "{'classes': tensor(1, dtype=torch.int32),\n",
      " 'map': tensor(0.5238),\n",
      " 'map_50': tensor(0.8859),\n",
      " 'map_75': tensor(0.5609),\n",
      " 'map_large': tensor(0.5850),\n",
      " 'map_medium': tensor(0.2609),\n",
      " 'map_per_class': tensor(-1.),\n",
      " 'map_small': tensor(0.),\n",
      " 'mar_1': tensor(0.2632),\n",
      " 'mar_10': tensor(0.5895),\n",
      " 'mar_100': tensor(0.5895),\n",
      " 'mar_100_per_class': tensor(-1.),\n",
      " 'mar_large': tensor(0.6575),\n",
      " 'mar_medium': tensor(0.2733),\n",
      " 'mar_small': tensor(0.)}\n"
     ]
    },
    {
     "name": "stderr",
     "output_type": "stream",
     "text": [
      "100%|████████████████████████████████████████████████████████████████████████████████████████████████████████████| 50/50 [00:43<00:00,  1.16it/s]\n"
     ]
    },
    {
     "name": "stdout",
     "output_type": "stream",
     "text": [
      "epoch = 34\n",
      "lr = 0.0009873639431166726\n",
      "train_loss = 0.7206186521053314\n",
      "train_cls_loss = 0.028755427841097116\n",
      "train_reg_loss = 0.12191073775291443\n",
      "train_cen_loss = 0.569952483177185\n"
     ]
    },
    {
     "name": "stderr",
     "output_type": "stream",
     "text": [
      "100%|████████████████████████████████████████████████████████████████████████████████████████████████████████████| 10/10 [00:06<00:00,  1.60it/s]\n"
     ]
    },
    {
     "name": "stdout",
     "output_type": "stream",
     "text": [
      "epoch = 35\n",
      "valid_loss = 1.0037954688072204\n",
      "valid_cls_loss = 0.19116568081080915\n",
      "valid_reg_loss = 0.21818820089101792\n",
      "valid_cen_loss = 0.5944415748119354\n",
      "{'classes': tensor(1, dtype=torch.int32),\n",
      " 'map': tensor(0.5515),\n",
      " 'map_50': tensor(0.8453),\n",
      " 'map_75': tensor(0.6241),\n",
      " 'map_large': tensor(0.6345),\n",
      " 'map_medium': tensor(0.1238),\n",
      " 'map_per_class': tensor(-1.),\n",
      " 'map_small': tensor(0.),\n",
      " 'mar_1': tensor(0.2805),\n",
      " 'mar_10': tensor(0.6143),\n",
      " 'mar_100': tensor(0.6143),\n",
      " 'mar_100_per_class': tensor(-1.),\n",
      " 'mar_large': tensor(0.7071),\n",
      " 'mar_medium': tensor(0.1200),\n",
      " 'mar_small': tensor(0.)}\n"
     ]
    },
    {
     "name": "stderr",
     "output_type": "stream",
     "text": [
      "100%|████████████████████████████████████████████████████████████████████████████████████████████████████████████| 50/50 [00:38<00:00,  1.31it/s]\n"
     ]
    },
    {
     "name": "stdout",
     "output_type": "stream",
     "text": [
      "epoch = 35\n",
      "lr = 0.0009818619116976483\n",
      "train_loss = 0.7102753186225891\n",
      "train_cls_loss = 0.026614531818777324\n",
      "train_reg_loss = 0.11691920384764672\n",
      "train_cen_loss = 0.5667415821552276\n"
     ]
    },
    {
     "name": "stderr",
     "output_type": "stream",
     "text": [
      "100%|████████████████████████████████████████████████████████████████████████████████████████████████████████████| 10/10 [00:03<00:00,  2.61it/s]\n"
     ]
    },
    {
     "name": "stdout",
     "output_type": "stream",
     "text": [
      "epoch = 36\n",
      "valid_loss = 0.944800591468811\n",
      "valid_cls_loss = 0.1480541955679655\n",
      "valid_reg_loss = 0.20881119072437287\n",
      "valid_cen_loss = 0.5879351973533631\n",
      "{'classes': tensor(1, dtype=torch.int32),\n",
      " 'map': tensor(0.5987),\n",
      " 'map_50': tensor(0.8763),\n",
      " 'map_75': tensor(0.7167),\n",
      " 'map_large': tensor(0.6716),\n",
      " 'map_medium': tensor(0.2320),\n",
      " 'map_per_class': tensor(-1.),\n",
      " 'map_small': tensor(0.),\n",
      " 'mar_1': tensor(0.2902),\n",
      " 'mar_10': tensor(0.6526),\n",
      " 'mar_100': tensor(0.6526),\n",
      " 'mar_100_per_class': tensor(-1.),\n",
      " 'mar_large': tensor(0.7292),\n",
      " 'mar_medium': tensor(0.2933),\n",
      " 'mar_small': tensor(0.)}\n"
     ]
    },
    {
     "name": "stderr",
     "output_type": "stream",
     "text": [
      "100%|████████████████████████████████████████████████████████████████████████████████████████████████████████████| 50/50 [00:38<00:00,  1.28it/s]\n"
     ]
    },
    {
     "name": "stdout",
     "output_type": "stream",
     "text": [
      "epoch = 36\n",
      "lr = 0.0009753894785436487\n",
      "train_loss = 0.7046156060695649\n",
      "train_cls_loss = 0.02741709189489484\n",
      "train_reg_loss = 0.11208977922797203\n",
      "train_cen_loss = 0.565108734369278\n"
     ]
    },
    {
     "name": "stderr",
     "output_type": "stream",
     "text": [
      "100%|████████████████████████████████████████████████████████████████████████████████████████████████████████████| 10/10 [00:04<00:00,  2.44it/s]\n"
     ]
    },
    {
     "name": "stdout",
     "output_type": "stream",
     "text": [
      "epoch = 37\n",
      "valid_loss = 0.9483346521854401\n",
      "valid_cls_loss = 0.1524617912247777\n",
      "valid_reg_loss = 0.20734609067440032\n",
      "valid_cen_loss = 0.5885267794132233\n",
      "{'classes': tensor(1, dtype=torch.int32),\n",
      " 'map': tensor(0.5956),\n",
      " 'map_50': tensor(0.8772),\n",
      " 'map_75': tensor(0.6745),\n",
      " 'map_large': tensor(0.6685),\n",
      " 'map_medium': tensor(0.2535),\n",
      " 'map_per_class': tensor(-1.),\n",
      " 'map_small': tensor(0.),\n",
      " 'mar_1': tensor(0.2850),\n",
      " 'mar_10': tensor(0.6466),\n",
      " 'mar_100': tensor(0.6466),\n",
      " 'mar_100_per_class': tensor(-1.),\n",
      " 'mar_large': tensor(0.7257),\n",
      " 'mar_medium': tensor(0.2667),\n",
      " 'mar_small': tensor(0.)}\n"
     ]
    },
    {
     "name": "stderr",
     "output_type": "stream",
     "text": [
      "100%|████████████████████████████████████████████████████████████████████████████████████████████████████████████| 50/50 [00:41<00:00,  1.21it/s]\n"
     ]
    },
    {
     "name": "stdout",
     "output_type": "stream",
     "text": [
      "epoch = 37\n",
      "lr = 0.0009679596782736781\n",
      "train_loss = 0.6931539630889892\n",
      "train_cls_loss = 0.02370968763716519\n",
      "train_reg_loss = 0.10693216487765313\n",
      "train_cen_loss = 0.5625121092796326\n"
     ]
    },
    {
     "name": "stderr",
     "output_type": "stream",
     "text": [
      "100%|████████████████████████████████████████████████████████████████████████████████████████████████████████████| 10/10 [00:05<00:00,  1.73it/s]\n"
     ]
    },
    {
     "name": "stdout",
     "output_type": "stream",
     "text": [
      "epoch = 38\n",
      "valid_loss = 0.9536379396915435\n",
      "valid_cls_loss = 0.1577118467539549\n",
      "valid_reg_loss = 0.20903228148818015\n",
      "valid_cen_loss = 0.5868938148021698\n",
      "{'classes': tensor(1, dtype=torch.int32),\n",
      " 'map': tensor(0.5755),\n",
      " 'map_50': tensor(0.8909),\n",
      " 'map_75': tensor(0.6244),\n",
      " 'map_large': tensor(0.6480),\n",
      " 'map_medium': tensor(0.2355),\n",
      " 'map_per_class': tensor(-1.),\n",
      " 'map_small': tensor(0.),\n",
      " 'mar_1': tensor(0.2857),\n",
      " 'mar_10': tensor(0.6414),\n",
      " 'mar_100': tensor(0.6414),\n",
      " 'mar_100_per_class': tensor(-1.),\n",
      " 'mar_large': tensor(0.7212),\n",
      " 'mar_medium': tensor(0.2533),\n",
      " 'mar_small': tensor(0.)}\n"
     ]
    },
    {
     "name": "stderr",
     "output_type": "stream",
     "text": [
      "100%|████████████████████████████████████████████████████████████████████████████████████████████████████████████| 50/50 [00:42<00:00,  1.16it/s]\n"
     ]
    },
    {
     "name": "stdout",
     "output_type": "stream",
     "text": [
      "epoch = 38\n",
      "lr = 0.0009595874735167023\n",
      "train_loss = 0.7021806585788727\n",
      "train_cls_loss = 0.02802452290430665\n",
      "train_reg_loss = 0.11107404127717019\n",
      "train_cen_loss = 0.5630820941925049\n"
     ]
    },
    {
     "name": "stderr",
     "output_type": "stream",
     "text": [
      "100%|████████████████████████████████████████████████████████████████████████████████████████████████████████████| 10/10 [00:05<00:00,  1.76it/s]\n"
     ]
    },
    {
     "name": "stdout",
     "output_type": "stream",
     "text": [
      "epoch = 39\n",
      "valid_loss = 0.9396256446838379\n",
      "valid_cls_loss = 0.15099389143288136\n",
      "valid_reg_loss = 0.19817826747894288\n",
      "valid_cen_loss = 0.5904534876346588\n",
      "{'classes': tensor(1, dtype=torch.int32),\n",
      " 'map': tensor(0.5986),\n",
      " 'map_50': tensor(0.8810),\n",
      " 'map_75': tensor(0.6771),\n",
      " 'map_large': tensor(0.6738),\n",
      " 'map_medium': tensor(0.2359),\n",
      " 'map_per_class': tensor(-1.),\n",
      " 'map_small': tensor(0.),\n",
      " 'mar_1': tensor(0.2872),\n",
      " 'mar_10': tensor(0.6639),\n",
      " 'mar_100': tensor(0.6662),\n",
      " 'mar_100_per_class': tensor(-1.),\n",
      " 'mar_large': tensor(0.7487),\n",
      " 'mar_medium': tensor(0.2667),\n",
      " 'mar_small': tensor(0.)}\n"
     ]
    },
    {
     "name": "stderr",
     "output_type": "stream",
     "text": [
      "100%|████████████████████████████████████████████████████████████████████████████████████████████████████████████| 50/50 [00:37<00:00,  1.32it/s]\n"
     ]
    },
    {
     "name": "stdout",
     "output_type": "stream",
     "text": [
      "epoch = 39\n",
      "lr = 0.0009502897247789072\n",
      "train_loss = 0.7123228001594544\n",
      "train_cls_loss = 0.026088191531598567\n",
      "train_reg_loss = 0.11795909374952317\n",
      "train_cen_loss = 0.5682755136489868\n"
     ]
    },
    {
     "name": "stderr",
     "output_type": "stream",
     "text": [
      "100%|████████████████████████████████████████████████████████████████████████████████████████████████████████████| 10/10 [00:07<00:00,  1.38it/s]\n"
     ]
    },
    {
     "name": "stdout",
     "output_type": "stream",
     "text": [
      "epoch = 40\n",
      "valid_loss = 0.9680379629135132\n",
      "valid_cls_loss = 0.1667839925736189\n",
      "valid_reg_loss = 0.2176898881793022\n",
      "valid_cen_loss = 0.5835640788078308\n",
      "{'classes': tensor(1, dtype=torch.int32),\n",
      " 'map': tensor(0.5626),\n",
      " 'map_50': tensor(0.8806),\n",
      " 'map_75': tensor(0.6528),\n",
      " 'map_large': tensor(0.6393),\n",
      " 'map_medium': tensor(0.2056),\n",
      " 'map_per_class': tensor(-1.),\n",
      " 'map_small': tensor(0.),\n",
      " 'mar_1': tensor(0.2662),\n",
      " 'mar_10': tensor(0.6150),\n",
      " 'mar_100': tensor(0.6150),\n",
      " 'mar_100_per_class': tensor(-1.),\n",
      " 'mar_large': tensor(0.6965),\n",
      " 'mar_medium': tensor(0.2067),\n",
      " 'mar_small': tensor(0.)}\n"
     ]
    },
    {
     "name": "stderr",
     "output_type": "stream",
     "text": [
      "100%|████████████████████████████████████████████████████████████████████████████████████████████████████████████| 50/50 [00:38<00:00,  1.30it/s]\n"
     ]
    },
    {
     "name": "stdout",
     "output_type": "stream",
     "text": [
      "epoch = 40\n",
      "lr = 0.0009400851564888819\n",
      "train_loss = 0.6893993389606475\n",
      "train_cls_loss = 0.023049430940300226\n",
      "train_reg_loss = 0.1028816194832325\n",
      "train_cen_loss = 0.5634682929515838\n"
     ]
    },
    {
     "name": "stderr",
     "output_type": "stream",
     "text": [
      "100%|████████████████████████████████████████████████████████████████████████████████████████████████████████████| 10/10 [00:04<00:00,  2.34it/s]\n"
     ]
    },
    {
     "name": "stdout",
     "output_type": "stream",
     "text": [
      "epoch = 41\n",
      "valid_loss = 0.9456049680709839\n",
      "valid_cls_loss = 0.16160120032727718\n",
      "valid_reg_loss = 0.19923147559165955\n",
      "valid_cen_loss = 0.5847723007202148\n",
      "{'classes': tensor(1, dtype=torch.int32),\n",
      " 'map': tensor(0.6084),\n",
      " 'map_50': tensor(0.8716),\n",
      " 'map_75': tensor(0.7217),\n",
      " 'map_large': tensor(0.6912),\n",
      " 'map_medium': tensor(0.2239),\n",
      " 'map_per_class': tensor(-1.),\n",
      " 'map_small': tensor(0.),\n",
      " 'mar_1': tensor(0.2940),\n",
      " 'mar_10': tensor(0.6654),\n",
      " 'mar_100': tensor(0.6654),\n",
      " 'mar_100_per_class': tensor(-1.),\n",
      " 'mar_large': tensor(0.7531),\n",
      " 'mar_medium': tensor(0.2267),\n",
      " 'mar_small': tensor(0.)}\n"
     ]
    },
    {
     "name": "stderr",
     "output_type": "stream",
     "text": [
      "100%|████████████████████████████████████████████████████████████████████████████████████████████████████████████| 50/50 [00:39<00:00,  1.25it/s]\n"
     ]
    },
    {
     "name": "stdout",
     "output_type": "stream",
     "text": [
      "epoch = 41\n",
      "lr = 0.0009289943192891113\n",
      "train_loss = 0.6830760324001313\n",
      "train_cls_loss = 0.022349147070199252\n",
      "train_reg_loss = 0.1005859261751175\n",
      "train_cen_loss = 0.5601409566402435\n"
     ]
    },
    {
     "name": "stderr",
     "output_type": "stream",
     "text": [
      "100%|████████████████████████████████████████████████████████████████████████████████████████████████████████████| 10/10 [00:04<00:00,  2.38it/s]\n"
     ]
    },
    {
     "name": "stdout",
     "output_type": "stream",
     "text": [
      "epoch = 42\n",
      "valid_loss = 0.9563810467720032\n",
      "valid_cls_loss = 0.14635316394269465\n",
      "valid_reg_loss = 0.2152799241244793\n",
      "valid_cen_loss = 0.5947479486465455\n",
      "{'classes': tensor(1, dtype=torch.int32),\n",
      " 'map': tensor(0.5887),\n",
      " 'map_50': tensor(0.8921),\n",
      " 'map_75': tensor(0.6385),\n",
      " 'map_large': tensor(0.6621),\n",
      " 'map_medium': tensor(0.2480),\n",
      " 'map_per_class': tensor(-1.),\n",
      " 'map_small': tensor(0.),\n",
      " 'mar_1': tensor(0.2812),\n",
      " 'mar_10': tensor(0.6451),\n",
      " 'mar_100': tensor(0.6451),\n",
      " 'mar_100_per_class': tensor(-1.),\n",
      " 'mar_large': tensor(0.7248),\n",
      " 'mar_medium': tensor(0.2600),\n",
      " 'mar_small': tensor(0.)}\n"
     ]
    },
    {
     "name": "stderr",
     "output_type": "stream",
     "text": [
      "100%|████████████████████████████████████████████████████████████████████████████████████████████████████████████| 50/50 [00:37<00:00,  1.34it/s]\n"
     ]
    },
    {
     "name": "stdout",
     "output_type": "stream",
     "text": [
      "epoch = 42\n",
      "lr = 0.0009170395486497183\n",
      "train_loss = 0.6835418248176575\n",
      "train_cls_loss = 0.023121090987697244\n",
      "train_reg_loss = 0.09506295427680016\n",
      "train_cen_loss = 0.5653577792644501\n"
     ]
    },
    {
     "name": "stderr",
     "output_type": "stream",
     "text": [
      "100%|████████████████████████████████████████████████████████████████████████████████████████████████████████████| 10/10 [00:03<00:00,  2.74it/s]\n"
     ]
    },
    {
     "name": "stdout",
     "output_type": "stream",
     "text": [
      "epoch = 43\n",
      "valid_loss = 0.9707666456699371\n",
      "valid_cls_loss = 0.1684145014733076\n",
      "valid_reg_loss = 0.20874355584383011\n",
      "valid_cen_loss = 0.5936085820198059\n",
      "{'classes': tensor(1, dtype=torch.int32),\n",
      " 'map': tensor(0.5399),\n",
      " 'map_50': tensor(0.8567),\n",
      " 'map_75': tensor(0.5776),\n",
      " 'map_large': tensor(0.6149),\n",
      " 'map_medium': tensor(0.1607),\n",
      " 'map_per_class': tensor(-1.),\n",
      " 'map_small': tensor(0.),\n",
      " 'mar_1': tensor(0.2541),\n",
      " 'mar_10': tensor(0.6090),\n",
      " 'mar_100': tensor(0.6090),\n",
      " 'mar_100_per_class': tensor(-1.),\n",
      " 'mar_large': tensor(0.6938),\n",
      " 'mar_medium': tensor(0.1733),\n",
      " 'mar_small': tensor(0.)}\n"
     ]
    },
    {
     "name": "stderr",
     "output_type": "stream",
     "text": [
      "100%|████████████████████████████████████████████████████████████████████████████████████████████████████████████| 50/50 [00:38<00:00,  1.30it/s]\n"
     ]
    },
    {
     "name": "stdout",
     "output_type": "stream",
     "text": [
      "epoch = 43\n",
      "lr = 0.0009042449198877982\n",
      "train_loss = 0.6775022709369659\n",
      "train_cls_loss = 0.02180840838700533\n",
      "train_reg_loss = 0.09381368167698384\n",
      "train_cen_loss = 0.561880179643631\n"
     ]
    },
    {
     "name": "stderr",
     "output_type": "stream",
     "text": [
      "100%|████████████████████████████████████████████████████████████████████████████████████████████████████████████| 10/10 [00:03<00:00,  2.54it/s]\n"
     ]
    },
    {
     "name": "stdout",
     "output_type": "stream",
     "text": [
      "epoch = 44\n",
      "valid_loss = 0.9836982131004334\n",
      "valid_cls_loss = 0.1987592339515686\n",
      "valid_reg_loss = 0.19804049730300904\n",
      "valid_cen_loss = 0.5868984699249268\n",
      "{'classes': tensor(1, dtype=torch.int32),\n",
      " 'map': tensor(0.5911),\n",
      " 'map_50': tensor(0.8607),\n",
      " 'map_75': tensor(0.6878),\n",
      " 'map_large': tensor(0.6710),\n",
      " 'map_medium': tensor(0.2210),\n",
      " 'map_per_class': tensor(-1.),\n",
      " 'map_small': tensor(0.),\n",
      " 'mar_1': tensor(0.3015),\n",
      " 'mar_10': tensor(0.6489),\n",
      " 'mar_100': tensor(0.6489),\n",
      " 'mar_100_per_class': tensor(-1.),\n",
      " 'mar_large': tensor(0.7345),\n",
      " 'mar_medium': tensor(0.2200),\n",
      " 'mar_small': tensor(0.)}\n"
     ]
    },
    {
     "name": "stderr",
     "output_type": "stream",
     "text": [
      "100%|████████████████████████████████████████████████████████████████████████████████████████████████████████████| 50/50 [00:40<00:00,  1.23it/s]\n"
     ]
    },
    {
     "name": "stdout",
     "output_type": "stream",
     "text": [
      "epoch = 44\n",
      "lr = 0.0008906361996829348\n",
      "train_loss = 0.6814085268974304\n",
      "train_cls_loss = 0.022755716731771826\n",
      "train_reg_loss = 0.09478582635521889\n",
      "train_cen_loss = 0.5638669860363007\n"
     ]
    },
    {
     "name": "stderr",
     "output_type": "stream",
     "text": [
      "100%|████████████████████████████████████████████████████████████████████████████████████████████████████████████| 10/10 [00:04<00:00,  2.18it/s]\n"
     ]
    },
    {
     "name": "stdout",
     "output_type": "stream",
     "text": [
      "epoch = 45\n",
      "valid_loss = 0.9874820351600647\n",
      "valid_cls_loss = 0.18852434530854226\n",
      "valid_reg_loss = 0.20404841303825377\n",
      "valid_cen_loss = 0.5949092864990234\n",
      "{'classes': tensor(1, dtype=torch.int32),\n",
      " 'map': tensor(0.5765),\n",
      " 'map_50': tensor(0.8616),\n",
      " 'map_75': tensor(0.6777),\n",
      " 'map_large': tensor(0.6435),\n",
      " 'map_medium': tensor(0.2413),\n",
      " 'map_per_class': tensor(-1.),\n",
      " 'map_small': tensor(0.),\n",
      " 'mar_1': tensor(0.2917),\n",
      " 'mar_10': tensor(0.6481),\n",
      " 'mar_100': tensor(0.6481),\n",
      " 'mar_100_per_class': tensor(-1.),\n",
      " 'mar_large': tensor(0.7230),\n",
      " 'mar_medium': tensor(0.3000),\n",
      " 'mar_small': tensor(0.)}\n"
     ]
    },
    {
     "name": "stderr",
     "output_type": "stream",
     "text": [
      "100%|████████████████████████████████████████████████████████████████████████████████████████████████████████████| 50/50 [00:41<00:00,  1.20it/s]\n"
     ]
    },
    {
     "name": "stdout",
     "output_type": "stream",
     "text": [
      "epoch = 45\n",
      "lr = 0.0008762407941865363\n",
      "train_loss = 0.6730774998664856\n",
      "train_cls_loss = 0.01950717738829553\n",
      "train_reg_loss = 0.09254539988934994\n",
      "train_cen_loss = 0.5610249257087707\n"
     ]
    },
    {
     "name": "stderr",
     "output_type": "stream",
     "text": [
      "100%|████████████████████████████████████████████████████████████████████████████████████████████████████████████| 10/10 [00:03<00:00,  2.77it/s]\n"
     ]
    },
    {
     "name": "stdout",
     "output_type": "stream",
     "text": [
      "epoch = 46\n",
      "valid_loss = 0.9772160410881042\n",
      "valid_cls_loss = 0.19251833632588386\n",
      "valid_reg_loss = 0.19523033872246742\n",
      "valid_cen_loss = 0.5894673526287079\n",
      "{'classes': tensor(1, dtype=torch.int32),\n",
      " 'map': tensor(0.6040),\n",
      " 'map_50': tensor(0.8819),\n",
      " 'map_75': tensor(0.7206),\n",
      " 'map_large': tensor(0.6790),\n",
      " 'map_medium': tensor(0.2470),\n",
      " 'map_per_class': tensor(-1.),\n",
      " 'map_small': tensor(0.),\n",
      " 'mar_1': tensor(0.2835),\n",
      " 'mar_10': tensor(0.6624),\n",
      " 'mar_100': tensor(0.6624),\n",
      " 'mar_100_per_class': tensor(-1.),\n",
      " 'mar_large': tensor(0.7442),\n",
      " 'mar_medium': tensor(0.2667),\n",
      " 'mar_small': tensor(0.)}\n"
     ]
    },
    {
     "name": "stderr",
     "output_type": "stream",
     "text": [
      "100%|████████████████████████████████████████████████████████████████████████████████████████████████████████████| 50/50 [00:41<00:00,  1.20it/s]\n"
     ]
    },
    {
     "name": "stdout",
     "output_type": "stream",
     "text": [
      "epoch = 46\n",
      "lr = 0.0008610876938294943\n",
      "train_loss = 0.6732890427112579\n",
      "train_cls_loss = 0.01976087350398302\n",
      "train_reg_loss = 0.09102210529148579\n",
      "train_cen_loss = 0.5625060641765595\n"
     ]
    },
    {
     "name": "stderr",
     "output_type": "stream",
     "text": [
      "100%|████████████████████████████████████████████████████████████████████████████████████████████████████████████| 10/10 [00:05<00:00,  1.96it/s]\n"
     ]
    },
    {
     "name": "stdout",
     "output_type": "stream",
     "text": [
      "epoch = 47\n",
      "valid_loss = 0.9796549618244171\n",
      "valid_cls_loss = 0.1589794773608446\n",
      "valid_reg_loss = 0.2375304415822029\n",
      "valid_cen_loss = 0.5831450343132019\n",
      "{'classes': tensor(1, dtype=torch.int32),\n",
      " 'map': tensor(0.4789),\n",
      " 'map_50': tensor(0.8896),\n",
      " 'map_75': tensor(0.4394),\n",
      " 'map_large': tensor(0.5333),\n",
      " 'map_medium': tensor(0.2390),\n",
      " 'map_per_class': tensor(-1.),\n",
      " 'map_small': tensor(0.),\n",
      " 'mar_1': tensor(0.2316),\n",
      " 'mar_10': tensor(0.5549),\n",
      " 'mar_100': tensor(0.5549),\n",
      " 'mar_100_per_class': tensor(-1.),\n",
      " 'mar_large': tensor(0.6177),\n",
      " 'mar_medium': tensor(0.2667),\n",
      " 'mar_small': tensor(0.)}\n"
     ]
    },
    {
     "name": "stderr",
     "output_type": "stream",
     "text": [
      "100%|████████████████████████████████████████████████████████████████████████████████████████████████████████████| 50/50 [00:38<00:00,  1.30it/s]\n"
     ]
    },
    {
     "name": "stdout",
     "output_type": "stream",
     "text": [
      "epoch = 47\n",
      "lr = 0.000845207414939313\n",
      "train_loss = 0.670902578830719\n",
      "train_cls_loss = 0.022761956844478844\n",
      "train_reg_loss = 0.08710548825562\n",
      "train_cen_loss = 0.5610351300239563\n"
     ]
    },
    {
     "name": "stderr",
     "output_type": "stream",
     "text": [
      "100%|████████████████████████████████████████████████████████████████████████████████████████████████████████████| 10/10 [00:06<00:00,  1.47it/s]\n"
     ]
    },
    {
     "name": "stdout",
     "output_type": "stream",
     "text": [
      "epoch = 48\n",
      "valid_loss = 0.928358381986618\n",
      "valid_cls_loss = 0.14860669076442717\n",
      "valid_reg_loss = 0.1922622576355934\n",
      "valid_cen_loss = 0.5874894261360168\n",
      "{'classes': tensor(1, dtype=torch.int32),\n",
      " 'map': tensor(0.6136),\n",
      " 'map_50': tensor(0.8890),\n",
      " 'map_75': tensor(0.6898),\n",
      " 'map_large': tensor(0.6875),\n",
      " 'map_medium': tensor(0.2580),\n",
      " 'map_per_class': tensor(-1.),\n",
      " 'map_small': tensor(0.),\n",
      " 'mar_1': tensor(0.2910),\n",
      " 'mar_10': tensor(0.6789),\n",
      " 'mar_100': tensor(0.6789),\n",
      " 'mar_100_per_class': tensor(-1.),\n",
      " 'mar_large': tensor(0.7602),\n",
      " 'mar_medium': tensor(0.2933),\n",
      " 'mar_small': tensor(0.)}\n"
     ]
    },
    {
     "name": "stderr",
     "output_type": "stream",
     "text": [
      "100%|████████████████████████████████████████████████████████████████████████████████████████████████████████████| 50/50 [00:36<00:00,  1.38it/s]\n"
     ]
    },
    {
     "name": "stdout",
     "output_type": "stream",
     "text": [
      "epoch = 48\n",
      "lr = 0.0008286319382842883\n",
      "train_loss = 0.6606929433345795\n",
      "train_cls_loss = 0.0187869490403682\n",
      "train_reg_loss = 0.08284123294055462\n",
      "train_cen_loss = 0.5590647625923156\n"
     ]
    },
    {
     "name": "stderr",
     "output_type": "stream",
     "text": [
      "100%|████████████████████████████████████████████████████████████████████████████████████████████████████████████| 10/10 [00:04<00:00,  2.02it/s]\n"
     ]
    },
    {
     "name": "stdout",
     "output_type": "stream",
     "text": [
      "epoch = 49\n",
      "valid_loss = 1.019514948129654\n",
      "valid_cls_loss = 0.2117209132760763\n",
      "valid_reg_loss = 0.20899564921855926\n",
      "valid_cen_loss = 0.5987983882427216\n",
      "{'classes': tensor(1, dtype=torch.int32),\n",
      " 'map': tensor(0.5766),\n",
      " 'map_50': tensor(0.8294),\n",
      " 'map_75': tensor(0.6934),\n",
      " 'map_large': tensor(0.6586),\n",
      " 'map_medium': tensor(0.1624),\n",
      " 'map_per_class': tensor(-1.),\n",
      " 'map_small': tensor(0.),\n",
      " 'mar_1': tensor(0.2865),\n",
      " 'mar_10': tensor(0.6286),\n",
      " 'mar_100': tensor(0.6286),\n",
      " 'mar_100_per_class': tensor(-1.),\n",
      " 'mar_large': tensor(0.7168),\n",
      " 'mar_medium': tensor(0.1733),\n",
      " 'mar_small': tensor(0.)}\n"
     ]
    },
    {
     "name": "stderr",
     "output_type": "stream",
     "text": [
      "100%|████████████████████████████████████████████████████████████████████████████████████████████████████████████| 50/50 [00:37<00:00,  1.32it/s]\n"
     ]
    },
    {
     "name": "stdout",
     "output_type": "stream",
     "text": [
      "epoch = 49\n",
      "lr = 0.0008113946446684952\n",
      "train_loss = 0.6591045928001403\n",
      "train_cls_loss = 0.014959819889627397\n",
      "train_reg_loss = 0.08381656222045422\n",
      "train_cen_loss = 0.5603282070159912\n"
     ]
    },
    {
     "name": "stderr",
     "output_type": "stream",
     "text": [
      "100%|████████████████████████████████████████████████████████████████████████████████████████████████████████████| 10/10 [00:06<00:00,  1.56it/s]\n"
     ]
    },
    {
     "name": "stdout",
     "output_type": "stream",
     "text": [
      "epoch = 50\n",
      "valid_loss = 0.9715882062911987\n",
      "valid_cls_loss = 0.18370138220489024\n",
      "valid_reg_loss = 0.19872289523482323\n",
      "valid_cen_loss = 0.5891639292240143\n",
      "{'classes': tensor(1, dtype=torch.int32),\n",
      " 'map': tensor(0.5808),\n",
      " 'map_50': tensor(0.8807),\n",
      " 'map_75': tensor(0.6314),\n",
      " 'map_large': tensor(0.6533),\n",
      " 'map_medium': tensor(0.2505),\n",
      " 'map_per_class': tensor(-1.),\n",
      " 'map_small': tensor(0.),\n",
      " 'mar_1': tensor(0.2789),\n",
      " 'mar_10': tensor(0.6526),\n",
      " 'mar_100': tensor(0.6526),\n",
      " 'mar_100_per_class': tensor(-1.),\n",
      " 'mar_large': tensor(0.7327),\n",
      " 'mar_medium': tensor(0.2667),\n",
      " 'mar_small': tensor(0.)}\n"
     ]
    },
    {
     "name": "stderr",
     "output_type": "stream",
     "text": [
      "100%|████████████████████████████████████████████████████████████████████████████████████████████████████████████| 50/50 [00:39<00:00,  1.27it/s]\n"
     ]
    },
    {
     "name": "stdout",
     "output_type": "stream",
     "text": [
      "epoch = 50\n",
      "lr = 0.0007935302477072917\n",
      "train_loss = 0.657896523475647\n",
      "train_cls_loss = 0.015520216785371304\n",
      "train_reg_loss = 0.07988917469978332\n",
      "train_cen_loss = 0.562487131357193\n"
     ]
    },
    {
     "name": "stderr",
     "output_type": "stream",
     "text": [
      "100%|████████████████████████████████████████████████████████████████████████████████████████████████████████████| 10/10 [00:04<00:00,  2.13it/s]\n"
     ]
    },
    {
     "name": "stdout",
     "output_type": "stream",
     "text": [
      "epoch = 51\n",
      "valid_loss = 0.9677397191524506\n",
      "valid_cls_loss = 0.1776798939332366\n",
      "valid_reg_loss = 0.194918754696846\n",
      "valid_cen_loss = 0.5951410591602325\n",
      "{'classes': tensor(1, dtype=torch.int32),\n",
      " 'map': tensor(0.5997),\n",
      " 'map_50': tensor(0.8779),\n",
      " 'map_75': tensor(0.6950),\n",
      " 'map_large': tensor(0.6745),\n",
      " 'map_medium': tensor(0.2701),\n",
      " 'map_per_class': tensor(-1.),\n",
      " 'map_small': tensor(0.),\n",
      " 'mar_1': tensor(0.2947),\n",
      " 'mar_10': tensor(0.6647),\n",
      " 'mar_100': tensor(0.6647),\n",
      " 'mar_100_per_class': tensor(-1.),\n",
      " 'mar_large': tensor(0.7469),\n",
      " 'mar_medium': tensor(0.2667),\n",
      " 'mar_small': tensor(0.)}\n"
     ]
    },
    {
     "name": "stderr",
     "output_type": "stream",
     "text": [
      "100%|████████████████████████████████████████████████████████████████████████████████████████████████████████████| 50/50 [00:40<00:00,  1.23it/s]\n"
     ]
    },
    {
     "name": "stdout",
     "output_type": "stream",
     "text": [
      "epoch = 51\n",
      "lr = 0.0007750747239187167\n",
      "train_loss = 0.660449560880661\n",
      "train_cls_loss = 0.016602419018745422\n",
      "train_reg_loss = 0.08334996558725834\n",
      "train_cen_loss = 0.5604971742630005\n"
     ]
    },
    {
     "name": "stderr",
     "output_type": "stream",
     "text": [
      "100%|████████████████████████████████████████████████████████████████████████████████████████████████████████████| 10/10 [00:05<00:00,  1.80it/s]\n"
     ]
    },
    {
     "name": "stdout",
     "output_type": "stream",
     "text": [
      "epoch = 52\n",
      "valid_loss = 0.9898308217525482\n",
      "valid_cls_loss = 0.20175864696502685\n",
      "valid_reg_loss = 0.19247367605566978\n",
      "valid_cen_loss = 0.5955984890460968\n",
      "{'classes': tensor(1, dtype=torch.int32),\n",
      " 'map': tensor(0.6040),\n",
      " 'map_50': tensor(0.8560),\n",
      " 'map_75': tensor(0.7305),\n",
      " 'map_large': tensor(0.6891),\n",
      " 'map_medium': tensor(0.1963),\n",
      " 'map_per_class': tensor(-1.),\n",
      " 'map_small': tensor(0.),\n",
      " 'mar_1': tensor(0.2947),\n",
      " 'mar_10': tensor(0.6624),\n",
      " 'mar_100': tensor(0.6624),\n",
      " 'mar_100_per_class': tensor(-1.),\n",
      " 'mar_large': tensor(0.7522),\n",
      " 'mar_medium': tensor(0.2067),\n",
      " 'mar_small': tensor(0.)}\n"
     ]
    },
    {
     "name": "stderr",
     "output_type": "stream",
     "text": [
      "100%|████████████████████████████████████████████████████████████████████████████████████████████████████████████| 50/50 [00:42<00:00,  1.18it/s]\n"
     ]
    },
    {
     "name": "stdout",
     "output_type": "stream",
     "text": [
      "epoch = 52\n",
      "lr = 0.0007560652402715706\n",
      "train_loss = 0.660723968744278\n",
      "train_cls_loss = 0.018336612619459628\n",
      "train_reg_loss = 0.0812461031973362\n",
      "train_cen_loss = 0.5611412560939789\n"
     ]
    },
    {
     "name": "stderr",
     "output_type": "stream",
     "text": [
      "100%|████████████████████████████████████████████████████████████████████████████████████████████████████████████| 10/10 [00:06<00:00,  1.64it/s]\n"
     ]
    },
    {
     "name": "stdout",
     "output_type": "stream",
     "text": [
      "epoch = 53\n",
      "valid_loss = 0.9785276770591735\n",
      "valid_cls_loss = 0.19072651565074922\n",
      "valid_reg_loss = 0.20057300627231597\n",
      "valid_cen_loss = 0.5872281491756439\n",
      "{'classes': tensor(1, dtype=torch.int32),\n",
      " 'map': tensor(0.5823),\n",
      " 'map_50': tensor(0.8623),\n",
      " 'map_75': tensor(0.6296),\n",
      " 'map_large': tensor(0.6683),\n",
      " 'map_medium': tensor(0.1373),\n",
      " 'map_per_class': tensor(-1.),\n",
      " 'map_small': tensor(0.),\n",
      " 'mar_1': tensor(0.2910),\n",
      " 'mar_10': tensor(0.6293),\n",
      " 'mar_100': tensor(0.6293),\n",
      " 'mar_100_per_class': tensor(-1.),\n",
      " 'mar_large': tensor(0.7221),\n",
      " 'mar_medium': tensor(0.1400),\n",
      " 'mar_small': tensor(0.)}\n"
     ]
    },
    {
     "name": "stderr",
     "output_type": "stream",
     "text": [
      "100%|████████████████████████████████████████████████████████████████████████████████████████████████████████████| 50/50 [00:41<00:00,  1.20it/s]\n"
     ]
    },
    {
     "name": "stdout",
     "output_type": "stream",
     "text": [
      "epoch = 53\n",
      "lr = 0.000736540079336087\n",
      "train_loss = 0.6584185814857483\n",
      "train_cls_loss = 0.016458754893392324\n",
      "train_reg_loss = 0.07951319947838784\n",
      "train_cen_loss = 0.5624466288089752\n"
     ]
    },
    {
     "name": "stderr",
     "output_type": "stream",
     "text": [
      "100%|████████████████████████████████████████████████████████████████████████████████████████████████████████████| 10/10 [00:03<00:00,  2.87it/s]\n"
     ]
    },
    {
     "name": "stdout",
     "output_type": "stream",
     "text": [
      "epoch = 54\n",
      "valid_loss = 0.9602016627788543\n",
      "valid_cls_loss = 0.17125578746199607\n",
      "valid_reg_loss = 0.20329012274742125\n",
      "valid_cen_loss = 0.5856557488441467\n",
      "{'classes': tensor(1, dtype=torch.int32),\n",
      " 'map': tensor(0.5864),\n",
      " 'map_50': tensor(0.8621),\n",
      " 'map_75': tensor(0.6705),\n",
      " 'map_large': tensor(0.6709),\n",
      " 'map_medium': tensor(0.1624),\n",
      " 'map_per_class': tensor(-1.),\n",
      " 'map_small': tensor(0.),\n",
      " 'mar_1': tensor(0.2880),\n",
      " 'mar_10': tensor(0.6459),\n",
      " 'mar_100': tensor(0.6459),\n",
      " 'mar_100_per_class': tensor(-1.),\n",
      " 'mar_large': tensor(0.7381),\n",
      " 'mar_medium': tensor(0.1667),\n",
      " 'mar_small': tensor(0.)}\n"
     ]
    },
    {
     "name": "stderr",
     "output_type": "stream",
     "text": [
      "100%|████████████████████████████████████████████████████████████████████████████████████████████████████████████| 50/50 [00:39<00:00,  1.26it/s]\n"
     ]
    },
    {
     "name": "stdout",
     "output_type": "stream",
     "text": [
      "epoch = 54\n",
      "lr = 0.0007165385621879302\n",
      "train_loss = 0.6627290868759155\n",
      "train_cls_loss = 0.01613109336234629\n",
      "train_reg_loss = 0.08523317985236645\n",
      "train_cen_loss = 0.5613648128509522\n"
     ]
    },
    {
     "name": "stderr",
     "output_type": "stream",
     "text": [
      "100%|████████████████████████████████████████████████████████████████████████████████████████████████████████████| 10/10 [00:03<00:00,  2.65it/s]\n"
     ]
    },
    {
     "name": "stdout",
     "output_type": "stream",
     "text": [
      "epoch = 55\n",
      "valid_loss = 1.013362604379654\n",
      "valid_cls_loss = 0.21578190177679063\n",
      "valid_reg_loss = 0.20324357524514197\n",
      "valid_cen_loss = 0.5943371236324311\n",
      "{'classes': tensor(1, dtype=torch.int32),\n",
      " 'map': tensor(0.5700),\n",
      " 'map_50': tensor(0.8472),\n",
      " 'map_75': tensor(0.6334),\n",
      " 'map_large': tensor(0.6556),\n",
      " 'map_medium': tensor(0.1304),\n",
      " 'map_per_class': tensor(-1.),\n",
      " 'map_small': tensor(0.),\n",
      " 'mar_1': tensor(0.2872),\n",
      " 'mar_10': tensor(0.6346),\n",
      " 'mar_100': tensor(0.6346),\n",
      " 'mar_100_per_class': tensor(-1.),\n",
      " 'mar_large': tensor(0.7283),\n",
      " 'mar_medium': tensor(0.1400),\n",
      " 'mar_small': tensor(0.)}\n"
     ]
    },
    {
     "name": "stderr",
     "output_type": "stream",
     "text": [
      "100%|████████████████████████████████████████████████████████████████████████████████████████████████████████████| 50/50 [00:37<00:00,  1.32it/s]\n"
     ]
    },
    {
     "name": "stdout",
     "output_type": "stream",
     "text": [
      "epoch = 55\n",
      "lr = 0.0006961009692207817\n",
      "train_loss = 0.6561417245864868\n",
      "train_cls_loss = 0.01432166924700141\n",
      "train_reg_loss = 0.08180100075900555\n",
      "train_cen_loss = 0.5600190532207489\n"
     ]
    },
    {
     "name": "stderr",
     "output_type": "stream",
     "text": [
      "100%|████████████████████████████████████████████████████████████████████████████████████████████████████████████| 10/10 [00:03<00:00,  2.82it/s]\n"
     ]
    },
    {
     "name": "stdout",
     "output_type": "stream",
     "text": [
      "epoch = 56\n",
      "valid_loss = 0.9927107930183411\n",
      "valid_cls_loss = 0.19786892123520375\n",
      "valid_reg_loss = 0.2009534291923046\n",
      "valid_cen_loss = 0.5938884317874908\n",
      "{'classes': tensor(1, dtype=torch.int32),\n",
      " 'map': tensor(0.5965),\n",
      " 'map_50': tensor(0.8690),\n",
      " 'map_75': tensor(0.6431),\n",
      " 'map_large': tensor(0.6772),\n",
      " 'map_medium': tensor(0.2241),\n",
      " 'map_per_class': tensor(-1.),\n",
      " 'map_small': tensor(0.),\n",
      " 'mar_1': tensor(0.2872),\n",
      " 'mar_10': tensor(0.6556),\n",
      " 'mar_100': tensor(0.6556),\n",
      " 'mar_100_per_class': tensor(-1.),\n",
      " 'mar_large': tensor(0.7398),\n",
      " 'mar_medium': tensor(0.2400),\n",
      " 'mar_small': tensor(0.)}\n"
     ]
    },
    {
     "name": "stderr",
     "output_type": "stream",
     "text": [
      "100%|████████████████████████████████████████████████████████████████████████████████████████████████████████████| 50/50 [00:37<00:00,  1.35it/s]\n"
     ]
    },
    {
     "name": "stdout",
     "output_type": "stream",
     "text": [
      "epoch = 56\n",
      "lr = 0.000675268459026989\n",
      "train_loss = 0.6591712999343872\n",
      "train_cls_loss = 0.017093814583495258\n",
      "train_reg_loss = 0.08107987321913242\n",
      "train_cen_loss = 0.5609976100921631\n"
     ]
    },
    {
     "name": "stderr",
     "output_type": "stream",
     "text": [
      "100%|████████████████████████████████████████████████████████████████████████████████████████████████████████████| 10/10 [00:06<00:00,  1.49it/s]\n"
     ]
    },
    {
     "name": "stdout",
     "output_type": "stream",
     "text": [
      "epoch = 57\n",
      "valid_loss = 0.9710500955581665\n",
      "valid_cls_loss = 0.1830058641731739\n",
      "valid_reg_loss = 0.19568709433078765\n",
      "valid_cen_loss = 0.5923571527004242\n",
      "{'classes': tensor(1, dtype=torch.int32),\n",
      " 'map': tensor(0.6111),\n",
      " 'map_50': tensor(0.8843),\n",
      " 'map_75': tensor(0.6830),\n",
      " 'map_large': tensor(0.6962),\n",
      " 'map_medium': tensor(0.1644),\n",
      " 'map_per_class': tensor(-1.),\n",
      " 'map_small': tensor(0.),\n",
      " 'mar_1': tensor(0.3008),\n",
      " 'mar_10': tensor(0.6647),\n",
      " 'mar_100': tensor(0.6647),\n",
      " 'mar_100_per_class': tensor(-1.),\n",
      " 'mar_large': tensor(0.7566),\n",
      " 'mar_medium': tensor(0.1933),\n",
      " 'mar_small': tensor(0.)}\n"
     ]
    },
    {
     "name": "stderr",
     "output_type": "stream",
     "text": [
      "100%|████████████████████████████████████████████████████████████████████████████████████████████████████████████| 50/50 [00:34<00:00,  1.43it/s]\n"
     ]
    },
    {
     "name": "stdout",
     "output_type": "stream",
     "text": [
      "epoch = 57\n",
      "lr = 0.0006540829855096373\n",
      "train_loss = 0.656181833744049\n",
      "train_cls_loss = 0.01390890946611762\n",
      "train_reg_loss = 0.07766576707363129\n",
      "train_cen_loss = 0.5646071577072144\n"
     ]
    },
    {
     "name": "stderr",
     "output_type": "stream",
     "text": [
      "100%|████████████████████████████████████████████████████████████████████████████████████████████████████████████| 10/10 [00:05<00:00,  1.87it/s]\n"
     ]
    },
    {
     "name": "stdout",
     "output_type": "stream",
     "text": [
      "epoch = 58\n",
      "valid_loss = 0.9830658137798309\n",
      "valid_cls_loss = 0.19776083678007125\n",
      "valid_reg_loss = 0.19611856043338777\n",
      "valid_cen_loss = 0.5891863882541657\n",
      "{'classes': tensor(1, dtype=torch.int32),\n",
      " 'map': tensor(0.5995),\n",
      " 'map_50': tensor(0.8514),\n",
      " 'map_75': tensor(0.6937),\n",
      " 'map_large': tensor(0.6745),\n",
      " 'map_medium': tensor(0.2545),\n",
      " 'map_per_class': tensor(-1.),\n",
      " 'map_small': tensor(0.),\n",
      " 'mar_1': tensor(0.2940),\n",
      " 'mar_10': tensor(0.6534),\n",
      " 'mar_100': tensor(0.6534),\n",
      " 'mar_100_per_class': tensor(-1.),\n",
      " 'mar_large': tensor(0.7354),\n",
      " 'mar_medium': tensor(0.2533),\n",
      " 'mar_small': tensor(0.)}\n"
     ]
    },
    {
     "name": "stderr",
     "output_type": "stream",
     "text": [
      "100%|████████████████████████████████████████████████████████████████████████████████████████████████████████████| 50/50 [00:40<00:00,  1.23it/s]\n"
     ]
    },
    {
     "name": "stdout",
     "output_type": "stream",
     "text": [
      "epoch = 58\n",
      "lr = 0.0006325872133929717\n",
      "train_loss = 0.6540097427368164\n",
      "train_cls_loss = 0.01848384360782802\n",
      "train_reg_loss = 0.07126453481614589\n",
      "train_cen_loss = 0.5642613613605499\n"
     ]
    },
    {
     "name": "stderr",
     "output_type": "stream",
     "text": [
      "100%|████████████████████████████████████████████████████████████████████████████████████████████████████████████| 10/10 [00:04<00:00,  2.19it/s]\n"
     ]
    },
    {
     "name": "stdout",
     "output_type": "stream",
     "text": [
      "epoch = 59\n",
      "valid_loss = 0.9739353895187378\n",
      "valid_cls_loss = 0.19720434807240964\n",
      "valid_reg_loss = 0.19470805674791336\n",
      "valid_cen_loss = 0.5820229649543762\n",
      "{'classes': tensor(1, dtype=torch.int32),\n",
      " 'map': tensor(0.6050),\n",
      " 'map_50': tensor(0.8592),\n",
      " 'map_75': tensor(0.6801),\n",
      " 'map_large': tensor(0.6782),\n",
      " 'map_medium': tensor(0.2583),\n",
      " 'map_per_class': tensor(-1.),\n",
      " 'map_small': tensor(0.),\n",
      " 'mar_1': tensor(0.2955),\n",
      " 'mar_10': tensor(0.6662),\n",
      " 'mar_100': tensor(0.6662),\n",
      " 'mar_100_per_class': tensor(-1.),\n",
      " 'mar_large': tensor(0.7478),\n",
      " 'mar_medium': tensor(0.2733),\n",
      " 'mar_small': tensor(0.)}\n"
     ]
    },
    {
     "name": "stderr",
     "output_type": "stream",
     "text": [
      "100%|████████████████████████████████████████████████████████████████████████████████████████████████████████████| 50/50 [00:39<00:00,  1.25it/s]\n"
     ]
    },
    {
     "name": "stdout",
     "output_type": "stream",
     "text": [
      "epoch = 59\n",
      "lr = 0.0006108244323013214\n",
      "train_loss = 0.6522112202644348\n",
      "train_cls_loss = 0.014678375348448753\n",
      "train_reg_loss = 0.07821323961019516\n",
      "train_cen_loss = 0.5593196070194244\n"
     ]
    },
    {
     "name": "stderr",
     "output_type": "stream",
     "text": [
      "100%|████████████████████████████████████████████████████████████████████████████████████████████████████████████| 10/10 [00:04<00:00,  2.16it/s]\n"
     ]
    },
    {
     "name": "stdout",
     "output_type": "stream",
     "text": [
      "epoch = 60\n",
      "valid_loss = 0.9813519597053528\n",
      "valid_cls_loss = 0.18801320977509023\n",
      "valid_reg_loss = 0.2019020698964596\n",
      "valid_cen_loss = 0.5914366781711579\n",
      "{'classes': tensor(1, dtype=torch.int32),\n",
      " 'map': tensor(0.6082),\n",
      " 'map_50': tensor(0.8804),\n",
      " 'map_75': tensor(0.6870),\n",
      " 'map_large': tensor(0.6872),\n",
      " 'map_medium': tensor(0.2195),\n",
      " 'map_per_class': tensor(-1.),\n",
      " 'map_small': tensor(0.),\n",
      " 'mar_1': tensor(0.2985),\n",
      " 'mar_10': tensor(0.6602),\n",
      " 'mar_100': tensor(0.6602),\n",
      " 'mar_100_per_class': tensor(-1.),\n",
      " 'mar_large': tensor(0.7451),\n",
      " 'mar_medium': tensor(0.2400),\n",
      " 'mar_small': tensor(0.)}\n"
     ]
    },
    {
     "name": "stderr",
     "output_type": "stream",
     "text": [
      "100%|████████████████████████████████████████████████████████████████████████████████████████████████████████████| 50/50 [00:42<00:00,  1.17it/s]\n"
     ]
    },
    {
     "name": "stdout",
     "output_type": "stream",
     "text": [
      "epoch = 60\n",
      "lr = 0.0005888384695795572\n",
      "train_loss = 0.6415790748596192\n",
      "train_cls_loss = 0.012796443845145404\n",
      "train_reg_loss = 0.06913787230849266\n",
      "train_cen_loss = 0.5596447587013245\n"
     ]
    },
    {
     "name": "stderr",
     "output_type": "stream",
     "text": [
      "100%|████████████████████████████████████████████████████████████████████████████████████████████████████████████| 10/10 [00:05<00:00,  1.77it/s]\n"
     ]
    },
    {
     "name": "stdout",
     "output_type": "stream",
     "text": [
      "epoch = 61\n",
      "valid_loss = 0.962201464176178\n",
      "valid_cls_loss = 0.18488342296332122\n",
      "valid_reg_loss = 0.1896938070654869\n",
      "valid_cen_loss = 0.5876242518424988\n",
      "{'classes': tensor(1, dtype=torch.int32),\n",
      " 'map': tensor(0.5986),\n",
      " 'map_50': tensor(0.8666),\n",
      " 'map_75': tensor(0.7014),\n",
      " 'map_large': tensor(0.6733),\n",
      " 'map_medium': tensor(0.2518),\n",
      " 'map_per_class': tensor(-1.),\n",
      " 'map_small': tensor(0.),\n",
      " 'mar_1': tensor(0.2805),\n",
      " 'mar_10': tensor(0.6647),\n",
      " 'mar_100': tensor(0.6647),\n",
      " 'mar_100_per_class': tensor(-1.),\n",
      " 'mar_large': tensor(0.7460),\n",
      " 'mar_medium': tensor(0.2733),\n",
      " 'mar_small': tensor(0.)}\n"
     ]
    },
    {
     "name": "stderr",
     "output_type": "stream",
     "text": [
      "100%|████████████████████████████████████████████████████████████████████████████████████████████████████████████| 50/50 [00:36<00:00,  1.38it/s]\n"
     ]
    },
    {
     "name": "stdout",
     "output_type": "stream",
     "text": [
      "epoch = 61\n",
      "lr = 0.0005666736020306506\n",
      "train_loss = 0.635731829404831\n",
      "train_cls_loss = 0.010764722554013133\n",
      "train_reg_loss = 0.06391303770244122\n",
      "train_cen_loss = 0.5610540640354157\n"
     ]
    },
    {
     "name": "stderr",
     "output_type": "stream",
     "text": [
      "100%|████████████████████████████████████████████████████████████████████████████████████████████████████████████| 10/10 [00:04<00:00,  2.20it/s]\n"
     ]
    },
    {
     "name": "stdout",
     "output_type": "stream",
     "text": [
      "epoch = 62\n",
      "valid_loss = 0.9565702617168427\n",
      "valid_cls_loss = 0.18388804160058497\n",
      "valid_reg_loss = 0.18804967328906058\n",
      "valid_cen_loss = 0.5846325695514679\n",
      "{'classes': tensor(1, dtype=torch.int32),\n",
      " 'map': tensor(0.6207),\n",
      " 'map_50': tensor(0.8828),\n",
      " 'map_75': tensor(0.7277),\n",
      " 'map_large': tensor(0.7025),\n",
      " 'map_medium': tensor(0.2335),\n",
      " 'map_per_class': tensor(-1.),\n",
      " 'map_small': tensor(0.),\n",
      " 'mar_1': tensor(0.3015),\n",
      " 'mar_10': tensor(0.6707),\n",
      " 'mar_100': tensor(0.6707),\n",
      " 'mar_100_per_class': tensor(-1.),\n",
      " 'mar_large': tensor(0.7575),\n",
      " 'mar_medium': tensor(0.2400),\n",
      " 'mar_small': tensor(0.)}\n"
     ]
    },
    {
     "name": "stderr",
     "output_type": "stream",
     "text": [
      "100%|████████████████████████████████████████████████████████████████████████████████████████████████████████████| 50/50 [00:39<00:00,  1.28it/s]\n"
     ]
    },
    {
     "name": "stdout",
     "output_type": "stream",
     "text": [
      "epoch = 62\n",
      "lr = 0.0005443744667480863\n",
      "train_loss = 0.6373776495456696\n",
      "train_cls_loss = 0.011841467800550162\n",
      "train_reg_loss = 0.06532256931066513\n",
      "train_cen_loss = 0.560213611125946\n"
     ]
    },
    {
     "name": "stderr",
     "output_type": "stream",
     "text": [
      "100%|████████████████████████████████████████████████████████████████████████████████████████████████████████████| 10/10 [00:04<00:00,  2.06it/s]\n"
     ]
    },
    {
     "name": "stdout",
     "output_type": "stream",
     "text": [
      "epoch = 63\n",
      "valid_loss = 0.9798875272274017\n",
      "valid_cls_loss = 0.19784643389284612\n",
      "valid_reg_loss = 0.1892597958445549\n",
      "valid_cen_loss = 0.5927813053131104\n",
      "{'classes': tensor(1, dtype=torch.int32),\n",
      " 'map': tensor(0.6084),\n",
      " 'map_50': tensor(0.8534),\n",
      " 'map_75': tensor(0.7323),\n",
      " 'map_large': tensor(0.6945),\n",
      " 'map_medium': tensor(0.1853),\n",
      " 'map_per_class': tensor(-1.),\n",
      " 'map_small': tensor(0.),\n",
      " 'mar_1': tensor(0.3083),\n",
      " 'mar_10': tensor(0.6624),\n",
      " 'mar_100': tensor(0.6624),\n",
      " 'mar_100_per_class': tensor(-1.),\n",
      " 'mar_large': tensor(0.7549),\n",
      " 'mar_medium': tensor(0.1867),\n",
      " 'mar_small': tensor(0.)}\n"
     ]
    },
    {
     "name": "stderr",
     "output_type": "stream",
     "text": [
      "100%|████████████████████████████████████████████████████████████████████████████████████████████████████████████| 50/50 [00:38<00:00,  1.31it/s]\n"
     ]
    },
    {
     "name": "stdout",
     "output_type": "stream",
     "text": [
      "epoch = 63\n",
      "lr = 0.0005219859712226957\n",
      "train_loss = 0.6389850223064423\n",
      "train_cls_loss = 0.0117633047234267\n",
      "train_reg_loss = 0.06527080446481705\n",
      "train_cen_loss = 0.5619509136676788\n"
     ]
    },
    {
     "name": "stderr",
     "output_type": "stream",
     "text": [
      "100%|████████████████████████████████████████████████████████████████████████████████████████████████████████████| 10/10 [00:06<00:00,  1.48it/s]\n"
     ]
    },
    {
     "name": "stdout",
     "output_type": "stream",
     "text": [
      "epoch = 64\n",
      "valid_loss = 0.9782363891601562\n",
      "valid_cls_loss = 0.18889022152870893\n",
      "valid_reg_loss = 0.1884166903793812\n",
      "valid_cen_loss = 0.600929468870163\n",
      "{'classes': tensor(1, dtype=torch.int32),\n",
      " 'map': tensor(0.6120),\n",
      " 'map_50': tensor(0.8665),\n",
      " 'map_75': tensor(0.7276),\n",
      " 'map_large': tensor(0.6897),\n",
      " 'map_medium': tensor(0.2533),\n",
      " 'map_per_class': tensor(-1.),\n",
      " 'map_small': tensor(0.),\n",
      " 'mar_1': tensor(0.3045),\n",
      " 'mar_10': tensor(0.6684),\n",
      " 'mar_100': tensor(0.6684),\n",
      " 'mar_100_per_class': tensor(-1.),\n",
      " 'mar_large': tensor(0.7522),\n",
      " 'mar_medium': tensor(0.2600),\n",
      " 'mar_small': tensor(0.)}\n"
     ]
    },
    {
     "name": "stderr",
     "output_type": "stream",
     "text": [
      "100%|████████████████████████████████████████████████████████████████████████████████████████████████████████████| 50/50 [00:42<00:00,  1.18it/s]\n"
     ]
    },
    {
     "name": "stdout",
     "output_type": "stream",
     "text": [
      "epoch = 64\n",
      "lr = 0.0004995532029049475\n",
      "train_loss = 0.6298263669013977\n",
      "train_cls_loss = 0.01286835121922195\n",
      "train_reg_loss = 0.05620218351483345\n",
      "train_cen_loss = 0.5607558286190033\n"
     ]
    },
    {
     "name": "stderr",
     "output_type": "stream",
     "text": [
      "100%|████████████████████████████████████████████████████████████████████████████████████████████████████████████| 10/10 [00:05<00:00,  1.94it/s]\n"
     ]
    },
    {
     "name": "stdout",
     "output_type": "stream",
     "text": [
      "epoch = 65\n",
      "valid_loss = 0.9825756967067718\n",
      "valid_cls_loss = 0.1948893129825592\n",
      "valid_reg_loss = 0.19398041889071466\n",
      "valid_cen_loss = 0.593705952167511\n",
      "{'classes': tensor(1, dtype=torch.int32),\n",
      " 'map': tensor(0.5954),\n",
      " 'map_50': tensor(0.8566),\n",
      " 'map_75': tensor(0.7031),\n",
      " 'map_large': tensor(0.6750),\n",
      " 'map_medium': tensor(0.2162),\n",
      " 'map_per_class': tensor(-1.),\n",
      " 'map_small': tensor(0.),\n",
      " 'mar_1': tensor(0.2880),\n",
      " 'mar_10': tensor(0.6594),\n",
      " 'mar_100': tensor(0.6594),\n",
      " 'mar_100_per_class': tensor(-1.),\n",
      " 'mar_large': tensor(0.7460),\n",
      " 'mar_medium': tensor(0.2267),\n",
      " 'mar_small': tensor(0.)}\n"
     ]
    },
    {
     "name": "stderr",
     "output_type": "stream",
     "text": [
      "100%|████████████████████████████████████████████████████████████████████████████████████████████████████████████| 50/50 [00:37<00:00,  1.32it/s]\n"
     ]
    },
    {
     "name": "stdout",
     "output_type": "stream",
     "text": [
      "epoch = 65\n",
      "lr = 0.0004771213384048217\n",
      "train_loss = 0.6318447649478912\n",
      "train_cls_loss = 0.014054020890034736\n",
      "train_reg_loss = 0.06076720416545868\n",
      "train_cen_loss = 0.5570235395431519\n"
     ]
    },
    {
     "name": "stderr",
     "output_type": "stream",
     "text": [
      "100%|████████████████████████████████████████████████████████████████████████████████████████████████████████████| 10/10 [00:04<00:00,  2.14it/s]\n"
     ]
    },
    {
     "name": "stdout",
     "output_type": "stream",
     "text": [
      "epoch = 66\n",
      "valid_loss = 1.0004409492015838\n",
      "valid_cls_loss = 0.21953403018414974\n",
      "valid_reg_loss = 0.19008493348956107\n",
      "valid_cen_loss = 0.5908219873905182\n",
      "{'classes': tensor(1, dtype=torch.int32),\n",
      " 'map': tensor(0.6165),\n",
      " 'map_50': tensor(0.8666),\n",
      " 'map_75': tensor(0.7198),\n",
      " 'map_large': tensor(0.6965),\n",
      " 'map_medium': tensor(0.2371),\n",
      " 'map_per_class': tensor(-1.),\n",
      " 'map_small': tensor(0.),\n",
      " 'mar_1': tensor(0.2970),\n",
      " 'mar_10': tensor(0.6827),\n",
      " 'mar_100': tensor(0.6827),\n",
      " 'mar_100_per_class': tensor(-1.),\n",
      " 'mar_large': tensor(0.7690),\n",
      " 'mar_medium': tensor(0.2600),\n",
      " 'mar_small': tensor(0.)}\n"
     ]
    },
    {
     "name": "stderr",
     "output_type": "stream",
     "text": [
      "100%|████████████████████████████████████████████████████████████████████████████████████████████████████████████| 50/50 [00:41<00:00,  1.21it/s]\n"
     ]
    },
    {
     "name": "stdout",
     "output_type": "stream",
     "text": [
      "epoch = 66\n",
      "lr = 0.00045473555251213\n",
      "train_loss = 0.6268361818790436\n",
      "train_cls_loss = 0.010514209056273103\n",
      "train_reg_loss = 0.057666576877236364\n",
      "train_cen_loss = 0.5586553966999054\n"
     ]
    },
    {
     "name": "stderr",
     "output_type": "stream",
     "text": [
      "100%|████████████████████████████████████████████████████████████████████████████████████████████████████████████| 10/10 [00:04<00:00,  2.20it/s]\n"
     ]
    },
    {
     "name": "stdout",
     "output_type": "stream",
     "text": [
      "epoch = 67\n",
      "valid_loss = 0.9880882441997528\n",
      "valid_cls_loss = 0.2129963930696249\n",
      "valid_reg_loss = 0.18687383383512496\n",
      "valid_cen_loss = 0.5882180154323577\n",
      "{'classes': tensor(1, dtype=torch.int32),\n",
      " 'map': tensor(0.6310),\n",
      " 'map_50': tensor(0.8676),\n",
      " 'map_75': tensor(0.7616),\n",
      " 'map_large': tensor(0.7151),\n",
      " 'map_medium': tensor(0.2216),\n",
      " 'map_per_class': tensor(-1.),\n",
      " 'map_small': tensor(0.),\n",
      " 'mar_1': tensor(0.3060),\n",
      " 'mar_10': tensor(0.6902),\n",
      " 'mar_100': tensor(0.6902),\n",
      " 'mar_100_per_class': tensor(-1.),\n",
      " 'mar_large': tensor(0.7814),\n",
      " 'mar_medium': tensor(0.2333),\n",
      " 'mar_small': tensor(0.)}\n"
     ]
    },
    {
     "name": "stderr",
     "output_type": "stream",
     "text": [
      "100%|████████████████████████████████████████████████████████████████████████████████████████████████████████████| 50/50 [00:43<00:00,  1.16it/s]\n"
     ]
    },
    {
     "name": "stdout",
     "output_type": "stream",
     "text": [
      "epoch = 67\n",
      "lr = 0.0004324409272205008\n",
      "train_loss = 0.626839108467102\n",
      "train_cls_loss = 0.010449916985817254\n",
      "train_reg_loss = 0.05643899396061897\n",
      "train_cen_loss = 0.5599501943588256\n"
     ]
    },
    {
     "name": "stderr",
     "output_type": "stream",
     "text": [
      "100%|████████████████████████████████████████████████████████████████████████████████████████████████████████████| 10/10 [00:05<00:00,  1.77it/s]\n"
     ]
    },
    {
     "name": "stdout",
     "output_type": "stream",
     "text": [
      "epoch = 68\n",
      "valid_loss = 1.0029919564723968\n",
      "valid_cls_loss = 0.21111692897975445\n",
      "valid_reg_loss = 0.19984389021992682\n",
      "valid_cen_loss = 0.5920311450958252\n",
      "{'classes': tensor(1, dtype=torch.int32),\n",
      " 'map': tensor(0.5921),\n",
      " 'map_50': tensor(0.8572),\n",
      " 'map_75': tensor(0.6982),\n",
      " 'map_large': tensor(0.6747),\n",
      " 'map_medium': tensor(0.1752),\n",
      " 'map_per_class': tensor(-1.),\n",
      " 'map_small': tensor(0.),\n",
      " 'mar_1': tensor(0.2880),\n",
      " 'mar_10': tensor(0.6489),\n",
      " 'mar_100': tensor(0.6489),\n",
      " 'mar_100_per_class': tensor(-1.),\n",
      " 'mar_large': tensor(0.7407),\n",
      " 'mar_medium': tensor(0.1733),\n",
      " 'mar_small': tensor(0.)}\n"
     ]
    },
    {
     "name": "stderr",
     "output_type": "stream",
     "text": [
      "100%|████████████████████████████████████████████████████████████████████████████████████████████████████████████| 50/50 [00:42<00:00,  1.18it/s]\n"
     ]
    },
    {
     "name": "stdout",
     "output_type": "stream",
     "text": [
      "epoch = 68\n",
      "lr = 0.00041028236093824456\n",
      "train_loss = 0.6342574048042298\n",
      "train_cls_loss = 0.012313881004229189\n",
      "train_reg_loss = 0.06470851168036461\n",
      "train_cen_loss = 0.5572350144386291\n"
     ]
    },
    {
     "name": "stderr",
     "output_type": "stream",
     "text": [
      "100%|████████████████████████████████████████████████████████████████████████████████████████████████████████████| 10/10 [00:05<00:00,  1.97it/s]\n"
     ]
    },
    {
     "name": "stdout",
     "output_type": "stream",
     "text": [
      "epoch = 69\n",
      "valid_loss = 0.995437353849411\n",
      "valid_cls_loss = 0.21068363152444364\n",
      "valid_reg_loss = 0.19563475921750068\n",
      "valid_cen_loss = 0.5891189694404602\n",
      "{'classes': tensor(1, dtype=torch.int32),\n",
      " 'map': tensor(0.5993),\n",
      " 'map_50': tensor(0.8631),\n",
      " 'map_75': tensor(0.6805),\n",
      " 'map_large': tensor(0.6863),\n",
      " 'map_medium': tensor(0.1588),\n",
      " 'map_per_class': tensor(-1.),\n",
      " 'map_small': tensor(0.),\n",
      " 'mar_1': tensor(0.2985),\n",
      " 'mar_10': tensor(0.6602),\n",
      " 'mar_100': tensor(0.6617),\n",
      " 'mar_100_per_class': tensor(-1.),\n",
      " 'mar_large': tensor(0.7575),\n",
      " 'mar_medium': tensor(0.1600),\n",
      " 'mar_small': tensor(0.)}\n"
     ]
    },
    {
     "name": "stderr",
     "output_type": "stream",
     "text": [
      "100%|████████████████████████████████████████████████████████████████████████████████████████████████████████████| 50/50 [00:35<00:00,  1.40it/s]\n"
     ]
    },
    {
     "name": "stdout",
     "output_type": "stream",
     "text": [
      "epoch = 69\n",
      "lr = 0.00038830447806893303\n",
      "train_loss = 0.6282479691505433\n",
      "train_cls_loss = 0.013193004068452864\n",
      "train_reg_loss = 0.056862568706274035\n",
      "train_cen_loss = 0.5581923961639405\n"
     ]
    },
    {
     "name": "stderr",
     "output_type": "stream",
     "text": [
      "100%|████████████████████████████████████████████████████████████████████████████████████████████████████████████| 10/10 [00:05<00:00,  1.68it/s]\n"
     ]
    },
    {
     "name": "stdout",
     "output_type": "stream",
     "text": [
      "epoch = 70\n",
      "valid_loss = 0.9880594074726105\n",
      "valid_cls_loss = 0.20420536994934083\n",
      "valid_reg_loss = 0.18951888456940652\n",
      "valid_cen_loss = 0.5943351507186889\n",
      "{'classes': tensor(1, dtype=torch.int32),\n",
      " 'map': tensor(0.6160),\n",
      " 'map_50': tensor(0.8579),\n",
      " 'map_75': tensor(0.7142),\n",
      " 'map_large': tensor(0.6999),\n",
      " 'map_medium': tensor(0.1977),\n",
      " 'map_per_class': tensor(-1.),\n",
      " 'map_small': tensor(0.),\n",
      " 'mar_1': tensor(0.2970),\n",
      " 'mar_10': tensor(0.6707),\n",
      " 'mar_100': tensor(0.6707),\n",
      " 'mar_100_per_class': tensor(-1.),\n",
      " 'mar_large': tensor(0.7619),\n",
      " 'mar_medium': tensor(0.2067),\n",
      " 'mar_small': tensor(0.)}\n"
     ]
    },
    {
     "name": "stderr",
     "output_type": "stream",
     "text": [
      "100%|████████████████████████████████████████████████████████████████████████████████████████████████████████████| 50/50 [00:45<00:00,  1.10it/s]\n"
     ]
    },
    {
     "name": "stdout",
     "output_type": "stream",
     "text": [
      "epoch = 70\n",
      "lr = 0.000366551539143791\n",
      "train_loss = 0.6190512335300445\n",
      "train_cls_loss = 0.00870056931860745\n",
      "train_reg_loss = 0.05275729011744261\n",
      "train_cen_loss = 0.5575933766365051\n"
     ]
    },
    {
     "name": "stderr",
     "output_type": "stream",
     "text": [
      "100%|████████████████████████████████████████████████████████████████████████████████████████████████████████████| 10/10 [00:04<00:00,  2.04it/s]\n"
     ]
    },
    {
     "name": "stdout",
     "output_type": "stream",
     "text": [
      "epoch = 71\n",
      "valid_loss = 0.9907991409301757\n",
      "valid_cls_loss = 0.21292714625597\n",
      "valid_reg_loss = 0.18387884199619292\n",
      "valid_cen_loss = 0.5939931690692901\n",
      "{'classes': tensor(1, dtype=torch.int32),\n",
      " 'map': tensor(0.6284),\n",
      " 'map_50': tensor(0.8722),\n",
      " 'map_75': tensor(0.7508),\n",
      " 'map_large': tensor(0.7126),\n",
      " 'map_medium': tensor(0.2111),\n",
      " 'map_per_class': tensor(-1.),\n",
      " 'map_small': tensor(0.),\n",
      " 'mar_1': tensor(0.3030),\n",
      " 'mar_10': tensor(0.6872),\n",
      " 'mar_100': tensor(0.6872),\n",
      " 'mar_100_per_class': tensor(-1.),\n",
      " 'mar_large': tensor(0.7779),\n",
      " 'mar_medium': tensor(0.2333),\n",
      " 'mar_small': tensor(0.)}\n"
     ]
    },
    {
     "name": "stderr",
     "output_type": "stream",
     "text": [
      "100%|████████████████████████████████████████████████████████████████████████████████████████████████████████████| 50/50 [00:44<00:00,  1.11it/s]\n"
     ]
    },
    {
     "name": "stdout",
     "output_type": "stream",
     "text": [
      "epoch = 71\n",
      "lr = 0.0003450673516868749\n",
      "train_loss = 0.6191427087783814\n",
      "train_cls_loss = 0.009110594890080393\n",
      "train_reg_loss = 0.050016731321811676\n",
      "train_cen_loss = 0.5600153803825378\n"
     ]
    },
    {
     "name": "stderr",
     "output_type": "stream",
     "text": [
      "100%|████████████████████████████████████████████████████████████████████████████████████████████████████████████| 10/10 [00:04<00:00,  2.12it/s]\n"
     ]
    },
    {
     "name": "stdout",
     "output_type": "stream",
     "text": [
      "epoch = 72\n",
      "valid_loss = 1.0006592631340028\n",
      "valid_cls_loss = 0.22194554023444651\n",
      "valid_reg_loss = 0.18668466284871102\n",
      "valid_cen_loss = 0.5920290648937225\n",
      "{'classes': tensor(1, dtype=torch.int32),\n",
      " 'map': tensor(0.6320),\n",
      " 'map_50': tensor(0.8630),\n",
      " 'map_75': tensor(0.7341),\n",
      " 'map_large': tensor(0.7212),\n",
      " 'map_medium': tensor(0.1933),\n",
      " 'map_per_class': tensor(-1.),\n",
      " 'map_small': tensor(0.),\n",
      " 'mar_1': tensor(0.3045),\n",
      " 'mar_10': tensor(0.6835),\n",
      " 'mar_100': tensor(0.6835),\n",
      " 'mar_100_per_class': tensor(-1.),\n",
      " 'mar_large': tensor(0.7788),\n",
      " 'mar_medium': tensor(0.1933),\n",
      " 'mar_small': tensor(0.)}\n"
     ]
    },
    {
     "name": "stderr",
     "output_type": "stream",
     "text": [
      "100%|████████████████████████████████████████████████████████████████████████████████████████████████████████████| 50/50 [00:39<00:00,  1.28it/s]\n"
     ]
    },
    {
     "name": "stdout",
     "output_type": "stream",
     "text": [
      "epoch = 72\n",
      "lr = 0.0003238951819925512\n",
      "train_loss = 0.6182129919528961\n",
      "train_cls_loss = 0.010022474145516753\n",
      "train_reg_loss = 0.0512275181338191\n",
      "train_cen_loss = 0.5569630014896393\n"
     ]
    },
    {
     "name": "stderr",
     "output_type": "stream",
     "text": [
      "100%|████████████████████████████████████████████████████████████████████████████████████████████████████████████| 10/10 [00:07<00:00,  1.33it/s]\n"
     ]
    },
    {
     "name": "stdout",
     "output_type": "stream",
     "text": [
      "epoch = 73\n",
      "valid_loss = 1.0161566197872163\n",
      "valid_cls_loss = 0.23012781217694284\n",
      "valid_reg_loss = 0.18948527052998543\n",
      "valid_cen_loss = 0.5965435087680817\n",
      "{'classes': tensor(1, dtype=torch.int32),\n",
      " 'map': tensor(0.6123),\n",
      " 'map_50': tensor(0.8552),\n",
      " 'map_75': tensor(0.6984),\n",
      " 'map_large': tensor(0.6964),\n",
      " 'map_medium': tensor(0.1980),\n",
      " 'map_per_class': tensor(-1.),\n",
      " 'map_small': tensor(0.),\n",
      " 'mar_1': tensor(0.2940),\n",
      " 'mar_10': tensor(0.6789),\n",
      " 'mar_100': tensor(0.6789),\n",
      " 'mar_100_per_class': tensor(-1.),\n",
      " 'mar_large': tensor(0.7717),\n",
      " 'mar_medium': tensor(0.2067),\n",
      " 'mar_small': tensor(0.)}\n"
     ]
    },
    {
     "name": "stderr",
     "output_type": "stream",
     "text": [
      "100%|████████████████████████████████████████████████████████████████████████████████████████████████████████████| 50/50 [00:43<00:00,  1.16it/s]\n"
     ]
    },
    {
     "name": "stdout",
     "output_type": "stream",
     "text": [
      "epoch = 73\n",
      "lr = 0.00030307766799293604\n",
      "train_loss = 0.6198362112045288\n",
      "train_cls_loss = 0.009088190039619803\n",
      "train_reg_loss = 0.04911662027239799\n",
      "train_cen_loss = 0.5616314017772674\n"
     ]
    },
    {
     "name": "stderr",
     "output_type": "stream",
     "text": [
      "100%|████████████████████████████████████████████████████████████████████████████████████████████████████████████| 10/10 [00:03<00:00,  2.55it/s]\n"
     ]
    },
    {
     "name": "stdout",
     "output_type": "stream",
     "text": [
      "epoch = 74\n",
      "valid_loss = 0.9853432416915894\n",
      "valid_cls_loss = 0.21567951552569867\n",
      "valid_reg_loss = 0.1794879876077175\n",
      "valid_cen_loss = 0.59017573595047\n",
      "{'classes': tensor(1, dtype=torch.int32),\n",
      " 'map': tensor(0.6395),\n",
      " 'map_50': tensor(0.8658),\n",
      " 'map_75': tensor(0.7497),\n",
      " 'map_large': tensor(0.7276),\n",
      " 'map_medium': tensor(0.2035),\n",
      " 'map_per_class': tensor(-1.),\n",
      " 'map_small': tensor(0.),\n",
      " 'mar_1': tensor(0.3030),\n",
      " 'mar_10': tensor(0.6970),\n",
      " 'mar_100': tensor(0.6970),\n",
      " 'mar_100_per_class': tensor(-1.),\n",
      " 'mar_large': tensor(0.7912),\n",
      " 'mar_medium': tensor(0.2200),\n",
      " 'mar_small': tensor(0.)}\n"
     ]
    },
    {
     "name": "stderr",
     "output_type": "stream",
     "text": [
      "100%|████████████████████████████████████████████████████████████████████████████████████████████████████████████| 50/50 [00:41<00:00,  1.20it/s]\n"
     ]
    },
    {
     "name": "stdout",
     "output_type": "stream",
     "text": [
      "epoch = 74\n",
      "lr = 0.00028265673339077525\n",
      "train_loss = 0.6149327266216278\n",
      "train_cls_loss = 0.00857724146451801\n",
      "train_reg_loss = 0.045823967680335045\n",
      "train_cen_loss = 0.5605315172672272\n"
     ]
    },
    {
     "name": "stderr",
     "output_type": "stream",
     "text": [
      "100%|████████████████████████████████████████████████████████████████████████████████████████████████████████████| 10/10 [00:05<00:00,  1.78it/s]\n"
     ]
    },
    {
     "name": "stdout",
     "output_type": "stream",
     "text": [
      "epoch = 75\n",
      "valid_loss = 0.9981707513332367\n",
      "valid_cls_loss = 0.22736902423202993\n",
      "valid_reg_loss = 0.17978039458394052\n",
      "valid_cen_loss = 0.5910213470458985\n",
      "{'classes': tensor(1, dtype=torch.int32),\n",
      " 'map': tensor(0.6339),\n",
      " 'map_50': tensor(0.8652),\n",
      " 'map_75': tensor(0.7267),\n",
      " 'map_large': tensor(0.7212),\n",
      " 'map_medium': tensor(0.2036),\n",
      " 'map_per_class': tensor(-1.),\n",
      " 'map_small': tensor(0.),\n",
      " 'mar_1': tensor(0.2962),\n",
      " 'mar_10': tensor(0.6910),\n",
      " 'mar_100': tensor(0.6910),\n",
      " 'mar_100_per_class': tensor(-1.),\n",
      " 'mar_large': tensor(0.7850),\n",
      " 'mar_medium': tensor(0.2133),\n",
      " 'mar_small': tensor(0.)}\n"
     ]
    },
    {
     "name": "stderr",
     "output_type": "stream",
     "text": [
      "100%|████████████████████████████████████████████████████████████████████████████████████████████████████████████| 50/50 [00:40<00:00,  1.23it/s]\n"
     ]
    },
    {
     "name": "stdout",
     "output_type": "stream",
     "text": [
      "epoch = 75\n",
      "lr = 0.00026267350323068596\n",
      "train_loss = 0.6195985805988312\n",
      "train_cls_loss = 0.008296030890196562\n",
      "train_reg_loss = 0.048704814650118354\n",
      "train_cen_loss = 0.5625977349281311\n"
     ]
    },
    {
     "name": "stderr",
     "output_type": "stream",
     "text": [
      "100%|████████████████████████████████████████████████████████████████████████████████████████████████████████████| 10/10 [00:05<00:00,  1.82it/s]\n"
     ]
    },
    {
     "name": "stdout",
     "output_type": "stream",
     "text": [
      "epoch = 76\n",
      "valid_loss = 0.9928785920143127\n",
      "valid_cls_loss = 0.22068643271923066\n",
      "valid_reg_loss = 0.18480301201343535\n",
      "valid_cen_loss = 0.5873891472816467\n",
      "{'classes': tensor(1, dtype=torch.int32),\n",
      " 'map': tensor(0.6053),\n",
      " 'map_50': tensor(0.8466),\n",
      " 'map_75': tensor(0.7173),\n",
      " 'map_large': tensor(0.6910),\n",
      " 'map_medium': tensor(0.1673),\n",
      " 'map_per_class': tensor(-1.),\n",
      " 'map_small': tensor(0.),\n",
      " 'mar_1': tensor(0.2977),\n",
      " 'mar_10': tensor(0.6654),\n",
      " 'mar_100': tensor(0.6654),\n",
      " 'mar_100_per_class': tensor(-1.),\n",
      " 'mar_large': tensor(0.7611),\n",
      " 'mar_medium': tensor(0.1667),\n",
      " 'mar_small': tensor(0.)}\n"
     ]
    },
    {
     "name": "stderr",
     "output_type": "stream",
     "text": [
      "100%|████████████████████████████████████████████████████████████████████████████████████████████████████████████| 50/50 [00:39<00:00,  1.27it/s]\n"
     ]
    },
    {
     "name": "stdout",
     "output_type": "stream",
     "text": [
      "epoch = 76\n",
      "lr = 0.00024316822107878967\n",
      "train_loss = 0.6189267909526825\n",
      "train_cls_loss = 0.007294279690831899\n",
      "train_reg_loss = 0.04739988878369331\n",
      "train_cen_loss = 0.5642326188087463\n"
     ]
    },
    {
     "name": "stderr",
     "output_type": "stream",
     "text": [
      "100%|████████████████████████████████████████████████████████████████████████████████████████████████████████████| 10/10 [00:03<00:00,  2.54it/s]\n"
     ]
    },
    {
     "name": "stdout",
     "output_type": "stream",
     "text": [
      "epoch = 77\n",
      "valid_loss = 0.9978444159030915\n",
      "valid_cls_loss = 0.22554631046950818\n",
      "valid_reg_loss = 0.1810107335448265\n",
      "valid_cen_loss = 0.5912873923778534\n",
      "{'classes': tensor(1, dtype=torch.int32),\n",
      " 'map': tensor(0.6274),\n",
      " 'map_50': tensor(0.8709),\n",
      " 'map_75': tensor(0.7132),\n",
      " 'map_large': tensor(0.7109),\n",
      " 'map_medium': tensor(0.2321),\n",
      " 'map_per_class': tensor(-1.),\n",
      " 'map_small': tensor(0.),\n",
      " 'mar_1': tensor(0.3060),\n",
      " 'mar_10': tensor(0.6887),\n",
      " 'mar_100': tensor(0.6887),\n",
      " 'mar_100_per_class': tensor(-1.),\n",
      " 'mar_large': tensor(0.7779),\n",
      " 'mar_medium': tensor(0.2467),\n",
      " 'mar_small': tensor(0.)}\n"
     ]
    },
    {
     "name": "stderr",
     "output_type": "stream",
     "text": [
      "100%|████████████████████████████████████████████████████████████████████████████████████████████████████████████| 50/50 [00:40<00:00,  1.24it/s]\n"
     ]
    },
    {
     "name": "stdout",
     "output_type": "stream",
     "text": [
      "epoch = 77\n",
      "lr = 0.00022418016797752616\n",
      "train_loss = 0.6061345422267914\n",
      "train_cls_loss = 0.00666374420048669\n",
      "train_reg_loss = 0.04055681589990854\n",
      "train_cen_loss = 0.5589139819145202\n"
     ]
    },
    {
     "name": "stderr",
     "output_type": "stream",
     "text": [
      "100%|████████████████████████████████████████████████████████████████████████████████████████████████████████████| 10/10 [00:06<00:00,  1.60it/s]\n"
     ]
    },
    {
     "name": "stdout",
     "output_type": "stream",
     "text": [
      "epoch = 78\n",
      "valid_loss = 0.9768260061740875\n",
      "valid_cls_loss = 0.20896432250738145\n",
      "valid_reg_loss = 0.17962703108787537\n",
      "valid_cen_loss = 0.5882346630096436\n",
      "{'classes': tensor(1, dtype=torch.int32),\n",
      " 'map': tensor(0.6358),\n",
      " 'map_50': tensor(0.8791),\n",
      " 'map_75': tensor(0.7613),\n",
      " 'map_large': tensor(0.7173),\n",
      " 'map_medium': tensor(0.2482),\n",
      " 'map_per_class': tensor(-1.),\n",
      " 'map_small': tensor(0.),\n",
      " 'mar_1': tensor(0.3068),\n",
      " 'mar_10': tensor(0.6947),\n",
      " 'mar_100': tensor(0.6947),\n",
      " 'mar_100_per_class': tensor(-1.),\n",
      " 'mar_large': tensor(0.7814),\n",
      " 'mar_medium': tensor(0.2733),\n",
      " 'mar_small': tensor(0.)}\n"
     ]
    },
    {
     "name": "stderr",
     "output_type": "stream",
     "text": [
      "100%|████████████████████████████████████████████████████████████████████████████████████████████████████████████| 50/50 [00:41<00:00,  1.21it/s]\n"
     ]
    },
    {
     "name": "stdout",
     "output_type": "stream",
     "text": [
      "epoch = 78\n",
      "lr = 0.00020574758333886123\n",
      "train_loss = 0.6131844532489776\n",
      "train_cls_loss = 0.008710325693245978\n",
      "train_reg_loss = 0.045078524723649024\n",
      "train_cen_loss = 0.5593956017494202\n"
     ]
    },
    {
     "name": "stderr",
     "output_type": "stream",
     "text": [
      "100%|████████████████████████████████████████████████████████████████████████████████████████████████████████████| 10/10 [00:04<00:00,  2.31it/s]\n"
     ]
    },
    {
     "name": "stdout",
     "output_type": "stream",
     "text": [
      "epoch = 79\n",
      "valid_loss = 1.003451943397522\n",
      "valid_cls_loss = 0.22856957241892814\n",
      "valid_reg_loss = 0.18279819637537004\n",
      "valid_cen_loss = 0.5920841574668885\n",
      "{'classes': tensor(1, dtype=torch.int32),\n",
      " 'map': tensor(0.6249),\n",
      " 'map_50': tensor(0.8794),\n",
      " 'map_75': tensor(0.7089),\n",
      " 'map_large': tensor(0.7065),\n",
      " 'map_medium': tensor(0.2301),\n",
      " 'map_per_class': tensor(-1.),\n",
      " 'map_small': tensor(0.),\n",
      " 'mar_1': tensor(0.3023),\n",
      " 'mar_10': tensor(0.6880),\n",
      " 'mar_100': tensor(0.6880),\n",
      " 'mar_100_per_class': tensor(-1.),\n",
      " 'mar_large': tensor(0.7770),\n",
      " 'mar_medium': tensor(0.2467),\n",
      " 'mar_small': tensor(0.)}\n"
     ]
    },
    {
     "name": "stderr",
     "output_type": "stream",
     "text": [
      "100%|████████████████████████████████████████████████████████████████████████████████████████████████████████████| 50/50 [00:37<00:00,  1.34it/s]\n"
     ]
    },
    {
     "name": "stdout",
     "output_type": "stream",
     "text": [
      "epoch = 79\n",
      "lr = 0.00018790758793520043\n",
      "train_loss = 0.6031221461296081\n",
      "train_cls_loss = 0.007038714825175703\n",
      "train_reg_loss = 0.04060886047780514\n",
      "train_cen_loss = 0.555474568605423\n"
     ]
    },
    {
     "name": "stderr",
     "output_type": "stream",
     "text": [
      "100%|████████████████████████████████████████████████████████████████████████████████████████████████████████████| 10/10 [00:05<00:00,  1.89it/s]\n"
     ]
    },
    {
     "name": "stdout",
     "output_type": "stream",
     "text": [
      "epoch = 80\n",
      "valid_loss = 0.9888899207115174\n",
      "valid_cls_loss = 0.22693560421466827\n",
      "valid_reg_loss = 0.17723805457353592\n",
      "valid_cen_loss = 0.5847162663936615\n",
      "{'classes': tensor(1, dtype=torch.int32),\n",
      " 'map': tensor(0.6355),\n",
      " 'map_50': tensor(0.8823),\n",
      " 'map_75': tensor(0.7173),\n",
      " 'map_large': tensor(0.7186),\n",
      " 'map_medium': tensor(0.2488),\n",
      " 'map_per_class': tensor(-1.),\n",
      " 'map_small': tensor(0.),\n",
      " 'mar_1': tensor(0.3038),\n",
      " 'mar_10': tensor(0.6917),\n",
      " 'mar_100': tensor(0.6917),\n",
      " 'mar_100_per_class': tensor(-1.),\n",
      " 'mar_large': tensor(0.7805),\n",
      " 'mar_medium': tensor(0.2533),\n",
      " 'mar_small': tensor(0.)}\n"
     ]
    },
    {
     "name": "stderr",
     "output_type": "stream",
     "text": [
      "100%|████████████████████████████████████████████████████████████████████████████████████████████████████████████| 50/50 [00:40<00:00,  1.24it/s]\n"
     ]
    },
    {
     "name": "stdout",
     "output_type": "stream",
     "text": [
      "epoch = 80\n",
      "lr = 0.00017069610914309313\n",
      "train_loss = 0.6079435765743255\n",
      "train_cls_loss = 0.00814656933536753\n",
      "train_reg_loss = 0.04298114433884621\n",
      "train_cen_loss = 0.5568158626556396\n"
     ]
    },
    {
     "name": "stderr",
     "output_type": "stream",
     "text": [
      "100%|████████████████████████████████████████████████████████████████████████████████████████████████████████████| 10/10 [00:04<00:00,  2.24it/s]\n"
     ]
    },
    {
     "name": "stdout",
     "output_type": "stream",
     "text": [
      "epoch = 81\n",
      "valid_loss = 0.9870948314666748\n",
      "valid_cls_loss = 0.21654979065060614\n",
      "valid_reg_loss = 0.18078921288251876\n",
      "valid_cen_loss = 0.5897558212280274\n",
      "{'classes': tensor(1, dtype=torch.int32),\n",
      " 'map': tensor(0.6415),\n",
      " 'map_50': tensor(0.8815),\n",
      " 'map_75': tensor(0.7450),\n",
      " 'map_large': tensor(0.7283),\n",
      " 'map_medium': tensor(0.2113),\n",
      " 'map_per_class': tensor(-1.),\n",
      " 'map_small': tensor(0.),\n",
      " 'mar_1': tensor(0.3120),\n",
      " 'mar_10': tensor(0.7038),\n",
      " 'mar_100': tensor(0.7038),\n",
      " 'mar_100_per_class': tensor(-1.),\n",
      " 'mar_large': tensor(0.7947),\n",
      " 'mar_medium': tensor(0.2533),\n",
      " 'mar_small': tensor(0.)}\n"
     ]
    },
    {
     "name": "stderr",
     "output_type": "stream",
     "text": [
      "100%|████████████████████████████████████████████████████████████████████████████████████████████████████████████| 50/50 [00:37<00:00,  1.33it/s]\n"
     ]
    },
    {
     "name": "stdout",
     "output_type": "stream",
     "text": [
      "epoch = 81\n",
      "lr = 0.0001541478085902779\n",
      "train_loss = 0.6076819837093353\n",
      "train_cls_loss = 0.008259646266233177\n",
      "train_reg_loss = 0.03942157696932554\n",
      "train_cen_loss = 0.560000765323639\n"
     ]
    },
    {
     "name": "stderr",
     "output_type": "stream",
     "text": [
      "100%|████████████████████████████████████████████████████████████████████████████████████████████████████████████| 10/10 [00:05<00:00,  1.69it/s]\n"
     ]
    },
    {
     "name": "stdout",
     "output_type": "stream",
     "text": [
      "epoch = 82\n",
      "valid_loss = 0.9977166295051575\n",
      "valid_cls_loss = 0.22939924709498882\n",
      "valid_reg_loss = 0.17962848767638206\n",
      "valid_cen_loss = 0.5886889100074768\n",
      "{'classes': tensor(1, dtype=torch.int32),\n",
      " 'map': tensor(0.6453),\n",
      " 'map_50': tensor(0.8788),\n",
      " 'map_75': tensor(0.7455),\n",
      " 'map_large': tensor(0.7314),\n",
      " 'map_medium': tensor(0.2227),\n",
      " 'map_per_class': tensor(-1.),\n",
      " 'map_small': tensor(0.),\n",
      " 'mar_1': tensor(0.3105),\n",
      " 'mar_10': tensor(0.6985),\n",
      " 'mar_100': tensor(0.6985),\n",
      " 'mar_100_per_class': tensor(-1.),\n",
      " 'mar_large': tensor(0.7894),\n",
      " 'mar_medium': tensor(0.2467),\n",
      " 'mar_small': tensor(0.)}\n"
     ]
    },
    {
     "name": "stderr",
     "output_type": "stream",
     "text": [
      "100%|████████████████████████████████████████████████████████████████████████████████████████████████████████████| 50/50 [00:36<00:00,  1.38it/s]\n"
     ]
    },
    {
     "name": "stdout",
     "output_type": "stream",
     "text": [
      "epoch = 82\n",
      "lr = 0.00013829601235177668\n",
      "train_loss = 0.5989584040641784\n",
      "train_cls_loss = 0.005434689226094633\n",
      "train_reg_loss = 0.03602640610188246\n",
      "train_cen_loss = 0.5574973058700562\n"
     ]
    },
    {
     "name": "stderr",
     "output_type": "stream",
     "text": [
      "100%|████████████████████████████████████████████████████████████████████████████████████████████████████████████| 10/10 [00:05<00:00,  1.74it/s]\n"
     ]
    },
    {
     "name": "stdout",
     "output_type": "stream",
     "text": [
      "epoch = 83\n",
      "valid_loss = 0.9954045832157135\n",
      "valid_cls_loss = 0.2274331197142601\n",
      "valid_reg_loss = 0.17958013117313384\n",
      "valid_cen_loss = 0.5883913218975068\n",
      "{'classes': tensor(1, dtype=torch.int32),\n",
      " 'map': tensor(0.6324),\n",
      " 'map_50': tensor(0.8779),\n",
      " 'map_75': tensor(0.7259),\n",
      " 'map_large': tensor(0.7157),\n",
      " 'map_medium': tensor(0.2393),\n",
      " 'map_per_class': tensor(-1.),\n",
      " 'map_small': tensor(0.),\n",
      " 'mar_1': tensor(0.3053),\n",
      " 'mar_10': tensor(0.6947),\n",
      " 'mar_100': tensor(0.6947),\n",
      " 'mar_100_per_class': tensor(-1.),\n",
      " 'mar_large': tensor(0.7841),\n",
      " 'mar_medium': tensor(0.2533),\n",
      " 'mar_small': tensor(0.)}\n"
     ]
    },
    {
     "name": "stderr",
     "output_type": "stream",
     "text": [
      "100%|████████████████████████████████████████████████████████████████████████████████████████████████████████████| 50/50 [00:42<00:00,  1.17it/s]\n"
     ]
    },
    {
     "name": "stdout",
     "output_type": "stream",
     "text": [
      "epoch = 83\n",
      "lr = 0.00012317264383561512\n",
      "train_loss = 0.6001418054103851\n",
      "train_cls_loss = 0.006125124481040984\n",
      "train_reg_loss = 0.036487659886479375\n",
      "train_cen_loss = 0.557529022693634\n"
     ]
    },
    {
     "name": "stderr",
     "output_type": "stream",
     "text": [
      "100%|████████████████████████████████████████████████████████████████████████████████████████████████████████████| 10/10 [00:04<00:00,  2.34it/s]\n"
     ]
    },
    {
     "name": "stdout",
     "output_type": "stream",
     "text": [
      "epoch = 84\n",
      "valid_loss = 0.9838524580001831\n",
      "valid_cls_loss = 0.21617946289479734\n",
      "valid_reg_loss = 0.17705834582448005\n",
      "valid_cen_loss = 0.590614652633667\n",
      "{'classes': tensor(1, dtype=torch.int32),\n",
      " 'map': tensor(0.6424),\n",
      " 'map_50': tensor(0.8828),\n",
      " 'map_75': tensor(0.7367),\n",
      " 'map_large': tensor(0.7262),\n",
      " 'map_medium': tensor(0.2359),\n",
      " 'map_per_class': tensor(-1.),\n",
      " 'map_small': tensor(0.),\n",
      " 'mar_1': tensor(0.3060),\n",
      " 'mar_10': tensor(0.6955),\n",
      " 'mar_100': tensor(0.6955),\n",
      " 'mar_100_per_class': tensor(-1.),\n",
      " 'mar_large': tensor(0.7850),\n",
      " 'mar_medium': tensor(0.2533),\n",
      " 'mar_small': tensor(0.)}\n"
     ]
    },
    {
     "name": "stderr",
     "output_type": "stream",
     "text": [
      "100%|████████████████████████████████████████████████████████████████████████████████████████████████████████████| 50/50 [00:42<00:00,  1.17it/s]\n"
     ]
    },
    {
     "name": "stdout",
     "output_type": "stream",
     "text": [
      "epoch = 84\n",
      "lr = 0.0001088081594933271\n",
      "train_loss = 0.6014022266864777\n",
      "train_cls_loss = 0.005327963165473193\n",
      "train_reg_loss = 0.03640680812299252\n",
      "train_cen_loss = 0.5596674621105194\n"
     ]
    },
    {
     "name": "stderr",
     "output_type": "stream",
     "text": [
      "100%|████████████████████████████████████████████████████████████████████████████████████████████████████████████| 10/10 [00:04<00:00,  2.19it/s]\n"
     ]
    },
    {
     "name": "stdout",
     "output_type": "stream",
     "text": [
      "epoch = 85\n",
      "valid_loss = 1.0076340675354003\n",
      "valid_cls_loss = 0.23995002061128617\n",
      "valid_reg_loss = 0.17755083963274956\n",
      "valid_cen_loss = 0.5901332139968872\n",
      "{'classes': tensor(1, dtype=torch.int32),\n",
      " 'map': tensor(0.6263),\n",
      " 'map_50': tensor(0.8588),\n",
      " 'map_75': tensor(0.7114),\n",
      " 'map_large': tensor(0.7152),\n",
      " 'map_medium': tensor(0.1901),\n",
      " 'map_per_class': tensor(-1.),\n",
      " 'map_small': tensor(0.),\n",
      " 'mar_1': tensor(0.3038),\n",
      " 'mar_10': tensor(0.6902),\n",
      " 'mar_100': tensor(0.6902),\n",
      " 'mar_100_per_class': tensor(-1.),\n",
      " 'mar_large': tensor(0.7867),\n",
      " 'mar_medium': tensor(0.1933),\n",
      " 'mar_small': tensor(0.)}\n"
     ]
    },
    {
     "name": "stderr",
     "output_type": "stream",
     "text": [
      "100%|████████████████████████████████████████████████████████████████████████████████████████████████████████████| 50/50 [00:39<00:00,  1.25it/s]\n"
     ]
    },
    {
     "name": "stdout",
     "output_type": "stream",
     "text": [
      "epoch = 85\n",
      "lr = 9.523148748471465e-05\n",
      "train_loss = 0.5993317639827729\n",
      "train_cls_loss = 0.005834597038337961\n",
      "train_reg_loss = 0.03561321754008531\n",
      "train_cen_loss = 0.5578839480876923\n"
     ]
    },
    {
     "name": "stderr",
     "output_type": "stream",
     "text": [
      "100%|████████████████████████████████████████████████████████████████████████████████████████████████████████████| 10/10 [00:05<00:00,  1.77it/s]\n"
     ]
    },
    {
     "name": "stdout",
     "output_type": "stream",
     "text": [
      "epoch = 86\n",
      "valid_loss = 1.001674336194992\n",
      "valid_cls_loss = 0.23234595246613027\n",
      "valid_reg_loss = 0.1818804033100605\n",
      "valid_cen_loss = 0.587447988986969\n",
      "{'classes': tensor(1, dtype=torch.int32),\n",
      " 'map': tensor(0.6294),\n",
      " 'map_50': tensor(0.8699),\n",
      " 'map_75': tensor(0.7294),\n",
      " 'map_large': tensor(0.7142),\n",
      " 'map_medium': tensor(0.2219),\n",
      " 'map_per_class': tensor(-1.),\n",
      " 'map_small': tensor(0.),\n",
      " 'mar_1': tensor(0.3090),\n",
      " 'mar_10': tensor(0.6910),\n",
      " 'mar_100': tensor(0.6910),\n",
      " 'mar_100_per_class': tensor(-1.),\n",
      " 'mar_large': tensor(0.7823),\n",
      " 'mar_medium': tensor(0.2333),\n",
      " 'mar_small': tensor(0.)}\n"
     ]
    },
    {
     "name": "stderr",
     "output_type": "stream",
     "text": [
      "100%|████████████████████████████████████████████████████████████████████████████████████████████████████████████| 50/50 [00:42<00:00,  1.17it/s]\n"
     ]
    },
    {
     "name": "stdout",
     "output_type": "stream",
     "text": [
      "epoch = 86\n",
      "lr = 8.246996942038399e-05\n",
      "train_loss = 0.5966602385044097\n",
      "train_cls_loss = 0.005506290150806308\n",
      "train_reg_loss = 0.03194301284849644\n",
      "train_cen_loss = 0.5592109322547912\n"
     ]
    },
    {
     "name": "stderr",
     "output_type": "stream",
     "text": [
      "100%|████████████████████████████████████████████████████████████████████████████████████████████████████████████| 10/10 [00:06<00:00,  1.45it/s]\n"
     ]
    },
    {
     "name": "stdout",
     "output_type": "stream",
     "text": [
      "epoch = 87\n",
      "valid_loss = 1.0045311331748963\n",
      "valid_cls_loss = 0.23457262478768826\n",
      "valid_reg_loss = 0.178998227417469\n",
      "valid_cen_loss = 0.5909602880477905\n",
      "{'classes': tensor(1, dtype=torch.int32),\n",
      " 'map': tensor(0.6473),\n",
      " 'map_50': tensor(0.8750),\n",
      " 'map_75': tensor(0.7364),\n",
      " 'map_large': tensor(0.7354),\n",
      " 'map_medium': tensor(0.2175),\n",
      " 'map_per_class': tensor(-1.),\n",
      " 'map_small': tensor(0.),\n",
      " 'mar_1': tensor(0.3150),\n",
      " 'mar_10': tensor(0.7015),\n",
      " 'mar_100': tensor(0.7015),\n",
      " 'mar_100_per_class': tensor(-1.),\n",
      " 'mar_large': tensor(0.7947),\n",
      " 'mar_medium': tensor(0.2333),\n",
      " 'mar_small': tensor(0.)}\n"
     ]
    },
    {
     "name": "stderr",
     "output_type": "stream",
     "text": [
      "100%|████████████████████████████████████████████████████████████████████████████████████████████████████████████| 50/50 [00:39<00:00,  1.26it/s]\n"
     ]
    },
    {
     "name": "stdout",
     "output_type": "stream",
     "text": [
      "epoch = 87\n",
      "lr = 7.054930529938013e-05\n",
      "train_loss = 0.5967097449302673\n",
      "train_cls_loss = 0.005106384491082281\n",
      "train_reg_loss = 0.03209111582487822\n",
      "train_cen_loss = 0.5595122420787811\n"
     ]
    },
    {
     "name": "stderr",
     "output_type": "stream",
     "text": [
      "100%|████████████████████████████████████████████████████████████████████████████████████████████████████████████| 10/10 [00:07<00:00,  1.35it/s]\n"
     ]
    },
    {
     "name": "stdout",
     "output_type": "stream",
     "text": [
      "epoch = 88\n",
      "valid_loss = 1.0218504250049592\n",
      "valid_cls_loss = 0.24915024414658546\n",
      "valid_reg_loss = 0.18021569326519965\n",
      "valid_cen_loss = 0.5924844801425934\n",
      "{'classes': tensor(1, dtype=torch.int32),\n",
      " 'map': tensor(0.6283),\n",
      " 'map_50': tensor(0.8589),\n",
      " 'map_75': tensor(0.7202),\n",
      " 'map_large': tensor(0.7200),\n",
      " 'map_medium': tensor(0.1646),\n",
      " 'map_per_class': tensor(-1.),\n",
      " 'map_small': tensor(0.),\n",
      " 'mar_1': tensor(0.3075),\n",
      " 'mar_10': tensor(0.6895),\n",
      " 'mar_100': tensor(0.6895),\n",
      " 'mar_100_per_class': tensor(-1.),\n",
      " 'mar_large': tensor(0.7894),\n",
      " 'mar_medium': tensor(0.1667),\n",
      " 'mar_small': tensor(0.)}\n"
     ]
    },
    {
     "name": "stderr",
     "output_type": "stream",
     "text": [
      "100%|████████████████████████████████████████████████████████████████████████████████████████████████████████████| 50/50 [00:37<00:00,  1.32it/s]\n"
     ]
    },
    {
     "name": "stdout",
     "output_type": "stream",
     "text": [
      "epoch = 88\n",
      "lr = 5.949350175280962e-05\n",
      "train_loss = 0.596898056268692\n",
      "train_cls_loss = 0.005532271098345518\n",
      "train_reg_loss = 0.030220332369208337\n",
      "train_cen_loss = 0.5611454546451569\n"
     ]
    },
    {
     "name": "stderr",
     "output_type": "stream",
     "text": [
      "100%|████████████████████████████████████████████████████████████████████████████████████████████████████████████| 10/10 [00:03<00:00,  2.79it/s]\n"
     ]
    },
    {
     "name": "stdout",
     "output_type": "stream",
     "text": [
      "epoch = 89\n",
      "valid_loss = 1.0335066378116609\n",
      "valid_cls_loss = 0.2648169811815023\n",
      "valid_reg_loss = 0.17786564379930497\n",
      "valid_cen_loss = 0.5908240020275116\n",
      "{'classes': tensor(1, dtype=torch.int32),\n",
      " 'map': tensor(0.6344),\n",
      " 'map_50': tensor(0.8715),\n",
      " 'map_75': tensor(0.7421),\n",
      " 'map_large': tensor(0.7208),\n",
      " 'map_medium': tensor(0.2164),\n",
      " 'map_per_class': tensor(-1.),\n",
      " 'map_small': tensor(0.),\n",
      " 'mar_1': tensor(0.3083),\n",
      " 'mar_10': tensor(0.6947),\n",
      " 'mar_100': tensor(0.6947),\n",
      " 'mar_100_per_class': tensor(-1.),\n",
      " 'mar_large': tensor(0.7885),\n",
      " 'mar_medium': tensor(0.2200),\n",
      " 'mar_small': tensor(0.)}\n"
     ]
    },
    {
     "name": "stderr",
     "output_type": "stream",
     "text": [
      "100%|████████████████████████████████████████████████████████████████████████████████████████████████████████████| 50/50 [00:39<00:00,  1.26it/s]\n"
     ]
    },
    {
     "name": "stdout",
     "output_type": "stream",
     "text": [
      "epoch = 89\n",
      "lr = 4.932482369767979e-05\n",
      "train_loss = 0.5979109621047973\n",
      "train_cls_loss = 0.00541624570498243\n",
      "train_reg_loss = 0.033007871732115744\n",
      "train_cen_loss = 0.5594868433475494\n"
     ]
    },
    {
     "name": "stderr",
     "output_type": "stream",
     "text": [
      "100%|████████████████████████████████████████████████████████████████████████████████████████████████████████████| 10/10 [00:06<00:00,  1.56it/s]\n"
     ]
    },
    {
     "name": "stdout",
     "output_type": "stream",
     "text": [
      "epoch = 90\n",
      "valid_loss = 1.0222235381603242\n",
      "valid_cls_loss = 0.2506805531680584\n",
      "valid_reg_loss = 0.1786930851638317\n",
      "valid_cen_loss = 0.5928498864173889\n",
      "{'classes': tensor(1, dtype=torch.int32),\n",
      " 'map': tensor(0.6310),\n",
      " 'map_50': tensor(0.8686),\n",
      " 'map_75': tensor(0.7138),\n",
      " 'map_large': tensor(0.7167),\n",
      " 'map_medium': tensor(0.2116),\n",
      " 'map_per_class': tensor(-1.),\n",
      " 'map_small': tensor(0.),\n",
      " 'mar_1': tensor(0.3090),\n",
      " 'mar_10': tensor(0.6910),\n",
      " 'mar_100': tensor(0.6910),\n",
      " 'mar_100_per_class': tensor(-1.),\n",
      " 'mar_large': tensor(0.7841),\n",
      " 'mar_medium': tensor(0.2200),\n",
      " 'mar_small': tensor(0.)}\n"
     ]
    },
    {
     "name": "stderr",
     "output_type": "stream",
     "text": [
      "100%|████████████████████████████████████████████████████████████████████████████████████████████████████████████| 50/50 [00:38<00:00,  1.29it/s]\n"
     ]
    },
    {
     "name": "stdout",
     "output_type": "stream",
     "text": [
      "epoch = 90\n",
      "lr = 4.00637494983193e-05\n",
      "train_loss = 0.5928739702701569\n",
      "train_cls_loss = 0.005457347647752613\n",
      "train_reg_loss = 0.030436638705432416\n",
      "train_cen_loss = 0.5569799876213074\n"
     ]
    },
    {
     "name": "stderr",
     "output_type": "stream",
     "text": [
      "100%|████████████████████████████████████████████████████████████████████████████████████████████████████████████| 10/10 [00:05<00:00,  1.93it/s]\n"
     ]
    },
    {
     "name": "stdout",
     "output_type": "stream",
     "text": [
      "epoch = 91\n",
      "valid_loss = 1.0169000923633575\n",
      "valid_cls_loss = 0.24230291843414306\n",
      "valid_reg_loss = 0.18142601624131202\n",
      "valid_cen_loss = 0.5931711554527282\n",
      "{'classes': tensor(1, dtype=torch.int32),\n",
      " 'map': tensor(0.6324),\n",
      " 'map_50': tensor(0.8705),\n",
      " 'map_75': tensor(0.7196),\n",
      " 'map_large': tensor(0.7201),\n",
      " 'map_medium': tensor(0.1948),\n",
      " 'map_per_class': tensor(-1.),\n",
      " 'map_small': tensor(0.),\n",
      " 'mar_1': tensor(0.3105),\n",
      " 'mar_10': tensor(0.6917),\n",
      " 'mar_100': tensor(0.6917),\n",
      " 'mar_100_per_class': tensor(-1.),\n",
      " 'mar_large': tensor(0.7867),\n",
      " 'mar_medium': tensor(0.2067),\n",
      " 'mar_small': tensor(0.)}\n"
     ]
    },
    {
     "name": "stderr",
     "output_type": "stream",
     "text": [
      "100%|████████████████████████████████████████████████████████████████████████████████████████████████████████████| 50/50 [00:42<00:00,  1.19it/s]\n"
     ]
    },
    {
     "name": "stdout",
     "output_type": "stream",
     "text": [
      "epoch = 91\n",
      "lr = 3.172892972567736e-05\n",
      "train_loss = 0.5949638748168945\n",
      "train_cls_loss = 0.005446793134324252\n",
      "train_reg_loss = 0.032265045866370204\n",
      "train_cen_loss = 0.5572520339488983\n"
     ]
    },
    {
     "name": "stderr",
     "output_type": "stream",
     "text": [
      "100%|████████████████████████████████████████████████████████████████████████████████████████████████████████████| 10/10 [00:04<00:00,  2.07it/s]\n"
     ]
    },
    {
     "name": "stdout",
     "output_type": "stream",
     "text": [
      "epoch = 92\n",
      "valid_loss = 0.9911911845207214\n",
      "valid_cls_loss = 0.2278947401791811\n",
      "valid_reg_loss = 0.17289730086922644\n",
      "valid_cen_loss = 0.5903991460800171\n",
      "{'classes': tensor(1, dtype=torch.int32),\n",
      " 'map': tensor(0.6404),\n",
      " 'map_50': tensor(0.8709),\n",
      " 'map_75': tensor(0.7344),\n",
      " 'map_large': tensor(0.7303),\n",
      " 'map_medium': tensor(0.2191),\n",
      " 'map_per_class': tensor(-1.),\n",
      " 'map_small': tensor(0.),\n",
      " 'mar_1': tensor(0.3135),\n",
      " 'mar_10': tensor(0.6992),\n",
      " 'mar_100': tensor(0.6992),\n",
      " 'mar_100_per_class': tensor(-1.),\n",
      " 'mar_large': tensor(0.7938),\n",
      " 'mar_medium': tensor(0.2200),\n",
      " 'mar_small': tensor(0.)}\n"
     ]
    },
    {
     "name": "stderr",
     "output_type": "stream",
     "text": [
      "100%|████████████████████████████████████████████████████████████████████████████████████████████████████████████| 50/50 [00:41<00:00,  1.20it/s]\n"
     ]
    },
    {
     "name": "stdout",
     "output_type": "stream",
     "text": [
      "epoch = 92\n",
      "lr = 2.4337149597556505e-05\n",
      "train_loss = 0.593063268661499\n",
      "train_cls_loss = 0.005238366667181253\n",
      "train_reg_loss = 0.029013893809169532\n",
      "train_cen_loss = 0.5588110089302063\n"
     ]
    },
    {
     "name": "stderr",
     "output_type": "stream",
     "text": [
      "100%|████████████████████████████████████████████████████████████████████████████████████████████████████████████| 10/10 [00:04<00:00,  2.00it/s]\n"
     ]
    },
    {
     "name": "stdout",
     "output_type": "stream",
     "text": [
      "epoch = 93\n",
      "valid_loss = 1.0291958272457122\n",
      "valid_cls_loss = 0.2564652170985937\n",
      "valid_reg_loss = 0.18039614483714103\n",
      "valid_cen_loss = 0.5923344552516937\n",
      "{'classes': tensor(1, dtype=torch.int32),\n",
      " 'map': tensor(0.6336),\n",
      " 'map_50': tensor(0.8701),\n",
      " 'map_75': tensor(0.7185),\n",
      " 'map_large': tensor(0.7184),\n",
      " 'map_medium': tensor(0.2478),\n",
      " 'map_per_class': tensor(-1.),\n",
      " 'map_small': tensor(0.),\n",
      " 'mar_1': tensor(0.3060),\n",
      " 'mar_10': tensor(0.6947),\n",
      " 'mar_100': tensor(0.6947),\n",
      " 'mar_100_per_class': tensor(-1.),\n",
      " 'mar_large': tensor(0.7841),\n",
      " 'mar_medium': tensor(0.2533),\n",
      " 'mar_small': tensor(0.)}\n"
     ]
    },
    {
     "name": "stderr",
     "output_type": "stream",
     "text": [
      "100%|████████████████████████████████████████████████████████████████████████████████████████████████████████████| 50/50 [00:36<00:00,  1.36it/s]\n"
     ]
    },
    {
     "name": "stdout",
     "output_type": "stream",
     "text": [
      "epoch = 93\n",
      "lr = 1.7903295175417303e-05\n",
      "train_loss = 0.5934512722492218\n",
      "train_cls_loss = 0.004454617837909609\n",
      "train_reg_loss = 0.028785792775452138\n",
      "train_cen_loss = 0.5602108573913575\n"
     ]
    },
    {
     "name": "stderr",
     "output_type": "stream",
     "text": [
      "100%|████████████████████████████████████████████████████████████████████████████████████████████████████████████| 10/10 [00:03<00:00,  2.79it/s]\n"
     ]
    },
    {
     "name": "stdout",
     "output_type": "stream",
     "text": [
      "epoch = 94\n",
      "valid_loss = 1.0215068936347962\n",
      "valid_cls_loss = 0.2480495784431696\n",
      "valid_reg_loss = 0.17762118801474572\n",
      "valid_cen_loss = 0.5958361506462098\n",
      "{'classes': tensor(1, dtype=torch.int32),\n",
      " 'map': tensor(0.6398),\n",
      " 'map_50': tensor(0.8708),\n",
      " 'map_75': tensor(0.7292),\n",
      " 'map_large': tensor(0.7283),\n",
      " 'map_medium': tensor(0.2210),\n",
      " 'map_per_class': tensor(-1.),\n",
      " 'map_small': tensor(0.),\n",
      " 'mar_1': tensor(0.3105),\n",
      " 'mar_10': tensor(0.6932),\n",
      " 'mar_100': tensor(0.6932),\n",
      " 'mar_100_per_class': tensor(-1.),\n",
      " 'mar_large': tensor(0.7858),\n",
      " 'mar_medium': tensor(0.2267),\n",
      " 'mar_small': tensor(0.)}\n"
     ]
    },
    {
     "name": "stderr",
     "output_type": "stream",
     "text": [
      "100%|████████████████████████████████████████████████████████████████████████████████████████████████████████████| 50/50 [00:35<00:00,  1.41it/s]\n"
     ]
    },
    {
     "name": "stdout",
     "output_type": "stream",
     "text": [
      "epoch = 94\n",
      "lr = 1.2440323385831537e-05\n",
      "train_loss = 0.5902007269859314\n",
      "train_cls_loss = 0.004579151910729706\n",
      "train_reg_loss = 0.028881844226270915\n",
      "train_cen_loss = 0.5567397344112396\n"
     ]
    },
    {
     "name": "stderr",
     "output_type": "stream",
     "text": [
      "100%|████████████████████████████████████████████████████████████████████████████████████████████████████████████| 10/10 [00:05<00:00,  1.92it/s]\n"
     ]
    },
    {
     "name": "stdout",
     "output_type": "stream",
     "text": [
      "epoch = 95\n",
      "valid_loss = 0.9986533641815185\n",
      "valid_cls_loss = 0.23473684918135404\n",
      "valid_reg_loss = 0.17652246356010437\n",
      "valid_cen_loss = 0.5873940408229827\n",
      "{'classes': tensor(1, dtype=torch.int32),\n",
      " 'map': tensor(0.6405),\n",
      " 'map_50': tensor(0.8733),\n",
      " 'map_75': tensor(0.7227),\n",
      " 'map_large': tensor(0.7300),\n",
      " 'map_medium': tensor(0.2145),\n",
      " 'map_per_class': tensor(-1.),\n",
      " 'map_small': tensor(0.),\n",
      " 'mar_1': tensor(0.3008),\n",
      " 'mar_10': tensor(0.6940),\n",
      " 'mar_100': tensor(0.6940),\n",
      " 'mar_100_per_class': tensor(-1.),\n",
      " 'mar_large': tensor(0.7876),\n",
      " 'mar_medium': tensor(0.2200),\n",
      " 'mar_small': tensor(0.)}\n"
     ]
    },
    {
     "name": "stderr",
     "output_type": "stream",
     "text": [
      "100%|████████████████████████████████████████████████████████████████████████████████████████████████████████████| 50/50 [00:41<00:00,  1.21it/s]\n"
     ]
    },
    {
     "name": "stdout",
     "output_type": "stream",
     "text": [
      "epoch = 95\n",
      "lr = 7.959235926956858e-06\n",
      "train_loss = 0.594196275472641\n",
      "train_cls_loss = 0.004751562837045639\n",
      "train_reg_loss = 0.02948125559836626\n",
      "train_cen_loss = 0.5599634552001953\n"
     ]
    },
    {
     "name": "stderr",
     "output_type": "stream",
     "text": [
      "100%|████████████████████████████████████████████████████████████████████████████████████████████████████████████| 10/10 [00:04<00:00,  2.28it/s]\n"
     ]
    },
    {
     "name": "stdout",
     "output_type": "stream",
     "text": [
      "epoch = 96\n",
      "valid_loss = 1.0258740305900573\n",
      "valid_cls_loss = 0.25644780825823543\n",
      "valid_reg_loss = 0.17848265841603278\n",
      "valid_cen_loss = 0.590943568944931\n",
      "{'classes': tensor(1, dtype=torch.int32),\n",
      " 'map': tensor(0.6324),\n",
      " 'map_50': tensor(0.8635),\n",
      " 'map_75': tensor(0.7287),\n",
      " 'map_large': tensor(0.7199),\n",
      " 'map_medium': tensor(0.2182),\n",
      " 'map_per_class': tensor(-1.),\n",
      " 'map_small': tensor(0.),\n",
      " 'mar_1': tensor(0.3098),\n",
      " 'mar_10': tensor(0.6970),\n",
      " 'mar_100': tensor(0.6970),\n",
      " 'mar_100_per_class': tensor(-1.),\n",
      " 'mar_large': tensor(0.7912),\n",
      " 'mar_medium': tensor(0.2200),\n",
      " 'mar_small': tensor(0.)}\n"
     ]
    },
    {
     "name": "stderr",
     "output_type": "stream",
     "text": [
      "100%|████████████████████████████████████████████████████████████████████████████████████████████████████████████| 50/50 [00:41<00:00,  1.20it/s]\n"
     ]
    },
    {
     "name": "stdout",
     "output_type": "stream",
     "text": [
      "epoch = 96\n",
      "lr = 4.469057112580509e-06\n",
      "train_loss = 0.591948127746582\n",
      "train_cls_loss = 0.004712558516766876\n",
      "train_reg_loss = 0.031201923694461585\n",
      "train_cen_loss = 0.5560336458683014\n"
     ]
    },
    {
     "name": "stderr",
     "output_type": "stream",
     "text": [
      "100%|████████████████████████████████████████████████████████████████████████████████████████████████████████████| 10/10 [00:03<00:00,  3.03it/s]\n"
     ]
    },
    {
     "name": "stdout",
     "output_type": "stream",
     "text": [
      "epoch = 97\n",
      "valid_loss = 1.0276142299175262\n",
      "valid_cls_loss = 0.2544522568583488\n",
      "valid_reg_loss = 0.17797779962420462\n",
      "valid_cen_loss = 0.5951841771602631\n",
      "{'classes': tensor(1, dtype=torch.int32),\n",
      " 'map': tensor(0.6357),\n",
      " 'map_50': tensor(0.8720),\n",
      " 'map_75': tensor(0.7457),\n",
      " 'map_large': tensor(0.7241),\n",
      " 'map_medium': tensor(0.1995),\n",
      " 'map_per_class': tensor(-1.),\n",
      " 'map_small': tensor(0.),\n",
      " 'mar_1': tensor(0.3060),\n",
      " 'mar_10': tensor(0.6940),\n",
      " 'mar_100': tensor(0.6940),\n",
      " 'mar_100_per_class': tensor(-1.),\n",
      " 'mar_large': tensor(0.7885),\n",
      " 'mar_medium': tensor(0.2133),\n",
      " 'mar_small': tensor(0.)}\n"
     ]
    },
    {
     "name": "stderr",
     "output_type": "stream",
     "text": [
      "100%|████████████████████████████████████████████████████████████████████████████████████████████████████████████| 50/50 [00:39<00:00,  1.26it/s]\n"
     ]
    },
    {
     "name": "stdout",
     "output_type": "stream",
     "text": [
      "epoch = 97\n",
      "lr = 1.976815698352485e-06\n",
      "train_loss = 0.5932217395305633\n",
      "train_cls_loss = 0.004606456526089459\n",
      "train_reg_loss = 0.027840146999806165\n",
      "train_cen_loss = 0.5607751345634461\n"
     ]
    },
    {
     "name": "stderr",
     "output_type": "stream",
     "text": [
      "100%|████████████████████████████████████████████████████████████████████████████████████████████████████████████| 10/10 [00:04<00:00,  2.26it/s]\n"
     ]
    },
    {
     "name": "stdout",
     "output_type": "stream",
     "text": [
      "epoch = 98\n",
      "valid_loss = 1.0049361348152162\n",
      "valid_cls_loss = 0.2372008588165045\n",
      "valid_reg_loss = 0.17572119310498238\n",
      "valid_cen_loss = 0.5920140683650971\n",
      "{'classes': tensor(1, dtype=torch.int32),\n",
      " 'map': tensor(0.6413),\n",
      " 'map_50': tensor(0.8726),\n",
      " 'map_75': tensor(0.7457),\n",
      " 'map_large': tensor(0.7305),\n",
      " 'map_medium': tensor(0.2180),\n",
      " 'map_per_class': tensor(-1.),\n",
      " 'map_small': tensor(0.),\n",
      " 'mar_1': tensor(0.3053),\n",
      " 'mar_10': tensor(0.6940),\n",
      " 'mar_100': tensor(0.6940),\n",
      " 'mar_100_per_class': tensor(-1.),\n",
      " 'mar_large': tensor(0.7876),\n",
      " 'mar_medium': tensor(0.2200),\n",
      " 'mar_small': tensor(0.)}\n"
     ]
    },
    {
     "name": "stderr",
     "output_type": "stream",
     "text": [
      "100%|████████████████████████████████████████████████████████████████████████████████████████████████████████████| 50/50 [00:42<00:00,  1.18it/s]\n"
     ]
    },
    {
     "name": "stdout",
     "output_type": "stream",
     "text": [
      "epoch = 98\n",
      "lr = 4.875307268070029e-07\n",
      "train_loss = 0.5898659038543701\n",
      "train_cls_loss = 0.004584110667929053\n",
      "train_reg_loss = 0.025957700945436955\n",
      "train_cen_loss = 0.5593240928649902\n"
     ]
    },
    {
     "name": "stderr",
     "output_type": "stream",
     "text": [
      "100%|████████████████████████████████████████████████████████████████████████████████████████████████████████████| 10/10 [00:03<00:00,  2.66it/s]\n"
     ]
    },
    {
     "name": "stdout",
     "output_type": "stream",
     "text": [
      "epoch = 99\n",
      "valid_loss = 1.0263990461826324\n",
      "valid_cls_loss = 0.25796643272042274\n",
      "valid_reg_loss = 0.17715500369668008\n",
      "valid_cen_loss = 0.5912776231765747\n",
      "{'classes': tensor(1, dtype=torch.int32),\n",
      " 'map': tensor(0.6389),\n",
      " 'map_50': tensor(0.8712),\n",
      " 'map_75': tensor(0.7323),\n",
      " 'map_large': tensor(0.7242),\n",
      " 'map_medium': tensor(0.2441),\n",
      " 'map_per_class': tensor(-1.),\n",
      " 'map_small': tensor(0.),\n",
      " 'mar_1': tensor(0.3000),\n",
      " 'mar_10': tensor(0.7000),\n",
      " 'mar_100': tensor(0.7000),\n",
      " 'mar_100_per_class': tensor(-1.),\n",
      " 'mar_large': tensor(0.7903),\n",
      " 'mar_medium': tensor(0.2533),\n",
      " 'mar_small': tensor(0.)}\n"
     ]
    },
    {
     "name": "stderr",
     "output_type": "stream",
     "text": [
      "100%|████████████████████████████████████████████████████████████████████████████████████████████████████████████| 50/50 [00:38<00:00,  1.30it/s]"
     ]
    },
    {
     "name": "stdout",
     "output_type": "stream",
     "text": [
      "epoch = 99\n",
      "lr = 4.201419678776099e-09\n",
      "train_loss = 0.5875184440612793\n",
      "train_cls_loss = 0.00488614612724632\n",
      "train_reg_loss = 0.02887061970308423\n",
      "train_cen_loss = 0.5537616777420044\n"
     ]
    },
    {
     "name": "stderr",
     "output_type": "stream",
     "text": [
      "\n"
     ]
    }
   ],
   "source": [
    "gc.collect()\n",
    "#torch.cuda.empty_cache()\n",
    "gc.collect()\n",
    "\n",
    "start_epoch = 0\n",
    "for epoch in range(start_epoch, 100):\n",
    "    time_ep = time.time()\n",
    "    \n",
    "    valid_loss = 0\n",
    "    valid_cls_loss = 0\n",
    "    valid_reg_loss = 0\n",
    "    valid_cen_loss = 0\n",
    "    model.eval()\n",
    "    with torch.no_grad():\n",
    "        map_metric = MeanAveragePrecision(\n",
    "            box_format='xywh', # make sure your dataset outputs target in xywh format\n",
    "            backend='faster_coco_eval'\n",
    "        )\n",
    "        for batch in tqdm(val_dataloader, total=len(val_dataloader)):\n",
    "            cls_tgts, reg_tgts = associate_targets_to_anchors(\n",
    "                batch['target'],\n",
    "                anchors,\n",
    "                anchor_sizes\n",
    "            )\n",
    "            image = batch[\"image\"].to(dev)\n",
    "            cls_logits, bbox_reg, centerness = model(image)\n",
    "            losses = eval_losses(\n",
    "                cls_logits,\n",
    "                bbox_reg,\n",
    "                centerness,\n",
    "                cls_tgts.to(dev),\n",
    "                reg_tgts.to(dev)\n",
    "            )\n",
    "            loss = losses['combined_loss']\n",
    "            valid_loss += loss.detach().item()\n",
    "            valid_cls_loss += losses[\"cls_loss\"].detach().item()\n",
    "            valid_reg_loss += losses[\"reg_loss\"].detach().item()\n",
    "            valid_cen_loss += losses[\"centerness_loss\"].detach().item()\n",
    "            preds = post_process_batch(\n",
    "                cls_logits.to(\"cpu\"),\n",
    "                bbox_reg.to(\"cpu\"),\n",
    "                centerness.to(\"cpu\"),\n",
    "                model.input_size\n",
    "            )\n",
    "            map_metric.update(preds, batch['target'])\n",
    "        valid_loss /= len(val_dataloader)\n",
    "        valid_cls_loss /= len(val_dataloader)\n",
    "        valid_reg_loss /= len(val_dataloader)\n",
    "        valid_cen_loss /= len(val_dataloader)\n",
    "        mapmetrics = map_metric.compute()\n",
    "        print(f\"{epoch = }\")\n",
    "        print(f\"{valid_loss = }\")\n",
    "        print(f\"{valid_cls_loss = }\")\n",
    "        print(f\"{valid_reg_loss = }\")\n",
    "        print(f\"{valid_cen_loss = }\")\n",
    "        print(pformat(mapmetrics))\n",
    "        map_metric.reset()\n",
    "    train_loss = 0\n",
    "    train_cls_loss = 0\n",
    "    train_reg_loss = 0\n",
    "    train_cen_loss = 0\n",
    "    model.train()\n",
    "    for batch in tqdm(train_dataloader, total=len(train_dataloader)):\n",
    "        image = batch[\"image\"].to(dev)               \n",
    "        optimizer.zero_grad()\n",
    "        cls_logits, bbox_reg, centerness = model(image)\n",
    "        cls_tgts, reg_tgts = associate_targets_to_anchors(\n",
    "            batch['target'],\n",
    "            anchors,\n",
    "            anchor_sizes\n",
    "        ) # BxNumAnchors, BxNumAnchorsx4    \n",
    "        losses = eval_losses(\n",
    "            cls_logits,\n",
    "            bbox_reg,\n",
    "            centerness,\n",
    "            cls_tgts.to(dev),\n",
    "            reg_tgts.to(dev)\n",
    "        )\n",
    "        loss = losses['combined_loss']\n",
    "        loss.backward()\n",
    "        optimizer.step()\n",
    "        lr_scheduler.step()\n",
    "        train_loss += loss.detach().item()\n",
    "        train_cls_loss += losses[\"cls_loss\"].detach().item()\n",
    "        train_reg_loss += losses[\"reg_loss\"].detach().item()\n",
    "        train_cen_loss += losses[\"centerness_loss\"].detach().item()\n",
    "    train_loss /= len(train_dataloader)\n",
    "    train_cls_loss /= len(train_dataloader)\n",
    "    train_reg_loss /= len(train_dataloader)\n",
    "    train_cen_loss /= len(train_dataloader)\n",
    "    print(f\"{epoch = }\")\n",
    "    print(f\"lr = {lr_scheduler.get_last_lr()[0]}\"),\n",
    "    print(f\"{train_loss = }\")\n",
    "    print(f\"{train_cls_loss = }\")\n",
    "    print(f\"{train_reg_loss = }\")\n",
    "    print(f\"{train_cen_loss = }\")\n",
    "    \n",
    "    time_ep = time.time() - time_ep"
   ]
  },
  {
   "cell_type": "code",
   "execution_count": null,
   "id": "7f633afe-0349-4224-9d70-2d7c6e034893",
   "metadata": {},
   "outputs": [],
   "source": []
  }
 ],
 "metadata": {
  "kernelspec": {
   "display_name": "dl_toolbox_38",
   "language": "python",
   "name": "dl_toolbox_38"
  },
  "language_info": {
   "codemirror_mode": {
    "name": "ipython",
    "version": 3
   },
   "file_extension": ".py",
   "mimetype": "text/x-python",
   "name": "python",
   "nbconvert_exporter": "python",
   "pygments_lexer": "ipython3",
   "version": "3.8.10"
  }
 },
 "nbformat": 4,
 "nbformat_minor": 5
}
