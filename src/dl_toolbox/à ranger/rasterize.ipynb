{
 "cells": [
  {
   "cell_type": "code",
   "execution_count": 7,
   "id": "65c2ead7-8561-48a3-b24e-1d3994695bb6",
   "metadata": {},
   "outputs": [],
   "source": [
    "import fiona\n",
    "import rasterio\n",
    "import numpy as np\n",
    "from rasterio.features import rasterize\n",
    "from fiona.transform import transform as f_transform\n",
    "import pyproj\n",
    "import shapely\n",
    "from shapely import ops"
   ]
  },
  {
   "cell_type": "code",
   "execution_count": 2,
   "id": "eea7f996-4c9a-44d8-8ad7-87afc498ee22",
   "metadata": {
    "tags": []
   },
   "outputs": [],
   "source": [
    "nomenclature = {\n",
    "    'culture-prairie': 1,\n",
    "    'eau': 2,\n",
    "    'foret': 3,\n",
    "    'foret_plantee': 4,\n",
    "    'friche': 5,\n",
    "    'urbain et artificiel': 6,\n",
    "    'verger': 7,\n",
    "    'voie de communication': 8\n",
    "}"
   ]
  },
  {
   "cell_type": "code",
   "execution_count": 4,
   "id": "0129a20d-da28-4d84-8b6f-1ea909d9221e",
   "metadata": {
    "tags": []
   },
   "outputs": [],
   "source": [
    "shapefile = fiona.open(\"/mnt/d/pfournie/Documents/data/alumhi/OCS_1946_210714_VERSION_FINALE_Merge.shp\", 'r')\n",
    "raster = rasterio.open('/mnt/d/pfournie/Documents/data/alumhi/1946-3.tif', 'r')\n",
    "\n",
    "shapes1946 = [(s['geometry'], nomenclature[s['properties']['OCS_1946']]) for s in shapefile]\n",
    "\n",
    "meta = raster.meta.copy()\n",
    "meta.update(compress='lzw')\n",
    "meta.update(count=1)\n",
    "with rasterio.open('/mnt/d/pfournie/Documents/data/alumhi/1946-labels.tif', 'w+', **meta) as out:\n",
    "    out_arr = out.read(1) \n",
    "    burned = rasterize(shapes=shapes1946, fill=0, out=out_arr, transform=out.transform)\n",
    "    out.write_band(1, burned)"
   ]
  },
  {
   "cell_type": "code",
   "execution_count": 5,
   "id": "6c88aef6-f70b-46ae-86a1-b5f900517773",
   "metadata": {
    "tags": []
   },
   "outputs": [],
   "source": [
    "shapefile = fiona.open(\"/mnt/d/pfournie/Documents/data/alumhi/OCS_2019_210712_VERSION_FINALE_Merge.shp\", 'r')\n",
    "raster = rasterio.open('/mnt/d/pfournie/Documents/data/alumhi/data_2019_20cm.tif', 'r')"
   ]
  },
  {
   "cell_type": "code",
   "execution_count": 8,
   "id": "bda0e7a6-a2a9-47df-86d6-cc0e56a1657d",
   "metadata": {
    "tags": []
   },
   "outputs": [
    {
     "name": "stdout",
     "output_type": "stream",
     "text": [
      "POLYGON ((703048.4157122001 6500796.28226898, 703074.2748366594 6500793.18308772, 703089.2222749963 6500797.286964571, 703107.5720454454 6500791.087277344, 703087.953278102 6500781.989119809, 703082.5326902121 6500759.778640761, 702995.3676260039 6500791.550942904, 703021.1263213903 6500802.943679454, 703048.4157122001 6500796.28226898))\n",
      "POLYGON ((3.0391092789427745 45.60668163230292, 3.039441015522701 45.60665360904057, 3.0396328081636512 45.60669049615037, 3.039868184152981 45.60663458615616, 3.0396164292553545 45.60655274817484, 3.0395467439456243 45.60635277219256, 3.0384286755347607 45.60663926229162, 3.0387592150254457 45.606741737997446, 3.0391092789427745 45.60668163230292))\n"
     ]
    }
   ],
   "source": [
    "epsg2154 = pyproj.CRS('EPSG:2154')\n",
    "epsg4326 = pyproj.CRS('EPSG:4326')\n",
    "project = pyproj.Transformer.from_crs(epsg2154, epsg4326, always_xy=True).transform\n",
    "poly2154 = shapely.Polygon(next(iter(shapefile))['geometry']['coordinates'][0][0])\n",
    "print(poly2154)\n",
    "poly4326 = ops.transform(project, poly2154)\n",
    "print(poly4326)"
   ]
  },
  {
   "cell_type": "code",
   "execution_count": 9,
   "id": "bef29226-d9f6-4c21-931e-2a83f26168aa",
   "metadata": {
    "tags": []
   },
   "outputs": [
    {
     "name": "stdout",
     "output_type": "stream",
     "text": [
      "5\n",
      "3\n",
      "7\n",
      "4\n",
      "6\n",
      "1\n",
      "2\n",
      "8\n",
      "3728\n"
     ]
    }
   ],
   "source": [
    "shapes2019 = []\n",
    "for s in shapefile:\n",
    "    label = nomenclature[s['properties']['OCS_2019']]\n",
    "    print(label)\n",
    "    for coords in s['geometry']['coordinates']:\n",
    "        poly2154 = shapely.Polygon(coords[0])\n",
    "        poly4326 = shapely.ops.transform(project, poly2154)\n",
    "        shapes2019.append((poly4326, label))\n",
    "print(len(shapes2019))"
   ]
  },
  {
   "cell_type": "code",
   "execution_count": 10,
   "id": "5a87b2d3-c04a-4793-b489-2983caedee99",
   "metadata": {
    "tags": []
   },
   "outputs": [],
   "source": [
    "meta = raster.meta.copy()\n",
    "meta.update(compress='lzw')\n",
    "meta.update(count=1)\n",
    "with rasterio.open('/mnt/d/pfournie/Documents/data/alumhi/2019-labels.tif', 'w+', **meta) as out:\n",
    "    out_arr = out.read(1) \n",
    "    burned = rasterize(shapes=shapes2019, fill=0, out=out_arr, transform=out.transform)\n",
    "    out.write_band(1, burned)"
   ]
  },
  {
   "cell_type": "code",
   "execution_count": null,
   "id": "c276b151-61a9-44d2-9b90-d0e240c97e7a",
   "metadata": {},
   "outputs": [],
   "source": [
    "#minx, miny, maxx, maxy = shapefile.bounds\n",
    "#(minx, maxx), (miny, maxy) = f_transform(shapefile.crs, raster.crs, [minx, maxx], [miny, maxy])\n",
    "#w = rasterio.windows.from_bounds(minx, miny, maxx, maxy, transform=raster.transform)\n",
    "\n",
    "#minx, miny, maxx, maxy = rasterio.windows.bounds(w, transform=raster.transform)\n",
    "#t = rasterio.transform.from_bounds(minx, miny, maxx, maxy, 2000, 2000)\n",
    "#(minx, maxx), (miny, maxy) = f_transform(raster.crs, shapefile.crs, [minx, maxx], [miny, maxy])\n",
    "#\n",
    "#profile.update(dtype=rasterio.uint8, count=3, width=2000, height=2000, transform=t, compress='lzw')\n",
    "#with rasterio.Env():\n",
    "#    with rasterio.open('/mnt/d/pfournie/Documents/data/alumhi/1946-3-labels.tif', 'w', **profile) as dst:\n",
    "#        for i, att in enumerate(['num_class']):\n",
    "#            shapes_for_raster = [(s['geometry'], s['properties'][att]) for s in tile_shp.filter(bbox=(minx, miny, maxx, maxy))]\n",
    "#            masks = rasterize(shapes_for_raster, out_shape=(2000, 2000), transform=t)\n",
    "#            dst.write(masks.astype(rasterio.uint8), i+1)"
   ]
  }
 ],
 "metadata": {
  "kernelspec": {
   "display_name": "dl_toolbox_venv",
   "language": "python",
   "name": "dl_toolbox_venv"
  },
  "language_info": {
   "codemirror_mode": {
    "name": "ipython",
    "version": 3
   },
   "file_extension": ".py",
   "mimetype": "text/x-python",
   "name": "python",
   "nbconvert_exporter": "python",
   "pygments_lexer": "ipython3",
   "version": "3.8.10"
  }
 },
 "nbformat": 4,
 "nbformat_minor": 5
}
