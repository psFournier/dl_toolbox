{
 "cells": [
  {
   "cell_type": "code",
   "execution_count": 1,
   "id": "dc757141-3d97-4622-96bc-91b0f1bc5f5d",
   "metadata": {
    "tags": []
   },
   "outputs": [
    {
     "name": "stderr",
     "output_type": "stream",
     "text": [
      "/d/pfournie/dl_toolbox/venv/lib/python3.8/site-packages/tqdm/auto.py:22: TqdmWarning: IProgress not found. Please update jupyter and ipywidgets. See https://ipywidgets.readthedocs.io/en/stable/user_install.html\n",
      "  from .autonotebook import tqdm as notebook_tqdm\n"
     ]
    }
   ],
   "source": [
    "from dl_toolbox import datamodules\n",
    "from torchvision import tv_tensors\n",
    "import torchvision.transforms.v2 as v2\n",
    "\n",
    "tf_train = v2.Compose([\n",
    "    v2.RandomCrop(size=(504, 504)),\n",
    "    v2.Normalize(mean=[0.485, 0.456, 0.406], std=[0.229, 0.224, 0.225]),\n",
    "])\n",
    "\n",
    "tf_test = v2.Compose([\n",
    "    v2.RandomCrop(size=(504, 504)),\n",
    "    v2.Normalize(mean=[0.485, 0.456, 0.406], std=[0.229, 0.224, 0.225]),\n",
    "])\n",
    "\n",
    "dm = datamodules.Flair(\n",
    "    data_path='/data',\n",
    "    merge='main13',\n",
    "    bands=[1,2,3],\n",
    "    sup=1,\n",
    "    unsup=0,\n",
    "    train_tf=tf_train,\n",
    "    test_tf=tf_test,\n",
    "    batch_tf=None,\n",
    "    batch_size=4,\n",
    "    num_workers=6,\n",
    "    pin_memory=True\n",
    ")"
   ]
  },
  {
   "cell_type": "code",
   "execution_count": 2,
   "id": "18474101-35b9-4fef-98fa-6eb23069121d",
   "metadata": {
    "tags": []
   },
   "outputs": [
    {
     "name": "stderr",
     "output_type": "stream",
     "text": [
      "GPU available: True (cuda), used: True\n",
      "TPU available: False, using: 0 TPU cores\n",
      "IPU available: False, using: 0 IPUs\n",
      "HPU available: False, using: 0 HPUs\n",
      "`Trainer(limit_train_batches=1)` was configured so 1 batch per epoch will be used.\n",
      "`Trainer(limit_val_batches=1)` was configured so 1 batch will be used.\n",
      "Missing logger folder: /d/pfournie/dl_toolbox/dl_toolbox/à ranger/segmenter/lightning_logs\n"
     ]
    },
    {
     "name": "stdout",
     "output_type": "stream",
     "text": [
      "Processing domains\n"
     ]
    },
    {
     "name": "stderr",
     "output_type": "stream",
     "text": [
      "/d/pfournie/dl_toolbox/venv/lib/python3.8/site-packages/pytorch_lightning/callbacks/model_checkpoint.py:653: Checkpoint directory /tmp exists and is not empty.\n",
      "LOCAL_RANK: 0 - CUDA_VISIBLE_DEVICES: [0]\n",
      "\n",
      "  | Name         | Type                      | Params\n",
      "-----------------------------------------------------------\n",
      "0 | backbone     | VisionTransformer         | 22.1 M\n",
      "1 | decoder      | DecoderLinear             | 5.0 K \n",
      "2 | loss         | CrossEntropy              | 0     \n",
      "3 | val_accuracy | MulticlassAccuracy        | 0     \n",
      "4 | val_cm       | MulticlassConfusionMatrix | 0     \n",
      "5 | val_jaccard  | MulticlassJaccardIndex    | 0     \n",
      "-----------------------------------------------------------\n",
      "22.1 M    Trainable params\n",
      "0         Non-trainable params\n",
      "22.1 M    Total params\n",
      "88.245    Total estimated model params size (MB)\n"
     ]
    },
    {
     "name": "stdout",
     "output_type": "stream",
     "text": [
      "Training 22061197 params out of 22061197.\n",
      "Sanity Checking DataLoader 0:   0%|                                                                                                       | 0/1 [00:00<?, ?it/s]torch.Size([4, 1296, 13])\n",
      "Sanity Checking DataLoader 0: 100%|███████████████████████████████████████████████████████████████████████████████████████████████| 1/1 [00:01<00:00,  0.91it/s]"
     ]
    },
    {
     "name": "stderr",
     "output_type": "stream",
     "text": [
      "/d/pfournie/dl_toolbox/venv/lib/python3.8/site-packages/pytorch_lightning/utilities/data.py:77: Trying to infer the `batch_size` from an ambiguous collection. The batch size we found is 4. To avoid any miscalculations, use `self.log(..., batch_size=batch_size)`.\n"
     ]
    },
    {
     "name": "stdout",
     "output_type": "stream",
     "text": [
      "torch.Size([4, 1296, 13])\n",
      "                                                                                                                                                                \r"
     ]
    },
    {
     "name": "stderr",
     "output_type": "stream",
     "text": [
      "/d/pfournie/dl_toolbox/venv/lib/python3.8/site-packages/torchmetrics/utilities/prints.py:43: UserWarning: 78 NaN values found in confusion matrix have been replaced with zeros.\n",
      "  warnings.warn(*args, **kwargs)  # noqa: B028\n",
      "/d/pfournie/dl_toolbox/venv/lib/python3.8/site-packages/pytorch_lightning/loops/fit_loop.py:298: The number of training batches (1) is smaller than the logging interval Trainer(log_every_n_steps=50). Set a lower value for log_every_n_steps if you want to see logs for the training epoch.\n"
     ]
    },
    {
     "name": "stdout",
     "output_type": "stream",
     "text": [
      "Epoch 0:   0%|                                                                                                                            | 0/1 [00:00<?, ?it/s]torch.Size([4, 1296, 13])\n",
      "Epoch 0: 100%|███████████████████████████████████████████████████████████████████████████████████████████████████████████| 1/1 [00:02<00:00,  0.48it/s, v_num=0]\n",
      "Validation: |                                                                                                                             | 0/? [00:00<?, ?it/s]\u001b[Atorch.Size([4, 1296, 13])\n",
      "torch.Size([4, 1296, 13])\n"
     ]
    },
    {
     "name": "stderr",
     "output_type": "stream",
     "text": [
      "/d/pfournie/dl_toolbox/venv/lib/python3.8/site-packages/pytorch_lightning/trainer/call.py:54: Detected KeyboardInterrupt, attempting graceful shutdown...\n"
     ]
    }
   ],
   "source": [
    "%matplotlib inline\n",
    "\n",
    "import torch\n",
    "import pytorch_lightning as pl\n",
    "from pytorch_lightning.callbacks import ModelCheckpoint\n",
    "from dl_toolbox.callbacks import ProgressBar, Lora, TiffPredsWriter, CalibrationLogger\n",
    "from dl_toolbox.modules import Segmenter\n",
    "from functools import partial\n",
    "from dl_toolbox.losses import CrossEntropy\n",
    "from dl_toolbox.transforms import Sliding\n",
    "\n",
    "module = Segmenter(\n",
    "    num_classes=13,\n",
    "    backbone='vit_small_patch14_dinov2',\n",
    "    optimizer=partial(torch.optim.Adam, lr=0.001),\n",
    "    scheduler=partial(torch.optim.lr_scheduler.ConstantLR, factor=1),\n",
    "    loss=CrossEntropy(),\n",
    "    batch_tf=None,\n",
    "    metric_ignore_index=None,\n",
    "    tta=None,\n",
    "    onehot=False,\n",
    "    sliding=Sliding(\n",
    "        nols=512,\n",
    "        nrows=512,\n",
    "        width=504,\n",
    "        height=504,\n",
    "        step_w=500,\n",
    "        step_h=500\n",
    "    )\n",
    ")\n",
    "\n",
    "ckpt = ModelCheckpoint(\n",
    "    dirpath='/tmp',\n",
    "    filename=\"epoch_{epoch:03d}\",\n",
    "    save_last=True\n",
    ")\n",
    "\n",
    "lora = Lora('encoder', 4, False)\n",
    "calib = CalibrationLogger(freq=1)\n",
    "\n",
    "trainer = pl.Trainer(\n",
    "    accelerator='gpu',\n",
    "    devices=1,\n",
    "    max_epochs=1,\n",
    "    limit_train_batches=1,\n",
    "    limit_val_batches=1,\n",
    "    callbacks=[ProgressBar(), lora, ckpt, calib]\n",
    ")\n",
    "\n",
    "trainer.fit(\n",
    "    module,\n",
    "    datamodule=dm\n",
    ")"
   ]
  },
  {
   "cell_type": "code",
   "execution_count": 6,
   "id": "f373a6ec-6e6c-47d4-9780-03c55743be08",
   "metadata": {},
   "outputs": [
    {
     "ename": "FileExistsError",
     "evalue": "[Errno 17] File exists: '/tmp/preds'",
     "output_type": "error",
     "traceback": [
      "\u001b[0;31m---------------------------------------------------------------------------\u001b[0m",
      "\u001b[0;31mFileExistsError\u001b[0m                           Traceback (most recent call last)",
      "Cell \u001b[0;32mIn[6], line 32\u001b[0m\n\u001b[1;32m     10\u001b[0m module \u001b[38;5;241m=\u001b[39m Segmenter(\n\u001b[1;32m     11\u001b[0m     num_classes\u001b[38;5;241m=\u001b[39m\u001b[38;5;241m13\u001b[39m,\n\u001b[1;32m     12\u001b[0m     backbone\u001b[38;5;241m=\u001b[39m\u001b[38;5;124m'\u001b[39m\u001b[38;5;124mvit_small_patch14_dinov2\u001b[39m\u001b[38;5;124m'\u001b[39m,\n\u001b[0;32m   (...)\u001b[0m\n\u001b[1;32m     27\u001b[0m     )\n\u001b[1;32m     28\u001b[0m )\n\u001b[1;32m     30\u001b[0m lora \u001b[38;5;241m=\u001b[39m Lora(\u001b[38;5;124m'\u001b[39m\u001b[38;5;124mencoder\u001b[39m\u001b[38;5;124m'\u001b[39m, \u001b[38;5;241m4\u001b[39m, activated\u001b[38;5;241m=\u001b[39m\u001b[38;5;28;01mTrue\u001b[39;00m)\n\u001b[0;32m---> 32\u001b[0m writer \u001b[38;5;241m=\u001b[39m \u001b[43mTiffPredsWriter\u001b[49m\u001b[43m(\u001b[49m\n\u001b[1;32m     33\u001b[0m \u001b[43m    \u001b[49m\u001b[43mout_path\u001b[49m\u001b[38;5;241;43m=\u001b[39;49m\u001b[38;5;124;43m'\u001b[39;49m\u001b[38;5;124;43m/tmp/preds\u001b[39;49m\u001b[38;5;124;43m'\u001b[39;49m\u001b[43m,\u001b[49m\n\u001b[1;32m     34\u001b[0m \u001b[43m    \u001b[49m\u001b[43mbase\u001b[49m\u001b[38;5;241;43m=\u001b[39;49m\u001b[38;5;124;43m'\u001b[39;49m\u001b[38;5;124;43m/data\u001b[39;49m\u001b[38;5;124;43m'\u001b[39;49m\n\u001b[1;32m     35\u001b[0m \u001b[43m)\u001b[49m\n\u001b[1;32m     37\u001b[0m trainer \u001b[38;5;241m=\u001b[39m pl\u001b[38;5;241m.\u001b[39mTrainer(\n\u001b[1;32m     38\u001b[0m     accelerator\u001b[38;5;241m=\u001b[39m\u001b[38;5;124m'\u001b[39m\u001b[38;5;124mgpu\u001b[39m\u001b[38;5;124m'\u001b[39m,\n\u001b[1;32m     39\u001b[0m     devices\u001b[38;5;241m=\u001b[39m\u001b[38;5;241m1\u001b[39m,\n\u001b[0;32m   (...)\u001b[0m\n\u001b[1;32m     42\u001b[0m     callbacks\u001b[38;5;241m=\u001b[39m[lora, writer]\n\u001b[1;32m     43\u001b[0m )\n\u001b[1;32m     45\u001b[0m trainer\u001b[38;5;241m.\u001b[39mpredict(\n\u001b[1;32m     46\u001b[0m     module,\n\u001b[1;32m     47\u001b[0m     datamodule\u001b[38;5;241m=\u001b[39mdm,\n\u001b[1;32m     48\u001b[0m     ckpt_path\u001b[38;5;241m=\u001b[39m\u001b[38;5;124m'\u001b[39m\u001b[38;5;124m/data/outputs/flair_segmenter/remote_ckpt/2024-05-16_115135/0/checkpoints/last.ckpt\u001b[39m\u001b[38;5;124m'\u001b[39m,\n\u001b[1;32m     49\u001b[0m     return_predictions\u001b[38;5;241m=\u001b[39m\u001b[38;5;28;01mFalse\u001b[39;00m\n\u001b[1;32m     50\u001b[0m )\n",
      "File \u001b[0;32m~/dl_toolbox/dl_toolbox/callbacks/tiff_preds_writer.py:16\u001b[0m, in \u001b[0;36mTiffPredsWriter.__init__\u001b[0;34m(self, out_path, base)\u001b[0m\n\u001b[1;32m     14\u001b[0m \u001b[38;5;28msuper\u001b[39m()\u001b[38;5;241m.\u001b[39m\u001b[38;5;21m__init__\u001b[39m(write_interval\u001b[38;5;241m=\u001b[39m\u001b[38;5;124m\"\u001b[39m\u001b[38;5;124mbatch\u001b[39m\u001b[38;5;124m\"\u001b[39m)\n\u001b[1;32m     15\u001b[0m \u001b[38;5;28mself\u001b[39m\u001b[38;5;241m.\u001b[39mout_path \u001b[38;5;241m=\u001b[39m Path(out_path)\n\u001b[0;32m---> 16\u001b[0m \u001b[38;5;28;43mself\u001b[39;49m\u001b[38;5;241;43m.\u001b[39;49m\u001b[43mout_path\u001b[49m\u001b[38;5;241;43m.\u001b[39;49m\u001b[43mmkdir\u001b[49m\u001b[43m(\u001b[49m\u001b[43mparents\u001b[49m\u001b[38;5;241;43m=\u001b[39;49m\u001b[38;5;28;43;01mFalse\u001b[39;49;00m\u001b[43m,\u001b[49m\u001b[43m \u001b[49m\u001b[43mexist_ok\u001b[49m\u001b[38;5;241;43m=\u001b[39;49m\u001b[38;5;28;43;01mFalse\u001b[39;49;00m\u001b[43m)\u001b[49m\n\u001b[1;32m     17\u001b[0m \u001b[38;5;28mself\u001b[39m\u001b[38;5;241m.\u001b[39mbase \u001b[38;5;241m=\u001b[39m Path(base)\n\u001b[1;32m     18\u001b[0m \u001b[38;5;28mself\u001b[39m\u001b[38;5;241m.\u001b[39mstats \u001b[38;5;241m=\u001b[39m {\u001b[38;5;124m'\u001b[39m\u001b[38;5;124mimg_path\u001b[39m\u001b[38;5;124m'\u001b[39m: [], \u001b[38;5;124m'\u001b[39m\u001b[38;5;124mpred_path\u001b[39m\u001b[38;5;124m'\u001b[39m: [], \u001b[38;5;124m'\u001b[39m\u001b[38;5;124mconf\u001b[39m\u001b[38;5;124m'\u001b[39m: [], \u001b[38;5;124m'\u001b[39m\u001b[38;5;124macc\u001b[39m\u001b[38;5;124m'\u001b[39m: []}\n",
      "File \u001b[0;32m/usr/lib/python3.8/pathlib.py:1288\u001b[0m, in \u001b[0;36mPath.mkdir\u001b[0;34m(self, mode, parents, exist_ok)\u001b[0m\n\u001b[1;32m   1286\u001b[0m     \u001b[38;5;28mself\u001b[39m\u001b[38;5;241m.\u001b[39m_raise_closed()\n\u001b[1;32m   1287\u001b[0m \u001b[38;5;28;01mtry\u001b[39;00m:\n\u001b[0;32m-> 1288\u001b[0m     \u001b[38;5;28;43mself\u001b[39;49m\u001b[38;5;241;43m.\u001b[39;49m\u001b[43m_accessor\u001b[49m\u001b[38;5;241;43m.\u001b[39;49m\u001b[43mmkdir\u001b[49m\u001b[43m(\u001b[49m\u001b[38;5;28;43mself\u001b[39;49m\u001b[43m,\u001b[49m\u001b[43m \u001b[49m\u001b[43mmode\u001b[49m\u001b[43m)\u001b[49m\n\u001b[1;32m   1289\u001b[0m \u001b[38;5;28;01mexcept\u001b[39;00m \u001b[38;5;167;01mFileNotFoundError\u001b[39;00m:\n\u001b[1;32m   1290\u001b[0m     \u001b[38;5;28;01mif\u001b[39;00m \u001b[38;5;129;01mnot\u001b[39;00m parents \u001b[38;5;129;01mor\u001b[39;00m \u001b[38;5;28mself\u001b[39m\u001b[38;5;241m.\u001b[39mparent \u001b[38;5;241m==\u001b[39m \u001b[38;5;28mself\u001b[39m:\n",
      "\u001b[0;31mFileExistsError\u001b[0m: [Errno 17] File exists: '/tmp/preds'"
     ]
    }
   ],
   "source": [
    "import torch\n",
    "import pytorch_lightning as pl\n",
    "from pytorch_lightning.callbacks import ModelCheckpoint\n",
    "from dl_toolbox.callbacks import ProgressBar, Finetuning, Lora, TiffPredsWriter\n",
    "from dl_toolbox.modules import Segmenter\n",
    "from functools import partial\n",
    "from dl_toolbox.losses import CrossEntropy\n",
    "from dl_toolbox.transforms import Sliding\n",
    "\n",
    "module = Segmenter(\n",
    "    num_classes=13,\n",
    "    backbone='vit_small_patch14_dinov2',\n",
    "    optimizer=partial(torch.optim.Adam, lr=0.001),\n",
    "    scheduler=partial(torch.optim.lr_scheduler.ConstantLR, factor=1),\n",
    "    loss=CrossEntropy(),\n",
    "    batch_tf=None,\n",
    "    metric_ignore_index=None,\n",
    "    tta=None,\n",
    "    onehot=False,\n",
    "    sliding=Sliding(\n",
    "        nols=512,\n",
    "        nrows=512,\n",
    "        width=504,\n",
    "        height=504,\n",
    "        step_w=500,\n",
    "        step_h=500\n",
    "    )\n",
    ")\n",
    "\n",
    "lora = Lora('encoder', 4, activated=True)\n",
    "\n",
    "writer = TiffPredsWriter(\n",
    "    out_path='/tmp/preds',\n",
    "    base='/data'\n",
    ")\n",
    "\n",
    "trainer = pl.Trainer(\n",
    "    accelerator='gpu',\n",
    "    devices=1,\n",
    "    max_epochs=1,\n",
    "    limit_predict_batches=100,\n",
    "    callbacks=[lora, writer]\n",
    ")\n",
    "\n",
    "trainer.predict(\n",
    "    module,\n",
    "    datamodule=dm,\n",
    "    ckpt_path='/data/outputs/flair_segmenter/remote_ckpt/2024-05-16_115135/0/checkpoints/last.ckpt',\n",
    "    return_predictions=False\n",
    ")\n",
    "\n",
    "import pandas as pd\n",
    "df = pd.read_csv(writer.out_path / 'stats.csv', index_col=0)"
   ]
  },
  {
   "cell_type": "code",
   "execution_count": null,
   "id": "27514187-f823-43e3-8c2d-66e8f999df97",
   "metadata": {
    "tags": []
   },
   "outputs": [],
   "source": [
    "sorted_df = df.sort_values('acc')\n",
    "sorted_df"
   ]
  },
  {
   "cell_type": "code",
   "execution_count": null,
   "id": "5c3659ff-8818-4712-9ad7-92918985b698",
   "metadata": {
    "tags": []
   },
   "outputs": [],
   "source": [
    "row = 180\n",
    "img_path = sorted_df.iloc[[row]]['img_path'].item()\n",
    "pred_path = sorted_df.iloc[[row]]['pred_path'].item()\n",
    "msk_path = img_path.replace('img', 'msk').replace('IMG', 'MSK')\n",
    "print(msk_path)"
   ]
  },
  {
   "cell_type": "code",
   "execution_count": null,
   "id": "91e210d7-b03e-46a3-b112-f1f2f9e1302c",
   "metadata": {
    "tags": []
   },
   "outputs": [],
   "source": [
    "from dl_toolbox.datasets import Flair\n",
    "import rasterio\n",
    "import numpy as np\n",
    "from dl_toolbox.utils import merge_labels\n",
    "import torchmetrics.functional.classification as metrics\n",
    "\n",
    "with rasterio.open(img_path, \"r\") as f:\n",
    "    image = f.read(out_dtype=np.uint8, indexes=[1,2,3])\n",
    "\n",
    "classes = Flair.classes['main13'].value\n",
    "with rasterio.open(msk_path, \"r\") as f:\n",
    "    mask = torch.from_numpy(f.read(out_dtype=np.uint8))\n",
    "    mask = merge_labels(mask, [list(l.values) for l in classes]) \n",
    "    \n",
    "with rasterio.open(pred_path, \"r\") as f:\n",
    "    pred = torch.from_numpy(f.read(out_dtype=np.uint8))\n",
    "\n",
    "conf_mat = metrics.multiclass_confusion_matrix(\n",
    "    pred,\n",
    "    mask,\n",
    "    len(classes),\n",
    "    ignore_index=0\n",
    ")\n",
    "\n",
    "%matplotlib inline\n",
    "\n",
    "from dl_toolbox.utils import plot_confusion_matrix\n",
    "\n",
    "fig = plot_confusion_matrix(\n",
    "    conf_mat,\n",
    "    [c.name for c in classes],\n",
    "    'precision'\n",
    ")"
   ]
  },
  {
   "cell_type": "code",
   "execution_count": null,
   "id": "bfdeb09b-6248-4c3a-b6c4-6b88f0d3b3a4",
   "metadata": {
    "tags": []
   },
   "outputs": [],
   "source": [
    "%matplotlib inline\n",
    "import matplotlib.pyplot as plt \n",
    "from dl_toolbox.utils import labels_to_rgb\n",
    "\n",
    "colors = [(i, c.color) for i, c in enumerate(classes)]\n",
    "overlay = np.zeros(shape=(*pred.squeeze().shape, 3), dtype=np.uint8)\n",
    "idx = 3\n",
    "label_bool = mask.squeeze() == idx\n",
    "pred_bool = pred.squeeze() == idx\n",
    "\n",
    "# Correct predictions (Hits) painted with green\n",
    "overlay[label_bool & pred_bool] = np.array([0, 250, 0], dtype=overlay.dtype)\n",
    "# Misses painted with red\n",
    "overlay[label_bool & ~pred_bool] = np.array([250, 0, 0], dtype=overlay.dtype)\n",
    "# False alarm painted with yellow\n",
    "overlay[~label_bool & pred_bool] = np.array([250, 250, 0], dtype=overlay.dtype)\n",
    "\n",
    "zone = np.s_[0:1500, 0:1500, ...]\n",
    "\n",
    "fig = plt.figure(figsize=(20,20))\n",
    "ax1 = fig.add_subplot(221)\n",
    "ax1.imshow(image.transpose(1,2,0)[zone])\n",
    "ax2 = fig.add_subplot(222)\n",
    "ax2.imshow(labels_to_rgb(mask.squeeze(), colors)[zone])\n",
    "ax3 = fig.add_subplot(223)\n",
    "ax3.imshow(labels_to_rgb(pred.squeeze(), colors)[zone])\n",
    "ax4 = fig.add_subplot(224)\n",
    "ax4.imshow(overlay[zone])"
   ]
  },
  {
   "cell_type": "code",
   "execution_count": null,
   "id": "688ac03c-c490-42e9-913a-0b2d379a1de0",
   "metadata": {},
   "outputs": [],
   "source": []
  }
 ],
 "metadata": {
  "kernelspec": {
   "display_name": "dl_toolbox_venv",
   "language": "python",
   "name": "dl_toolbox_venv"
  },
  "language_info": {
   "codemirror_mode": {
    "name": "ipython",
    "version": 3
   },
   "file_extension": ".py",
   "mimetype": "text/x-python",
   "name": "python",
   "nbconvert_exporter": "python",
   "pygments_lexer": "ipython3",
   "version": "3.8.10"
  }
 },
 "nbformat": 4,
 "nbformat_minor": 5
}
