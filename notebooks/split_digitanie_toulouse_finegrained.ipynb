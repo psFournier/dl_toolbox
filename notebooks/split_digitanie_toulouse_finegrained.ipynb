{
 "cells": [
  {
   "cell_type": "code",
   "execution_count": 1,
   "id": "b4a18a54-e31c-48f5-8c02-15a562eee1d7",
   "metadata": {},
   "outputs": [
    {
     "name": "stderr",
     "output_type": "stream",
     "text": [
      "/work/OT/ai4usr/fournip/vre_venv/lib/python3.8/site-packages/tqdm/auto.py:22: TqdmWarning: IProgress not found. Please update jupyter and ipywidgets. See https://ipywidgets.readthedocs.io/en/stable/user_install.html\n",
      "  from .autonotebook import tqdm as notebook_tqdm\n"
     ]
    }
   ],
   "source": [
    "import csv\n",
    "import imagesize\n",
    "import os\n",
    "from dl_toolbox.utils import get_tiles\n"
   ]
  },
  {
   "cell_type": "code",
   "execution_count": 3,
   "id": "6ce04b1a-64fd-4a6c-af33-c45075dea4c7",
   "metadata": {},
   "outputs": [],
   "source": [
    "with open('../splits/split_digitanie_toulouse_finegrained.csv', 'w', newline='') as csvfile:\n",
    "    writer = csv.writer(csvfile)\n",
    "    #path = '/work/OT/ai4usr/fournip/SemCity-Toulouse-bench'\n",
    "    path = '/work/OT/ai4usr/fournip/digitanie'\n",
    "    writer.writerow(['dataset_cls',\n",
    "                     'tile_id',\n",
    "                     'img_path',\n",
    "                     'label_path',\n",
    "                     'x0',\n",
    "                     'y0',\n",
    "                     'patch_width',\n",
    "                     'patch_height',\n",
    "                     'fold_id'\n",
    "                     ])\n",
    "    i = 0\n",
    "    for j in range(1, 11):\n",
    "        image_path = os.path.join('Toulouse', f'toulouse_tuile_{j}_img_normalized.tif')\n",
    "        label_path = os.path.join('Toulouse', f'toulouse_tuile_{j}.tif')\n",
    "        width, height = imagesize.get(os.path.join(path, image_path))\n",
    "        for tile in get_tiles(width, height, size=500, size2=500):\n",
    "            writer.writerow([\n",
    "                'DigitanieToulouse',\n",
    "                i,\n",
    "                image_path,\n",
    "                label_path,\n",
    "                tile.col_off,\n",
    "                tile.row_off,\n",
    "                tile.width,\n",
    "                tile.height,\n",
    "                i % 32,\n",
    "                os.path.join('Toulouse', 'toulouse_full_tiled.tif')\n",
    "            ])\n",
    "            i += 1"
   ]
  },
  {
   "cell_type": "code",
   "execution_count": null,
   "id": "f2af5ee8-8fd6-461d-b102-6bd47a21041e",
   "metadata": {},
   "outputs": [],
   "source": []
  }
 ],
 "metadata": {
  "kernelspec": {
   "display_name": "vre_venv",
   "language": "python",
   "name": "vre_venv"
  },
  "language_info": {
   "codemirror_mode": {
    "name": "ipython",
    "version": 3
   },
   "file_extension": ".py",
   "mimetype": "text/x-python",
   "name": "python",
   "nbconvert_exporter": "python",
   "pygments_lexer": "ipython3",
   "version": "3.8.10"
  }
 },
 "nbformat": 4,
 "nbformat_minor": 5
}
