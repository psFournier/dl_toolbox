{
 "cells": [
  {
   "cell_type": "code",
   "execution_count": 1,
   "id": "fa503805-5903-4ede-8985-7c10f6c4bd78",
   "metadata": {},
   "outputs": [
    {
     "name": "stderr",
     "output_type": "stream",
     "text": [
      "/work/OT/ai4usr/fournip/vre_venv/lib/python3.8/site-packages/tqdm/auto.py:22: TqdmWarning: IProgress not found. Please update jupyter and ipywidgets. See https://ipywidgets.readthedocs.io/en/stable/user_install.html\n",
      "  from .autonotebook import tqdm as notebook_tqdm\n"
     ]
    },
    {
     "name": "stdout",
     "output_type": "stream",
     "text": [
      "['/home/eh/fournip/tensorboard/logs/semcity_pretrained/version_0', '/home/eh/fournip/tensorboard/logs/semcity_pretrained/version_1']\n"
     ]
    }
   ],
   "source": [
    "#from tensorboard.backend.event_processing.event_accumulator import EventAccumulator\n",
    "from dl_toolbox.utils import EventAccumulator\n",
    "from glob import glob\n",
    "\n",
    "input_dirs = glob(\"/home/eh/fournip/tensorboard/logs/semcity_pretrained/version_*\")\n",
    "print(input_dirs)\n",
    "accumulators = [EventAccumulator(dirname).Reload() for dirname in input_dirs]"
   ]
  },
  {
   "cell_type": "code",
   "execution_count": 2,
   "id": "37f9fffe-7faa-4749-89fc-64df5fb6e75a",
   "metadata": {},
   "outputs": [],
   "source": [
    "import numpy as np\n",
    "import struct\n",
    "import matplotlib.pyplot as plt\n",
    "import glob\n",
    "#import brewer2mpl"
   ]
  },
  {
   "cell_type": "code",
   "execution_count": 3,
   "id": "203c0182-0a91-42df-a0d2-2d4f49ea26c0",
   "metadata": {},
   "outputs": [
    {
     "name": "stdout",
     "output_type": "stream",
     "text": [
      "(2, 100)\n",
      "(100,)\n"
     ]
    }
   ],
   "source": [
    "values_list = []\n",
    "for accu in accumulators:\n",
    "    _, steps, values = zip(*accu.Scalars('Val_acc'))\n",
    "    values_list.append(np.array(values))\n",
    "values_agg = np.stack(values_list)\n",
    "steps = np.array(steps)\n",
    "print(values_agg.shape)\n",
    "print(steps.shape)"
   ]
  },
  {
   "cell_type": "code",
   "execution_count": 4,
   "id": "14f0673a-df58-481e-87ae-6b580d1f7925",
   "metadata": {},
   "outputs": [
    {
     "name": "stdout",
     "output_type": "stream",
     "text": [
      "(100,)\n"
     ]
    }
   ],
   "source": [
    "avg = np.mean(values_agg, axis=0)\n",
    "print(avg.shape)"
   ]
  },
  {
   "cell_type": "code",
   "execution_count": 6,
   "id": "cdba8b23-4365-45c8-a164-dcd2bfaad5c0",
   "metadata": {},
   "outputs": [
    {
     "data": {
      "text/plain": [
       "[<matplotlib.lines.Line2D at 0x2b140e3b96d0>]"
      ]
     },
     "execution_count": 6,
     "metadata": {},
     "output_type": "execute_result"
    },
    {
     "data": {
      "image/png": "[encoded data removed]",
      "text/plain": [
       "<Figure size 432x288 with 1 Axes>"
      ]
     },
     "metadata": {
      "needs_background": "light"
     },
     "output_type": "display_data"
    }
   ],
   "source": [
    "%matplotlib inline\n",
    "fig = plt.figure()\n",
    "ax1 = fig.add_subplot(111)\n",
    "\n",
    "params = {\n",
    "    'axes.labelsize': 16,\n",
    "    'legend.fontsize': 16,\n",
    "    'xtick.labelsize': 10,\n",
    "    'ytick.labelsize': 10,\n",
    "    'text.usetex': False,\n",
    "    'figure.figsize': [9, 7],\n",
    "}\n",
    "\n",
    "plt.rcParams.update(params)\n",
    "\n",
    "#ax1.grid(axis='y', color=\"0.9\", linestyle='-', linewidth=1)\n",
    "ax1.spines['top'].set_visible(False)\n",
    "ax1.spines['right'].set_visible(False)\n",
    "#ax1.spines['left'].set_visible(False)\n",
    "ax1.get_xaxis().tick_bottom()\n",
    "ax1.get_yaxis().tick_left()\n",
    "ax1.tick_params(axis='x', direction='out')\n",
    "ax1.tick_params(axis='y', length=0)\n",
    "#for spine in ax1.spines.values():\n",
    "#    spine.set_position(('outward', 5))\n",
    "#ax1.set_xlim(0, 810)\n",
    "##ax1.set_ylim(0,1)\n",
    "ax1.set_ylim(0.77, 0.82)\n",
    "ax1.set_xlabel(\"Step\")\n",
    "ax1.set_ylabel(\"Accuracy\")\n",
    "#ax1.set_xticks(np.arange(0, 810, 200))\n",
    "##ax1.set_yticks(np.arange(0,1,0.1))\n",
    "#ax1.set_yticks(np.arange(0, 4500, 1000))\n",
    "\n",
    "ax1.fill_between(steps, values_agg[0], values_agg[1], alpha=0.25, linewidth=0, color='red')\n",
    "ax1.plot(steps, \n",
    "         avg, \n",
    "         linewidth=2, \n",
    "         linestyle='solid', \n",
    "         color='red',\n",
    "         label='Validation accuracy'\n",
    "        )"
   ]
  },
  {
   "cell_type": "code",
   "execution_count": null,
   "id": "e3a82111-5450-41c5-9f06-14ecc66fac92",
   "metadata": {},
   "outputs": [],
   "source": []
  }
 ],
 "metadata": {
  "kernelspec": {
   "display_name": "Python 3 (ipykernel)",
   "language": "python",
   "name": "python3"
  },
  "language_info": {
   "codemirror_mode": {
    "name": "ipython",
    "version": 3
   },
   "file_extension": ".py",
   "mimetype": "text/x-python",
   "name": "python",
   "nbconvert_exporter": "python",
   "pygments_lexer": "ipython3",
   "version": "3.8.10"
  }
 },
 "nbformat": 4,
 "nbformat_minor": 5
}
