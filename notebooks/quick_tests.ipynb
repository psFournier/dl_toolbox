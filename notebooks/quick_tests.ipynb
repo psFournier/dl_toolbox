{
 "cells": [
  {
   "cell_type": "code",
   "execution_count": 4,
   "id": "af02f94d-9357-4ecd-ae9d-4eeb0233df12",
   "metadata": {},
   "outputs": [],
   "source": [
    "import imagesize"
   ]
  },
  {
   "cell_type": "code",
   "execution_count": 6,
   "id": "3e875ea6-0381-4332-a56d-9213159c2614",
   "metadata": {},
   "outputs": [
    {
     "name": "stdout",
     "output_type": "stream",
     "text": [
      "image size  (2048, 2048) label size  (2048, 2048)\n",
      "image size  (2048, 2048) label size  (2048, 2048)\n",
      "image size  (2048, 2048) label size  (2048, 2048)\n",
      "image size  (2048, 2048) label size  (2048, 2048)\n",
      "image size  (2048, 2048) label size  (2048, 2048)\n",
      "image size  (2048, 2048) label size  (2048, 2048)\n",
      "image size  (2048, 2048) label size  (2048, 2048)\n",
      "image size  (2048, 2048) label size  (2048, 2048)\n",
      "image size  (2048, 2048) label size  (2048, 2048)\n",
      "image size  (2048, 2048) label size  (2048, 2048)\n"
     ]
    }
   ],
   "source": [
    "p = '/work/OT/ai4geo/DATA/DATASETS/DIGITANIE/Biarritz'\n",
    "for i in range(10):\n",
    "    img_h, img_w = imagesize.get(p+f'/Biarritz_EPSG32630_{i}.tif')\n",
    "    l_h, l_w = imagesize.get(p+f'/COS9/Biarritz_{i}-v4.tif')\n",
    "    print(\"image size \", (img_h, img_w), \"label size \", (l_h,l_w))"
   ]
  },
  {
   "cell_type": "code",
   "execution_count": 1,
   "id": "0ea16711-c4a8-452e-a1ee-d1781e46438e",
   "metadata": {},
   "outputs": [],
   "source": [
    "import rasterio\n",
    "\n",
    "def read_window_from_big_raster(window, path, raster_path):\n",
    "    with rasterio.open(path) as image_file:\n",
    "        with rasterio.open(raster_path) as raster_file:\n",
    "            left, bottom, right, top = rasterio.windows.bounds(\n",
    "                window, \n",
    "                transform=image_file.transform\n",
    "            )\n",
    "            rw = rasterio.windows.from_bounds(\n",
    "                left, bottom, right, top, \n",
    "                transform=raster_file.transform\n",
    "            )\n",
    "            image = raster_file.read(\n",
    "                window=rw, \n",
    "                out_dtype=np.float32\n",
    "            )\n",
    "    return image"
   ]
  },
  {
   "cell_type": "code",
   "execution_count": 43,
   "id": "f18c74ff-4105-481b-a5e5-b3d1fc07dd5c",
   "metadata": {},
   "outputs": [],
   "source": [
    "from rasterio.windows import Window\n",
    "import numpy as np\n",
    "window = Window(0, 0, 10000, 10000)\n",
    "path = p+f'/Biarritz_EPSG32630_9.tif'\n",
    "big_path = p+'/BIARRITZ_20140902_T_TOA_reproj-EPSG:32630.tif'\n",
    "img = read_window_from_big_raster(window, path, big_path)"
   ]
  },
  {
   "cell_type": "code",
   "execution_count": 44,
   "id": "73c3cf10-fcad-4ecb-ab1b-2463a29cb140",
   "metadata": {},
   "outputs": [],
   "source": [
    "def read_window_basic(window, path):\n",
    "    with rasterio.open(path) as image_file:\n",
    "        image = image_file.read(window=window, out_dtype=np.float32)\n",
    "    return image"
   ]
  },
  {
   "cell_type": "code",
   "execution_count": 50,
   "id": "f4a349b1-0661-4beb-8788-c328dc8796cf",
   "metadata": {},
   "outputs": [],
   "source": [
    "window = Window(0, 0, 10000, 10000)\n",
    "img2 = read_window_basic(window,big_path)"
   ]
  },
  {
   "cell_type": "code",
   "execution_count": 51,
   "id": "ba333a3b-f426-45b8-971c-7f57649a2ec5",
   "metadata": {},
   "outputs": [
    {
     "data": {
      "text/plain": [
       "(4, 10000, 10000)"
      ]
     },
     "execution_count": 51,
     "metadata": {},
     "output_type": "execute_result"
    }
   ],
   "source": [
    "img2.shape"
   ]
  },
  {
   "cell_type": "code",
   "execution_count": 1,
   "id": "15e7b6f1-2bfd-4277-9180-354823f8b4d8",
   "metadata": {},
   "outputs": [
    {
     "name": "stdout",
     "output_type": "stream",
     "text": [
      "<open DatasetReader name='/work/OT/ai4usr/fournip/digitanie/Toulouse/toulouse_full_tiled.tif' mode='r'>\n"
     ]
    }
   ],
   "source": [
    "import rasterio\n",
    "p = '/work/OT/ai4usr/fournip/digitanie/Toulouse/toulouse_full_tiled.tif'\n",
    "ds = rasterio.open(p)\n",
    "print(ds)"
   ]
  },
  {
   "cell_type": "code",
   "execution_count": 2,
   "id": "2bed089e-da60-4e12-844e-1ccc6570633f",
   "metadata": {},
   "outputs": [],
   "source": [
    "a = ds.statistics(bidx=1)"
   ]
  },
  {
   "cell_type": "code",
   "execution_count": 3,
   "id": "77b25969-3068-41ab-a369-50005600c0ad",
   "metadata": {},
   "outputs": [
    {
     "data": {
      "text/plain": [
       "Statistics(min=-0.0029133798088878393, max=1.5431257486343384, mean=0.09988372604258908, std=0.05581474629124038)"
      ]
     },
     "execution_count": 3,
     "metadata": {},
     "output_type": "execute_result"
    }
   ],
   "source": [
    "a"
   ]
  },
  {
   "cell_type": "code",
   "execution_count": 4,
   "id": "b4c80371-2428-4a0d-94bd-4eeb10ba24e8",
   "metadata": {},
   "outputs": [
    {
     "data": {
      "text/plain": [
       "-0.0029133798088878393"
      ]
     },
     "execution_count": 4,
     "metadata": {},
     "output_type": "execute_result"
    }
   ],
   "source": [
    "a.min"
   ]
  },
  {
   "cell_type": "code",
   "execution_count": null,
   "id": "0af4173b-3ef0-4527-ba70-c0eda7ffe58e",
   "metadata": {},
   "outputs": [],
   "source": []
  }
 ],
 "metadata": {
  "kernelspec": {
   "display_name": "vre_venv",
   "language": "python",
   "name": "vre_venv"
  },
  "language_info": {
   "codemirror_mode": {
    "name": "ipython",
    "version": 3
   },
   "file_extension": ".py",
   "mimetype": "text/x-python",
   "name": "python",
   "nbconvert_exporter": "python",
   "pygments_lexer": "ipython3",
   "version": "3.8.10"
  }
 },
 "nbformat": 4,
 "nbformat_minor": 5
}
