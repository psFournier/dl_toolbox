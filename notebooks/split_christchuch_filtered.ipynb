{
 "cells": [
  {
   "cell_type": "code",
   "execution_count": 1,
   "id": "b4a18a54-e31c-48f5-8c02-15a562eee1d7",
   "metadata": {},
   "outputs": [],
   "source": [
    "import glob\n",
    "import os"
   ]
  },
  {
   "cell_type": "code",
   "execution_count": 2,
   "id": "6ce04b1a-64fd-4a6c-af33-c45075dea4c7",
   "metadata": {},
   "outputs": [],
   "source": [
    "src_dir = \"/work/OT/ai4usr/fournip/miniworld_tif/christchurch\"\n",
    "train_label_paths = glob.glob(os.path.join(src_dir, \"train\", \"*_y.tif\"))"
   ]
  },
  {
   "cell_type": "code",
   "execution_count": 3,
   "id": "708fbf96-b0e8-4086-acc7-dff1bd7b5519",
   "metadata": {},
   "outputs": [],
   "source": [
    "import rasterio\n",
    "import numpy as np"
   ]
  },
  {
   "cell_type": "code",
   "execution_count": 4,
   "id": "8d48df2a-f788-4f7c-985f-fe1276cc3bcc",
   "metadata": {},
   "outputs": [],
   "source": [
    "train_no_bat_paths = []\n",
    "for i in range(856):\n",
    "    l = rasterio.open(os.path.join(src_dir, \"train\", f\"{i}_y.tif\")).read()\n",
    "    if np.all(l==0):\n",
    "        train_no_bat_paths.append(i)"
   ]
  },
  {
   "cell_type": "code",
   "execution_count": 5,
   "id": "8e78b406-61c8-4c1c-8f5f-c03b22ab075e",
   "metadata": {},
   "outputs": [],
   "source": [
    "test_no_bat_paths = []\n",
    "for i in range(94):\n",
    "    l = rasterio.open(os.path.join(src_dir, \"test\", f\"{i}_y.tif\")).read()\n",
    "    if np.all(l==0):\n",
    "        test_no_bat_paths.append(i)"
   ]
  },
  {
   "cell_type": "code",
   "execution_count": 6,
   "id": "cb1bd64d-b706-431c-b728-e30a7286b87a",
   "metadata": {},
   "outputs": [],
   "source": [
    "import csv\n",
    "import imagesize"
   ]
  },
  {
   "cell_type": "code",
   "execution_count": 7,
   "id": "dcd364e1-3418-4418-9212-ba418c5b89c8",
   "metadata": {},
   "outputs": [],
   "source": [
    "with open('../splits/split_christchurch_filtered.csv', 'w', newline='') as csvfile:\n",
    "    writer = csv.writer(csvfile)\n",
    "    #path = '/d/pfournie/ai4geo/data/miniworld_tif/christchurch'\n",
    "    path = src_dir\n",
    "    writer.writerow(['dataset_cls',\n",
    "                     'tile_id',\n",
    "                     'img_path',\n",
    "                     'label_path',\n",
    "                     'x0',\n",
    "                     'y0',\n",
    "                     'patch_width',\n",
    "                     'patch_height',\n",
    "                     'fold_id'\n",
    "                     ])\n",
    "    k=0\n",
    "    for i in range(94):\n",
    "        if i in test_no_bat_paths:\n",
    "            continue\n",
    "        image_path = f'test/{i}_x.tif'\n",
    "        label_path = f'test/{i}_y.tif'\n",
    "        width, height = imagesize.get(os.path.join(path, image_path))\n",
    "        writer.writerow(\n",
    "            [\n",
    "                'MiniworldChristchurch',\n",
    "                i,\n",
    "                image_path,\n",
    "                label_path,\n",
    "                0,\n",
    "                0,\n",
    "                width,\n",
    "                height,\n",
    "                k % 64\n",
    "            ]\n",
    "        )\n",
    "        k+=1\n",
    "    for j in range(856):\n",
    "        if j in train_no_bat_paths:\n",
    "            continue\n",
    "        image_path = f'train/{j}_x.tif'\n",
    "        label_path = f'train/{j}_y.tif'\n",
    "        width, height = imagesize.get(os.path.join(path, image_path))\n",
    "        writer.writerow(\n",
    "            [\n",
    "                'MiniworldChristchurch',\n",
    "                94+j,\n",
    "                image_path,\n",
    "                label_path,\n",
    "                0,\n",
    "                0,\n",
    "                width,\n",
    "                height,\n",
    "                k % 64\n",
    "            ]\n",
    "        )\n",
    "        k+=1"
   ]
  },
  {
   "cell_type": "code",
   "execution_count": null,
   "id": "a605fc68-7101-41bd-99af-8848ef8a0cc9",
   "metadata": {},
   "outputs": [],
   "source": []
  }
 ],
 "metadata": {
  "kernelspec": {
   "display_name": "Python 3 (ipykernel)",
   "language": "python",
   "name": "python3"
  },
  "language_info": {
   "codemirror_mode": {
    "name": "ipython",
    "version": 3
   },
   "file_extension": ".py",
   "mimetype": "text/x-python",
   "name": "python",
   "nbconvert_exporter": "python",
   "pygments_lexer": "ipython3",
   "version": "3.8.10"
  }
 },
 "nbformat": 4,
 "nbformat_minor": 5
}
